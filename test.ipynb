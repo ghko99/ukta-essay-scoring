{
 "cells": [
  {
   "cell_type": "code",
   "execution_count": 11,
   "metadata": {},
   "outputs": [
    {
     "data": {
      "text/html": [
       "<div>\n",
       "<style scoped>\n",
       "    .dataframe tbody tr th:only-of-type {\n",
       "        vertical-align: middle;\n",
       "    }\n",
       "\n",
       "    .dataframe tbody tr th {\n",
       "        vertical-align: top;\n",
       "    }\n",
       "\n",
       "    .dataframe thead th {\n",
       "        text-align: right;\n",
       "    }\n",
       "</style>\n",
       "<table border=\"1\" class=\"dataframe\">\n",
       "  <thead>\n",
       "    <tr style=\"text-align: right;\">\n",
       "      <th></th>\n",
       "      <th>essay_id</th>\n",
       "      <th>lemma_Cnt</th>\n",
       "      <th>lemma_TTR</th>\n",
       "      <th>CL_TTR</th>\n",
       "      <th>NL_TTR</th>\n",
       "      <th>NN_TTR</th>\n",
       "      <th>NNG_TTR</th>\n",
       "      <th>NNP_TTR</th>\n",
       "      <th>NNB_TTR</th>\n",
       "      <th>NP_TTR</th>\n",
       "      <th>...</th>\n",
       "      <th>VV_NDW</th>\n",
       "      <th>VA_NDW</th>\n",
       "      <th>ML_NDW</th>\n",
       "      <th>MM_NDW</th>\n",
       "      <th>IC_NDW</th>\n",
       "      <th>J_NDW</th>\n",
       "      <th>E_NDW</th>\n",
       "      <th>X_NDW</th>\n",
       "      <th>CL_NDW</th>\n",
       "      <th>FL_NDW</th>\n",
       "    </tr>\n",
       "  </thead>\n",
       "  <tbody>\n",
       "    <tr>\n",
       "      <th>0</th>\n",
       "      <td>ESSAY_32668</td>\n",
       "      <td>255</td>\n",
       "      <td>0.416058</td>\n",
       "      <td>0.579710</td>\n",
       "      <td>0.612903</td>\n",
       "      <td>0.614035</td>\n",
       "      <td>0.704545</td>\n",
       "      <td>0.0</td>\n",
       "      <td>0.307692</td>\n",
       "      <td>0.600000</td>\n",
       "      <td>...</td>\n",
       "      <td>29</td>\n",
       "      <td>24</td>\n",
       "      <td>16</td>\n",
       "      <td>0</td>\n",
       "      <td>0</td>\n",
       "      <td>47</td>\n",
       "      <td>62</td>\n",
       "      <td>6</td>\n",
       "      <td>138</td>\n",
       "      <td>115</td>\n",
       "    </tr>\n",
       "    <tr>\n",
       "      <th>1</th>\n",
       "      <td>ESSAY_32669</td>\n",
       "      <td>360</td>\n",
       "      <td>0.370166</td>\n",
       "      <td>0.461140</td>\n",
       "      <td>0.400000</td>\n",
       "      <td>0.393258</td>\n",
       "      <td>0.446154</td>\n",
       "      <td>0.0</td>\n",
       "      <td>0.250000</td>\n",
       "      <td>1.000000</td>\n",
       "      <td>...</td>\n",
       "      <td>44</td>\n",
       "      <td>27</td>\n",
       "      <td>18</td>\n",
       "      <td>0</td>\n",
       "      <td>0</td>\n",
       "      <td>54</td>\n",
       "      <td>92</td>\n",
       "      <td>18</td>\n",
       "      <td>193</td>\n",
       "      <td>164</td>\n",
       "    </tr>\n",
       "    <tr>\n",
       "      <th>2</th>\n",
       "      <td>ESSAY_32670</td>\n",
       "      <td>381</td>\n",
       "      <td>0.328358</td>\n",
       "      <td>0.379808</td>\n",
       "      <td>0.425743</td>\n",
       "      <td>0.408163</td>\n",
       "      <td>0.402299</td>\n",
       "      <td>0.0</td>\n",
       "      <td>0.454545</td>\n",
       "      <td>1.000000</td>\n",
       "      <td>...</td>\n",
       "      <td>39</td>\n",
       "      <td>25</td>\n",
       "      <td>22</td>\n",
       "      <td>0</td>\n",
       "      <td>0</td>\n",
       "      <td>71</td>\n",
       "      <td>87</td>\n",
       "      <td>7</td>\n",
       "      <td>208</td>\n",
       "      <td>165</td>\n",
       "    </tr>\n",
       "    <tr>\n",
       "      <th>3</th>\n",
       "      <td>ESSAY_32671</td>\n",
       "      <td>278</td>\n",
       "      <td>0.395018</td>\n",
       "      <td>0.473333</td>\n",
       "      <td>0.514286</td>\n",
       "      <td>0.500000</td>\n",
       "      <td>0.482759</td>\n",
       "      <td>1.0</td>\n",
       "      <td>0.625000</td>\n",
       "      <td>0.000000</td>\n",
       "      <td>...</td>\n",
       "      <td>35</td>\n",
       "      <td>21</td>\n",
       "      <td>18</td>\n",
       "      <td>0</td>\n",
       "      <td>1</td>\n",
       "      <td>49</td>\n",
       "      <td>69</td>\n",
       "      <td>7</td>\n",
       "      <td>150</td>\n",
       "      <td>125</td>\n",
       "    </tr>\n",
       "    <tr>\n",
       "      <th>4</th>\n",
       "      <td>ESSAY_32672</td>\n",
       "      <td>220</td>\n",
       "      <td>0.512605</td>\n",
       "      <td>0.704918</td>\n",
       "      <td>0.789474</td>\n",
       "      <td>0.811321</td>\n",
       "      <td>0.822222</td>\n",
       "      <td>1.0</td>\n",
       "      <td>0.714286</td>\n",
       "      <td>0.500000</td>\n",
       "      <td>...</td>\n",
       "      <td>36</td>\n",
       "      <td>10</td>\n",
       "      <td>9</td>\n",
       "      <td>0</td>\n",
       "      <td>0</td>\n",
       "      <td>30</td>\n",
       "      <td>61</td>\n",
       "      <td>6</td>\n",
       "      <td>122</td>\n",
       "      <td>97</td>\n",
       "    </tr>\n",
       "    <tr>\n",
       "      <th>...</th>\n",
       "      <td>...</td>\n",
       "      <td>...</td>\n",
       "      <td>...</td>\n",
       "      <td>...</td>\n",
       "      <td>...</td>\n",
       "      <td>...</td>\n",
       "      <td>...</td>\n",
       "      <td>...</td>\n",
       "      <td>...</td>\n",
       "      <td>...</td>\n",
       "      <td>...</td>\n",
       "      <td>...</td>\n",
       "      <td>...</td>\n",
       "      <td>...</td>\n",
       "      <td>...</td>\n",
       "      <td>...</td>\n",
       "      <td>...</td>\n",
       "      <td>...</td>\n",
       "      <td>...</td>\n",
       "      <td>...</td>\n",
       "      <td>...</td>\n",
       "    </tr>\n",
       "    <tr>\n",
       "      <th>39583</th>\n",
       "      <td>ESSAY_85810</td>\n",
       "      <td>166</td>\n",
       "      <td>0.412791</td>\n",
       "      <td>0.500000</td>\n",
       "      <td>0.450000</td>\n",
       "      <td>0.459459</td>\n",
       "      <td>0.517241</td>\n",
       "      <td>0.0</td>\n",
       "      <td>0.250000</td>\n",
       "      <td>0.333333</td>\n",
       "      <td>...</td>\n",
       "      <td>20</td>\n",
       "      <td>11</td>\n",
       "      <td>15</td>\n",
       "      <td>0</td>\n",
       "      <td>0</td>\n",
       "      <td>37</td>\n",
       "      <td>35</td>\n",
       "      <td>3</td>\n",
       "      <td>90</td>\n",
       "      <td>75</td>\n",
       "    </tr>\n",
       "    <tr>\n",
       "      <th>39584</th>\n",
       "      <td>ESSAY_85811</td>\n",
       "      <td>176</td>\n",
       "      <td>0.430939</td>\n",
       "      <td>0.505155</td>\n",
       "      <td>0.437500</td>\n",
       "      <td>0.425532</td>\n",
       "      <td>0.566667</td>\n",
       "      <td>1.0</td>\n",
       "      <td>0.187500</td>\n",
       "      <td>1.000000</td>\n",
       "      <td>...</td>\n",
       "      <td>23</td>\n",
       "      <td>13</td>\n",
       "      <td>7</td>\n",
       "      <td>0</td>\n",
       "      <td>0</td>\n",
       "      <td>35</td>\n",
       "      <td>42</td>\n",
       "      <td>1</td>\n",
       "      <td>97</td>\n",
       "      <td>78</td>\n",
       "    </tr>\n",
       "    <tr>\n",
       "      <th>39585</th>\n",
       "      <td>ESSAY_85812</td>\n",
       "      <td>174</td>\n",
       "      <td>0.534091</td>\n",
       "      <td>0.638298</td>\n",
       "      <td>0.641026</td>\n",
       "      <td>0.621622</td>\n",
       "      <td>0.625000</td>\n",
       "      <td>1.0</td>\n",
       "      <td>0.750000</td>\n",
       "      <td>1.000000</td>\n",
       "      <td>...</td>\n",
       "      <td>29</td>\n",
       "      <td>6</td>\n",
       "      <td>12</td>\n",
       "      <td>0</td>\n",
       "      <td>0</td>\n",
       "      <td>32</td>\n",
       "      <td>46</td>\n",
       "      <td>1</td>\n",
       "      <td>94</td>\n",
       "      <td>79</td>\n",
       "    </tr>\n",
       "    <tr>\n",
       "      <th>39586</th>\n",
       "      <td>ESSAY_85813</td>\n",
       "      <td>185</td>\n",
       "      <td>0.428571</td>\n",
       "      <td>0.484848</td>\n",
       "      <td>0.475000</td>\n",
       "      <td>0.459459</td>\n",
       "      <td>0.484848</td>\n",
       "      <td>0.0</td>\n",
       "      <td>0.250000</td>\n",
       "      <td>0.666667</td>\n",
       "      <td>...</td>\n",
       "      <td>21</td>\n",
       "      <td>20</td>\n",
       "      <td>11</td>\n",
       "      <td>0</td>\n",
       "      <td>0</td>\n",
       "      <td>35</td>\n",
       "      <td>50</td>\n",
       "      <td>0</td>\n",
       "      <td>99</td>\n",
       "      <td>85</td>\n",
       "    </tr>\n",
       "    <tr>\n",
       "      <th>39587</th>\n",
       "      <td>ESSAY_85814</td>\n",
       "      <td>173</td>\n",
       "      <td>0.420455</td>\n",
       "      <td>0.521739</td>\n",
       "      <td>0.553191</td>\n",
       "      <td>0.522727</td>\n",
       "      <td>0.562500</td>\n",
       "      <td>1.0</td>\n",
       "      <td>0.363636</td>\n",
       "      <td>1.000000</td>\n",
       "      <td>...</td>\n",
       "      <td>23</td>\n",
       "      <td>14</td>\n",
       "      <td>4</td>\n",
       "      <td>0</td>\n",
       "      <td>0</td>\n",
       "      <td>39</td>\n",
       "      <td>41</td>\n",
       "      <td>0</td>\n",
       "      <td>92</td>\n",
       "      <td>80</td>\n",
       "    </tr>\n",
       "  </tbody>\n",
       "</table>\n",
       "<p>39588 rows × 295 columns</p>\n",
       "</div>"
      ],
      "text/plain": [
       "          essay_id  lemma_Cnt  lemma_TTR    CL_TTR    NL_TTR    NN_TTR  \\\n",
       "0      ESSAY_32668        255   0.416058  0.579710  0.612903  0.614035   \n",
       "1      ESSAY_32669        360   0.370166  0.461140  0.400000  0.393258   \n",
       "2      ESSAY_32670        381   0.328358  0.379808  0.425743  0.408163   \n",
       "3      ESSAY_32671        278   0.395018  0.473333  0.514286  0.500000   \n",
       "4      ESSAY_32672        220   0.512605  0.704918  0.789474  0.811321   \n",
       "...            ...        ...        ...       ...       ...       ...   \n",
       "39583  ESSAY_85810        166   0.412791  0.500000  0.450000  0.459459   \n",
       "39584  ESSAY_85811        176   0.430939  0.505155  0.437500  0.425532   \n",
       "39585  ESSAY_85812        174   0.534091  0.638298  0.641026  0.621622   \n",
       "39586  ESSAY_85813        185   0.428571  0.484848  0.475000  0.459459   \n",
       "39587  ESSAY_85814        173   0.420455  0.521739  0.553191  0.522727   \n",
       "\n",
       "        NNG_TTR  NNP_TTR   NNB_TTR    NP_TTR  ...  VV_NDW  VA_NDW  ML_NDW  \\\n",
       "0      0.704545      0.0  0.307692  0.600000  ...      29      24      16   \n",
       "1      0.446154      0.0  0.250000  1.000000  ...      44      27      18   \n",
       "2      0.402299      0.0  0.454545  1.000000  ...      39      25      22   \n",
       "3      0.482759      1.0  0.625000  0.000000  ...      35      21      18   \n",
       "4      0.822222      1.0  0.714286  0.500000  ...      36      10       9   \n",
       "...         ...      ...       ...       ...  ...     ...     ...     ...   \n",
       "39583  0.517241      0.0  0.250000  0.333333  ...      20      11      15   \n",
       "39584  0.566667      1.0  0.187500  1.000000  ...      23      13       7   \n",
       "39585  0.625000      1.0  0.750000  1.000000  ...      29       6      12   \n",
       "39586  0.484848      0.0  0.250000  0.666667  ...      21      20      11   \n",
       "39587  0.562500      1.0  0.363636  1.000000  ...      23      14       4   \n",
       "\n",
       "       MM_NDW  IC_NDW  J_NDW  E_NDW  X_NDW  CL_NDW  FL_NDW  \n",
       "0           0       0     47     62      6     138     115  \n",
       "1           0       0     54     92     18     193     164  \n",
       "2           0       0     71     87      7     208     165  \n",
       "3           0       1     49     69      7     150     125  \n",
       "4           0       0     30     61      6     122      97  \n",
       "...       ...     ...    ...    ...    ...     ...     ...  \n",
       "39583       0       0     37     35      3      90      75  \n",
       "39584       0       0     35     42      1      97      78  \n",
       "39585       0       0     32     46      1      94      79  \n",
       "39586       0       0     35     50      0      99      85  \n",
       "39587       0       0     39     41      0      92      80  \n",
       "\n",
       "[39588 rows x 295 columns]"
      ]
     },
     "execution_count": 11,
     "metadata": {},
     "output_type": "execute_result"
    }
   ],
   "source": [
    "import pandas as pd\n",
    "\n",
    "train_features = pd.read_csv('train_features.csv',encoding='cp949')\n",
    "valid_features = pd.read_csv('valid_features.csv',encoding='cp949')\n",
    "train_features\n"
   ]
  },
  {
   "cell_type": "code",
   "execution_count": 17,
   "metadata": {},
   "outputs": [],
   "source": [
    "duplicated_rows = valid_features[valid_features.duplicated()]"
   ]
  },
  {
   "cell_type": "code",
   "execution_count": 18,
   "metadata": {},
   "outputs": [
    {
     "data": {
      "text/html": [
       "<div>\n",
       "<style scoped>\n",
       "    .dataframe tbody tr th:only-of-type {\n",
       "        vertical-align: middle;\n",
       "    }\n",
       "\n",
       "    .dataframe tbody tr th {\n",
       "        vertical-align: top;\n",
       "    }\n",
       "\n",
       "    .dataframe thead th {\n",
       "        text-align: right;\n",
       "    }\n",
       "</style>\n",
       "<table border=\"1\" class=\"dataframe\">\n",
       "  <thead>\n",
       "    <tr style=\"text-align: right;\">\n",
       "      <th></th>\n",
       "      <th>essay_id</th>\n",
       "      <th>lemma_Cnt</th>\n",
       "      <th>lemma_TTR</th>\n",
       "      <th>CL_TTR</th>\n",
       "      <th>NL_TTR</th>\n",
       "      <th>NN_TTR</th>\n",
       "      <th>NNG_TTR</th>\n",
       "      <th>NNP_TTR</th>\n",
       "      <th>NNB_TTR</th>\n",
       "      <th>NP_TTR</th>\n",
       "      <th>...</th>\n",
       "      <th>VV_NDW</th>\n",
       "      <th>VA_NDW</th>\n",
       "      <th>ML_NDW</th>\n",
       "      <th>MM_NDW</th>\n",
       "      <th>IC_NDW</th>\n",
       "      <th>J_NDW</th>\n",
       "      <th>E_NDW</th>\n",
       "      <th>X_NDW</th>\n",
       "      <th>CL_NDW</th>\n",
       "      <th>FL_NDW</th>\n",
       "    </tr>\n",
       "  </thead>\n",
       "  <tbody>\n",
       "  </tbody>\n",
       "</table>\n",
       "<p>0 rows × 295 columns</p>\n",
       "</div>"
      ],
      "text/plain": [
       "Empty DataFrame\n",
       "Columns: [essay_id, lemma_Cnt, lemma_TTR, CL_TTR, NL_TTR, NN_TTR, NNG_TTR, NNP_TTR, NNB_TTR, NP_TTR, NR_TTR, VL_TTR, VV_TTR, VA_TTR, ML_TTR, MM_TTR, MA_TTR, MAJ_TTR, IC_TTR, FL_TTR, J_TTR, E_TTR, X_TTR, lemma_RTTR, CL_RTTR, NL_RTTR, NN_RTTR, NNG_RTTR, NNP_RTTR, NNB_RTTR, NP_RTTR, NR_RTTR, VL_RTTR, VV_RTTR, VA_RTTR, ML_RTTR, MM_RTTR, MA_RTTR, MAJ_RTTR, IC_RTTR, FL_RTTR, J_RTTR, E_RTTR, X_RTTR, lemma_CTTR, CL_CTTR, NL_CTTR, NN_CTTR, NNG_CTTR, NNP_CTTR, NNB_CTTR, NP_CTTR, NR_CTTR, VL_CTTR, VV_CTTR, VA_CTTR, ML_CTTR, MM_CTTR, MA_CTTR, MAJ_CTTR, IC_CTTR, FL_CTTR, J_CTTR, E_CTTR, X_CTTR, lemma_MSTTR, CL_MSTTR, NL_MSTTR, NN_MSTTR, NNG_MSTTR, NNP_MSTTR, NNB_MSTTR, NP_MSTTR, NR_MSTTR, VL_MSTTR, VV_MSTTR, VA_MSTTR, ML_MSTTR, MM_MSTTR, MA_MSTTR, MAJ_MSTTR, IC_MSTTR, FL_MSTTR, J_MSTTR, E_MSTTR, X_MSTTR, lemma_MATTR, CL_MATTR, NL_MATTR, NN_MATTR, NNG_MATTR, NNP_MATTR, NNB_MATTR, NP_MATTR, NR_MATTR, VL_MATTR, VV_MATTR, VA_MATTR, ML_MATTR, MM_MATTR, ...]\n",
       "Index: []\n",
       "\n",
       "[0 rows x 295 columns]"
      ]
     },
     "execution_count": 18,
     "metadata": {},
     "output_type": "execute_result"
    }
   ],
   "source": [
    "duplicated_rows"
   ]
  },
  {
   "cell_type": "code",
   "execution_count": 16,
   "metadata": {},
   "outputs": [
    {
     "name": "stdout",
     "output_type": "stream",
     "text": [
      "각 열에 있는 NaN 값의 개수:\n",
      " essay_id     0\n",
      "lemma_Cnt    0\n",
      "lemma_TTR    0\n",
      "CL_TTR       0\n",
      "NL_TTR       0\n",
      "            ..\n",
      "J_NDW        0\n",
      "E_NDW        0\n",
      "X_NDW        0\n",
      "CL_NDW       0\n",
      "FL_NDW       0\n",
      "Length: 295, dtype: int64\n",
      "전체 NaN 값의 총 개수: 0\n"
     ]
    }
   ],
   "source": [
    "nan_count_per_column = valid_features.isna().sum()\n",
    "print(\"각 열에 있는 NaN 값의 개수:\\n\", nan_count_per_column)\n",
    "\n",
    "# 전체 DataFrame에서 NaN 값의 총 개수\n",
    "total_nan_count = valid_features.isna().sum().sum()\n",
    "print(\"전체 NaN 값의 총 개수:\", total_nan_count)"
   ]
  },
  {
   "cell_type": "code",
   "execution_count": 2,
   "metadata": {},
   "outputs": [
    {
     "name": "stderr",
     "output_type": "stream",
     "text": [
      "  0%|          | 0/39591 [00:00<?, ?it/s]"
     ]
    },
    {
     "name": "stdout",
     "output_type": "stream",
     "text": [
      "deque(['익숙함에 속아 소중함을 잊지말자라는 명언은 매우 유명한 명언이다.', '난 이 명언의 내용과 같은 것을 겪은 적이있다.', '중학교 때였다.', '초등학교때부터 알고 지내였던 7년 지기 친구가 있었다.', '이 친구와는 중학교도 같이 올라와 계속 같이 다녔다.', '이 친구와 둘이서만 다닌 것이 아니라 한8명 정도가 같이 다녔다.', '근데 난 이친구와 가장 친하고 이 친구가 가장 소중하였지만 다른 친구들과 더 많이 놀고, 7년 동안 이 친구와 다녔어서 익숙했다.', '이 친구에게는 짜증을 더 많이 내었고, 분풀이도 하곤 했던 것 같다.', '그래서 많이 싸웠던 것 같다.', '그리고 이 친구의 성격을 너무 잘알아서 내가 고민을 말해도 답은 정해져 있었다.', '그래서 그랬던 것이였던건지..', '다른 친구에게 더욱 더 내 속마음을 잘 털어놓게 되었고, 내 7년지기친구는 나의 속마음들을 잘 알지 못했다.', '그래서 다른 친구와 7년지기 친구가 같이 있었는데 7년 지기 친구만 모르는 이야기여서 그 친구가 서운해 했던 적도 있었다.', '그리고 어느날 7년 지기 친구가 나에게 다른 친구의 뒷담화를 하였다.', '그 친구는 날 너무 믿어서 말해 주었겠지만 나는 다른 친구와도 친했던 사이이고, 7년지기 친구는 날 다 이해해줄꺼라는 잘못된 생각으로 그 친구가 한 말들을 다른 친구에게 하고 말았다.', '그래서 그 친구는 다른사람도 아닌 7년지기인 내가 말했기 때문에 더 배신감이 들었을테고 상처도 더 많이 받았을 것이다.', '이 사건을 통해 그 친구와 멀어지게 되었다.', '난 이 사건을 겪고 익숙함에 속아 소중함을 잊지말자는 명언에 공감하게 되었다.', '그리고 그 친구의 소중함을 까닭과 다시 다가가기위해 사과도 해보고 지금까지 나와 친구가 주고 받았던 편지 대화내용을 되새겼다.', '그래서 그 친구의 소중함을 난 찾았고, 그 친구에게 내 진심을 전달하고 사과하여 다시 잘 지낼 수 있었다.'])\n"
     ]
    },
    {
     "name": "stderr",
     "output_type": "stream",
     "text": [
      "INFO:root:Waiting for ttr to complete...\n",
      "INFO:root:ttr completed. 0.5837376117706299\n",
      "INFO:root:Waiting for similarity to complete...\n",
      "c:\\Users\\khko99\\anaconda3\\envs\\aes\\lib\\site-packages\\transformers\\models\\bert\\modeling_bert.py:439: UserWarning: 1Torch was not compiled with flash attention. (Triggered internally at C:\\actions-runner\\_work\\pytorch\\pytorch\\builder\\windows\\pytorch\\aten\\src\\ATen\\native\\transformers\\cuda\\sdp_utils.cpp:555.)\n",
      "  attn_output = torch.nn.functional.scaled_dot_product_attention(\n"
     ]
    },
    {
     "data": {
      "application/vnd.jupyter.widget-view+json": {
       "model_id": "b67a8e6ad5184d8aa5978fa253ace85f",
       "version_major": 2,
       "version_minor": 0
      },
      "text/plain": [
       "Batches:   0%|          | 0/1 [00:00<?, ?it/s]"
      ]
     },
     "metadata": {},
     "output_type": "display_data"
    },
    {
     "data": {
      "application/vnd.jupyter.widget-view+json": {
       "model_id": "4965ef804f34411ba5583a966800a9d2",
       "version_major": 2,
       "version_minor": 0
      },
      "text/plain": [
       "Batches:   0%|          | 0/1 [00:00<?, ?it/s]"
      ]
     },
     "metadata": {},
     "output_type": "display_data"
    },
    {
     "name": "stderr",
     "output_type": "stream",
     "text": [
      "INFO:root:similarity completed. 0.8307375907897949\n",
      "INFO:root:Waiting for adjacency to complete...\n",
      "INFO:root:adjacency completed. 0.8317410945892334\n",
      "INFO:root:Waiting for basic to complete...\n",
      "INFO:root:basic completed. 0.8327376842498779\n",
      "  0%|          | 1/39591 [00:01<14:30:44,  1.32s/it]"
     ]
    },
    {
     "name": "stdout",
     "output_type": "stream",
     "text": [
      "deque(['소중함이란 가치를 따질 수 없을 만큼 매우 귀중한 것을 말합니다.', '저에게도 이러한 가치를 따질 수 없을 만큼 소중한 것이 있었습니다.', '바로 소중한 저의 중학교 친구인데요.', '물론 가족이 1순위로 소중한 존재이지만 이 친구는 가족 다음으로 소중하다고 생각했었습니다.', '제가 중학교 1학년 때 이 친구와 같은 반이 되어 친해지게 되었습니다.', '친해지고 나니 저랑 성격이 너무 비슷해서 다른 친구들보다 더 빨리 친해질 수 있었습니다.', '이 친구도 친화력이 좋고 저도 좋아서 저랑 친한 친구와 제 친구가 친한 친구와 어울려서 같이 다니게 되었습니다.', '저와 중학교 1학년을 함께 보냈던 친구들은 8명이었는데 그중에서 이 친구와 학교에서 말고 따로 주말마다 놀면서 더 친해지게 되었습니다.', '서로 사소한 고민이든 조금 무거운 고민이든 털어놓을 수 있을 정도로 많이 가까워졌는데 둘만 만나는 시간이 많아지고 그만큼 말도 많이 나누다 보니 각자 어떤 사람이고 무엇을 좋아하고 무엇을 싫어하는지 금방 파악할 수 있었습니다.', '그렇게 약 2년 동안 같이 다니다가 중학교 2학년 때 서로 성격이 조금 변하면서 안 맞는 부분도 생겼고 자주 싸우면서 사이가 멀어지기 시작했습니다.', '어느 날 크게 한번 싸우고 나서 오랫동안 말을 안하다가 결국 중학교 3학년 때 거의 모르는 사람처럼 지내게 되었습니다.', '2년동안은 나랑 성격이 잘 맞고 이렇게 빨리 친해진 사람이 없어서 조금 특별한 친구라고 생각했었는데 한순간에 남이 되어 정말 속상하고 힘들었습니다.', '이 서먹한 관계를 회복하기 위해 대화도 많이 나누어 보았지만 결국 예전처럼 돌아갈 수 없었습니다.', '그래도 졸업은 서로 축하해주면서 중학교 생활을 잘 마무리 할 수 있었고 지금은 다른 학교지만 제 중학교 시절에 소중했던 친구라고 생각합니다.'])\n"
     ]
    },
    {
     "name": "stderr",
     "output_type": "stream",
     "text": [
      "INFO:root:Waiting for ttr to complete...\n",
      "INFO:root:ttr completed. 0.5413212776184082\n",
      "INFO:root:Waiting for similarity to complete...\n"
     ]
    },
    {
     "data": {
      "application/vnd.jupyter.widget-view+json": {
       "model_id": "37290ff7ff164fab99712c7a3a2bb9b1",
       "version_major": 2,
       "version_minor": 0
      },
      "text/plain": [
       "Batches:   0%|          | 0/1 [00:00<?, ?it/s]"
      ]
     },
     "metadata": {},
     "output_type": "display_data"
    },
    {
     "data": {
      "application/vnd.jupyter.widget-view+json": {
       "model_id": "cdb5426d7fbe41f2b9d89c19e0fc3a8d",
       "version_major": 2,
       "version_minor": 0
      },
      "text/plain": [
       "Batches:   0%|          | 0/1 [00:00<?, ?it/s]"
      ]
     },
     "metadata": {},
     "output_type": "display_data"
    },
    {
     "name": "stderr",
     "output_type": "stream",
     "text": [
      "INFO:root:similarity completed. 0.6573212146759033\n",
      "INFO:root:Waiting for adjacency to complete...\n",
      "INFO:root:adjacency completed. 0.6583216190338135\n",
      "INFO:root:Waiting for basic to complete...\n",
      "INFO:root:basic completed. 0.6583216190338135\n",
      "  0%|          | 2/39591 [00:02<13:08:08,  1.19s/it]"
     ]
    },
    {
     "name": "stdout",
     "output_type": "stream",
     "text": [
      "deque(['\"익숙함에 속아 소중함을 잊지 말자\" 모든 사람들이 아는 말이다.', '그만큼 모두가 그렇게 생각한다는 것이다.', '사람들은 자기가 누리고 있고 자신이 가지고 있는 것을 당연하게 생각한다.', '항상 내 옆에 있을 거라고 믿고 있고 그렇길 바라서이다.', '다른 사람들과 마찬가지로 나도 익숙함에 속아 소중함을 잊을 때가 있었다.', '소중함이 꼭 거창한 것이 아니어도 나에게 행복을 주던 사소한 소중함도 잊어지기도 한다고 느꼈다.', '나에게 맨날 전화가 오던 친구가 있었는데 그 친구는 나에게 전화를 걸고 시시콜콜한 얘기를 했다.', '나도 얘기를 하는 게 좋았는데 매일 오는 전화에 나는 좀 바쁘다고 전화를 자주 못 할때가 있었는데 그러다보니 친구도 나한테 전화를 많이 걸지 않았다.', '매일매일 걸어줄 땐 오는 전화가 당연해서 그렇게 소중한 지 몰랐는데 전화가 안 오니까 심심했고 내가 전화를 기다리게 되었었다.', '그래서 내가 그 친구한테 먼저 전화를 걸기 시작했다.', '내가 먼저 그 친구가 했던 것처럼 전화를 계속 먼저 걸었고 그렇게 하다보니 친구가 다시 원래처럼 나한테 전화를 해서 이야기를 했다.', '나도 전화를 하면서 얘기를 하는 걸 엄청 좋아했고 계속 좋아하지만 매일 올 때는 익숙해져서 그런지 나에게 먼저 찾아오는 친구를 당연하다고 생각했다.', '그런데 전화가 잘 오지 않았을 때 얼마나 소중했는지 알게 되었고 내가 노력해서 다시 소중함을 잊지 않고 생각해서 다행이라고 생각했다.', '이제는 익숙함에 속아 소중함을 잊지 말자를 느껴 봤으니까 소중함을 잊지 않기 위해 내가 더 노력해야겠다고 느꼈고 소중함을 계속 생각하지 않으면 자신에게 소중한 게 없어질 수도 있으니 그전에 잊지 말자는 걸 까먹으면 안 된다고 생각했다.', '소중함에 익숙함을 잊지 말자!!'])\n"
     ]
    },
    {
     "name": "stderr",
     "output_type": "stream",
     "text": [
      "INFO:root:Waiting for ttr to complete...\n",
      "INFO:root:ttr completed. 0.5388216972351074\n",
      "INFO:root:Waiting for similarity to complete...\n"
     ]
    },
    {
     "data": {
      "application/vnd.jupyter.widget-view+json": {
       "model_id": "2c720f9cb8ba42fdb14e138736d746bb",
       "version_major": 2,
       "version_minor": 0
      },
      "text/plain": [
       "Batches:   0%|          | 0/1 [00:00<?, ?it/s]"
      ]
     },
     "metadata": {},
     "output_type": "display_data"
    },
    {
     "data": {
      "application/vnd.jupyter.widget-view+json": {
       "model_id": "fe61b94f79de4592807c29180cea9f4f",
       "version_major": 2,
       "version_minor": 0
      },
      "text/plain": [
       "Batches:   0%|          | 0/1 [00:00<?, ?it/s]"
      ]
     },
     "metadata": {},
     "output_type": "display_data"
    },
    {
     "name": "stderr",
     "output_type": "stream",
     "text": [
      "INFO:root:similarity completed. 0.6741554737091064\n",
      "INFO:root:Waiting for adjacency to complete...\n",
      "INFO:root:adjacency completed. 0.6751554012298584\n",
      "INFO:root:Waiting for basic to complete...\n",
      "INFO:root:basic completed. 0.6761550903320312\n",
      "  0%|          | 3/39591 [00:03<12:47:33,  1.16s/it]"
     ]
    },
    {
     "name": "stdout",
     "output_type": "stream",
     "text": [
      "deque(['나는 가까운 사람에 대한 소중함에 대하여 알지 못했다.', '그 일이 있기 전까지 말이다.', '사람과 사람 간의 거리가 가까울수록 그 존재에 대한 소중함은 깨닫기 힘들다.', '그 일은 내가 막 고등학교에 입학했을 때였다.', '나는 고등학교 배정을 받고 중학교 1학년때 부터 쭉 같이 다니던 친구들을 이제는 만나기 힘들다는 것을 알게 되었다.', '그 당시에는 그 사실이 섭섭하고 믿기 싫었지만 한편으로는 새로운 곳에, 새로운 친구를 사귀게 될 것에 기대가 되기도 했었다.', '그렇게 나는 설렘을 품고 고등학교에 입학했다.', '고등학교 생활은 적응하기가 힘들었다.', '새로운 친구는커녕 바뀐 새로운 환경에서의 적응은 정말 오래 걸렸다.', '또, 나를 제외한 다른 친구들은 벌써 적응한 것 같고 친한 친구들도 잘 지내는 것 같아 나는 불안해졌다.', '무언가 빼앗긴 기분이 들었다.', '나는 그렇게 하루하루를 보내며 외로움을 키웠다.', '함께 있을 때는 알지 못했던, 그 소중한 것들이 자꾸만 머릿속을 떠다녔다.', '혼자 있는 시간은 생각보다 길었고 매일이 힘들었다.', '나는 그제야 그들의 소중함을 깨달았다.', '매일 같이 등교를 하고, 매일 같이 점심을 먹고 매일 나를 기다려주던 그 친구들이 내게 얼마나 소중한지 모른다.', '중학교 3년의 그 반짝거리는 날들을 함께 해 주었던 친구들의 소중함을 잊었다는 사실이 미안해진다.', '연락이 왔다.', '그 친구들과 이야기를 나누는 단톡방이 있는데, 그 친구들 중에 한 명이 요즘 너무 외롭다고, 보고 싶다고 그랬다.', '그건 나도 그랬다.', '다른 친구들도 그랬다.', '우리는 소중함을 잊었던 것 같다.', '그래서 그 대가로 외로웠고 그래서 우리는 시간이 나면 모인다.', '친구들과 여행을 가서 조용한 그 밤을 우리가 삼킬 것처럼 떠들어대고, 어느 날은 친구 집에 가서 빈둥거리고, 어느 날씨 좋은 날에는 밖에서 놀았다.', '그렇게 우리는 소중함을 잊어버리지 않고 같이 있었다.', '사람과 사람이 서로에게 더 소중해질수록 서로의 소중함은 잊혀간다.', '마치 매일 당연하게 함께일 것 같은 기분에 서로가 당연해져 버린다.', '소중함을 잊지 말고 소중한 것과 함께 있자.', '나를 혼자 두지 말자.', '소중함을 놓지 말자.'])\n"
     ]
    },
    {
     "name": "stderr",
     "output_type": "stream",
     "text": [
      "INFO:root:Waiting for ttr to complete...\n",
      "INFO:root:ttr completed. 0.6899216175079346\n",
      "INFO:root:Waiting for similarity to complete...\n"
     ]
    },
    {
     "data": {
      "application/vnd.jupyter.widget-view+json": {
       "model_id": "9ce8b2c57cc846f7b21304a185768004",
       "version_major": 2,
       "version_minor": 0
      },
      "text/plain": [
       "Batches:   0%|          | 0/1 [00:00<?, ?it/s]"
      ]
     },
     "metadata": {},
     "output_type": "display_data"
    },
    {
     "data": {
      "application/vnd.jupyter.widget-view+json": {
       "model_id": "fc9daa7ee3604a62aecc5ccbde6b48e1",
       "version_major": 2,
       "version_minor": 0
      },
      "text/plain": [
       "Batches:   0%|          | 0/1 [00:00<?, ?it/s]"
      ]
     },
     "metadata": {},
     "output_type": "display_data"
    },
    {
     "name": "stderr",
     "output_type": "stream",
     "text": [
      "INFO:root:similarity completed. 0.8339216709136963\n",
      "INFO:root:Waiting for adjacency to complete...\n",
      "INFO:root:adjacency completed. 0.8349218368530273\n",
      "INFO:root:Waiting for basic to complete...\n",
      "INFO:root:basic completed. 0.8359220027923584\n",
      "  0%|          | 4/39591 [00:05<14:25:36,  1.31s/it]"
     ]
    },
    {
     "name": "stdout",
     "output_type": "stream",
     "text": [
      "deque(['나는 태어났을 때부터 할머니와 함께 살아왔는데 할머니는 하루도 빠짐없이 나에게 아침을 차려주셨고 매일매일 나의 방을 치워 주셨고 항상 학교에서 갔다 오면 반갑게 맞이해 주셨는데 어느 순간 내가 할머니의 이 모든 것들이 귀찮아지기 시작한 것을 나도 느꼈고 어릴 적부터 할머니와 한 번도 떨어진 적 없었기 때문에 항상 할머니를 가장 좋아했고 할머니 바라기였던 내가 우리 할머니에게 소홀해지기 시작했고 짜증이 많아지고 인사도 잘 안 하게 되면서 할머니와의 다툼이 잦아졌고 나는 그 순간에도 나의 문제가 무엇이고 할머니가 나를 위해서 뭘 해주셨는지 그것에 대한 고마움이 무엇인지 하나도 깨닫지 못하고 나날이 짜증만 늘어가는 나를 보면서도 할머니는 하루도 빠짐없이 나에게 삼시 세끼를 다 챙겨주셨고 친절하게 웃으면서 대해주셨다.', \"그러다가 느꼈다 '아 우리 할머니에게 그러면 안 되겠구나' 하고 그 순간부터 처음부터 행동이 사람이 바뀔 순 없다.\", '그리고 다른 감정적인 요소로 인해 가족에게 괜히 짜증을 낼 수도 있기 때문이다 .', '일단 첫째는 자기 감정제어를 잘하고 자기를 자기 자신이 관리를 잘할 수 있어야 주변 사람들 에게도 소홀해지지 않고 더욱 그에 대한 소중함을 느낄 수 있는 것 같다 .', '할머니에게 조금 더 잘하기 위해서 매일 매일 머릿속으로 되새김질하였다.', '그럴수록 행동이 조금씩 바뀌었는데 행동은 바뀌었지만 지금 내가 예전에 비하면 정말 할머니의 소중함을 정말 모르는 게 나 자신도 느껴지는 게 마음이 아프다', '그렇게 할머니와 떨어지기 싫어하던 나였는데 어느 순간 이렇게 변해버린 거 같아서 죄송하기도 하고 마음이 아프다 주변에 있는 소중한 것들을 놓치고 나서 후회하는 건 정말 바보 같은 짓인걸 모두가 다 알고 있겠지만 실천하지 않는다.', '이것을 항상 머릿속에 되새김질하면서 지금 내 주변에 소중한 사람, 소중한 물건 무엇인지 생각해보고 옆에 있는 그 순간 최고로 최선을 다하며 매일 그것을 실천할 수 없겠지만 이 소중한 사람이나 물건이 나에게 얼마나 중요하며 나에게 이 사람이 주는 사랑의 크기를 알고만 있다면 자연스럽게 대하는 건 달라지게 돼 있다', '그 소중함을 회복하는 건 크고 힘든일이 아니다 .', '그 소중함의 가치를 항상 머릿속에 넣고 다니면 된다.'])\n"
     ]
    },
    {
     "name": "stderr",
     "output_type": "stream",
     "text": [
      "INFO:root:Waiting for ttr to complete...\n",
      "INFO:root:ttr completed. 0.6480934619903564\n",
      "INFO:root:Waiting for similarity to complete...\n"
     ]
    },
    {
     "data": {
      "application/vnd.jupyter.widget-view+json": {
       "model_id": "c76d4aa8412840f9a28d31592727ef3a",
       "version_major": 2,
       "version_minor": 0
      },
      "text/plain": [
       "Batches:   0%|          | 0/1 [00:00<?, ?it/s]"
      ]
     },
     "metadata": {},
     "output_type": "display_data"
    },
    {
     "data": {
      "application/vnd.jupyter.widget-view+json": {
       "model_id": "efb109ff21fc4d6fba91f83f9b5217e4",
       "version_major": 2,
       "version_minor": 0
      },
      "text/plain": [
       "Batches:   0%|          | 0/1 [00:00<?, ?it/s]"
      ]
     },
     "metadata": {},
     "output_type": "display_data"
    },
    {
     "name": "stderr",
     "output_type": "stream",
     "text": [
      "INFO:root:similarity completed. 0.7621266841888428\n",
      "INFO:root:Waiting for adjacency to complete...\n",
      "INFO:root:adjacency completed. 0.7631258964538574\n",
      "INFO:root:Waiting for basic to complete...\n",
      "INFO:root:basic completed. 0.7641265392303467\n",
      "  0%|          | 5/39591 [00:06<13:53:36,  1.26s/it]"
     ]
    },
    {
     "name": "stdout",
     "output_type": "stream",
     "text": [
      "deque(['난 하나의 노래에 꽂히면 질릴 때까지 반복하는 만큼 음악을 좋아하는데, 처음 노래를 들었을 때 느꼈던 기분을 두 번째에 들을 때는 느끼지 못했다.', '그리고는 몇 년 후 그 노래를 다시 듣고 향수병에 걸린다.', '그러니까 처음에 들었을 때는 정말 감명 깊다 생각했지만 질릴 때까지 듣다 보면 귀에 익숙해져 노래를 들어도 별 감흥이 없다는 것이다.', '이럴 때 익숙함에 속아 소중함을 잊지 말자는 말을 쓴다고 나는 생각했다.', '우리의 삶 주변에는 이러한 소중함이 매우 많다.', '사람, 물건, 식물 등 세상에 있는 모든 것은 소중하다고 생각한다.', '다만 우리는 그에 대한 가치를 잊고 산다.', '예를 하나 더 들자면, 한창 에어팟이 유명할 때 난 유선 이어폰을 쓰고 있었다.', '부모님께 부탁해 에어팟을 샀었는데 음악을 자주 듣는 나에게는 삶의 질을 올릴 만큼의 물건이었다.', '하지만 며칠이 지나고 난 에어팟을 소중히 대하지 않았다.', '모서리에 긁혀 흠집이 나도 신경을 쓰지 않고 살았다.', '하루는 에어팟 케이스를 끼우려고 에어팟을 연 순간 더러워져 있는 내부가 눈에 띄었다.', '후회와 함께 난 잠시 생각했다.', \"'익숙함을 매번 새롭고 가치 있게 여기려면 어떻게 해야 할까?'\", '한참을 고민하다 내린 결론은 익숙한 것을 쓰거나, 대할 때 그의 장점, 고마움 등을 생각하고 표현하는 게 가장 중요하다는 것이다.', '그 이후로 난 고마움과 미안함 등의 감정을 직접 나타내려 노력하였고, 작은 물건 하나를 쓸 때도 의미를 생각하며 지내왔다.', '이렇게 지내오면서 느낀 점은 삶이 뜻깊어진다는 것이다.', '세상에서 쓸모가 없는 것은 없다는 것을 깊게 느낄 수 있었다.', '또한 줄어드는 큰 장점이 있었다.', '결국 바라보는 시각에 따라 삶의 의미가 달라진다는 것을 느낄 수 있었다.', '오늘 하루는 이때까지의 익숙함에 대해 돌아보고 항상 곁에 있었던 주변 사람들에게 고마움을 전할 수 있는 하루가 되었으면 좋겠다.'])\n"
     ]
    },
    {
     "name": "stderr",
     "output_type": "stream",
     "text": [
      "INFO:root:Waiting for ttr to complete...\n",
      "INFO:root:ttr completed. 0.6129419803619385\n",
      "INFO:root:Waiting for similarity to complete...\n"
     ]
    },
    {
     "data": {
      "application/vnd.jupyter.widget-view+json": {
       "model_id": "e924b1f296d24d0182874e68bc1ab30d",
       "version_major": 2,
       "version_minor": 0
      },
      "text/plain": [
       "Batches:   0%|          | 0/1 [00:00<?, ?it/s]"
      ]
     },
     "metadata": {},
     "output_type": "display_data"
    },
    {
     "data": {
      "application/vnd.jupyter.widget-view+json": {
       "model_id": "e8a9062922d3445993b34e44145e9460",
       "version_major": 2,
       "version_minor": 0
      },
      "text/plain": [
       "Batches:   0%|          | 0/1 [00:00<?, ?it/s]"
      ]
     },
     "metadata": {},
     "output_type": "display_data"
    },
    {
     "name": "stderr",
     "output_type": "stream",
     "text": [
      "INFO:root:similarity completed. 0.7286896705627441\n",
      "INFO:root:Waiting for adjacency to complete...\n",
      "INFO:root:adjacency completed. 0.7296903133392334\n",
      "INFO:root:Waiting for basic to complete...\n",
      "INFO:root:basic completed. 0.730689525604248\n",
      "  0%|          | 6/39591 [00:07<13:52:31,  1.26s/it]"
     ]
    },
    {
     "name": "stdout",
     "output_type": "stream",
     "text": [
      "deque(['익숙함에 속아 소중함을 잃지말자 많이들 들어본 말일텐데 나에게는 이런 말을 떠올리게 만드는 경험이 없을까?', '누구나 한번쯤은 경험해 봤을것이다.', '반려견을 잃거나 가족을 잃거나 혹은 잃을뻔한 적이 있다면 말이다.', '하지만 내가 생각하는 경험은 친구를 잃는것이다.', '한창 학창시절을 보내고 있는 우리에게는 친구를 잃은 경험이 한번쯤은 존재할거라고 생각허기 때문이다.', '나는 잃지는 않았지만 그럴 뻔 했었던 경험이 있어 글을 써보려고 한다.', '중학교때 였을것이다.', '항상 옆에 붙어있던 친구가 있었는데 어느날 싸우게 된 적이 있다.', '싸운 이유는 그저 서로간의 소홀함 이였던거 같다.', '어차피 그 친구는 내 옆에 붙어있을거라는 생각과 항상 그래왔다는 이유로 소중한것을 알고는 있지만 오랜시간 동안 그래왔던 익숙함에 잠깐 소중하다는 것을 잊었던것 같다.', '싸우고 나서 어떻게 해야 친구와의 관계가 풀릴 수 있을까 라는 생각을 엄청 오랫동안 고민했던거 같다.', '일단 친구의 소중함을 싸우고 나서 느꼈기 때문에 나는 그때 느낀것을 끝까지 가지고 가려고 노력했다.', '같은 실수를 반복하게 되는게 사람이지만 최대한 똑같은 실수를 하지 않고 같은 일이 일어나지 않게 하기 위해서 노력했던거 같다.', '또 언젠간은 그 사람도 내 곁에 없을 수도 있다 라는 생각을 지니고 살았던거 같다.', '누군가 나와 같은 일을 겪게 되는 사람에게 충고 해 주고 싶다.', '한번 잃으면 되돌리기 힘드니 있을때 잘 해주라고 처음부터 소중함을 잃지말라고 꼭 말 해주고 싶다.', '내 작은 실수로 내 곁을 지켜주고 오랜시간를 함께한 사람을 잃는것은 어려워 보이지만 한순간에 일어나 내 소중한 것을 앗아간다는 것을 기억하자.'])\n"
     ]
    },
    {
     "name": "stderr",
     "output_type": "stream",
     "text": [
      "INFO:root:Waiting for ttr to complete...\n",
      "INFO:root:ttr completed. 0.6267199516296387\n",
      "INFO:root:Waiting for similarity to complete...\n"
     ]
    },
    {
     "data": {
      "application/vnd.jupyter.widget-view+json": {
       "model_id": "efe656cd52a54728a08bdc51e4b29638",
       "version_major": 2,
       "version_minor": 0
      },
      "text/plain": [
       "Batches:   0%|          | 0/1 [00:00<?, ?it/s]"
      ]
     },
     "metadata": {},
     "output_type": "display_data"
    },
    {
     "data": {
      "application/vnd.jupyter.widget-view+json": {
       "model_id": "1da8f0afa356466da544200667cf1448",
       "version_major": 2,
       "version_minor": 0
      },
      "text/plain": [
       "Batches:   0%|          | 0/1 [00:00<?, ?it/s]"
      ]
     },
     "metadata": {},
     "output_type": "display_data"
    },
    {
     "name": "stderr",
     "output_type": "stream",
     "text": [
      "INFO:root:similarity completed. 0.7707822322845459\n",
      "INFO:root:Waiting for adjacency to complete...\n",
      "INFO:root:adjacency completed. 0.7707822322845459\n",
      "INFO:root:Waiting for basic to complete...\n",
      "INFO:root:basic completed. 0.771782636642456\n",
      "  0%|          | 7/39591 [00:08<13:44:48,  1.25s/it]"
     ]
    },
    {
     "name": "stdout",
     "output_type": "stream",
     "text": [
      "deque(['나는 어렸을때 부모님께서 내가 할 수 있는 일, 내가 해야 할 일을 도와주고 해주는 것이 당연하다고 생각했던 것 같다.', '그래서 부모님께서 우리가 먹은것을 설거지하는 것, 과일을 잘라주시는 것, 음식물 쓰레기를 버리는 것 등의 나도 충분히 할 수 있고 도와줄 수 있는 일을 하는것은 부모님의 역할이라고 생각했던 것 같다.', '게다가 나는 귀찮음도 많은 성격이어서 쉬운 일도 잘하지 않고 시키면 화를 내었었던 기억이 있다.', '그러다가 한번은 학교에 가져간 물통을 설거지하게 재때재때 내놓으라는 말을 너무 자주 잊어버려 내가 물통을 씻게 된적이 있다.', '그 물통 하나를 씻는것도 설거지를 많이 해본 경험이 없어 힘들고 귀찮았는데 부모님은 어떻게 그 많은 양의 그릇들을 매일 같이 씻고 힘든 티 하나 안내는 것이 존경스럽다는 생각을 했다.', '또 혼자있을 때 과일을 먹기 위해 껍질을 자르면서도 항상 아무말 없이 과일을 잘라주시는게 고맙다는 생각을 했다.', '그렇게 나는 사소한 것들도 아무 말 없이 해주시는 부모님들께 다시한번 고마움을 느끼게 되었고 꼭 그들만의 역할이 아니라는 것을 깨달았다.', '그 후로는 나도 시키는 일이 있으면 무조건 싫어하고 화를 내는 것이 아니라 최대한 돕기 위해 노력했고 익숙함에 속아 소중함을 잊지말자는 명언 (Do not get fooled by something familiar and forget what is priceless.) 처럼 행동하기 위해 노력했다.'])\n"
     ]
    },
    {
     "name": "stderr",
     "output_type": "stream",
     "text": [
      "INFO:root:Waiting for ttr to complete...\n",
      "INFO:root:ttr completed. 0.4709970951080322\n",
      "INFO:root:Waiting for similarity to complete...\n"
     ]
    },
    {
     "data": {
      "application/vnd.jupyter.widget-view+json": {
       "model_id": "a5656b5b04e148e99803877838aef33a",
       "version_major": 2,
       "version_minor": 0
      },
      "text/plain": [
       "Batches:   0%|          | 0/1 [00:00<?, ?it/s]"
      ]
     },
     "metadata": {},
     "output_type": "display_data"
    },
    {
     "data": {
      "application/vnd.jupyter.widget-view+json": {
       "model_id": "c866317d85504714a293921ae79c0261",
       "version_major": 2,
       "version_minor": 0
      },
      "text/plain": [
       "Batches:   0%|          | 0/1 [00:00<?, ?it/s]"
      ]
     },
     "metadata": {},
     "output_type": "display_data"
    },
    {
     "name": "stderr",
     "output_type": "stream",
     "text": [
      "INFO:root:similarity completed. 0.5279970169067383\n",
      "INFO:root:Waiting for adjacency to complete...\n",
      "INFO:root:adjacency completed. 0.5290002822875977\n",
      "INFO:root:Waiting for basic to complete...\n",
      "INFO:root:basic completed. 0.5290002822875977\n",
      "  0%|          | 8/39591 [00:09<12:20:04,  1.12s/it]"
     ]
    },
    {
     "name": "stdout",
     "output_type": "stream",
     "text": [
      "deque(['얼마 전에 할아버지께서 돌아가셨다.', '난 할아버지가 돌아가시기 2주 전에 할아버지 댁을 방문했다.', '그전부터 할아버지의 몸 상태가 매우 안 좋으시다고 하였지만 팔팔하게 움직이시는 할아버지를 보면 괜찮으신 거겠지 하고 조금 안심하고 넘어갔었다.', '2주 전 역시 할아버지는 우리를 위해서 아빠와 함께 마트에 간식거리를 사러 나가셨다.', '그래서 나는 할아버지가 계속 저렇게 움직이시는 것을 보고 익숙함을 느꼈던 것 같다.', '또 그날 할아버지가 마트에 장 보러 나가셨을 때 할아버지의 죽음에 대해 생각을 해 본적이 있었다.', '할아버지가 죽으면 아빠는 얼마나 슬퍼할까?', '아빠가 울까?', '하면서 생각을 하다가 이상한 생각을 하는 것 같아서 그만뒀던 적이 있다.', '근데 방학 마지막째 주에 그 답을 찾았던 것 같다.', '할아버지가 갑작스럽게 심장이 멎어 돌아가시니 기분이 묘했다.', '얼마 전에 봤던 할아버지가 이제 더는 볼 수 없다는 것이 너무 슬펐다.', '그래서 난 그 이후로 그 소중함을 지키고자 할아버지가 나에게 바라셨던 소원을 이루기 위해서 열심히 살아야겠다고 다짐했었다.', '그래서 공부도 전보다 더 열심히 하고 게을리 살지 않고 더 나은 사람이 된 나의 모습을 보여드리기 위해 지금도 계속해서 노력하고 있다.'])\n"
     ]
    },
    {
     "name": "stderr",
     "output_type": "stream",
     "text": [
      "INFO:root:Waiting for ttr to complete...\n",
      "INFO:root:ttr completed. 0.4943089485168457\n",
      "INFO:root:Waiting for similarity to complete...\n"
     ]
    },
    {
     "data": {
      "application/vnd.jupyter.widget-view+json": {
       "model_id": "799705a7fbd241d4b505ee475e5c05b0",
       "version_major": 2,
       "version_minor": 0
      },
      "text/plain": [
       "Batches:   0%|          | 0/1 [00:00<?, ?it/s]"
      ]
     },
     "metadata": {},
     "output_type": "display_data"
    },
    {
     "data": {
      "application/vnd.jupyter.widget-view+json": {
       "model_id": "2abd74ba912947069ca7fda732a8a52e",
       "version_major": 2,
       "version_minor": 0
      },
      "text/plain": [
       "Batches:   0%|          | 0/1 [00:00<?, ?it/s]"
      ]
     },
     "metadata": {},
     "output_type": "display_data"
    },
    {
     "name": "stderr",
     "output_type": "stream",
     "text": [
      "INFO:root:similarity completed. 0.5483086109161377\n",
      "INFO:root:Waiting for adjacency to complete...\n",
      "INFO:root:adjacency completed. 0.5493087768554688\n",
      "INFO:root:Waiting for basic to complete...\n",
      "INFO:root:basic completed. 0.5503087043762207\n",
      "  0%|          | 9/39591 [00:10<11:39:05,  1.06s/it]"
     ]
    },
    {
     "name": "stdout",
     "output_type": "stream",
     "text": [
      "deque(['원래는 밖에 돌아다니는 것을 당연하게 생각했지만 코로나가 생긴 이후 밖에 마음대로 돌아다니지 못하고, 마스크도 쓰고 다녀야한다.', '원래는 당연하게 생각했던 외출이 이제는 눈치를 보면서 다녀야하고 마음대로 할 수 없게 되었다.', '마스크를 쓰고 다녀야 한다는 것이 불편하고 싫지만 어쩔수 없는 세상이 되었다.', '나같은 경우 안그래도 비염이 있어서 마스크를 쓰면 숨을 쉬기 힘들고, 코도 예민해서 마스크를 쓰고 있으면 코가 가렵고, 재채기가 나오고, 일상 생활하기가 힘들 정도이다.', '그렇지만 마스크를 쓰지 않으면 안됀다.', '이렇게 원래라면 자유로웠던 외출에 제한이 많이 생겼다.', '코로나 시국 이전에는 이러한 외출이 당연한 것이라고 생각했다.', '그러나 그렇지 않게 된 지금 원래의 생활이 얼마나 소중했던 것인지 다시 깨닫게 되었다.', '이 사태를 해결하기 위해 나는 마스크를 항상 쓰고 밖에 잘 나가지 않으며 거리두기를 잘 지키고 있다.', '나만 노력해서 해결되는 일이 아니지만 이렇게 한명 한명 노력을 해서 이 사태가 빨리 끝나게 되었으면 좋겠다.', '외출할때 마스크를 쓰지 않아도 되고 자유롭게 돌아다닐 수 있는 코로나 시국 이전의 삶이 그립다.', '한시라도 빨리 이 코로나 시국이 해결되어 밖에 돌아다니고 싶다.'])\n"
     ]
    },
    {
     "name": "stderr",
     "output_type": "stream",
     "text": [
      "INFO:root:Waiting for ttr to complete...\n",
      "INFO:root:ttr completed. 0.4560062885284424\n",
      "INFO:root:Waiting for similarity to complete...\n"
     ]
    },
    {
     "data": {
      "application/vnd.jupyter.widget-view+json": {
       "model_id": "7b8d47a56c6241fba9c9459c82a72347",
       "version_major": 2,
       "version_minor": 0
      },
      "text/plain": [
       "Batches:   0%|          | 0/1 [00:00<?, ?it/s]"
      ]
     },
     "metadata": {},
     "output_type": "display_data"
    },
    {
     "data": {
      "application/vnd.jupyter.widget-view+json": {
       "model_id": "106f780ad6f84f6e8b2f46b6c5d827a9",
       "version_major": 2,
       "version_minor": 0
      },
      "text/plain": [
       "Batches:   0%|          | 0/1 [00:00<?, ?it/s]"
      ]
     },
     "metadata": {},
     "output_type": "display_data"
    },
    {
     "name": "stderr",
     "output_type": "stream",
     "text": [
      "INFO:root:similarity completed. 0.5110063552856445\n",
      "INFO:root:Waiting for adjacency to complete...\n",
      "INFO:root:adjacency completed. 0.5120058059692383\n",
      "INFO:root:Waiting for basic to complete...\n",
      "INFO:root:basic completed. 0.5130062103271484\n",
      "  0%|          | 10/39591 [00:11<10:51:44,  1.01it/s]"
     ]
    },
    {
     "name": "stdout",
     "output_type": "stream",
     "text": [
      "deque(['우리는 시간이 지남에 따라 소중함의 의미를 점점 잃어버린다.', '나는 어릴 때 생일 선물로 인형을 받은 적이 있다.', '너무 기쁘고 그 인형이 소중한 나머지 그 인형과 같이 자고, 이름도 붙여 줄 정도로 인형을 소중히 대했었다.', '언제였는지 자세히 기억도 안 날 정도로 까마득한 옛날, 그때의 나는 소중함을 아는 아이였다.', '하지만 그 아이는 금방 그 소중함을 잊어버렸다.', '길다면 길고, 짧다면 짧은 3년 만에.', '아무 이유 없었다.', '어느새 나는 그 소중함과 멀어져 있었다.', '그리고 잊었다.', '이 글을 쓰기 직전까지, 잊고 있었다.', '신이 인간에게 준 축복이라는 망각을 통해 내 기억과 추억은 지금도 조금씩 사라지고 있다.', '이 축복에 고마우면서도 한편으로는 슬프다.', '아무 예고 없이 나쁜 기억과 함께 행복한 추억마저 사라지기에, 익숙함에 속아 한순간에 그 소중함을 잊어버리며 잊기에 나는 기억을 잃는 게 싫다.', '소중함이라는 감정에 얽힌 여러 가지 사연들.', '그 사연이 물건일 수도, 상황일 수도, 기억일 수도, 때로는 사람과의 관계일 수도.', '이렇게 소중함에는 여러 형태가 있다.', '이 글을 쓴 이유, 익숙함에 속아 소중함을 잊지 말자는 명언을 보고 처음 떠오른 사람, 부모님의 소중함을 잊지 않기 위해 이 글을 쓴다.', '가장 가까우며 인생에서 가장 많이 보는 사람, 부모님. 우리는 부모님의 소중함에 대해 종종 잊는다.', '나는 부모님의 소중함을 잠시 잊은 적이 있다.', '내 머릿속 저편에서 부모님이 하는 게 당연하다 생각했던 집안일.', '하지만 결코 당연한 게 아니다.', '언제 내가 이런 끔찍한 생각을 하게 되었는지 알 수 없어 죄송하다 사죄드린 적이 있다.', '소중함을 잊는다는 것은 정말 무서운 일이다.', '하지만 소중함이라는 숭고한 감정과 생각 덕분에 우리는 성숙해질 수 있고, 나를 지킬 수 있었다.', '익숙함에 소중한 것을 잊는 것은 어쩌면 자연스러운 현상이다.', '그렇기에 더욱더 익숙함과 함께 소중함을 다시 기억해내야 하는 게 우리에게 주어진 일이라 믿고 있다.', '소중함을 잊는다는 것은 아프기에, 나를 지키기 위해 나는 소중함을 기억해낸다.'])\n"
     ]
    },
    {
     "name": "stderr",
     "output_type": "stream",
     "text": [
      "INFO:root:Waiting for ttr to complete...\n",
      "INFO:root:ttr completed. 0.692223072052002\n",
      "INFO:root:Waiting for similarity to complete...\n"
     ]
    },
    {
     "data": {
      "application/vnd.jupyter.widget-view+json": {
       "model_id": "f9e03fb596874336ac78fa5a0f1c5e0a",
       "version_major": 2,
       "version_minor": 0
      },
      "text/plain": [
       "Batches:   0%|          | 0/1 [00:00<?, ?it/s]"
      ]
     },
     "metadata": {},
     "output_type": "display_data"
    },
    {
     "data": {
      "application/vnd.jupyter.widget-view+json": {
       "model_id": "277070a88ef54cc69891990abaefc126",
       "version_major": 2,
       "version_minor": 0
      },
      "text/plain": [
       "Batches:   0%|          | 0/1 [00:00<?, ?it/s]"
      ]
     },
     "metadata": {},
     "output_type": "display_data"
    },
    {
     "name": "stderr",
     "output_type": "stream",
     "text": [
      "INFO:root:similarity completed. 0.7992203235626221\n",
      "INFO:root:Waiting for adjacency to complete...\n",
      "INFO:root:adjacency completed. 0.8002200126647949\n",
      "INFO:root:Waiting for basic to complete...\n",
      "INFO:root:basic completed. 0.8002200126647949\n",
      "  0%|          | 11/39591 [00:12<12:23:53,  1.13s/it]"
     ]
    },
    {
     "name": "stdout",
     "output_type": "stream",
     "text": [
      "deque(['자랑은 아니지만 중학교 때 내 주변엔 친구가 많았었다.', '같은 친구들과 3년을 같이 지내다 보니 그 친구들에게 너무 익숙해진 나머진 감사한 마음보단 당연하단듯이 친구들을 대하기 시작하였고 점점 내 주변에 그렇게 많던 친구들이 나를 떠나기 시작하였다.', '왜 그랬는진 모르겠지만 철 없던 중학교 시절엔 내 잘못이란 생각보단 친구들의 잘못이라 생각했다 굳이 날 떠나는데 내가 잡을 필요가 없다고 생각하였다.', '하지만 친구들이 내 옆을 떠나다 보니 나도 생각을 하기 시작했다.', '그렇게 생각을 계속 하면서 난 이러한 태도로는 그 어떤 누구도 내 옆에 남지 않을거란 결론에 다달았다.', '이미 떠나간 친구들에게 미안하다', '내가 그때 감사한 마음보다 너무 익숙해서 막대한 것 같다', '이렇게 사과 한마디 하면 되는건데 그 잘난 자존심 때문에 지금까지도 그 친구들에게 사과 한마디 하지 못한게 아직도 생각이 나고 미안한 마음이 든다.', '익숙함에 속아서 소중한 사람들을 잃는 선택은 안하면 좋겠다.', '모두가 그런 생각을 하지만 그게 마음처럼 되지는 않는다.', '그러니 항상 내가 저 말을 들었을때 어떤 기분일지 생각하고 말을 하면 좋을것 같다.', '이렇게 조금만 생각을 하고 말을 한다면 소중한 사람을 잃을만한 실수를 최소한으로 줄일수 있을것이다.'])\n"
     ]
    },
    {
     "name": "stderr",
     "output_type": "stream",
     "text": [
      "INFO:root:Waiting for ttr to complete...\n",
      "INFO:root:ttr completed. 0.5480003356933594\n",
      "INFO:root:Waiting for similarity to complete...\n"
     ]
    },
    {
     "data": {
      "application/vnd.jupyter.widget-view+json": {
       "model_id": "74c436a47f2f4148acaf500074175812",
       "version_major": 2,
       "version_minor": 0
      },
      "text/plain": [
       "Batches:   0%|          | 0/1 [00:00<?, ?it/s]"
      ]
     },
     "metadata": {},
     "output_type": "display_data"
    },
    {
     "data": {
      "application/vnd.jupyter.widget-view+json": {
       "model_id": "3070eebdcba8428f9a656d36d6e8714c",
       "version_major": 2,
       "version_minor": 0
      },
      "text/plain": [
       "Batches:   0%|          | 0/1 [00:00<?, ?it/s]"
      ]
     },
     "metadata": {},
     "output_type": "display_data"
    },
    {
     "name": "stderr",
     "output_type": "stream",
     "text": [
      "INFO:root:similarity completed. 0.6270003318786621\n",
      "INFO:root:Waiting for adjacency to complete...\n",
      "INFO:root:adjacency completed. 0.6280002593994141\n",
      "INFO:root:Waiting for basic to complete...\n",
      "INFO:root:basic completed. 0.6280002593994141\n",
      "  0%|          | 12/39591 [00:13<11:58:26,  1.09s/it]"
     ]
    },
    {
     "name": "stdout",
     "output_type": "stream",
     "text": [
      "deque([\"익숙함에 속아 소중함을 잊지 말자 (Do not get fooled by something familiar and forget what is priceless.)'...\", '나에게 소중한 것, 하지만 익숙함에 속아 잃었던 것, 그것은 무엇이었을까.', '여러 가지가 생각나지만 나에게 가장 크게 다가왔던 것은 역시나 코로나 이전의 삶이 아닌가 싶다.', '마스크 없이 집을 나와, 평범하게 매일매일 학교에 가면, 두 책상씩 붙어있고, 마스크 없이 편하게 친구들과 이야기하며 다 같이 모여 밥을 먹을 수 있는 삶, 작게는 모둠활동부터 크게는 운동회, 현장체험 학습, 수학여행 등등 이처럼 다 같이 활동하고 직접 체험할 수 있는 삶...', '코로나는 우리의 많은 것들을 바꿔놓았다.', '마스크 없는 외출은 상상할 수 없었고, 가게에 들를 때마다 안심콜은 물론이며 확진자와 동선이 겹치면 외출도 하지 못하는 자가격리 생활을 해야 한다.', '또한 학교에서 할 수 있는 체험활동이라고는 온라인을 통한 활동뿐...', '내가 할 수 있는 것이라고는 마스크를 끼고 다니며 방역수칙을 준수하며 코로나가 종식될 때까지 기다리며 사는 것밖에 없었다.', '자유로운 외출을, 함께하는 즐거움을, 그땐 당연하다 여겼기에 알지 못했다.', '익숙함에 속아 알지 못했다.', '어쩌면 지금도 우리는 익숙함에 속아 소중함을 잊고 있는 것은 아닐까.', '그리하여 또다시 잃게 되는 것은 아닐까.', '덜컥 겁이 난다.', '지금 현재가, 당연하다고 생각되는 것들이 나중에 보면 이 또한 중요한 것, 소중한 것들이 아닐까.', '주변이 새롭게 보인다.'])\n"
     ]
    },
    {
     "name": "stderr",
     "output_type": "stream",
     "text": [
      "INFO:root:Waiting for ttr to complete...\n",
      "INFO:root:ttr completed. 0.4833073616027832\n",
      "INFO:root:Waiting for similarity to complete...\n"
     ]
    },
    {
     "data": {
      "application/vnd.jupyter.widget-view+json": {
       "model_id": "10fa5e3e1acb4ff68a32759c2ddda624",
       "version_major": 2,
       "version_minor": 0
      },
      "text/plain": [
       "Batches:   0%|          | 0/1 [00:00<?, ?it/s]"
      ]
     },
     "metadata": {},
     "output_type": "display_data"
    },
    {
     "data": {
      "application/vnd.jupyter.widget-view+json": {
       "model_id": "0699f7e67e9941b49924145f8ef0cbbd",
       "version_major": 2,
       "version_minor": 0
      },
      "text/plain": [
       "Batches:   0%|          | 0/1 [00:00<?, ?it/s]"
      ]
     },
     "metadata": {},
     "output_type": "display_data"
    },
    {
     "name": "stderr",
     "output_type": "stream",
     "text": [
      "INFO:root:similarity completed. 0.6079344749450684\n",
      "INFO:root:Waiting for adjacency to complete...\n",
      "INFO:root:adjacency completed. 0.6089305877685547\n",
      "INFO:root:Waiting for basic to complete...\n",
      "INFO:root:basic completed. 0.609931230545044\n",
      "  0%|          | 13/39591 [00:14<11:49:32,  1.08s/it]"
     ]
    },
    {
     "name": "stdout",
     "output_type": "stream",
     "text": [
      "deque(['코로나가 터지고 마스크를 쓰고 다녀야 해서 온라인 수업을 하게 되어서 친구들 얼굴을 제대로 본적이 없고 항상 마스크를 쓰고 있는 모습만 봐서 벗으면 느낌이 이상하다.', '이 코로나로 인해 마스크를 쓰고 다니니 친구들의 눈만 기억하게 되어 누가누군지 잘 모르게 되었다.', '중학교 3학년때 부터 지금까지 계속 마스크를 쓰고 지내니 감기는 안걸려서 좋지만 너무 답답하다.', '이제는 익숙해져 오히려 벗는게 이상할 정도의 지경까지 오게 되어 너무 슬프다', '이 놈의 코로나 때문에 학교도 제대로 가지도 못하고 길거리에서 뭐 먹지도 못하고 가게 닫는 시간이 빨라지게 되어 너무 힘들다.', '주말에 친구들이랑 놀고싶은데 코로나라 어디가지도 못하고 집에만 있으니 편하긴 한데 뭔가 불편하다.', '예전처럼 돌아가지는 못해도 빨리 백신이 나오면 좋겠다.', '완전히 치료될수 있는....', '코로나라 가게도 빨리 닫는데 점점 많아져 이제는 무시하고 전면등교를 한다는 것이 놀랍다.', '아무리 학교가 더 중요하다고 해서 위험한 상황에 저렇게 하는 건 말이안된다고 생각한다.', '학교나 학원에서 물 먹기도 좀 그렇다 마스크를 벗어야 하기 때문이다.', '이렇게 해서 코로나가 익숙해져 친구의 얼굴을 잊어간다.', '눈만 기억함으로서 아무것도 못함으로서 나는 열심히 마스크를 쓰고 다녔다.'])\n"
     ]
    },
    {
     "name": "stderr",
     "output_type": "stream",
     "text": [
      "INFO:root:Waiting for ttr to complete...\n",
      "INFO:root:ttr completed. 0.44141316413879395\n",
      "INFO:root:Waiting for similarity to complete...\n"
     ]
    },
    {
     "data": {
      "application/vnd.jupyter.widget-view+json": {
       "model_id": "c85e061b8bef46ec8d5234f76088d950",
       "version_major": 2,
       "version_minor": 0
      },
      "text/plain": [
       "Batches:   0%|          | 0/1 [00:00<?, ?it/s]"
      ]
     },
     "metadata": {},
     "output_type": "display_data"
    },
    {
     "data": {
      "application/vnd.jupyter.widget-view+json": {
       "model_id": "258e34efadeb4ca596a536e2e6a881a3",
       "version_major": 2,
       "version_minor": 0
      },
      "text/plain": [
       "Batches:   0%|          | 0/1 [00:00<?, ?it/s]"
      ]
     },
     "metadata": {},
     "output_type": "display_data"
    },
    {
     "name": "stderr",
     "output_type": "stream",
     "text": [
      "INFO:root:similarity completed. 0.5274133682250977\n",
      "INFO:root:Waiting for adjacency to complete...\n",
      "INFO:root:adjacency completed. 0.528416633605957\n",
      "INFO:root:Waiting for basic to complete...\n",
      "INFO:root:basic completed. 0.528416633605957\n",
      "  0%|          | 14/39591 [00:15<11:20:51,  1.03s/it]"
     ]
    },
    {
     "name": "stdout",
     "output_type": "stream",
     "text": [
      "deque(['요즘 코로나 바이러스 때문에 우리는 평범했던 일상들을 잃어가고 있다.', '더운 여름에도 답답한 마스크를 쓰고 장시간 외출을 하거나 실내에서도 마스크를 쓰고 있어야 하는 사태가 벌어졌다.', '학교는 학생들과 선생님 수 백명이 밀집 되어있는 공간이다 보니 등교수업을 전면 중단하고 온라인 강의로 대체를 하여 이로 인해 학생들의 학업 성취도나 흥미가 급격히 감소한다.', '거리두기 단계가 높아질수록 집합금지 또는 음식점들은 정해진 시간에 문을 닫아야하니 사람들의 방문이 없어 폐업을 하는 식당들이 아주 많다.', '폐업뿐만 아니라 간신히 운영하고 있는 가게들은 매달 적자가 나고있다.', '코로나 바이러스가 처음 유행할 당시 집에서만 여가시간을 보내고 답답한 마스크를 쓰고 다니는 것이 이제는 익숙해져서 평범한 일상이 되어버렸다.', '코로나 전 우리가 아무 생각없이 평범하게 생각하고 지내던 일상들이 언제 다시 돌아갈 수 있을지도 모르는 날들이 되어 버렸다.', '당연했던 함께했던 일상들이 이제는 대부분의 일들을 혼자 해내야 하는 일상들로 바뀌면서, 우리는 생각이 많아진다.', '코로나로 인해 바뀌어버린 익숙해져가는 삶들에 속아 소중했던 우리의 일상들을 잃지말자.', '나는 이렇게 생각한다.', '코로나가 우리에게 익숙함에 속아 소중함을 잃지말자를 알려주고 있는 건 아닐까.'])\n"
     ]
    },
    {
     "name": "stderr",
     "output_type": "stream",
     "text": [
      "INFO:root:Waiting for ttr to complete...\n",
      "INFO:root:ttr completed. 0.5677294731140137\n",
      "INFO:root:Waiting for similarity to complete...\n"
     ]
    },
    {
     "data": {
      "application/vnd.jupyter.widget-view+json": {
       "model_id": "cee665a7f2e54bcb992c237a24317e8a",
       "version_major": 2,
       "version_minor": 0
      },
      "text/plain": [
       "Batches:   0%|          | 0/1 [00:00<?, ?it/s]"
      ]
     },
     "metadata": {},
     "output_type": "display_data"
    },
    {
     "data": {
      "application/vnd.jupyter.widget-view+json": {
       "model_id": "6a177fdb384d4fdcb20b35ee5105711a",
       "version_major": 2,
       "version_minor": 0
      },
      "text/plain": [
       "Batches:   0%|          | 0/1 [00:00<?, ?it/s]"
      ]
     },
     "metadata": {},
     "output_type": "display_data"
    },
    {
     "name": "stderr",
     "output_type": "stream",
     "text": [
      "INFO:root:similarity completed. 0.787726879119873\n",
      "INFO:root:Waiting for adjacency to complete...\n",
      "INFO:root:adjacency completed. 0.7887256145477295\n",
      "INFO:root:Waiting for basic to complete...\n",
      "INFO:root:basic completed. 0.7897257804870605\n",
      "  0%|          | 15/39591 [00:16<11:37:45,  1.06s/it]"
     ]
    },
    {
     "name": "stdout",
     "output_type": "stream",
     "text": [
      "deque([\"익숙함에 속아 소중함을 잊어 본 경험이 있는가?'이라고 묻는다면 나는 부모님이 가장 먼저 떠오른다.\", '인간이 성장을 겪으며 자기주장이 강해지는 때가 오고 부모와의 나이 격차가 커지면서 의견이 충돌하는 것은 매우 자연스러운 일이다.', '나 또한 특별한 상황에 해당하지 않고 이러한 자연스러운 절차를 밟으며 성장해 왔다.', '특별할 것이 조금 있었다면 소중함을 깨달을 시간을 잠시 가져보았다는 것이 대부분 또래와의 차별점이라 볼 수도 있을 것이다.', '사춘기가 가장 무섭다는 것은 만연한 이야기이다.', \"하지만 시대가 변하면서 그 시기가 빨라져서 요즘에는 '오춘기'라는 용어도 생겨났다.\", '초등학교 5학년에 사춘기가 온다는 것을 뜻한다.', '지금 생각해보면 나도 부모님과의 충돌이 가장 많았던 시기가 초등학교 5학년이었을 때였던 것 같다.', '아침을 항상 엄마와 다투면서 시작하고 화가 가라앉지 않은 상태로 등교했던 기억이 생생하다.', '다툼의 이유는 단순했다.', '엄마라는 이유로 나에게 해주시던 것들이 내 마음에 들지 않았던 것이었다.', '엄마가 해주지 않았다면 내가 스스로 해야 할 일이었음에도 나는 엄마가 해주는 것이 당연하다고 생각했다.', '미안한 마음이 많이 들었지만 어린 마음에 먼저 사과하는 것을 꺼렸으며 단 한 번도 미안하다는 말을 직접 한 기억은 없는 것 같다.', '굳이 미안하다는 말을 하지 않아도 엄마가 먼저 따뜻한 말을 건네 주었기 때문일 수도 있다.', '그때는 몰랐다.', '무한한 부모님의 사랑이 얼마나 소중한 것이었고 언제 사라질지 모르는 것인지도 생각하지 못했다.', '그로부터 1년쯤 뒤에 정말 엄마의 도움이 전혀 없는 1년을 지내야 하는 상황이 되었다.', '잃고 나니 깨달을 수 있었다.', '그동안 익숙함에 속아 내가 가장 소중한 것을 가장 당연하게 여기고 있었다는 것을.', '자립심 가득했던 1년을 보내고 난 후 엄마가 다시 돌아왔을 때, 나는 고마운 것에 감사할 줄 알고 미안한 것에 사과할 줄 아는 사람이 되어있었다.', '성숙해지면서 부모님과 다툼 자체가 줄기도 했지만 기억에 남는 경험이 있다면 작은 다툼이었음에도 메모로 죄송하다고 적어놓고 나니 마음이 한결 후련했던 것이었다.', '시간이 지나면서 무언가에 익숙해지는 것은 필연적인 일이라 생각한다.', '하지만 익숙해졌음에도 불구하고 항상 고마운 것에 고맙다고 표현하고 미안한 것에 미안하다고 표현할 줄 아는 것이 소중한 사람을 소중하게 대하고 그들에게 보답하는 방법이 아닐까 생각한다.'])\n"
     ]
    },
    {
     "name": "stderr",
     "output_type": "stream",
     "text": [
      "INFO:root:Waiting for ttr to complete...\n",
      "INFO:root:ttr completed. 0.607996940612793\n",
      "INFO:root:Waiting for similarity to complete...\n"
     ]
    },
    {
     "data": {
      "application/vnd.jupyter.widget-view+json": {
       "model_id": "06b33bc1be3e47e88d79b45110269283",
       "version_major": 2,
       "version_minor": 0
      },
      "text/plain": [
       "Batches:   0%|          | 0/1 [00:00<?, ?it/s]"
      ]
     },
     "metadata": {},
     "output_type": "display_data"
    },
    {
     "data": {
      "application/vnd.jupyter.widget-view+json": {
       "model_id": "e3344ea93c464fdcbe21c28968fbd928",
       "version_major": 2,
       "version_minor": 0
      },
      "text/plain": [
       "Batches:   0%|          | 0/1 [00:00<?, ?it/s]"
      ]
     },
     "metadata": {},
     "output_type": "display_data"
    },
    {
     "name": "stderr",
     "output_type": "stream",
     "text": [
      "INFO:root:similarity completed. 0.6769816875457764\n",
      "INFO:root:Waiting for adjacency to complete...\n",
      "INFO:root:adjacency completed. 0.6779816150665283\n",
      "INFO:root:Waiting for basic to complete...\n",
      "INFO:root:basic completed. 0.6779816150665283\n",
      "  0%|          | 16/39591 [00:18<12:24:16,  1.13s/it]"
     ]
    },
    {
     "name": "stdout",
     "output_type": "stream",
     "text": [
      "deque(['여러분들에게 소중한 것들은 무엇이 있나요?', '다들 다양하듯이 가족 친구 그리고 그 외의 여러가지 사람과 물건들이 있을 것이라고 생각합니다', '그렇다면 그것들을 소중히 아끼고 다뤄주나요?', '너무 편하고 익숙하다는 이유로 무시하지는 않았나요?', '저에게는 소중한 강아지가 있었습니다', '익숙함에 늘 제 곁에 있을 거 같았던 강아지 어느 날 아파서 세상을 떠났습니다.', '저는 그때 생각했습니다.', '내가 익숙함에 속아 그냥 지내던 나날들이 다시는 오지 않을 너무나 소중한 시간이였음을 그렇기에 저는 여러분들에게 이렇게 말하고 싶습니다 .', '당신이 소중히 여기고 사랑하는 것들에게 최선을 다 해 표현하라고 소중한 것들과 보내는 시간 그리고 그들과의 추억을 많이 남겨라고 하고 싶습니다.', '저는 어제 old(올드) 라는 영화를 보고 왔습니다 .', '영화에서 어떤 섬에 남겨진 이들에게는 섬의 1시간이 5년이였습니다.', '이들은 시간이 흘러 점점 나이를 들었고 본인이 소중히 생각했던 이들에게 신경을 못 써준것 그리고 그들에게 화를 내고 무신경했던 것을 후회하는 장면이 나옵니다.', '이 장면에서 주인공의 아버지 어머니는 이러한 대화를 나눕니다.', '\" 우리가 왜 싸웠었지. \"', '\"그런 건 이제 중요하지 않아요.\"', '이런 것을 보아 소중한 것들과 다투고 의미 없이 보내는 시간은 시간 낭비구나를 깨닫게 해주었습니다.', '내가 사랑하는 것이고 소중하게 여기는 것인데 조금 실수를 하고 틀리면 어떻습니까', '처음부터 하나 하나 알려주고 맞춰나가면 되는 것을', '저는 여러분들이 소중한 사람과 보내는 시간과 추억을 소중히 여기며 의미있는 삶을 꾸려나가시기를 바랍니다.'])\n"
     ]
    },
    {
     "name": "stderr",
     "output_type": "stream",
     "text": [
      "INFO:root:Waiting for ttr to complete...\n",
      "INFO:root:ttr completed. 0.49199676513671875\n",
      "INFO:root:Waiting for similarity to complete...\n"
     ]
    },
    {
     "data": {
      "application/vnd.jupyter.widget-view+json": {
       "model_id": "938742fbe2874827886a2c8a0734dc0c",
       "version_major": 2,
       "version_minor": 0
      },
      "text/plain": [
       "Batches:   0%|          | 0/1 [00:00<?, ?it/s]"
      ]
     },
     "metadata": {},
     "output_type": "display_data"
    },
    {
     "data": {
      "application/vnd.jupyter.widget-view+json": {
       "model_id": "bdabe1296c4e4f7e9d0dc0c02a61e7f8",
       "version_major": 2,
       "version_minor": 0
      },
      "text/plain": [
       "Batches:   0%|          | 0/1 [00:00<?, ?it/s]"
      ]
     },
     "metadata": {},
     "output_type": "display_data"
    },
    {
     "name": "stderr",
     "output_type": "stream",
     "text": [
      "INFO:root:similarity completed. 0.5850005149841309\n",
      "INFO:root:Waiting for adjacency to complete...\n",
      "INFO:root:adjacency completed. 0.5850005149841309\n",
      "INFO:root:Waiting for basic to complete...\n",
      "INFO:root:basic completed. 0.585996150970459\n",
      "  0%|          | 17/39591 [00:19<12:09:40,  1.11s/it]"
     ]
    },
    {
     "name": "stdout",
     "output_type": "stream",
     "text": [
      "deque(['연인 사이인 남녀가 헤어지는 이유에는 많은 것이 있겠지만 난 가장 큰 이유는 권태기라고 생각한다.', '내가 느낀 편안함이, 익숙함이 마음이 식은것으로, 관심이 없는 것으로 생각하였기 때문이다.', '왜 헤어지고 나서야 그것이 아니었다는 것을 알게되는 것일까?', '소중함이 익숙함과 편안함이라는 가면을 쓴 것 같다.', '어제 영어 수업을 들을때 영어 지문으로 이런 문장이 나왔다.', '진정한 우정은, 사랑은 두 사람 사이의 침묵이 편안할 때 오는것이다.', '이 지문을 본 순간 더 후회가 되었다.', '이래서 있을때 잘하라는 말이 있는 것 같다.', '너무너무 후회가 되었지만 결국 내가 한 결정이기에 받아들이기로 했다.', '하지만 앞으로 또 이런 실수는 하지 않을것이다.', '편안함을 권태기로 착각해 헤어지는 것이야 말로 정말 어리석은 것임을 알게되었다.', '그리고 이 뿐만아니라 주변의 친구들, 가족 또한 편안함에 속아 소중함을 잊으면 안된다고 생각한다.', '내 옆에 있어주는 사람들이야말로 나한테 가장 소중한 사람이다.', '그래서 나는 익숙함, 편안함을 소중히 생각하고 여기며 소중한 사람과의 관계를 소중히 여기고 지키려고 노력할 것이다.', '또한 과거에 대한 후회보다는 현재를 생각할 것이다.', '그게 내가 느낀점이자 다짐한 점이다.'])\n"
     ]
    },
    {
     "name": "stderr",
     "output_type": "stream",
     "text": [
      "INFO:root:Waiting for ttr to complete...\n",
      "INFO:root:ttr completed. 0.5023236274719238\n",
      "INFO:root:Waiting for similarity to complete...\n"
     ]
    },
    {
     "data": {
      "application/vnd.jupyter.widget-view+json": {
       "model_id": "8aac3d87840e46a49c481919150e271a",
       "version_major": 2,
       "version_minor": 0
      },
      "text/plain": [
       "Batches:   0%|          | 0/1 [00:00<?, ?it/s]"
      ]
     },
     "metadata": {},
     "output_type": "display_data"
    },
    {
     "data": {
      "application/vnd.jupyter.widget-view+json": {
       "model_id": "408fd7da134c40478945bbc2391743a9",
       "version_major": 2,
       "version_minor": 0
      },
      "text/plain": [
       "Batches:   0%|          | 0/1 [00:00<?, ?it/s]"
      ]
     },
     "metadata": {},
     "output_type": "display_data"
    },
    {
     "name": "stderr",
     "output_type": "stream",
     "text": [
      "INFO:root:similarity completed. 0.5833239555358887\n",
      "INFO:root:Waiting for adjacency to complete...\n",
      "INFO:root:adjacency completed. 0.5843243598937988\n",
      "INFO:root:Waiting for basic to complete...\n",
      "INFO:root:basic completed. 0.5843243598937988\n",
      "  0%|          | 18/39591 [00:20<11:44:05,  1.07s/it]"
     ]
    },
    {
     "name": "stdout",
     "output_type": "stream",
     "text": [
      "deque(['익숙함에 속아 소중함을 잊지 말자는 명언 다들 한 번쯤은 들어봤을 것이다', '나는 한 번이 아닌 여러 번 머리에 박힐 정도로 많이 들어보고 그만큼 그 명언에 대해 생각도 많이 해봤었다', '이 명언은 정말 간단하고 짧지만 작은 의미 조각들이 수없이 들어간 명언 같다', '명언처럼 행동하기 말로는 쉬워 보이지만 절대 아니라는 거 사람이 편해지고 말이 막 나올 때 표현하기 부끄러워지고 자존심이 세워지고 그들이 무조건 적으로 내 편이 되어 주어야 한다고 생각이 들 때 그럴 때 놓치기 쉬운 명언이다', '그리고 내가 그랬다.', '연락을 중요하게 생각하는 친구인 걸 알면서도 편하다는 이유로 연락을 보지 않고 전화가 오면 잠이 온다는 이유로 받지 않고 그랬다.', '지금 말한 이 친구는 내가 정말 좋아하는 친구 가족 같은 친구다.', '결국 이 친구가 참다 참다 화를 냈고 그제서야 난 연락도 잘 보고 전화도 잘 받게 되었다.', '또 다른 내 소중한 친구랑은 사과 자존심 이 두 개가 문제였다.', '난 원래 자존심 세우는 편도 아니고 오히려 사과를 먼저 하는 그런 성격이었다.', '그런데 이 친구를 처음 사귀었을 때부턴 이 친구가 줄곧 먼저 사과를 해주었다.', '그게 익숙해진 나머지 다를 땐 잘만 하던 사과를 이 친구에겐 하지 않고 자존심만 세우다가 친구가 지쳐 내게 사과를 하지 않았을 때 머리를 한 대 맞은 거 같았다.', '그 일 뒤로 많은 생각을 하게 되고 더 이상 이러면 안 되겠다는 마음가짐을 가지고 앞에 말했던 것이 당연하게 되어야 한다는 생각을 버리고 내게 소중한 사람들에게 더 잘해야겠다고 항상 생각하고 지금은 실천 중이다.'])\n"
     ]
    },
    {
     "name": "stderr",
     "output_type": "stream",
     "text": [
      "INFO:root:Waiting for ttr to complete...\n",
      "INFO:root:ttr completed. 0.5993525981903076\n",
      "INFO:root:Waiting for similarity to complete...\n"
     ]
    },
    {
     "data": {
      "application/vnd.jupyter.widget-view+json": {
       "model_id": "8da2a6d858c749a184eeb0b648f34764",
       "version_major": 2,
       "version_minor": 0
      },
      "text/plain": [
       "Batches:   0%|          | 0/1 [00:00<?, ?it/s]"
      ]
     },
     "metadata": {},
     "output_type": "display_data"
    },
    {
     "data": {
      "application/vnd.jupyter.widget-view+json": {
       "model_id": "1f863682dd954d4288507d557f9644df",
       "version_major": 2,
       "version_minor": 0
      },
      "text/plain": [
       "Batches:   0%|          | 0/1 [00:00<?, ?it/s]"
      ]
     },
     "metadata": {},
     "output_type": "display_data"
    },
    {
     "name": "stderr",
     "output_type": "stream",
     "text": [
      "INFO:root:similarity completed. 0.8413529396057129\n",
      "INFO:root:Waiting for adjacency to complete...\n",
      "INFO:root:adjacency completed. 0.8423528671264648\n",
      "INFO:root:Waiting for basic to complete...\n",
      "INFO:root:basic completed. 0.8433530330657959\n",
      "  0%|          | 19/39591 [00:21<12:20:57,  1.12s/it]"
     ]
    },
    {
     "name": "stdout",
     "output_type": "stream",
     "text": [
      "deque(['익숙함에 속아 소중함을 잊었던 경험은 단연코 모두가 겪어봤으리라 자부한다.', '사람마다 차이는 있더라도 처음의 그 감정은 반복될수록 무뎌져서 본래의 감정과 조금 다른 모습으로 나에게 남게 된다.', '누군가의 다정함과 배려에 익숙해진다거나, 어떤 행위의 성취감이나 즐거움에 익숙해진다거나, 내가 누릴 수 있었던 행동에 익숙해지는 상황이 나에겐 꽤 있었다.', '그중 가장 확연하게 느끼는 것은 최근 가장 많은 시간을 함께 보내는 친구가 아닌가 싶다.', '시간을 오래 보내는 만큼 무뎌 디는 속도도 빨랐던 것 같은데 어느 순간 정말 소중한 줄 모를 때가 한 번씩은 꼭 있었다.', '나는 보통 친구가 어떤 상황에서도 날 도와주는지, 날 배려해주는지, 잘 받아주는지를 생각하며 고마움을 느끼고, 받은 만큼 돌려주자는 생각을 가지려고 하는 편이다.', '마찬가지로 그 친구와 평소 말하는 방식도 잘 통하는 편이고, 서로 말하지 않아도 대부분은 짐작할 수 있으며 평소 받은 것도 많았다는 점 역시 알고 있다.', '하지만, 계속되는 호의에 익숙해져서 귀한 줄 모르는 순간 덜컥 짜증을 내거나 내가 생각해도 잘못됐다고 생각할 때가 있다.', '혹은 상황을 고려해주지 못했거나. 그럴 때면 나는 우선 사과하고 대화를 하고자 한다.', '그리고 앞으로 이런 상황에 어떻게 하면 좋을지, 서로 어떤 점이 불편하고, 어떤 점을 신경 써줬으면 좋겠는지 말을 한 다음, 대화를 끝마친다.', '꼭 문제가 생길 때가 아니라도 지속되는 호의를 권리라 착각하고 휘두르지 않아야 한다는 점도 중요하다.', '그 다정도 나를 배려해서 하는 행동인데 내 잘못으로 인연이 끊어진다면 슬프지 않은가.', '남에게 온전한 호의를 주는 사람에게는 마땅히 돌아가야 하는 것이 있기에 익숙해지지 않도록 노력하며 서로 잘 맞춰가야 한다 생각한다.'])\n"
     ]
    },
    {
     "name": "stderr",
     "output_type": "stream",
     "text": [
      "INFO:root:Waiting for ttr to complete...\n",
      "INFO:root:ttr completed. 0.6242635250091553\n",
      "INFO:root:Waiting for similarity to complete...\n"
     ]
    },
    {
     "data": {
      "application/vnd.jupyter.widget-view+json": {
       "model_id": "5eee1189957c4cd69eb6f87369c4ccd0",
       "version_major": 2,
       "version_minor": 0
      },
      "text/plain": [
       "Batches:   0%|          | 0/1 [00:00<?, ?it/s]"
      ]
     },
     "metadata": {},
     "output_type": "display_data"
    },
    {
     "data": {
      "application/vnd.jupyter.widget-view+json": {
       "model_id": "23039c10d25c4ea297b1a49619729917",
       "version_major": 2,
       "version_minor": 0
      },
      "text/plain": [
       "Batches:   0%|          | 0/1 [00:00<?, ?it/s]"
      ]
     },
     "metadata": {},
     "output_type": "display_data"
    },
    {
     "name": "stderr",
     "output_type": "stream",
     "text": [
      "INFO:root:similarity completed. 0.6852614879608154\n",
      "INFO:root:Waiting for adjacency to complete...\n",
      "INFO:root:adjacency completed. 0.6862614154815674\n",
      "INFO:root:Waiting for basic to complete...\n",
      "INFO:root:basic completed. 0.6872618198394775\n",
      "  0%|          | 20/39591 [00:22<12:09:04,  1.11s/it]"
     ]
    },
    {
     "name": "stdout",
     "output_type": "stream",
     "text": [
      "deque(['때는 이번년도 5월 초쯤이였다.', '중학교때 친구들과 단톡방이 파져있는데 난 거기서 그냥 친구들 이야기만 듣고 바로 폰을 덮는 스타일이라서 답장을 잘 하지 않는다.', '그렇게 반복되고나니 나는 답장을 안하는것에 익숙해졌고 그 친구는 결국 폭발을 해버린것이다.', '달랑 답장을 안한거 가지고 그렇게 화를 낼 일이였는지라고 생각을 했는데 나 같아도 정말 참다참다 도저히 안되니까 그렇게 화를 낸 것이었다.', '나는 순간 흠칫하고 친구한테 정말 미안하다고, 이제부터 답장을 잘한다고 했다.', '그 친구와 나는 같이 운동도 하는데 이번 여름방학때 그 친구는 헬스를 다니고 나는 복싱을 다니기로 했는데, 친구가 옆에서 계속 같이 헬스를 하자고 해서 엄마한테 허락을 받아야되는 상황이였는데 엄마는 계속하지말라고 하는데 친구는 계속 같이하자고 해서 나는 그냥 친구한테 안된다고 정말 미안하다고 했는데 그 친구랑 바로 틀어졌다.', '학원도 같이다녀서 쫌 어색한 부분이 있었다.', '한 일주일 동안 이야기를 안했다.', '이야기를 맨날 하는 친구가 없어지니까 쫌 텅 비어있는듯한 느낌이였다.', '계속 이야기를 하는 익숙함에 속아 친구랑 일주일만 이야기를 안해도 어색해지고 소중한것을 잃은 느낌이였다.', '하지만 난 용기를 내서 그 친구한테 먼저 다가가서 사과를 하고 화해를 했다.', '난 가족이랑 자주 싸우는 편이다.', '나는 익숙함에 찌들어 어느새 귀찮음까지 도달했다.', '뭐만하면 싸우고 싸울일도 아닌데 싸우고 익숙함에 찌들어 가족간의 신뢰를 점점잃어간다.', '난 잘못한게 없는데 계속 나를 괴롭힌다.', '엄마도 익숙해서 그런것일까?', '점점 멀어지는 관계는 이제 되돌릴수 없을 정도 까지 다가왔다.', '지치고 심적으로 힘들어서 그냥 안좋은생각도하고 돈이나 모아서 얼른 20살이 되어서 자취를 할생각밖에 없다.', '내가 뭘 잘못했는지도 모르는데 계속 화를내고 하면 그때부터 끝인거다.', '내 앞에 낭떠러지가 있고 앞에서 계속 다가온다면 상대할수도 있겠지만 너무 지쳐버려서 떨어질수도 있다.', '난 이 관계가 익숙해서 정말 이런것인지 안그러면 정말 싫어해서 그런건지는 모르겠지만 힘들어서 아무 생각이 없다.'])\n"
     ]
    },
    {
     "name": "stderr",
     "output_type": "stream",
     "text": [
      "INFO:root:Waiting for ttr to complete...\n",
      "INFO:root:ttr completed. 0.5910000801086426\n",
      "INFO:root:Waiting for similarity to complete...\n"
     ]
    },
    {
     "data": {
      "application/vnd.jupyter.widget-view+json": {
       "model_id": "4c5413bfa1d54d2f96e1d42af91ed118",
       "version_major": 2,
       "version_minor": 0
      },
      "text/plain": [
       "Batches:   0%|          | 0/1 [00:00<?, ?it/s]"
      ]
     },
     "metadata": {},
     "output_type": "display_data"
    },
    {
     "data": {
      "application/vnd.jupyter.widget-view+json": {
       "model_id": "6a956e5f7c40435fac4d0122a1ee7c33",
       "version_major": 2,
       "version_minor": 0
      },
      "text/plain": [
       "Batches:   0%|          | 0/1 [00:00<?, ?it/s]"
      ]
     },
     "metadata": {},
     "output_type": "display_data"
    },
    {
     "name": "stderr",
     "output_type": "stream",
     "text": [
      "INFO:root:similarity completed. 0.6992826461791992\n",
      "INFO:root:Waiting for adjacency to complete...\n",
      "INFO:root:adjacency completed. 0.7012829780578613\n",
      "INFO:root:Waiting for basic to complete...\n",
      "INFO:root:basic completed. 0.7012829780578613\n",
      "  0%|          | 21/39591 [00:23<12:43:32,  1.16s/it]"
     ]
    },
    {
     "name": "stdout",
     "output_type": "stream",
     "text": [
      "deque(['익숙함에 속아 소중함을 잊지말자라는 명언이 있듯이 다른사람들도 익숙함에 속아 소중함을 잊은 적이 있듯이 저도 그런적이 있습니다.', '옛날부터 친하던 친구가 있었습니다.', '그 친구와 노는 것이 익숙하여 저는 장난을 삼아 몇번 막말도 하고 그랬던 경험이 있습니다.', '그러다 그 친구와 말다툼을 하여 사이가 멀어지게 되었습니다.', '다시 서로 화해를 해서 잘 지내고 있어서 다행이지 화해를 하지않았으면 평생 사이가 멀어진 채로 있었을 것입니다.', '그리고 또 다른 사례를 말하자면 항상 돈이 있던 상황이 너무 익숙하여 돈을 막 쓰던 때가 있었습니다.', '그 돈의 소중함을 모르고 막 썼습니다.', '그러다 돈을 다 쓰고 돈이 필요해 졌을때 돈을 못 써서 놀지도 못하고 사야하는 것도 못 살때 그 소중함을 알았습니다.', '저는 돈의 소중함을 회복하고자 되도록이면 걸어다니고 그닥 중요하지 않은 것에는 돈을 쓰지 않았습니다.', '마지막으로 코로나 이전에 마스크를 안쓰고 돌아다니고 학원에서 자주 놀러도 다니고 할 때가 있었는데 마스크를 안쓰고 돌아다니는 것이 당연하다고 생각할 때 코로나가 터져 상태가 심각해지고 모든 사람의 마스크가 의무가 되었을 때 그제서야 마스크를 안쓰고 다니는 그 때의 소중함을 느꼈습니다.', '저는 그 소중함을 회복하고자 빨리 코로나가 종식되었으면 좋겠다는 마음가짐으로 방역수칙을 열심히 지키고 있습니다.', '제가 가장 최근에 본 영화는 싱크홀이라는 영화입니다.', '제가 싱크홀을 본 이유는 첫번째 싱크홀이라는 재난을 초점에 맞춰 나온 영화라 궁금해서 봤습니다.', '두번째 싱크홀이라는 영화의 관람평이 좋아서 봤습니다.', '일단 이 영화의 줄거리를 설명해드리겠습니다.', '이 영화는 회사직원이던 주인공이 대출을 받아 이사를 했습니다.', '그러나 집에서 아침을 먹는 도중 주인공의 아들이 구슬을 가지고 놀다 집의 수평이 맞지않은 것을 알게되었습니다.', '어느덧 주인공의 회사직원들과의 집들이날 회사직원들은 주인공의 집에서 술을 마시다가 깜빡 자버렸고 그 다음날 아침 지반이 약해져 싱크홀이 발생합니다.', '사람들은 지하에서 구조만을 기다리고 있었고 구조대는 추가 붕괴위험으로 인해 함부로 들어가지 못하고있었습니다.', '그래서 구조대는 생존물품을 내려주었습니다.', '하필이면 폭우까지 쏟아져 당장 구하지않으면 물에 잠기게 되었을 때 옆건물이 싱크홀 안으로 떨어집니다.', '옆건물에 있던 물탱크를 사람들이 타고 한명은 밖에서 뚜껑을 닫아주고 구조대의 생존물품중에 산소호흡기를 쓰며 물 위로 떠서 살았습니다.', '제가 이 영화를 보고 느낀점은 영화 속 부모님들의 희생정신이 가득한 행동을 보고 본받아야겠다 싶었고 그리고 지하수로 인해 지반이 약해져서 싱크홀이 생긴다는 말을 듣고 지하수가 우리한테 좋은 것만은 아니구나를 느꼈습니다.'])\n"
     ]
    },
    {
     "name": "stderr",
     "output_type": "stream",
     "text": [
      "INFO:root:Waiting for ttr to complete...\n",
      "INFO:root:ttr completed. 0.6572010517120361\n",
      "INFO:root:Waiting for similarity to complete...\n"
     ]
    },
    {
     "data": {
      "application/vnd.jupyter.widget-view+json": {
       "model_id": "a8a9c6528e73477d885154cfacc9d5af",
       "version_major": 2,
       "version_minor": 0
      },
      "text/plain": [
       "Batches:   0%|          | 0/1 [00:00<?, ?it/s]"
      ]
     },
     "metadata": {},
     "output_type": "display_data"
    },
    {
     "data": {
      "application/vnd.jupyter.widget-view+json": {
       "model_id": "05d6282b00784f7882e550d9eb88f209",
       "version_major": 2,
       "version_minor": 0
      },
      "text/plain": [
       "Batches:   0%|          | 0/1 [00:00<?, ?it/s]"
      ]
     },
     "metadata": {},
     "output_type": "display_data"
    },
    {
     "name": "stderr",
     "output_type": "stream",
     "text": [
      "INFO:root:similarity completed. 0.7751979827880859\n",
      "INFO:root:Waiting for adjacency to complete...\n",
      "INFO:root:adjacency completed. 0.7761971950531006\n",
      "INFO:root:Waiting for basic to complete...\n",
      "INFO:root:basic completed. 0.7761971950531006\n",
      "  0%|          | 22/39591 [00:25<13:27:13,  1.22s/it]"
     ]
    },
    {
     "name": "stdout",
     "output_type": "stream",
     "text": [
      "deque(['나는 엄마가 싫다.', '다음부터 그러지 않겠다 약속해놓고 다음에 또 그러고, 말도 안되는 논리로 자기가 옳다고만 하는 엄마가 너무 밉다.', '그래도 엄마는 맨날 나를 위해서라고 변명한다.', '도저히 스트레스만 받게하는 짓이 왜 나를 위한 일인지 모르겠다.', '..라고 생각한지 몇 달쯤 지났다.', '언제부턴가 엄마는 운동을 하기 시작했다.', '매일 나가서 1시간 정도 걷고 오고 요가도 다니기 시작했다.', '나는 그저 또 얼마가지 않을 다이어트라 생각했는데, 평소처럼 친구들과 게임하고 있던 어느날 엄마가 방에 들어오자 굽은 내 허리를 펴주면서 말했다.', '나중에 엄마가 늙어서 몸이 불편하면 그 엄마를 챙기는 내가 힘들어지니까 지금 운동을 하는거라고.', '엄마가 하는 운동은 다이어트가 아니라 미래에 나를 위한 노력이었다', '(물론 다이어트도 맞는 것 같긴 하지만).', '그리고 말을 이어갔다.', '그러니까 너도 엄마를 위해서 몸 건강 챙기라고.', '엄마가 내 허리에 악착같이 집착하는 이유는 여기에 있었다.', '엄마는 여태까지 나를 걱정해주고 있었지만 나는 들은채도 하지 않았다.', '엄마 입장에서 미운건 오히려 나였다.', '엄마 마음을 알게되자 그저 미안한 마음이 들었다.', '표정은 딱히 변화가 없었지만 머리는 복잡해졌다.', '내가 엄마한테 얼마나 실망할 짓을 많이 했는지, 내가 어떻게 해야 엄마 기분을 낫게 할지, 이런저런 생각으로 가득했다.', '우선 굽은 허리부터 폈다.', '엄마가 가장 걱정하던 허리.', '언젠간 꼬부랑 할아버지가 될거라 하던 허리.', '허리를 펴야 키도 커보인다고 엄마가 늘 말했다.', '그리고 엄마는 항상 내가 밖에 나가서 운동하는걸 원했다.', '원래부터 나가는 걸 싫어하던 나는 나가서 운동하라는 말이 딱히 내키지 않았다.', '지금도 밖에 나가는건 여전히 힘든것 같다.', '그래도 엄마를 위해서, 나를 위해서 저녁에 10분이라도 나가는 중이다.', '또, 며칠 전 치과에 충치제거하러 갔었다.', '부끄럽지만 난 하루에 자기전 한번밖에 양치를 하지 않았다.', '그래서 앞으로 이빨에 돈 들지 않도록 양치도 꼼꼼히 하고 있다.', '이렇게 글로 쓰고보니 내가 지금까지 애먹일 일을 참 많이도 저지른 것 같다.', '다시한번 엄마에게 미안하고, 반성한다.', '위대한 어머니.', '소중한 엄마.', '(그리고 맨날 밥해줘서 고마워요).'])\n"
     ]
    },
    {
     "name": "stderr",
     "output_type": "stream",
     "text": [
      "INFO:root:Waiting for ttr to complete...\n",
      "INFO:root:ttr completed. 0.642993688583374\n",
      "INFO:root:Waiting for similarity to complete...\n"
     ]
    },
    {
     "data": {
      "application/vnd.jupyter.widget-view+json": {
       "model_id": "bb4d038dcbf64aa6a377706ac3b6eec3",
       "version_major": 2,
       "version_minor": 0
      },
      "text/plain": [
       "Batches:   0%|          | 0/1 [00:00<?, ?it/s]"
      ]
     },
     "metadata": {},
     "output_type": "display_data"
    },
    {
     "data": {
      "application/vnd.jupyter.widget-view+json": {
       "model_id": "4c17ddf86e6f4c70907e91ddf19b9125",
       "version_major": 2,
       "version_minor": 0
      },
      "text/plain": [
       "Batches:   0%|          | 0/1 [00:00<?, ?it/s]"
      ]
     },
     "metadata": {},
     "output_type": "display_data"
    },
    {
     "name": "stderr",
     "output_type": "stream",
     "text": [
      "INFO:root:similarity completed. 0.7564995288848877\n",
      "INFO:root:Waiting for adjacency to complete...\n",
      "INFO:root:adjacency completed. 0.7574994564056396\n",
      "INFO:root:Waiting for basic to complete...\n",
      "INFO:root:basic completed. 0.7584993839263916\n",
      "  0%|          | 23/39591 [00:26<14:27:01,  1.31s/it]"
     ]
    },
    {
     "name": "stdout",
     "output_type": "stream",
     "text": [
      "deque(['내가익숙함에속아소중함을잃었던것은2가지이다.', '하나는바로나의휴대전화인데나는휴대전화를산처음에는정말조심조심다뤘지만점점날이지나갈수록내가휴대전화를막떨어뜨리고침대에던지며휴대전화를막대하다가최근에화장실에서핸드폰을떨어뜨렸는데평소처럼별일이겠어하고핸드폰을주웠지만핸드폰이켜지지않았고나는내핸드폰이고장났단걸깨달았다.', '그래서나는핸드폰을고치기위하여엄마아빠에게핸드폰을고친다고말을했다.', '그리고나는혼자수리센터로가서핸드폰을고치고오기로했지만자제가없어서그날고치지못했고자제가오면연락을준다고했다.', '그런데연락을받으니내핸드폰의메인보드가나가서고치려면40만원이상이라고해서엄마아빠와상의한결과포기하고옛날폰을쓰기로했다.', '두번째사례는나의소중한할머니를잃은것이다.', '나는어릴때부터외할머니집가가까워서자주할머니집에들락날락했다.', '그래서할머니가없으신건상상도못하였다.', '하지만중3때친할머니께서나한테외할머니가돌아가셨단말을해주셨다.', '하지만그당시의나는피곤해서들은듯만듯하고자버렸지만다음날엄마에게들었을때정말실감했고할머니를못본다는사실에울었다.', '나는할머니와의생활에익숙해서이런일이있을줄정말몰랐다.', '하지만나는할머니와의생활이소중하단걸깨닫고할머니와의생활을잊지않으려고노력중이고엄마아빠와함께할머니가계신납골당에도가며할머니를잊지않으려노력할것이다또한엄마와함께할머니제사도참여할것이다나는위에두일을겪으며나의하루하루를소중히여기며즐겁게살아가려노력할것이다.'])\n"
     ]
    },
    {
     "name": "stderr",
     "output_type": "stream",
     "text": [
      "INFO:root:Waiting for ttr to complete...\n",
      "INFO:root:ttr completed. 0.565497875213623\n",
      "INFO:root:Waiting for similarity to complete...\n"
     ]
    },
    {
     "data": {
      "application/vnd.jupyter.widget-view+json": {
       "model_id": "a1adbdec266d4a1fa8093f9fcb66cc73",
       "version_major": 2,
       "version_minor": 0
      },
      "text/plain": [
       "Batches:   0%|          | 0/1 [00:00<?, ?it/s]"
      ]
     },
     "metadata": {},
     "output_type": "display_data"
    },
    {
     "data": {
      "application/vnd.jupyter.widget-view+json": {
       "model_id": "9e9d84efefd94fa4a9ffc214f4acfbb9",
       "version_major": 2,
       "version_minor": 0
      },
      "text/plain": [
       "Batches:   0%|          | 0/1 [00:00<?, ?it/s]"
      ]
     },
     "metadata": {},
     "output_type": "display_data"
    },
    {
     "name": "stderr",
     "output_type": "stream",
     "text": [
      "INFO:root:similarity completed. 0.7004973888397217\n",
      "INFO:root:Waiting for adjacency to complete...\n",
      "INFO:root:adjacency completed. 0.7014973163604736\n",
      "INFO:root:Waiting for basic to complete...\n",
      "INFO:root:basic completed. 0.7014973163604736\n",
      "  0%|          | 24/39591 [00:27<13:31:55,  1.23s/it]"
     ]
    },
    {
     "name": "stdout",
     "output_type": "stream",
     "text": [
      "deque(['익숙함에 속아 소중함을 잃는 대표적인 사례는 가족인 것 같다.', '우리는 가족을 사랑한다고 말하지만 실제로는 가족끼리의 대화도 많이 없고 오히려 서로에게 짜증을 낼때가 많다.', '실제로 내가 가족의 소중함을 느꼈던 때는 가족끼리 이탈리아 여행을 갔을 때이다.', '그 때의 계절은 여름이었기 때문에 이탈리아에 있는 내내 너무 더웠다.', '그러던 중에 나는 혼자 길을 잃어버렸었다.', '나는 이탈리아 말도 할 줄 모르고, 내가 어디에 있는줄도 몰랐다.', '때문에 전화를 통해 주변의 모습을 설명하는 방법밖에 없었다.', '날씨는 너무 덥고, 목도 말라서 그 때 당시에 너무 무서웠다.', '떨면서 그 자리에 얼어서 서 있는동안 캐릭터 탈을 쓴 사람이 와서 사진을 찍었다.', '그런데 그 사람이 나보고 뭐라고 했는데, 돈을 달라고 하는것 같았다.', '하지만 나는 돈이 없었다.', '그래서 그 사람이 소리를 지르며 화를 냈다.', '계속 그 사람이 나보고 소리를 지르며 화를 내자 나는 아무런 생각도 들지않고 빨리 엄마와 아빠가 와줬으면 했다.', '이 일이 있고 그때 나는 항상 내 곁에 있어줘서 익숙했지만 소중했던 엄마와 아빠의 존재를 알게되었다.', '그렇게 되자 나는 엄마와 아빠의 소중함을 알고 나를 대신해서 그 사람에게 돈을 주고 나에게 괜찮냐고 물어보던 엄마와 아빠를 보고 안도감과 고마움, 그리고 엄마와 아빠가 오기 전까지 무서웠던 감정 때문에 눈물이 살짝 났다.', '그 뒤로 우리 가족은 즐겁게 이탈리아에서 여행을 즐겼다.', \"'나도 어른이 되면 좋은 아빠나 남편이 될 수 있을까?' 라는 생각을 이 글을 쓰면서 할 수 있었고, 소중함을 돌아보는 계기가 되어서 좋았던 것 같다.\", '앞으로는 소중함을 잃지 않아야겠다.'])\n"
     ]
    },
    {
     "name": "stderr",
     "output_type": "stream",
     "text": [
      "INFO:root:Waiting for ttr to complete...\n",
      "INFO:root:ttr completed. 0.5507442951202393\n",
      "INFO:root:Waiting for similarity to complete...\n"
     ]
    },
    {
     "data": {
      "application/vnd.jupyter.widget-view+json": {
       "model_id": "730b040b86374525b0383e4194c8cc56",
       "version_major": 2,
       "version_minor": 0
      },
      "text/plain": [
       "Batches:   0%|          | 0/1 [00:00<?, ?it/s]"
      ]
     },
     "metadata": {},
     "output_type": "display_data"
    },
    {
     "data": {
      "application/vnd.jupyter.widget-view+json": {
       "model_id": "b2870bb0685f4f6a9a7bf5aea08a4b35",
       "version_major": 2,
       "version_minor": 0
      },
      "text/plain": [
       "Batches:   0%|          | 0/1 [00:00<?, ?it/s]"
      ]
     },
     "metadata": {},
     "output_type": "display_data"
    },
    {
     "name": "stderr",
     "output_type": "stream",
     "text": [
      "INFO:root:similarity completed. 0.6077444553375244\n",
      "INFO:root:Waiting for adjacency to complete...\n",
      "INFO:root:adjacency completed. 0.6087446212768555\n",
      "INFO:root:Waiting for basic to complete...\n",
      "INFO:root:basic completed. 0.6087446212768555\n",
      "  0%|          | 25/39591 [00:28<13:05:35,  1.19s/it]"
     ]
    },
    {
     "name": "stdout",
     "output_type": "stream",
     "text": [
      "deque(['우리는 항상 똑같은 일상 속 반복되는 현실에 마주하여 살고 있다.', '이러한 삶에 익숙해져 우리는 지금가장 중요한 것을 놓치고 있다.', '어른들은 항상 우리의 앞만 생각하며 책상에 앉히고 우리는 그저 그것에순응하여 반복되는 루틴을 살아오고 있는 것이다.', '나도 어렸을 적에는 아이디어가 넘쳐났었다.', '누군가가보았을 때 이상한 정도로 말도 안 되는 이야기들을 나열해 계속 말해 나갔기 때문이다.', '하지만 그것도얼마 가지 않아 초등학교에 졸업 후 중학교에 입학하게 된다.', '모든 부모들은 아마 생각할 것이다 우리아이가 기초부터 잘 잡아놔야 나중에 가서도 잘 되겠지 이런 식으로 시작하게 된다면 이 부모들은 분명실패한 것이다.', '생각해 보아라 당신들이 만약 이 선택권에 놓이게 되고 하게 된다면 누가 이것을좋아하겠는가 이제 막 성장기에 접어들어 경험하고 배워야 할 것도 많은데 그냥 책상에 앉혀놓고 공부만하라고 하면 그게 되겠는가', '오히려 아이는 그것을 탈출하려고 애를 쓰게 될 것이다.', '아이가 최적의조건에서 발달하게 되는 것은 자신이 직접 경험해보고 직접 느껴봐야 한다는 것이다,', '하지만 아이가 이것을 느끼지도 못하게 자신들이 경험을 해봤느니 이것은 안 좋다느냐 이렇게 하면 아이가 자체적으로 무엇을 느끼겠냐는 말이다.', '결국 직접 느껴서 책을 잡고 공부를 시작하는 것보다 다른 시선을 피해 점점 더 숨고 더 놀고 싶은 충동을 나중에 더 느끼게 될 것이다.', '이러한 이유들 때문에 중학교 때 어릴 때는 정신교육으로 기강을 잡지 말라는 이야기이다.', '지금의 나를 보고 느끼는 것은 옛날에는 아이디어가 뭐만 하면 수십 개로 머릿속에서 튀어나왔지만 지금으로선 주입식 교육으로 그냥 저건 저거구나 하며 새로운 아이디어가 나오지 않는다', '이런 모습을 보면 내가 참 한심하고 생각에 깊이 잠기게 된다.', '소중함이란 정리해 보자면 눈에는 안 보이지만 항상 우리의 곁에 존재하는 것이다.', '필요하지 않을 때는 어디에나 존재하지만 그 존재를 필요로 할 때는 그 존재는 흔적도 없이 찾을 수 없을 것이다.', '그러므로 우리는 주변에 존재하는 작지만 소중한 존재를 생각하며 하루하루를 보내야 한다.', '왜냐하면 그것은 항상 자신의 곁에 존재하는 게 아니기 때문에..........', '우리는 항상 고마움을 느끼며 소중함을 잊지 말아야 한다.'])\n"
     ]
    },
    {
     "name": "stderr",
     "output_type": "stream",
     "text": [
      "INFO:root:Waiting for ttr to complete...\n",
      "INFO:root:ttr completed. 0.6430130004882812\n",
      "INFO:root:Waiting for similarity to complete...\n"
     ]
    },
    {
     "data": {
      "application/vnd.jupyter.widget-view+json": {
       "model_id": "69b60fa2915d4d72a6376eb269d5dcd9",
       "version_major": 2,
       "version_minor": 0
      },
      "text/plain": [
       "Batches:   0%|          | 0/1 [00:00<?, ?it/s]"
      ]
     },
     "metadata": {},
     "output_type": "display_data"
    },
    {
     "data": {
      "application/vnd.jupyter.widget-view+json": {
       "model_id": "07d9cfcb31de4a33904a26c98d52bf1d",
       "version_major": 2,
       "version_minor": 0
      },
      "text/plain": [
       "Batches:   0%|          | 0/1 [00:00<?, ?it/s]"
      ]
     },
     "metadata": {},
     "output_type": "display_data"
    },
    {
     "name": "stderr",
     "output_type": "stream",
     "text": [
      "INFO:root:similarity completed. 0.7110133171081543\n",
      "INFO:root:Waiting for adjacency to complete...\n",
      "INFO:root:adjacency completed. 0.7120137214660645\n",
      "INFO:root:Waiting for basic to complete...\n",
      "INFO:root:basic completed. 0.7130136489868164\n",
      "  0%|          | 26/39591 [00:30<13:16:16,  1.21s/it]"
     ]
    },
    {
     "name": "stdout",
     "output_type": "stream",
     "text": [
      "deque(['어렸을 때부터 나는 어머니의 신뢰와 사랑을 주고받으며 자라왔다.', '그렇게 평탄한 길을 걷고 누구나가 생각하는 전형적인 착한 아이가 어른이 되고 있을 무렵, 나는 거대한 폭풍을 맞았다.', '중학교 3학년 여름이었다.', '그 짧은 기간동안 쌓여왔던 신뢰와 사랑은 모두 무너졌다.', '나의 비행이 시작되었는데 그 시기동안 나는 사실을 숨기고 겉으로만 공부하는 척을 하기 위해 거짓말 등 온갖 나쁜 행위를 다 했다.', '죄책감이란 것을 몰랐고 어머니의 신뢰와 사랑은 나에게 익숙함으로 자리잡았다.', '그 동안 어머니의 눈에서 피눈물이 흐르는 것을 어렴풋이 알고 있었음에도 난 멈추지 않았다.', '내 스스로 폭풍이 지나갔다고 느낄 때쯤 어머니와 나의 사이의 신뢰정도는 바닥이 나 있었고 눈물은 마른 상태였다.', '구차한 변명이나 약삭빠른 말로 상태를 회복하긴 어려웠고, 난 항상 대화를 피하고 도망치려고 했다.', '그렇게 시간이 지나면서 상처엔 딱지가 생겨 굳어버렸고 빈틈 따윈 없었다.', '그때 누군가가 다른 이에게 줄 수 있는 신뢰의 정도에는 한계가 있고 그것은 어머니라고 해도 예외가 아니란 것과 결코 시간이 모든 것을 해결해주지 않는 다는 것도 깨달았다.', '그렇게 어머니를 도와 심부름, 설거지, 빨래 등 집안일을 열심히 한 결과 지금은 이렇게 한편의 추억으로 자리 잡아 이야기할 수 있지만 신뢰가 사라진 상대방과의 생활은 믿을 수 없을 정도로 힘들다는 것을 말해주고 싶다.', '익숙함을 챙기는 것은 당장에 당신을 편하게 만들 수 있다.', '하지만 결국 그 안의 소중함을 발견하지 못한다면 소중함은 물론 익숙함 마저 잃을 수 있다는 점을 알았으면 좋겠다.', '만약 내가 그때의 나에게로 돌아갈 수 있다면 눈 앞에 있는 익숙함, 그것이 곧 소중함이라는 말을 꼭 전해주고 싶다.'])\n"
     ]
    },
    {
     "name": "stderr",
     "output_type": "stream",
     "text": [
      "INFO:root:Waiting for ttr to complete...\n",
      "INFO:root:ttr completed. 0.5626482963562012\n",
      "INFO:root:Waiting for similarity to complete...\n"
     ]
    },
    {
     "data": {
      "application/vnd.jupyter.widget-view+json": {
       "model_id": "a36c7f01240b4fe3ab797ba75302dafe",
       "version_major": 2,
       "version_minor": 0
      },
      "text/plain": [
       "Batches:   0%|          | 0/1 [00:00<?, ?it/s]"
      ]
     },
     "metadata": {},
     "output_type": "display_data"
    },
    {
     "data": {
      "application/vnd.jupyter.widget-view+json": {
       "model_id": "de870ddab9494a239d61d701391dde8d",
       "version_major": 2,
       "version_minor": 0
      },
      "text/plain": [
       "Batches:   0%|          | 0/1 [00:00<?, ?it/s]"
      ]
     },
     "metadata": {},
     "output_type": "display_data"
    },
    {
     "name": "stderr",
     "output_type": "stream",
     "text": [
      "INFO:root:similarity completed. 0.6226487159729004\n",
      "INFO:root:Waiting for adjacency to complete...\n",
      "INFO:root:adjacency completed. 0.6236488819122314\n",
      "INFO:root:Waiting for basic to complete...\n",
      "INFO:root:basic completed. 0.6246488094329834\n",
      "  0%|          | 27/39591 [00:31<12:44:48,  1.16s/it]"
     ]
    },
    {
     "name": "stdout",
     "output_type": "stream",
     "text": [
      "deque(['익숙함에 속아 소중함을 잃지 말라는 명언은 주로 연인 관계에서 많이 봐왔다.', '연인이였는데 헤어졌다는 글이나 연애의 참견같은 프로그램에서 거의 대부분의 상황에서 관통하는 주제는 익숙함에 속아 소중함을 잃지 말자였다.', '대부분이 교제한지 오래되고 사랑이 식고 하다보니 연인에게 소홀해지고 점점 변하는 연인의 모습에서 실망하는 구조이다.', '나도 익숙함에 속아서 소중함을 잃었던 적이 있었다.', '지금까지도 함께 사귀는 여자친구는 현재 3년째 사귀는 중인데 고등학교 들어오면서 소홀하게 대했던 적이 있었다.', '고등학교 들어와서 내신관리 한다 적응한다 바쁘단 핑계로 잘 만나주지도 않고 연락도 잘 안했던 적이 있다.', '하지만 그건 핑계였을 뿐이다 언제나 생각해보면 잠깐 짬을 내서 10분 정도라도 얼굴은 볼수도 있고 연락 하는 그 30초가 과연 없었을까?', '하지만 이미 지난일이였다.', '여자친구는 마음이 많이 상했고 헤어질 위기 까지 갔다 나는 엄청 후회하면서 소중함을 회복하고자 내 초심을 생각했다 처음 사귈 때 간이고 쓸개고 다 준다는 마인드 그 생각 하나만으로 다시 잘해주었다.', '물론 이미 상한 마음을 다 완전히 치유해줄순 없지만 바쁠 때 시간내서 얼굴이라도 본다던지 연락을 잘 해준다던지 혹은 바쁘더라도 바쁠거같으니 연락이 뜸할거같다고 미안하다고 미리 말한다던지 이런노력들로 지금은 잘 만나고 있다.', '사람은 소중한 것들을 놓치지 말고 변하지않는 소나무같은 마음으로 대해야 한다.', '그것이 사람이든 물건이든.', '그러지 않으면 소중한 것을 놓치고 말아버린다.', '지금은 나도 변하지 말아야지 라고 생각하지만 내가 나중에 다시 취직을하거나 수능을 볼때쯤되면 우선순위가 바뀔 수 있겠지만 다시 원래대로 돌아오는게 중요하다고 생각한다.'])\n"
     ]
    },
    {
     "name": "stderr",
     "output_type": "stream",
     "text": [
      "INFO:root:Waiting for ttr to complete...\n",
      "INFO:root:ttr completed. 0.6234290599822998\n",
      "INFO:root:Waiting for similarity to complete...\n"
     ]
    },
    {
     "data": {
      "application/vnd.jupyter.widget-view+json": {
       "model_id": "bf1b958541d5472ea5e8598ad1f812ac",
       "version_major": 2,
       "version_minor": 0
      },
      "text/plain": [
       "Batches:   0%|          | 0/1 [00:00<?, ?it/s]"
      ]
     },
     "metadata": {},
     "output_type": "display_data"
    },
    {
     "data": {
      "application/vnd.jupyter.widget-view+json": {
       "model_id": "c8a47bea72374b468bb545cc7d8bb047",
       "version_major": 2,
       "version_minor": 0
      },
      "text/plain": [
       "Batches:   0%|          | 0/1 [00:00<?, ?it/s]"
      ]
     },
     "metadata": {},
     "output_type": "display_data"
    },
    {
     "name": "stderr",
     "output_type": "stream",
     "text": [
      "INFO:root:similarity completed. 0.7214291095733643\n",
      "INFO:root:Waiting for adjacency to complete...\n",
      "INFO:root:adjacency completed. 0.7224297523498535\n",
      "INFO:root:Waiting for basic to complete...\n",
      "INFO:root:basic completed. 0.7234296798706055\n",
      "  0%|          | 28/39591 [00:32<12:46:38,  1.16s/it]"
     ]
    },
    {
     "name": "stdout",
     "output_type": "stream",
     "text": [
      "deque([\"흔히 사람들은 '익숙함에 속아 소중함을 잊지말자'라는 명언을 연애 중 찾아오는 권태기에 사용하곤 한다.\", '그 상황에 대입해 본다면 연인이 오래 만나고 편해지다보면 상대방이 너무 익숙하여 연락도 뜸해지고 귀찮아 질 수 있지만 그러한 익숙함 속에 상대방의 소중함을 잃 지 말라는 의미이다.', '하지만 이 말은 우리 더욱 당연하게 여기는 것들에도 적용할 수 있다.', '예를 들어 우리가 당연한듯이 함께하고있는 부모님이 있다.', '우리에겐 우리의 뜻을 존중해 주고 지원해주시고 생계를 책임져주시는 부모님이 너무나도 당연하지만, 어떤 부모님들은 일을 하지 못하는 상황에 있어 아이들이 직접 생계를 유지해 나가야하는 상황도 있고, 더 한 것은 아동학대처럼 아이를 사랑하지 못할 망정 폭력을 가하는 부모도 있다.', '이러한 부 모가 정상이란 것은 아니지만, 우리를 사랑해주고 도와주시는 부모님에 대한 감사함과 소 중함을 잃어서는 않된다.', '더욱 당연한 예를 들어보자면 우리가 숨쉬는 것이다.', '우리는 흔 히 숨쉬는것에 대해 크게 고민해 본 적이 없을것이다.', '그 이유는 우리에게 숨쉬는 것은 고 민할 이유없이 매우 당연한 것이기 때문이다.', '하지만 어떤 사람들은 심장병이 있어 과호흡 이 일어나는 경우 가슴이 답답하고 숨쉬기어려워지기도 한다.', '숨을 정상적으로 쉴 수 있는 사람이 대부분이지만 이러한 예를 드는 것은 우리에게 주어져 우리가 당연한 듯이 누리고 있는 것들이 결코 모두에게 당연한 것은 아니란 것이다.', '우리는 이에 대해 항상 감사해 (Do not get fooled by something familiar and forget what is priceless.) . .(600 1000 )야하고 소중함을 잃지 않아야 한다.', '앞서 이야기한 연인관계 또는 죽음은 예상할 수 없기 에 우리가 너무나도 당연한듯이 여겨 소중한 말 한마디 못해준 사람이 하루아침에 내가 사는 세상에서 사라지는 것이 우리가 생활하며 가장 쉽게 이 말을 이해할 수 있는 사례일 것 같다.', '우리가 이러한 소중함을 깨우치기 위해선 하루하루 감사한 것들을 적어보는 방 법이 있다.', '하루의 끝에 그날을 마무리하며 그날을 되돌아보며 사소한것 하나까지도 감 사하는 습관은 소중함을 깨우칠 뿐만아니라 나를 좀 더 긍정적으로 만들어줄 수 있다.'])\n"
     ]
    },
    {
     "name": "stderr",
     "output_type": "stream",
     "text": [
      "INFO:root:Waiting for ttr to complete...\n",
      "INFO:root:ttr completed. 0.6588120460510254\n",
      "INFO:root:Waiting for similarity to complete...\n"
     ]
    },
    {
     "data": {
      "application/vnd.jupyter.widget-view+json": {
       "model_id": "a9afa999c9de44f2a16da687f3be8bf6",
       "version_major": 2,
       "version_minor": 0
      },
      "text/plain": [
       "Batches:   0%|          | 0/1 [00:00<?, ?it/s]"
      ]
     },
     "metadata": {},
     "output_type": "display_data"
    },
    {
     "data": {
      "application/vnd.jupyter.widget-view+json": {
       "model_id": "90aca2cb4ef94b6b82af376ed0e867bf",
       "version_major": 2,
       "version_minor": 0
      },
      "text/plain": [
       "Batches:   0%|          | 0/1 [00:00<?, ?it/s]"
      ]
     },
     "metadata": {},
     "output_type": "display_data"
    },
    {
     "name": "stderr",
     "output_type": "stream",
     "text": [
      "INFO:root:similarity completed. 0.8098311424255371\n",
      "INFO:root:Waiting for adjacency to complete...\n",
      "INFO:root:adjacency completed. 0.8108298778533936\n",
      "INFO:root:Waiting for basic to complete...\n",
      "INFO:root:basic completed. 0.8118295669555664\n",
      "  0%|          | 29/39591 [00:33<13:14:38,  1.21s/it]"
     ]
    },
    {
     "name": "stdout",
     "output_type": "stream",
     "text": [
      "deque(['중학교 시절 가까이에 지냈던 친구와 멀어졌던 기억이 있다.', '그 이유는 서로가 이해가 되지 않는다는 부분이었고, 또한 그 문제를 해결하려고 하지 않고 회피하고 싶었던 마음에 차라리 멀어지는 상태를 택했다.', '그렇게 연락을 하지 않아도 나의 일상에는 크게 지장이 없었다.', '하지만 문득문득 그 친구의 빈자리가 느껴졌다.', '함께 갔던 곳을 걸을 때라든가, 같이 나누고 싶은 일상적인 대화라든가 굉장히 사소한 부분에서 친구의 빈자리가 너무 크게 느껴졌던 것이다.', '그동안 늘 지겨울 정도로 함께 시간을 보내고, 밥을 먹고 거리를 걸었던 순간들이 익숙해져서 늘 당연하게 그 자리에 있는 것이라고 생각했나 보다.', '그날들이 그립고 보고 싶었지만 볼 수가 없었다.', '그렇게 하루 이틀 한 달이 지나고 일 년이 지나는 동안 나는 그리워만 하고, 그 친구와 함께 행복했던 날들 싸운 날들을 다시 그리고 그렸다.', '친구가 나오는 꿈도 자주 꿨었다.', '다툰 후 다시는 안 봐도 나는 괜찮다고 자부했는데 그건 사실 큰 오만이었던 것이다.', '다른 친구로는 대체 불가능한 것을 몰랐다.', '익숙한 나의 일상들은 사실 혼자만의 노력이나 힘으로 지냈던 게 아니다.', '분명 사람과 사람 사이의 노력과 사랑만이 나를 따뜻하게 만들었던 것이었다.', '그 사실을 깨닫고 나는 부끄럽고, 어려웠지만 연락을 했고 어색한 재회를 했다.', '친구를 만나서 사소한 대화를 나누고, 거리를 걸으면서 나는 느꼈다.', '역시나 참 행복하고 따뜻해졌다.'])\n"
     ]
    },
    {
     "name": "stderr",
     "output_type": "stream",
     "text": [
      "INFO:root:Waiting for ttr to complete...\n",
      "INFO:root:ttr completed. 0.5160033702850342\n",
      "INFO:root:Waiting for similarity to complete...\n"
     ]
    },
    {
     "data": {
      "application/vnd.jupyter.widget-view+json": {
       "model_id": "bd59305cc5b44f45bac094154abb49d6",
       "version_major": 2,
       "version_minor": 0
      },
      "text/plain": [
       "Batches:   0%|          | 0/1 [00:00<?, ?it/s]"
      ]
     },
     "metadata": {},
     "output_type": "display_data"
    },
    {
     "data": {
      "application/vnd.jupyter.widget-view+json": {
       "model_id": "224e1ab95ded478d9f56450144288200",
       "version_major": 2,
       "version_minor": 0
      },
      "text/plain": [
       "Batches:   0%|          | 0/1 [00:00<?, ?it/s]"
      ]
     },
     "metadata": {},
     "output_type": "display_data"
    },
    {
     "name": "stderr",
     "output_type": "stream",
     "text": [
      "INFO:root:similarity completed. 0.6211929321289062\n",
      "INFO:root:Waiting for adjacency to complete...\n",
      "INFO:root:adjacency completed. 0.6221961975097656\n",
      "INFO:root:Waiting for basic to complete...\n",
      "INFO:root:basic completed. 0.6231930255889893\n",
      "  0%|          | 30/39591 [00:34<12:53:38,  1.17s/it]"
     ]
    },
    {
     "name": "stdout",
     "output_type": "stream",
     "text": [
      "deque(['내게 소중한 것은 나이가 더해질때 마다 가치관이 바뀌면서 달라지던것 같다.', '초등학교를 다닐때만 해도 친구의 수가 내게 가장 중요한 것 이었다.', '하지만 중학교를 들어가고 그건 아무런 부질이 없단것을 깨달았다.', '내가 이걸 깨닫고 난 후 인간관계가 훨씬 더 부드러워졌다.', \"중학교때 이것을 깨닫고 난후 나는 '진짜친구' 가 가장 중요했다.\", '진짜 친구야 말로 평생 가겠구나. 라고 생각했었다.', \"하지만 '진짜친구' 를 만든는것은 무엇보다 어려웠다.\", '그리고 마침내 고등학교까지 왔다.', \"'진짜친구'는 고등학교 올라와서 만난적이 없다.\", '중학교 다닐때만 해도 이 친구들이 내 곁에 있는것이 당연했지만, 사는곳이 다르니 만날 수가 없는것이 매우 아쉽다.', '주말에 컴퓨터 애플리케이션으로 대화를 하며 놀곤 한다.', '하지만 이것만으로는 매우 아쉽다.', '솔직히 코로나만 아니었으면 시내에 나가서 친구들과 원없이 놀았을 것이다.', '함께 운동도 하고 게임도 할 것이다.', '요즘은 시험기간이어서 온라인으로도 만나지 못하고 있다.', '그렇기에 시간을 조금이라도 내서 함께 만나도록 노력하고 있다.', '노트북을 삼 으로써 공간의 제약도 없어졌다.', '잘 된 일이다.', '개인의 노력으로 소중한 것을 회복하긴 매우 힘들다고 생각한다.', \"그러므로 '진짜친구' 를 많이 만들어 둬야힌다.\", '여럿이 있다면 어려움을 헤쳐나가기에 훨씬 수월하다고 생각한다.', \"고등학교를 올라와서 친구들을 만들며 '진짜친구'의 소중함을 다시한번 깨닫는 중이다.\"])\n"
     ]
    },
    {
     "name": "stderr",
     "output_type": "stream",
     "text": [
      "INFO:root:Waiting for ttr to complete...\n",
      "INFO:root:ttr completed. 0.5687034130096436\n",
      "INFO:root:Waiting for similarity to complete...\n"
     ]
    },
    {
     "data": {
      "application/vnd.jupyter.widget-view+json": {
       "model_id": "20621910661e4f50978b85b3152253a0",
       "version_major": 2,
       "version_minor": 0
      },
      "text/plain": [
       "Batches:   0%|          | 0/1 [00:00<?, ?it/s]"
      ]
     },
     "metadata": {},
     "output_type": "display_data"
    },
    {
     "data": {
      "application/vnd.jupyter.widget-view+json": {
       "model_id": "0a9da73852fe419088707260c9df214b",
       "version_major": 2,
       "version_minor": 0
      },
      "text/plain": [
       "Batches:   0%|          | 0/1 [00:00<?, ?it/s]"
      ]
     },
     "metadata": {},
     "output_type": "display_data"
    },
    {
     "name": "stderr",
     "output_type": "stream",
     "text": [
      "INFO:root:similarity completed. 0.8662314414978027\n",
      "INFO:root:Waiting for adjacency to complete...\n",
      "INFO:root:adjacency completed. 0.8672325611114502\n",
      "INFO:root:Waiting for basic to complete...\n",
      "INFO:root:basic completed. 0.8672325611114502\n",
      "  0%|          | 31/39591 [00:36<13:32:22,  1.23s/it]"
     ]
    },
    {
     "name": "stdout",
     "output_type": "stream",
     "text": [
      "deque(['익숙함에 속아 소중함을 잊지말자.', '이 말을 마음 속에 항상 되새기며 살고 있다.', '어쩌면 당연한 말 같지만 그만큼 잊고 살기 참 쉬운 것 같다.', '실제로 이를 절실히 느낀 적이 있다.', '익숙한 사람을 잠시 잃었던 나의 경험은 나를 매우 힘들고 고립되게 만들었다.', '나는 다소 자기중심적인 면이 있었다.', '중학교 3학년 때 제일 친했던 친구와 정말 크게 다툰 이후에 혼자 다니면서 정말 생각을 많이 했다.', '여전히 나만 생각하는 이기적인 마음은 남아있었지만, 새로운 감정이 내 마음 속 깊숙이 자리잡았다.', '후회.', '이것은 내가 그 친구에게 한 행동들이 이기적이었음을 깨닫게 했다.', '그래도 싸운 지 얼마 되지 않았을 때에는 자존심 때문에 내가 옳았다고 생각하며 나의 잘못은 외면했다.', '하지만 그럴수록 마음은 점점 더 텅 비어가는 것 같았다.', '결국 나는 나의 모든 잘못을 인정했다.', '하지만 그 친구에게 가서 사과를 하기에는 너무 미안하고 두려워서 그 친구를 더욱 피하게 되었다.', '그렇게 겨울방학도 끝나고 고등학교에 진학했다.', '그 친구가 없는 방학동안 나는 그 친구가 나한테 너무나 소중한 존재임을 드디어 깨달을 수 있었다.', '같은 고등학교에 오게 된 그 친구를 보았을 때, 나는 그 친구에게 말하고 싶었다, 미안하다고.', '더 늦는다면 이 친구를 정말로 잃을 것만 같았다.', '그 친구가 나를 받아주지 않더라도 사과는 꼭 해야 할 일이라고 생각했다.', '나는 그 친구에게 사과했고, 그 친구는 나의 사과를 받아주었고, 지금은 매우 잘 지내고 있다.', '이 일을 계기로 나는 내가 소중한 만큼 나의 주변 사람들도 똑같이 소중하다는 것을 직접 깨달을 수 있었다.', '다시는 같은 실수를 반복하고 싶지 않기에, 내 주변에 있는 익숙한 사람들을 아끼며 살 것이다.', '그 사람들은 너무나 소중한 사람들임을 이제는 아니까 말이다.'])\n"
     ]
    },
    {
     "name": "stderr",
     "output_type": "stream",
     "text": [
      "INFO:root:Waiting for ttr to complete...\n",
      "INFO:root:ttr completed. 0.556058406829834\n",
      "INFO:root:Waiting for similarity to complete...\n"
     ]
    },
    {
     "data": {
      "application/vnd.jupyter.widget-view+json": {
       "model_id": "d2c21d8a7c7c4243b6d3f912aac9dc5b",
       "version_major": 2,
       "version_minor": 0
      },
      "text/plain": [
       "Batches:   0%|          | 0/1 [00:00<?, ?it/s]"
      ]
     },
     "metadata": {},
     "output_type": "display_data"
    },
    {
     "data": {
      "application/vnd.jupyter.widget-view+json": {
       "model_id": "ef2258a9f58d4ac0aeb79ef1d1bb863d",
       "version_major": 2,
       "version_minor": 0
      },
      "text/plain": [
       "Batches:   0%|          | 0/1 [00:00<?, ?it/s]"
      ]
     },
     "metadata": {},
     "output_type": "display_data"
    },
    {
     "name": "stderr",
     "output_type": "stream",
     "text": [
      "INFO:root:similarity completed. 0.6190555095672607\n",
      "INFO:root:Waiting for adjacency to complete...\n",
      "INFO:root:adjacency completed. 0.6190555095672607\n",
      "INFO:root:Waiting for basic to complete...\n",
      "INFO:root:basic completed. 0.6200587749481201\n",
      "  0%|          | 32/39591 [00:37<13:22:49,  1.22s/it]"
     ]
    },
    {
     "name": "stdout",
     "output_type": "stream",
     "text": [
      "deque(['우리는 배가 고프면 음식을 먹는다.', '한끼를 때울수 있는 음식이 아닌 우리가 먹고싶은 음식, 좋아하는 음식을 먹는다.', '또한 끼니를 배불리 때우고 또다시 먹고싶은게 생각이 나서 디저트를 먹는다.', '즉 우리는 살기위해 먹는게 아닌 먹기위해 사는것이다.', '제 3세계를 보라.', '그들이 먹고싶은 음식을 먹는가?', '살기위해 먹는가?', '나는 이러한 경험이 있다.', '부모님이 2박3일로 여행가기전 나에게 용돈을 주고 갔다.', '용돈은 200이었다.', '나는 부모님이 나가자 배고프지 않지만 혼자 치킨을 먹을 수 있다고 생각을 해서 곧바로 치킨을 시켰다.', '치킨을 다 먹지를 못하고 치킨을 남겨서 보관을 했다.', '그다음 끼니를 때우기위해 치킨 남은걸로 해결했으나 그 다음날 끼니가 문제였다.', '냉장고에는 며칠이 지난 신밥이 있는데 결국 끼니를 때우기 위해 신밥을 먹어야 했다.', '사실 이 신밥으로 된것은 얼마되지 않았다.', '어제 내가 먹기가 싫어 먹지 않았다.', '먹었으면 신밥을 안먹어도 된것이었다.', '하지만 내가 먹고싶은게 바로 생각이나 먹는게 당연하다고 생각이 들어 결국 신밥을 먹지도 못하고 버렸다.', '부모님이 오기전까지 나는 계속 굶었다.', '그렇기에 항상 내가 먹고싶은 음식만 추구할 수가 없다.', '자기가 먹기싫다고 해서 앞에있는 음식을 편식하면 이 음식을 버리거나 먹으면 배탈이 나는 상황이 된다.', '이것이 음식의 소중함이다.', '음식을 먹는게 당연하다고 느낀다.', '허나 먹는게 당연시여겨 음식을 편식하는 것도 당연시 여겨도 된다고 착각하게 된다.', '편식을 하면 안된다고 깨닫는 나는 음식을 편식하지 않고 항상 감사하는 마음으로 먹었다.'])\n"
     ]
    },
    {
     "name": "stderr",
     "output_type": "stream",
     "text": [
      "INFO:root:Waiting for ttr to complete...\n",
      "INFO:root:ttr completed. 0.6037068367004395\n",
      "INFO:root:Waiting for similarity to complete...\n"
     ]
    },
    {
     "data": {
      "application/vnd.jupyter.widget-view+json": {
       "model_id": "3b4e5844354a41afbfbf84129e243d78",
       "version_major": 2,
       "version_minor": 0
      },
      "text/plain": [
       "Batches:   0%|          | 0/1 [00:00<?, ?it/s]"
      ]
     },
     "metadata": {},
     "output_type": "display_data"
    },
    {
     "data": {
      "application/vnd.jupyter.widget-view+json": {
       "model_id": "e1f4c8117e6445eb8e01cd5b2e70312e",
       "version_major": 2,
       "version_minor": 0
      },
      "text/plain": [
       "Batches:   0%|          | 0/1 [00:00<?, ?it/s]"
      ]
     },
     "metadata": {},
     "output_type": "display_data"
    },
    {
     "name": "stderr",
     "output_type": "stream",
     "text": [
      "INFO:root:similarity completed. 0.6587033271789551\n",
      "INFO:root:Waiting for adjacency to complete...\n",
      "INFO:root:adjacency completed. 0.6597042083740234\n",
      "INFO:root:Waiting for basic to complete...\n",
      "INFO:root:basic completed. 0.660703182220459\n",
      "  0%|          | 33/39591 [00:38<13:33:17,  1.23s/it]"
     ]
    },
    {
     "name": "stdout",
     "output_type": "stream",
     "text": [
      "deque(['소중함을 잃어버리는 것은 살아가면서 많이 일어나는데 문제는 나도 모르게 일어난다는 것이다.', '그것을 알려면 익숙하다는 것에 속지 않고 어떤 일이든 그것의 소중함은 잠시라도 생각을 해서 잃어버리지 않아야 한다.', '이렇게 소중함을 잃어버리는 경험은 많이 있는데 그 중 생각이 나는것은 어릴적 휴대폰을 처음 받았을 때 일이다.', '그 당시 휴대폰을 받았을때는 소중히 다뤄야 하겠다는 생각으로 절대 잃어버리거나 깨뜨리지 말아야겠다고 하면서 첫 휴대폰을 사용하였는데 언제부턴가 그 소중함을 잃어버리게 되었다.', '그때는 몰랐지만 지금 와서 생각을 해보니 소중함을 잃었다는 것을 이제 알게되었고 그때의 익숙함 때문에 소중함을 잃어버린 것 같다.', '이게 끝이 아니라 첫 휴대폰을 사용하고 휴대폰을 바꾸고 나서도 이런 일이 일어났다.', '새로운 휴대폰으로 바꿨을 때도 처음엔 소중히 다뤄야 하겠다는 생각하고 또 시간이 지나 익숙함으로 소중함을 잃어버리게되었다.', '이것이 아직까지도 반복하면서 일어나는 것으로 보아 익숙함으로 소중함을 잃는 것은 고칠 수 없는 습관인 것 같다.', '이렇게 잃어버린 소중함을 회복하고자 한 적은 많이 없었던 것 같다.', '잃어버린 소중함은 생각해보는 것이 아니면 모르게 지나가기 때문에 이런 경험은 많이 없는 것 같다.', '회복하고자 한 적은 그래도 한 번 정도는 있는 것 같다.', '그 한 번은 익숙함으로 잃어버렸으니 그 익숙함을 없애려고 해 보았지만 그것은 쉽지 않았다.', '익숙함을 없앤다고 없애 보았지만 그것은 얼마 못가고 실패하고 말았고 소중함을 회복하고자 다른 방법으로 그 소중함에 대해 생각을 해서 회복은 한 것같지만 큰 영향은 못끼친 것 같다.', '사람은 익숙함을 없애지 못해서 소중함을 계속 잃어버릴것 같다.', '그래도 이렇게 소중함을 잃어버리지 않으려고 노력을 해보면 언젠가 큰 도움이 될 것 같기 때문에 계속은 아니여도 한 번씩은 꼭 해 보면 좋을 것 같다.'])\n"
     ]
    },
    {
     "name": "stderr",
     "output_type": "stream",
     "text": [
      "INFO:root:Waiting for ttr to complete...\n",
      "INFO:root:ttr completed. 0.5610005855560303\n",
      "INFO:root:Waiting for similarity to complete...\n"
     ]
    },
    {
     "data": {
      "application/vnd.jupyter.widget-view+json": {
       "model_id": "6f332543493e4915b2913fb6b46b285a",
       "version_major": 2,
       "version_minor": 0
      },
      "text/plain": [
       "Batches:   0%|          | 0/1 [00:00<?, ?it/s]"
      ]
     },
     "metadata": {},
     "output_type": "display_data"
    },
    {
     "data": {
      "application/vnd.jupyter.widget-view+json": {
       "model_id": "0eb0ad01fe8b4c35b05e0984eaf62af7",
       "version_major": 2,
       "version_minor": 0
      },
      "text/plain": [
       "Batches:   0%|          | 0/1 [00:00<?, ?it/s]"
      ]
     },
     "metadata": {},
     "output_type": "display_data"
    },
    {
     "name": "stderr",
     "output_type": "stream",
     "text": [
      "INFO:root:similarity completed. 0.6559977531433105\n",
      "INFO:root:Waiting for adjacency to complete...\n",
      "INFO:root:adjacency completed. 0.6569974422454834\n",
      "INFO:root:Waiting for basic to complete...\n",
      "INFO:root:basic completed. 0.6579971313476562\n",
      "  0%|          | 34/39591 [00:39<13:03:34,  1.19s/it]"
     ]
    },
    {
     "name": "stdout",
     "output_type": "stream",
     "text": [
      "deque(['내가 걷고 뛰고 말하고 하는 것에 익숙해져 내 다리와 팔이린 소중함을 잠시 잃어 봤다.', '나는 걷고 뛰고 던지고 하는 것이 당연한 건줄 알았고 내겐 너무나도 익숙한 것이었다.', '하지만 친구들과 축구하고 농구하고 운동하고 공부하며 손가락을 부러뜨린 적이 있고 무릎인데가 끊어져서 입원한 적도 있다.', '그때 나는 생각했다.', '다리와 팔의 소중함을 다리와 팔이 없으니 정말 움직이는데 너무 불편하고 내가 오른손잡인데 오른손을 다쳐서 밥도 제대로 못 먹고 옷도 제대로 못 입고 정말 팔이 불편하거나 다리가 불편한 것이 아닌 것만 해도 정말 몸이 소중하구나를 알게 되었다.', '진짜 몸 중 한 곳을 다치니 내가 하고 싶은 운동도 못하고 정말 제한된 것이 많았다.', '그래서 불편한 것과 소중함을 깨달았고 이젠 이 소중함을 잃지 않기 위해서 항상 무엇을 하더라도 조심히 하고 몸을 사리게 되고 소중함을 되찾기 위해 다친곳이 다 나은 후 열심히 재활운동을 했다.', '나는 다치고 나서야 몸이 익숙한것과 당연한것이 아니라 소중한 것이라 깨달았다.', '앞으로도 내 몸이란 소중함을 잃지 않기 위해 열심히 할것이다.'])\n"
     ]
    },
    {
     "name": "stderr",
     "output_type": "stream",
     "text": [
      "INFO:root:Waiting for ttr to complete...\n",
      "INFO:root:ttr completed. 0.42837047576904297\n",
      "INFO:root:Waiting for similarity to complete...\n"
     ]
    },
    {
     "data": {
      "application/vnd.jupyter.widget-view+json": {
       "model_id": "040cf350d853400ebb3a985230888818",
       "version_major": 2,
       "version_minor": 0
      },
      "text/plain": [
       "Batches:   0%|          | 0/1 [00:00<?, ?it/s]"
      ]
     },
     "metadata": {},
     "output_type": "display_data"
    },
    {
     "data": {
      "application/vnd.jupyter.widget-view+json": {
       "model_id": "770a10475f9843b9b52b5855cb30553f",
       "version_major": 2,
       "version_minor": 0
      },
      "text/plain": [
       "Batches:   0%|          | 0/1 [00:00<?, ?it/s]"
      ]
     },
     "metadata": {},
     "output_type": "display_data"
    },
    {
     "name": "stderr",
     "output_type": "stream",
     "text": [
      "INFO:root:similarity completed. 0.480426549911499\n",
      "INFO:root:Waiting for adjacency to complete...\n",
      "INFO:root:adjacency completed. 0.4814267158508301\n",
      "INFO:root:Waiting for basic to complete...\n",
      "INFO:root:basic completed. 0.4814267158508301\n",
      "  0%|          | 35/39591 [00:40<11:41:18,  1.06s/it]"
     ]
    },
    {
     "name": "stdout",
     "output_type": "stream",
     "text": [
      "deque(['2년 전 어느 날 학교 점심시간이었다.', '평소 때와 같이 난 친구들과 열심히 축구를 하고 있었다.', '축구를 끝내고 다 같이 모여서 음료수를 마시고 있었는데 한 친구가 음료수를 조금만 달라고 하였다.', '그 친구는 나와 많이 아니 가장 친한 친구였다.', '난 그 친구를 너무 편하게 생각한 나머지 그 친구를 배려하지 않고 음료수를 주지 않았다.', '난 그냥 기분이 안좋구나라고 생각하고 별 문제없이 넘겼다.', '그때 이후로 그 친구가 나의 말을 조금씩 무시하더니 결국은 나를 멀리하기 시작했다.', '시간이 조금 지난 뒤 집에 돌아와 자기 전에 왜 그때 그 친구가 그런 선택을 하였는지 생각했다.', '난 그제서야 깨달았다.', '친하면 더욱 배려해야 되는데 친하다고 너무 무례하게 대한 것이었다.', '남들은 사소한 것이라고 생각할 수도 있지만 사람마다 받아들이는 것이 다르니 그 친구가 나를 싫어하게 된 것도 이해가 갔다.', '그날 이후로 난 그 친구에게 가서 진지하게 사과를 하며 그 친구와 풀려고 노력을 하였다.', '너무 늦게 간 것인지 그 친구의 마음은 많이 떠나있었다.', '그래도 포기하지 않고 그 친구와 사이를 풀려고 노력했다.', '결국 그 친구도 나의 진심을 알게 되었고 다시 친한 친구 사이로 돌아왔다.', '그 일 이후로 난 깨달았다.', '옆에 항상 있다고 함부로 대하면 안 되고 옆에 항상 있어주니 더 소중한 존재이니 남들보다 더 배려 해 주어야 된다는 것을.', '지금 생각해 봐도 그 친구는 나에게 많은 것을 알려주고 나에게는 소중한 존재인데 내가 너무 무심하게 대했던 것 같다.', \"그러니 옆에 있는 사람이 편하게 느껴진다고 '아 얘는 괜찮겠지'라는 생각을 가지지 말자.\", '옆에 있는 사람일수록 더욱 소중한 사람이니 더 아껴주고 배려해 주자.'])\n"
     ]
    },
    {
     "name": "stderr",
     "output_type": "stream",
     "text": [
      "INFO:root:Waiting for ttr to complete...\n",
      "INFO:root:ttr completed. 0.5933396816253662\n",
      "INFO:root:Waiting for similarity to complete...\n"
     ]
    },
    {
     "data": {
      "application/vnd.jupyter.widget-view+json": {
       "model_id": "b0841bad27ea4ea69fc2f998aa7f9502",
       "version_major": 2,
       "version_minor": 0
      },
      "text/plain": [
       "Batches:   0%|          | 0/1 [00:00<?, ?it/s]"
      ]
     },
     "metadata": {},
     "output_type": "display_data"
    },
    {
     "data": {
      "application/vnd.jupyter.widget-view+json": {
       "model_id": "26822e092a3d432f8d7e1d0ebfbd9daf",
       "version_major": 2,
       "version_minor": 0
      },
      "text/plain": [
       "Batches:   0%|          | 0/1 [00:00<?, ?it/s]"
      ]
     },
     "metadata": {},
     "output_type": "display_data"
    },
    {
     "name": "stderr",
     "output_type": "stream",
     "text": [
      "INFO:root:similarity completed. 0.7093400955200195\n",
      "INFO:root:Waiting for adjacency to complete...\n",
      "INFO:root:adjacency completed. 0.7103400230407715\n",
      "INFO:root:Waiting for basic to complete...\n",
      "INFO:root:basic completed. 0.7113397121429443\n",
      "  0%|          | 36/39591 [00:41<12:15:54,  1.12s/it]"
     ]
    },
    {
     "name": "stdout",
     "output_type": "stream",
     "text": [
      "deque(['저에게는 4살차이가 나는 형이 한명 있습니다.', '제가 초등학교 저학년일 때는 같은 아파트에 사는 친구들이 한 놀이터에 모여 놀았습니다.', '저는 종이딱지치기,유희왕카드 놀이,술래잡기,망고,경찰과 도둑등 어떤 놀이를 할 때든 형 옆에 붙어있었습니다.', '놀때 이외에도 집에서 그때 유행하던 크레이지아케이드라는 게임도 같이하고 둘 다 바둑을 배워서 바둑도 같이 두고 했었습니다.', '하지만 점점 나이가 들고 형이 중학생이 되었을 때 부터 점점 멀어진 것 같습니다.', '서로 말도 거의 하지않고 서로에게 관심도 없었습니다.', '둘다 사춘기가 오면서 같은 집에 사는 사람정도로만 인식했던 것 같습니다.', '저는 4살차이가 적어보였고 체감도 잘 되지 않았는데 제가 중학교를 입학 했을 때 형은 벌써 고등학교2학년이 되어있었습니다.', '그리고 지금 제가 고등학교1학년이 되었는데 형은 곧 군대를 갑니다.', '원래도 대화를 잘 안했는데 이제 거의 말 할 시간이 없습니다.', '저는 어릴적에 엄청 소심해서 친구들에게 말도 잘 못 걸고 했지만 형이 있었기에 친구들과 대화도 하고 놀았던 것 같습니다.', '어릴 때 친했던것이 익숙해지고 어색함으로변해 그 어색함마저 익숙해진것 같습니다.', '그렇게 소중하고 늘 함께하던 형이랑 어색하게 지내고 있는것이 기분이 별로 좋지 않습니다.', '그래서 제가 요즘 먼저 말도 걸고 연락도 하며 다시 친해지기 위해 노력하고 있습니다.'])\n"
     ]
    },
    {
     "name": "stderr",
     "output_type": "stream",
     "text": [
      "INFO:root:Waiting for ttr to complete...\n",
      "INFO:root:ttr completed. 0.5711278915405273\n",
      "INFO:root:Waiting for similarity to complete...\n"
     ]
    },
    {
     "data": {
      "application/vnd.jupyter.widget-view+json": {
       "model_id": "62df2ee94bb84016a17321a933efb110",
       "version_major": 2,
       "version_minor": 0
      },
      "text/plain": [
       "Batches:   0%|          | 0/1 [00:00<?, ?it/s]"
      ]
     },
     "metadata": {},
     "output_type": "display_data"
    },
    {
     "data": {
      "application/vnd.jupyter.widget-view+json": {
       "model_id": "0443f1d2f6fa478baed50003af76f249",
       "version_major": 2,
       "version_minor": 0
      },
      "text/plain": [
       "Batches:   0%|          | 0/1 [00:00<?, ?it/s]"
      ]
     },
     "metadata": {},
     "output_type": "display_data"
    },
    {
     "name": "stderr",
     "output_type": "stream",
     "text": [
      "INFO:root:similarity completed. 0.6581284999847412\n",
      "INFO:root:Waiting for adjacency to complete...\n",
      "INFO:root:adjacency completed. 0.6601285934448242\n",
      "INFO:root:Waiting for basic to complete...\n",
      "INFO:root:basic completed. 0.6611282825469971\n",
      "  0%|          | 37/39591 [00:42<11:55:17,  1.09s/it]"
     ]
    },
    {
     "name": "stdout",
     "output_type": "stream",
     "text": [
      "deque(['\"익숙함에 속아 소중함을 잊지말자\" 는 명언을 보고 내가 과거에 겪었던 일들이 새록새록 기억이 났다.', '내가 익숙하게 생각한 많은 것들이 비로소 내가 그 많은 것들을 잃고 나서야 소중함을 깨닫게 되었는데 그 많은 것들중 하나가 바로 친구이다.', '평소 나랑 함께 웃고 떠들고 놀던 친구가 너무나 익숙한 나머지 친구의 소중함을 모르고 친구에게 심한 장난을 치거나 험한 말을 하여 친구란 존재를 잃었을때 비로소 나는 친구의 소중함을 느낄수 있었다.', '그래서 나는 다시 친구와의 관계를 회복하기 위해 항상 내곁에 동반하고 살아가는 친구라는 존재를 평범하고 당연하게 여기지 않고 살아가려고 마음을 먹었다.', '그리고 이번 중간고사 공부를 하면서 학교 국어시간에 \"결혼\"이라는 희곡을 배우며 주인공이 우리 모두가 가지고 있는것은 다 빌려온것이며 빌린동안에는 소중히 아껴야한다는 주제의식을 강조하며 소유의 본질을 말하였는데 이것을 보고 내가 느끼는 익숙하고도 평범한것들을 소중하게 생각해야 한다고 생각이 들었다.', '그리고 또 국어시간에 \"두근 두근 내인생\" 에 관련해서 수업을 들으면서 주인공 아름이는 우리가 평범하게 느끼는 것들을 가장 소중한것이라고 말하였는데 이를 보고 아름이 처럼 우리가 평범하게 느끼는 모든것이 누군가에게는 간절함이 될수도 있다는 생각에 이때까지 평범한 일상을 익숙하게 생각한 나를 되돌아보며 성찰할수 있는 기회가 되었다.', '마지막으로 내가 익숙하게 생각해왔던 것은 바로 가족의 사랑이였다.', '나를 아끼시고 키우시며 많은 사랑을 나에게 주셨는데 나는 그런 가족의 사랑을 당연시 여기고 가끔씩 부모님에게 짜증을 낸 나 자신이 정말 한심하게 느껴졌고 가족에게 미안한 마음이 들었다.', '어른들이 부모님이 살아계실때 효도하고 잘하라고 하시던 말씀이 괜한 말이 아니라는것이 생각이 났다.', '따라서 앞으로 부모님께 효도를 하고 부모님의 말씀을 잘들어야겠다고 생각이 들었다.', '이 활동을 통해서 나의 인생에서 \"익숙함에 속아 소중함을 잊지말자\"라는 명언을 오래 기억하며 실천을 해야겠다.', '그리고 부모님이니깐 당연히 해주시겠지, 가족이니깐 당연히 다 이해해주겠지, 친구니깐 당연히 도와주겠지 라는 등 세상에서 당연한 것은 없다는것을 결코 잊어서는 안되겠다고 생각한다.'])\n"
     ]
    },
    {
     "name": "stderr",
     "output_type": "stream",
     "text": [
      "INFO:root:Waiting for ttr to complete...\n",
      "INFO:root:ttr completed. 0.6589975357055664\n",
      "INFO:root:Waiting for similarity to complete...\n"
     ]
    },
    {
     "data": {
      "application/vnd.jupyter.widget-view+json": {
       "model_id": "d0b6c5e48ca0431d8c14093b6c931ddf",
       "version_major": 2,
       "version_minor": 0
      },
      "text/plain": [
       "Batches:   0%|          | 0/1 [00:00<?, ?it/s]"
      ]
     },
     "metadata": {},
     "output_type": "display_data"
    },
    {
     "data": {
      "application/vnd.jupyter.widget-view+json": {
       "model_id": "55d1a182e05e425eb8c83635a1e916eb",
       "version_major": 2,
       "version_minor": 0
      },
      "text/plain": [
       "Batches:   0%|          | 0/1 [00:00<?, ?it/s]"
      ]
     },
     "metadata": {},
     "output_type": "display_data"
    },
    {
     "name": "stderr",
     "output_type": "stream",
     "text": [
      "INFO:root:similarity completed. 0.8759975433349609\n",
      "INFO:root:Waiting for adjacency to complete...\n",
      "INFO:root:adjacency completed. 0.876997709274292\n",
      "INFO:root:Waiting for basic to complete...\n",
      "INFO:root:basic completed. 0.8779981136322021\n",
      "  0%|          | 38/39591 [00:44<12:50:10,  1.17s/it]"
     ]
    },
    {
     "name": "stdout",
     "output_type": "stream",
     "text": [
      "deque(['소중함이란 무엇일까?', '어떻게 생각하느냐에 따라 달라질것이다.', '나는 지금 내가 하고 있는 모든것이 소중함이라고 생각하고 있다.', '누군가는 자신의 물건이 소중하다고 느끼고 어떤 사람은 자신이 중요하다고 생각할것이다.', '나도 이렇게 생각하지만 우리가 하고 있는 모든것이 소중하다고 말할수 있고 우리가 어떤것을 할 수 있다는 것을 우리가 살아있기 때문에 모든것을 할 수가 있다.', '즉 우리의 생명이 소중하다고도 말할 수 있다.', '우리의 생명을 가장 소중하게 여겨야한다.', '생명은 우리의 부모님이 주신것이고 부모님이 가장 소중하다고 할 수 있다.', '우리는 이런 소중함을 모르고 물질만을 소중하게 여기는 경우가 많다.', '우리는 물질적으로만 소중하게 여기지 말고 모든것에 대하여 소중하게 여기자 지금 생각하니 부모님과의 갈등도 내가 소중하게 생각을 안했던거 같다.', '앞으로는 소중함의 의미를 다시 깨닫고 부모님을 항상 가장 소중한것으로 여기고 말을 잘 듣고 생활해야겠다고 느꼈다.', '앞으로는 부모님에 대해서 소중하게 여기는것을 회복을 하기 위해서 열심히 노력을 해야겠다.', '그리고 다른 소중함이라도 익숙함때문에 소중함을 잃지 않기 위해서 열심히 노력을 하며 살아가야겠다고 느꼈다.', '이 글을 쓰면서 소중함의 의미에 대해서 다시 느끼게 되었다.'])\n"
     ]
    },
    {
     "name": "stderr",
     "output_type": "stream",
     "text": [
      "INFO:root:Waiting for ttr to complete...\n",
      "INFO:root:ttr completed. 0.4460005760192871\n",
      "INFO:root:Waiting for similarity to complete...\n"
     ]
    },
    {
     "data": {
      "application/vnd.jupyter.widget-view+json": {
       "model_id": "36d951bda1094741a91e0bfccbe295fc",
       "version_major": 2,
       "version_minor": 0
      },
      "text/plain": [
       "Batches:   0%|          | 0/1 [00:00<?, ?it/s]"
      ]
     },
     "metadata": {},
     "output_type": "display_data"
    },
    {
     "data": {
      "application/vnd.jupyter.widget-view+json": {
       "model_id": "fcea487144df49c39022e788e56d2262",
       "version_major": 2,
       "version_minor": 0
      },
      "text/plain": [
       "Batches:   0%|          | 0/1 [00:00<?, ?it/s]"
      ]
     },
     "metadata": {},
     "output_type": "display_data"
    },
    {
     "name": "stderr",
     "output_type": "stream",
     "text": [
      "INFO:root:similarity completed. 0.5350005626678467\n",
      "INFO:root:Waiting for adjacency to complete...\n",
      "INFO:root:adjacency completed. 0.5370008945465088\n",
      "INFO:root:Waiting for basic to complete...\n",
      "INFO:root:basic completed. 0.5380022525787354\n",
      "  0%|          | 39/39591 [00:44<12:02:58,  1.10s/it]"
     ]
    },
    {
     "name": "stdout",
     "output_type": "stream",
     "text": [
      "deque(['나는 어렸을 때부터 친구라는게 당연한 존재인 줄 알았고, 그 일이 있기 전까지는 그렇게 믿었고 친구를 소중하게 대하지 못하였다.', '최근에 들어서야 \"익숙함에 속아 소중함을 잊지말자\" 라는 명언이 내 마음속 한 군데에 자리 잡아 있다.', '중3 때였다.', '나는 어느날처럼 친구랑 장난도 치고 놀면서 하루를 보냈다.', '다른 친구 앞에서 그 친구를 놀리기도 하고 심하게 장난친 것 같기도 했지만 평소에도 있던 일이라 나는 대수롭지 않게 넘겼는데 그 날 밤, 친구는 나에게 진지하게 대화를 시도했고, 나는 모든게 장난이라고 말 했지만 그 친구는 나에게 친구가 가장 소중하면서 잃기 쉬운 존재라고 말하였다.', '나는 그 말에 당황했고, 그 친구에게 바로 미안하다고 사과하였다.', '나는 익숙한 하루하루를 친구들과 보내면서 사이 좋게 지낸줄 알았지만 날이 가면 갈수록 친구라는 소중함을 잊어 가고 있었던 것이다.', '나는 진심으로 내가 잘못했던 것들을 되돌아보며 그 친구에게 진심담긴 사과와 내 마음을 전했다.', \"그 친구는 나에게 '익숙함에 속아 소중함을 잊지 말자' 라고 말하며 나를 이해해주었다.\", '만약 그 친구가 나에게 그렇게 말 해주지 않았더라면 나는 아직도 친구들과 심한 장난을 치면서 서로를 헐뜯고 까내리면서 소중한 존재인 친구들을 잊어 갔을 것이다.', '하지만 그 친구가 나에게 진심으로 충고 해주었기 때문에 나는 나쁜 습관을 고치게 되었고 지금까지도 소중한 존재인 나의 친구들을 잘 대하고 선을 지켜가며 사이 좋게 지내고 있다.', '\"익숙함에 속아 소중함을 잊지말자\"', '나에게도 이런 일이 올줄은 몰랐다.', '소중한 것은 정말 얻기 힘들고 지켜내기 힘든게 아니라 우리 주변의 사소한 모든 것들이 소중한 것이라고 새삼 깨닫게 되었다.', '하루하루 익숙한 나날이 반복되면 반복될수록 우리는 소중함을 잃기 마련이지만, 우리가 조금 더 노력해서 소중함을 지켜내는 것이 우리가 이뤄야 할 과제가 아닐까 싶다.', '내가 말하고 싶은 것은 소중함은 얻기 힘든것이 소중함이 아니라 우리 주변의 모든 사소한 것들이 소중함이 될 수 있다는 것이다.', '우리는 절대 이 소중함을 잊어선 안된다'])\n"
     ]
    },
    {
     "name": "stderr",
     "output_type": "stream",
     "text": [
      "INFO:root:Waiting for ttr to complete...\n",
      "INFO:root:ttr completed. 0.6190001964569092\n",
      "INFO:root:Waiting for similarity to complete...\n"
     ]
    },
    {
     "data": {
      "application/vnd.jupyter.widget-view+json": {
       "model_id": "9ba5ba030fe9460ca5292733fd36b2de",
       "version_major": 2,
       "version_minor": 0
      },
      "text/plain": [
       "Batches:   0%|          | 0/1 [00:00<?, ?it/s]"
      ]
     },
     "metadata": {},
     "output_type": "display_data"
    },
    {
     "data": {
      "application/vnd.jupyter.widget-view+json": {
       "model_id": "6eb4ed098c8343bca7bec619ce49218d",
       "version_major": 2,
       "version_minor": 0
      },
      "text/plain": [
       "Batches:   0%|          | 0/1 [00:00<?, ?it/s]"
      ]
     },
     "metadata": {},
     "output_type": "display_data"
    },
    {
     "name": "stderr",
     "output_type": "stream",
     "text": [
      "INFO:root:similarity completed. 0.7425780296325684\n",
      "INFO:root:Waiting for adjacency to complete...\n",
      "INFO:root:adjacency completed. 0.7445781230926514\n",
      "INFO:root:Waiting for basic to complete...\n",
      "INFO:root:basic completed. 0.7445781230926514\n",
      "  0%|          | 40/39591 [00:46<12:53:47,  1.17s/it]"
     ]
    },
    {
     "name": "stdout",
     "output_type": "stream",
     "text": [
      "deque(['어릴 때부터 어머니께 많이 들었던 말중에 익숙함에 속아 소중함을 잃지 말자는 말을 참 많이 들었다.', '아무리 많이 들은 말이지만 소중한것을 잃고 후회한적이 한 두번이 아니다.', '그럼 내가 이때까지 익숙함에 속아 소중함을 잃고 후회했던 경험을 여러가지 말해보겠다.', '첫번째는 친구의 소중함이다.', '내가 초등학교 시절에 엄청 친했던 친구가 한명 있었다.', '4살때부터 친했던 친구라 엄청 오래된 친구였다.', '그 친구는 늘 내 옆에 있었고 나도 그 친구 옆에 늘 있었다.', '너무 오래된 친구라서 소중함을 몰랐던걸까?', '초 3때까지만 해도 친했던 우리가 초 4가 되고 다른반이 되면서 내가 다른 친구랑 친해지게 되면서 그 친구를 밀어내게 되었다.', '그 친구는 내가 밀어냈음에도 계속 내 옆에서 붙어다녔고 그게 어릴 때는 너무 싫었던것 같았다.', '그래서 그 친구에게 라는 심한말을 하였고 그 친구는 상처를 받았는지 그 이후로 내 옆에 붙어다니지 않게 되었다.', '결국 5학년때 그 친구는 초량으로 전학을 갔고 그 때서야 내 진정한 친구는 4살때부터 친구가 된 그 아이였다는 것을 한명의 소중한 친구를 잃고 나서야 후회하였다.', '그 소중함을 얻기 위해서 그 친구의 연락처를 얻기 위해 수소문도 해보았고 그 친구가 다니는 학교를 찾아봤지만 찾을 수 없었다.', '아직도 그 친구 생각을 하면 미안해진다.', '두번째는 물건의 소중함이다.', '어린 시절 당시 우리의 최고의 장난감은 팽이였다.', '만화에 나오는 주인공을 따라하면서 했던 팽이 놀이만큼 재밌었던 것 없었던 것 같다.', '나 역시도 팽이 수집가처럼 생일날 크리스마스 날 같이 기념일에 팽이를 사서 계속 수집했었다.', '당시 나는 친구가 많이 없었던터라 집에서 팽이놀이를 혼자 하거나 동생이랑 같이했었는데 그 때마다 다 놀고나면 꼭 치우지 않고 그대로 방치해놓았다.', '참다참다 못하신 어머니께서 화가 나셔서 우리가 모았던 모든 팽이들을 다 버려버리셨다.', '이때의 기분은 세상 모든것을 다 잃은 기분마냥 정말 슬펐다.', '다시 팽이를 얻기위해 제대로 치우겠다고 잘못했다고 싹싹 빌었지만 어머니의 결정은 번복되지 않았다.', '하지만 그때 얻었던 교훈이 아직까지도 남아있어서 늘 썼던 물건은 제자리에 갖다놓는 습관을 지니게 되었다.', '이렇게 익숙함에 속아 소중함을 잃었던 경험 몇개를 소개해보았다.', '친구의 소중함 물건의 소중함이 내 17년 인생에서 소중함을 깨닫게 해주었던 경험이었던 것 같다.', '소중함을 잃게 되면 다시 회복할려고 해도 정말 힘들고 그 회복하고자 하는 노력도 정말 힘들었던 것 같다.', '그러니까 소중함을 잃고나서 회복할려 하지말고 처음부터 원래 있던것에 잘하는것이 좋은 것 같다.', '이상이다.', '부실하지만 좋게 봐주면 좋을 것 같다.'])\n"
     ]
    },
    {
     "name": "stderr",
     "output_type": "stream",
     "text": [
      "INFO:root:Waiting for ttr to complete...\n",
      "INFO:root:ttr completed. 0.6960275173187256\n",
      "INFO:root:Waiting for similarity to complete...\n"
     ]
    },
    {
     "data": {
      "application/vnd.jupyter.widget-view+json": {
       "model_id": "6a9c5daa22c74eee96475e6951060535",
       "version_major": 2,
       "version_minor": 0
      },
      "text/plain": [
       "Batches:   0%|          | 0/1 [00:00<?, ?it/s]"
      ]
     },
     "metadata": {},
     "output_type": "display_data"
    },
    {
     "data": {
      "application/vnd.jupyter.widget-view+json": {
       "model_id": "6d70554cc2a14e7e9efdfc41ecee47bc",
       "version_major": 2,
       "version_minor": 0
      },
      "text/plain": [
       "Batches:   0%|          | 0/1 [00:00<?, ?it/s]"
      ]
     },
     "metadata": {},
     "output_type": "display_data"
    },
    {
     "name": "stderr",
     "output_type": "stream",
     "text": [
      "INFO:root:similarity completed. 0.8420469760894775\n",
      "INFO:root:Waiting for adjacency to complete...\n",
      "INFO:root:adjacency completed. 0.8430483341217041\n",
      "INFO:root:Waiting for basic to complete...\n",
      "INFO:root:basic completed. 0.844048023223877\n",
      "  0%|          | 41/39591 [00:47<14:29:00,  1.32s/it]"
     ]
    },
    {
     "name": "stdout",
     "output_type": "stream",
     "text": [
      "deque(['익숙함에 속아 소중함을 잊지말자.', '이 말을 우리는 살면서 한번쯤은 아니 많이 들어봤을 것이다.', '이 뜻은 말 그대로 계속되는 익숙한것을 그것이 소중한지 모르고 잊어버린다는 것이다.', '우리는 이러한 문구와 같은 상황을 매일 겪을 수 있다.', '바로 부모님에게서 말이다.', '매일 밥을 차려주시거나 아침에 깨워주시고, 매일마다 우리를 챙겨주시는 분이 바로 부모님이다.', '이러한 친절 혹은 배려에 익숙해져 당연하다고 생각되는 사람들이 굉장히 많을것이다.', '다르게 생각을 해보자.', '우리가 부모님이 됐을때 자식들을 그렇게 챙기는것이 쉽겠는가?', '당연히 힘들것이다.', '낳아주시고 키워주시는 부모님의 행동들에 당연시 여기는것은 후회 할 행동이다.', '세상에 가족말고 더 소중한것이 있겠는가.', '서로 의지하고 협력하며 살아가는것이 가족일지언정 그러한 소중함을 항상 챙겨주는 익숙함에 속아 잃지 말길 바란다.', '잠시 내 이야기를 해보자면, 나는 약 500일간 사귄 여자친구가 있었다.', '나보다 한살 더 많았는데 우리는 남 부러울것 없는 그런 한 쌍의 연인이었다.', '내가 이 이야기를 시작하려는 이유는 그 누나는 약간 공부가 아닌 다른길을 선택하여 기술같은 것을 배우는 분이었고 나는 공부를 해야되는 사람이었다.', '그래서 시험기간이거나 공부를 해야할 때 연락이 안 될 수 있는 상황이 빈번히 발생하였다.', '매일 나를 4시간이며 5시간이며 학원을 마칠때까지 기다려주던 누나의 친절함과 배려를 나는 여자친구라는 틀에 갇혀 당연시 생각했었다.', '하지만 지금 생각해보면 그것은 누군가에게 매우 어려울 수 있는 일이며 더 나아가보면 여자친구라는 틀에 갇혀 기다려줘야 한다는 생각은 매우 어리석고 여자친구이기에 연락을 더 해줘야 한다는 것을 느꼈다.', '다시 내 이야기로 돌아가 우리는 초반기에 풋풋하고 서로를 매우 사랑하는 연인이었다.', '하지만 나의 학원 그리고 시험등과 그 누나의 해야할 것이 잘 맞지 않아 우리는 가면 갈수록 서로의 애정이 조금씩 사그라들고 있었다.', '어느날은 그 누나가 날 항상 기다려주는것은 자신도 조금 서운하고 조금 짜증이 난다고 나에게 말하였다.', '나는 그때당시 왜 그런지 몰랐고 서로 그냥 맞춰가야한다는 생각밖에 없었다.', '우리는 결국 서로의 길을 생각하며 헤어졌고 나는 한동한 많은 후회를 했었다.', '내가 이 이야기를 한 이유는 그 누나의 항상 기다려주는것 즉 배려를 항상 당연시 생각해 익숙하게 여겨져 그때당시 내가 엄청 소중하게 생각했던 누나를 잃어버렸다는 것을 말하고 싶었기 때문이다.', '당신은 혹시 익숙함에 속아 소중함을 잊어본적이 있는가?', '우리 주위에는 당연한것은 아니지만 우리가 당연하다고 생각되는것이 매우 많다.', \"그런것을 '익숙함' 혹은 '당연한 것' 이라는 말도 안 되는 틀에 갇혀 살지않고 항상 감사한 마음과 소중하게 여겨 나중에 사라지고 후회할 짓을 만들지 않았으면 좋겠다.\"])\n"
     ]
    },
    {
     "name": "stderr",
     "output_type": "stream",
     "text": [
      "INFO:root:Waiting for ttr to complete...\n",
      "INFO:root:ttr completed. 0.6468913555145264\n",
      "INFO:root:Waiting for similarity to complete...\n"
     ]
    },
    {
     "data": {
      "application/vnd.jupyter.widget-view+json": {
       "model_id": "da6ac5734fec4f949940a3c5b430b667",
       "version_major": 2,
       "version_minor": 0
      },
      "text/plain": [
       "Batches:   0%|          | 0/1 [00:00<?, ?it/s]"
      ]
     },
     "metadata": {},
     "output_type": "display_data"
    },
    {
     "data": {
      "application/vnd.jupyter.widget-view+json": {
       "model_id": "98ab8a5c6d904158b7f6801ab4c4ef95",
       "version_major": 2,
       "version_minor": 0
      },
      "text/plain": [
       "Batches:   0%|          | 0/1 [00:00<?, ?it/s]"
      ]
     },
     "metadata": {},
     "output_type": "display_data"
    },
    {
     "name": "stderr",
     "output_type": "stream",
     "text": [
      "INFO:root:similarity completed. 0.9818880558013916\n",
      "INFO:root:Waiting for adjacency to complete...\n",
      "INFO:root:adjacency completed. 0.9828882217407227\n",
      "INFO:root:Waiting for basic to complete...\n",
      "INFO:root:basic completed. 0.9828882217407227\n",
      "  0%|          | 42/39591 [00:49<16:00:29,  1.46s/it]"
     ]
    },
    {
     "name": "stdout",
     "output_type": "stream",
     "text": [
      "deque(['나는 한 살, 학년으로는 2학년 더 빠른 형이 있다.', \"나는 매우 어렸을 때부터 형을 '형님'이라고 불렀으며, 형님과 나의 사이는 다른 형제들보다 훨씬 가깝다는 것은 자타공인 하는 사실이었다.\", '형님과 나는 평소에도 집에서 장난도 많이 하고 놀 때도 거의 같이 놀면서 사이 좋게 시간을 보내곤 했다.', '그렇게 지내다가 몇 주 전, 평소와 같이 장난을 치다가 어느 순간 분위기가 험악해지면서 몸싸움이 벌어진 적이 있었다.', '그 때의 나는 형님에게 심한 말과 거친 행동을 하면서 싸우고 있었다.', '장난을 하면서도 상대방의 기분을 생각하면서 해야한다는 것을 알고 있었음에도 불구하고, 그저 나의 기분 따라 행동해서 벌어진 일이었다.', '결국에는 부모님이 중재하시긴 했지만, 우리는 그 이후로 며칠동안 말도 걸지 않고 서로 조용히 지냈다.', '싸움이 일어난 후, 형님과 대부분 집에서 시간을 보내면서도, 서로 마찰이 없고 대화도 없으니 나는 심심하다는 기분이 가장 먼저 들었다.', '집에서 놀 때는 거의 90퍼센트 이상이 형과 장난을 치면서 노는 것이기 때문이었다.', '그때의 나를 생각해보면 형님에게 화가 나긴 했었지만, 시간이 지나면서 나도 형님에게 심한 행동을 하였다고 생각이 들었다.', '어떤 이유에서든지 형님에게 폭력을 하면 안 됐었다며 후회를 하기도 했다.', '형님과 장난으로 논다는 익숙함이 형에게 심한 행동을 해서 우리 사이를 갈라놓은 것처럼 느껴졌다.', '그런 사건이 있고 나서는, 형님에게 도를 넘는 장난을 치거나 고3에다가 수능도 얼마 남지 않아 분명히 예민한 시기일 형님에게 기분 상할 일을 하지 않도록 주의하고 있다.', '물론 지금은 익숙함에 속아 소중함을 잃지 않도록 신중히 행동하면서, 다시 형님과 친하게 지낼 수 있게 되었다.'])\n"
     ]
    },
    {
     "name": "stderr",
     "output_type": "stream",
     "text": [
      "INFO:root:Waiting for ttr to complete...\n",
      "INFO:root:ttr completed. 0.604996919631958\n",
      "INFO:root:Waiting for similarity to complete...\n"
     ]
    },
    {
     "data": {
      "application/vnd.jupyter.widget-view+json": {
       "model_id": "9f523a9c875445d4bfe0a5a606b67b2f",
       "version_major": 2,
       "version_minor": 0
      },
      "text/plain": [
       "Batches:   0%|          | 0/1 [00:00<?, ?it/s]"
      ]
     },
     "metadata": {},
     "output_type": "display_data"
    },
    {
     "data": {
      "application/vnd.jupyter.widget-view+json": {
       "model_id": "8c7f179ae2034ebf80ca2ccf7f1f0c67",
       "version_major": 2,
       "version_minor": 0
      },
      "text/plain": [
       "Batches:   0%|          | 0/1 [00:00<?, ?it/s]"
      ]
     },
     "metadata": {},
     "output_type": "display_data"
    },
    {
     "name": "stderr",
     "output_type": "stream",
     "text": [
      "INFO:root:similarity completed. 0.667996883392334\n",
      "INFO:root:Waiting for adjacency to complete...\n",
      "INFO:root:adjacency completed. 0.6699965000152588\n",
      "INFO:root:Waiting for basic to complete...\n",
      "INFO:root:basic completed. 0.6709976196289062\n",
      "  0%|          | 43/39591 [00:50<14:48:27,  1.35s/it]"
     ]
    },
    {
     "name": "stdout",
     "output_type": "stream",
     "text": [
      "deque(['나는 소중했던것들이 많았고 지금도 그런데 그 소중한 것들이 지금은 없는 것들도 있다.', '지금 생각해보면 별거 아닌거지만 그때는 나에게 소중했던것이였다.', '나에게 소중했던 장난감 소중했던 경험 등이있다.', '하지만 이것은 모두 지나간 과거이고 나는 17살이 되었다.', '지금 나는 가장소중한것이 사람이라고 생각한다.', '그것도 서로에게 중요하고 소중한사람 이런사람은 서로를 소중하게 여긴다.', '그리고 또 중요하게여긴다.', '이러한사람들에게는 진지한 고민거리 진지한 이야기 힘든것 또는 즐거운것을 털어놓을 수있고 또 그런이야기를 내가 들어줄 수 있다고 생각한다.', '그리고 소중하고 중요한 사람들이 많다는것은 그만큼 자신이 인생을 잘 살았다는것이 아닌가라는 생각 또한 하게 된다.', '그리고 또 소중한것은 가족이라고 생각한다.', '나는 가족이 없으면 안돠는 존재라고 여긴다.', '내가 아플때 옆에있는사람, 내가 잘 때 같이있는사람, 집에서 살아가는가람 밥을 해주는사람, 같은 공간을 쓰는사람 모두 나의 가족이기 때문이다.', '나는 내가 수술했울때 가족의 중요성과 소중했함을 깨닳았다.', '첫날 아무데도 가지않고 나를 옆에서 지켜주는것을 보규 나는 감동했다.', '이렇게 내 옆에 있어주는 존재가 가족이 아닌가 생각이 든다.', '친구 또한 나의 소중하고 중요한 사람이 될 수 있다고 생각한다.', '내가 시험칠때 아플때 힘들때 언제든지 쉽게 나의 이야길 들어주고 힘내라 응원해주는 사람 그리고 가장 정을 많이 나눌 수 있는 사람이 친구이기 때문이다.', '나는 실제로 친구들에게 고민을 털어놓고 여러 면에서 힘을 얻는다.', '따라서 친구는 빼놓을 수 없는 소중하고 중요한 사람인것 같다.', '이렇게 소중하고 중요한 사람들이 있으면 삶을 살아가는데 힘이 되는것 같다.', '따라서 소중한 친구들 가족 등 여러사람들을 소중히여기고 이런사람들이 있다는 것에 감사하며 살아야겠다고 생각한다.'])\n"
     ]
    },
    {
     "name": "stderr",
     "output_type": "stream",
     "text": [
      "INFO:root:Waiting for ttr to complete...\n",
      "INFO:root:ttr completed. 0.5661323070526123\n",
      "INFO:root:Waiting for similarity to complete...\n"
     ]
    },
    {
     "data": {
      "application/vnd.jupyter.widget-view+json": {
       "model_id": "a57204933fce4fc5b104e3b7d5f0e66a",
       "version_major": 2,
       "version_minor": 0
      },
      "text/plain": [
       "Batches:   0%|          | 0/1 [00:00<?, ?it/s]"
      ]
     },
     "metadata": {},
     "output_type": "display_data"
    },
    {
     "data": {
      "application/vnd.jupyter.widget-view+json": {
       "model_id": "e5c58c491c1244a48cc0b4df6fc16857",
       "version_major": 2,
       "version_minor": 0
      },
      "text/plain": [
       "Batches:   0%|          | 0/1 [00:00<?, ?it/s]"
      ]
     },
     "metadata": {},
     "output_type": "display_data"
    },
    {
     "name": "stderr",
     "output_type": "stream",
     "text": [
      "INFO:root:similarity completed. 0.6294796466827393\n",
      "INFO:root:Waiting for adjacency to complete...\n",
      "INFO:root:adjacency completed. 0.6304805278778076\n",
      "INFO:root:Waiting for basic to complete...\n",
      "INFO:root:basic completed. 0.6314795017242432\n",
      "  0%|          | 44/39591 [00:52<14:22:55,  1.31s/it]"
     ]
    },
    {
     "name": "stdout",
     "output_type": "stream",
     "text": [
      "deque(['아마, 초등학교 6학년까지였을 것이다.', '내가 길가에 무작정 쓰레기를 버렸던 시절은.', '난 그때까지만해도 자기 생각만 할 줄 아는 놈이였으리라.', '나는 길을 거닐며, 쓰레기를 들고 있는 불편함만 생각하여 주위 사람들의 눈치를 보고 아무도 모르게 쓰레기를 내동댕이 치며 아무 일도 없다는 듯이 행동을 했었다.', '이렇듯, 나는 옛날에만 해도 자신만을 생각하며 행동을 해왔던 것이다.', '자신의 편안함을 위해서 길가에게 상처를 주었고, 자원봉사단분들께 수고를 더 주었던 거였다.', '지금 생각하면 어처구니없을 정도가 아니라, 절대 하면 안될 짓을 하고 있었던 거다.', '이런 몹쓸 짓을 계속하고 있던 찰나였다.', '한 살 때부터 알고 지내고 있는 친구가 아무 데나 쓰레기 버리는 짓을 제지를 했다.', '그때부터였다.', '내가 길에게 상처를 주는 행위와 봉사단분들에게 수고를 끼치는 일은 그때부터 그만두게 되었으리라.', '옛날에 내가 너무나도 한심스러울 따름이다.', '물론, 그가 아니었어도 지금쯤 쓰레기를 버리고 있지는 않았을 것이다.', '그와 많이 다니다 보니까, 다른 친구가 쓰레기 버리는 것을 보면 다시 주워라고 말하기도 해서 그 영향으로 쓰레기를 버리는 짓 따윈 안 하게 됐을 게 뻔하다.', '그저 조금 더 빨리 이런 짓을 안 하게 된 것이라 생각한다.', '나는 한심한 과거의 죄를 지워버릴 순 없지만 깨끗이 씻기 위해서 그와 같이 친구가 쓰레기를 아무 곳에 버리면 다시 주워라고 언성 높여 말한다.', '또 한 번은 자발적으로 길에 뒹굴고 있는 쓰레기를 치운 적이 있다.', '이것이 지금 내가 할 수 있는 유일하게 죗값을 치르는 방법이기 때문이다.', '나는 말하고 싶다.', '그저 아무 생각 없이 우리는 길 위에서 걷고 있지만, 잘 생각해 보면 길이란 게 없었으면 우린 편하게 걷지 못했고, 땅이란 게 없었으면 걸을 수조차 없다.', '우린 그런 땅에게 감사해야 하며 무엇이 됐든 결코 상처를 주어선 안 된다.', '조금은 자신 말고 시각을 바꾸어 자연을 생각해 보자.', '우리는 너무 편안함만 추구해온 걸지도 모르겠다.'])\n"
     ]
    },
    {
     "name": "stderr",
     "output_type": "stream",
     "text": [
      "INFO:root:Waiting for ttr to complete...\n",
      "INFO:root:ttr completed. 0.5710000991821289\n",
      "INFO:root:Waiting for similarity to complete...\n"
     ]
    },
    {
     "data": {
      "application/vnd.jupyter.widget-view+json": {
       "model_id": "5094ef89b1944d6ca257de66dcdf7ef7",
       "version_major": 2,
       "version_minor": 0
      },
      "text/plain": [
       "Batches:   0%|          | 0/1 [00:00<?, ?it/s]"
      ]
     },
     "metadata": {},
     "output_type": "display_data"
    },
    {
     "data": {
      "application/vnd.jupyter.widget-view+json": {
       "model_id": "9d772fc8b239408ca51a516e7d7e8a98",
       "version_major": 2,
       "version_minor": 0
      },
      "text/plain": [
       "Batches:   0%|          | 0/1 [00:00<?, ?it/s]"
      ]
     },
     "metadata": {},
     "output_type": "display_data"
    },
    {
     "name": "stderr",
     "output_type": "stream",
     "text": [
      "INFO:root:similarity completed. 0.7113852500915527\n",
      "INFO:root:Waiting for adjacency to complete...\n",
      "INFO:root:adjacency completed. 0.7133855819702148\n",
      "INFO:root:Waiting for basic to complete...\n",
      "INFO:root:basic completed. 0.7133855819702148\n",
      "  0%|          | 45/39591 [00:53<14:50:49,  1.35s/it]"
     ]
    },
    {
     "name": "stdout",
     "output_type": "stream",
     "text": [
      "deque(['초등학생 때였다.', '한창 장난기가 많은 여느 아이들과 다를 바 없는 그런 4학년 꼬맹이였다.', '이제 친구들과는 친해질대로 친해져 있었고 그래서 서로 적당히 장난을 치는게 그저 재미있는 그런 때였다.', '친한 친구 사이에 서로 주고받는 적당한 장난은 서로의 우정이 더욱 쌓이게 해 주었다.', '하지만 장난도 익숙해지니 점점 심한 장난으로 번져가게 되었다.', '그러다 어느날 결국 일이 터지고 말았다.', '수업 시작 전 그 적막속에서 내가 지나가던 그 친구의 발을 걸었다.', '적막 속에서 넘어진 친구에게 이목이 집중되었고 모든 아이들이 웃었던 것으로 기억한다.', \"나는 그 친구와의 장난에 익숙해져서 '그 친구라면 이 정도는 괜찮겠지.' 라는 안일한 생각으로 그런 짓을 벌였다.\", '그 친구가 그날 유난히 기분이 안 좋았던 것도 고려하지 않은 채 말이다.', '안그래도 좋지 않은 기분에 그 친구는 내 장난이 너무 심하다고 생각했는지 선생님에게 나를 학교폭력으로 신고했다.', '물론 평소 우리 사이를 알고 있던 선생님이 사건의 전말을 듣고 내가 진심으로 사과하고 그 친구가 사과를 받아줘서 사건은 끝이 났다.', '나는 어린 마음에 처음엔 그 친구에게 실망했지만 이내 나의 행동을 뉘우쳤다.', '나는 그 친구와 항상 장난을 쳐 온 그 익숙함에 속아 소중한 우정을 잃어버렸다.', '우정을 쌓는 것은 오래걸렸지만 잃는 건 정말 한순간이었다.', '나는 그 후로 계속 그 친구와의 우정을 회복하기위해 힘썼고 그 친구도 내 진심을 알아주었다.', '자신도 그 때는 너무 성급하게 행동했다고 내 사과를 받아주었다.', '나의 경험처럼 익숙함이라는 것은 우리를 잘 속인다.', '익숙해지기 시작하면 문제가 생기게 되는 것이다.', '익숙함에 속지말고 나의 소중한 것들을 지켜내야겠다.', '우리는 너무 편안함만 추구해온 걸지도 모르겠다.'])\n"
     ]
    },
    {
     "name": "stderr",
     "output_type": "stream",
     "text": [
      "INFO:root:Waiting for ttr to complete...\n",
      "INFO:root:ttr completed. 0.49500346183776855\n",
      "INFO:root:Waiting for similarity to complete...\n"
     ]
    },
    {
     "data": {
      "application/vnd.jupyter.widget-view+json": {
       "model_id": "cc78b933ff544708b0ae9bba1d9b83e3",
       "version_major": 2,
       "version_minor": 0
      },
      "text/plain": [
       "Batches:   0%|          | 0/1 [00:00<?, ?it/s]"
      ]
     },
     "metadata": {},
     "output_type": "display_data"
    },
    {
     "data": {
      "application/vnd.jupyter.widget-view+json": {
       "model_id": "32ae900f80e44677b976206e43e71aab",
       "version_major": 2,
       "version_minor": 0
      },
      "text/plain": [
       "Batches:   0%|          | 0/1 [00:00<?, ?it/s]"
      ]
     },
     "metadata": {},
     "output_type": "display_data"
    },
    {
     "name": "stderr",
     "output_type": "stream",
     "text": [
      "INFO:root:similarity completed. 0.6220009326934814\n",
      "INFO:root:Waiting for adjacency to complete...\n",
      "INFO:root:adjacency completed. 0.6230037212371826\n",
      "INFO:root:Waiting for basic to complete...\n",
      "INFO:root:basic completed. 0.6240038871765137\n",
      "  0%|          | 46/39591 [00:54<14:27:38,  1.32s/it]"
     ]
    },
    {
     "name": "stdout",
     "output_type": "stream",
     "text": [
      "deque(['\"익숙함에 속아 소중함을 잊지 말자.\"', '이 말은 당시 초등학교 5학년이던 나에게 가장 와닿는 말이라고 생각한다.', '물론 소중한것을 잃지는 않았지만 소중한것을 잃을뻔한 기억이 너무나도 생생하기 때문이다.', '초등학교5학년 여름쯤 나는 집에서 밥을 먹는데 엄마가 갑자기 아프다고 한 뒤로 병원에 갔다.', '그리고 난 학교에 갔는데 집에 돌아오고 나니 엄마는 아직 없고, 아빠가 조금 뒤에 돌아오시더니 나에게 엄마가 수술을 해야한다고 하였다.', '무슨 이유로 수술을 하는지는 이야기해 주시지 않았지만 수술만 잘하면 괜찮다고 하는 말을 듣고 살짝 안심했다.', '그리고 얼마뒤 나는 학원을 마치고 엄마를 만나러 병원에 갔다.', '그때 엄마의 모습은 수술을 하고 나서의 모습이라서 그런지 건강이 조금 좋아보였다.', '하지만 얼마 지나지 않아 엄마가 큰병원으로 옮기는 일이 발생한다.', '나는 분명히 수술만 받으면 괜찮아진다고 했는데 큰병원으로 옮기더니 이번에는 조금만 늦었어도 위험했다는 이야기를 들었다.', '나는 이때 정말로 걱정을 했고 평소에 같이 있어서 익숙하였던 엄마를 잃을수도 있었다는 생각에 정말 기분이 이상했다.', '그래서 소중한 것을 잃을뻔 했던 나는 엄마에게 정말 잘해드려야겠다는 다짐을 하였고 그때 당시의 나는 대회에 나가서 상을 타고, 학교에서 상장같은 상도 많이 받는 등 행동으로 실천한것 같다.', '이때를 계기로 나는 익숙함에 속아 소중한것을 잃기 전에 그 익숙함에 대해 감사해야된다고 생각한것 같다.'])\n"
     ]
    },
    {
     "name": "stderr",
     "output_type": "stream",
     "text": [
      "INFO:root:Waiting for ttr to complete...\n",
      "INFO:root:ttr completed. 0.5470921993255615\n",
      "INFO:root:Waiting for similarity to complete...\n"
     ]
    },
    {
     "data": {
      "application/vnd.jupyter.widget-view+json": {
       "model_id": "ce00688d15514f84b0ae641ded9d2830",
       "version_major": 2,
       "version_minor": 0
      },
      "text/plain": [
       "Batches:   0%|          | 0/1 [00:00<?, ?it/s]"
      ]
     },
     "metadata": {},
     "output_type": "display_data"
    },
    {
     "data": {
      "application/vnd.jupyter.widget-view+json": {
       "model_id": "5a035b2f41ac44269ec67e997c65ef31",
       "version_major": 2,
       "version_minor": 0
      },
      "text/plain": [
       "Batches:   0%|          | 0/1 [00:00<?, ?it/s]"
      ]
     },
     "metadata": {},
     "output_type": "display_data"
    },
    {
     "name": "stderr",
     "output_type": "stream",
     "text": [
      "INFO:root:similarity completed. 0.6870882511138916\n",
      "INFO:root:Waiting for adjacency to complete...\n",
      "INFO:root:adjacency completed. 0.6880881786346436\n",
      "INFO:root:Waiting for basic to complete...\n",
      "INFO:root:basic completed. 0.6880881786346436\n",
      "  0%|          | 47/39591 [00:55<13:47:19,  1.26s/it]"
     ]
    },
    {
     "name": "stdout",
     "output_type": "stream",
     "text": [
      "deque(['우리는 1년 넘게 코로나로 인해 우리의 평범한 일상들을 잃었다.', '코로나가 없을 때는 등교가 귀찮고 힘들기만 한것이었는데, 코로나로 우리의 일상이 멈추고 온라인 수업으로 바뀌었을 때 학교를 가지 않는다는 것에 기뻐했던 것이 기억난다.', '그때는 이렇게 오랫동안 지속될 줄 몰랐는데...코로나로 인해 온라인 수업으로 바뀌면서 나는 자세가 나빠지고 결국에는 척추측만증으로 허리와 등이 많이 아팠었다.', '그리고 친구들도 자주 만나지 못하니까 오랜만에 보면 조금 어색해지는 경향도 있었던것 같다.', '심지어는 중학교때 가장 친했던 친구와 만나자고 했는데 코로나로 인해 만나지 못한지 거의 반년이 넘었다.', '이젠 그 친구의 얼굴도 잘 기억이 안나고, 정말 내 친구인지 그냥 랜선 친구인지 구분이 안간다.', '학교를 가지 못하고 디지털 기기로 수업을 하다보니 수업에 집중을 못했다.', '답답한 마스크를 써야만 하는것도 짜증났다.', '나는 우리 일상의 소중함을 깨달았고 이 평범했던 일상이 행복이란 것을 알았다.', '평범했던 일상이 그립고 되찾고 싶다.', '끝이 언제인지는 아무도 모른다.', '하지만 적어도 마스크를 잘 쓰고 손 씻기 등의 개인위생을 철저히 한다면 코로나의 완전 종식은 곧 다가올 것이다.', '코로나 사태 전의 익숙함은 코로나 사태가 끝난 후 더 큰 소중함으로 느껴질 것이다.', '모든 시민들이 조금 더 인내하고, 서로에게 의지를 한다면 우린 조금 더 쉽게 헤쳐 나갈 수 있지 않을까.', '일상의 소중함을 깨닫고 일상을 당연시 여기지 않고 소중히 여기며 살아가야겠다.'])\n"
     ]
    },
    {
     "name": "stderr",
     "output_type": "stream",
     "text": [
      "INFO:root:Waiting for ttr to complete...\n",
      "INFO:root:ttr completed. 0.5550999641418457\n",
      "INFO:root:Waiting for similarity to complete...\n"
     ]
    },
    {
     "data": {
      "application/vnd.jupyter.widget-view+json": {
       "model_id": "326d17d97ec34d3f97df6fefec4a2ea6",
       "version_major": 2,
       "version_minor": 0
      },
      "text/plain": [
       "Batches:   0%|          | 0/1 [00:00<?, ?it/s]"
      ]
     },
     "metadata": {},
     "output_type": "display_data"
    },
    {
     "data": {
      "application/vnd.jupyter.widget-view+json": {
       "model_id": "c4132274bd5a47c683d72c5ac8e01e48",
       "version_major": 2,
       "version_minor": 0
      },
      "text/plain": [
       "Batches:   0%|          | 0/1 [00:00<?, ?it/s]"
      ]
     },
     "metadata": {},
     "output_type": "display_data"
    },
    {
     "name": "stderr",
     "output_type": "stream",
     "text": [
      "INFO:root:similarity completed. 0.6130971908569336\n",
      "INFO:root:Waiting for adjacency to complete...\n",
      "INFO:root:adjacency completed. 0.6130971908569336\n",
      "INFO:root:Waiting for basic to complete...\n",
      "INFO:root:basic completed. 0.6140968799591064\n",
      "  0%|          | 48/39591 [00:56<13:11:21,  1.20s/it]"
     ]
    },
    {
     "name": "stdout",
     "output_type": "stream",
     "text": [
      "deque(['어린이집에서부터 절친이었고 초등학교,중학교,고등학교 지금까지 함께해온 친구 A가 있다.', '그 친구와 나는 어릴 때부터 만나 친했는데 초등학교 때 같은 반을 한 적이 없어 다른 친구와 더 친해졌다.', '그러다 중학교 3학년 같은 반을 지낸 후 다시 친하게 지내게 되었다.', '고등학교 1학년 학기초 개인사정으로 인해 초등학교 5학년부터 다니던 학원을 바꾸게 되었는데 A가 추천을 해주어서 A와 같은 학원을 다니게 되었다.', '학원을 같이 다니다보니 학교에서는 반이 달라 많이 만나지는 못했지만 학원에서 만나게 되면서 A와 같이 있는 시간이 더 많아졌다.', 'A와 나는 성격도 비슷했고 좋아하는 것도 비슷해서 다른 친구들보다 더 친하게 지냈다.', '이렇게 계속 같이 붙어 다니고 같이 다니다 보니 웃고 장난도 많이 치게 됐다.', '즐겁게 지내다 보니 어느새 1학기 중간고사가 다가왔다.', '중간고사 대비를 하니 학원에 있는 시간이 더 많아졌다.', '평일 저녁 11~12시, 주말에도 그 쯤에 집에 갔다.', '학원에 있는 시간이 많아지다 보니 A와 있는 시간도 자연스럽게 더 많아졌다.', '나는 A와 친해 학원에 있는 시간이 재미없지만은 않았다.', '학원 중간중간 학원친구들 하고 같이 쉬고, 같이 밥먹는게 너무 좋았다.', '그러던 어느 날 여느 때 처럼 학원에 가서 공부를 하다가 학원 복도로 나오게 되었다.', 'A도 나와 있었다.', '쉬는시간에 같이 만나게 되어 나는 너무 들뜬 나머지 A가 있는데 장난스럽게 살짝 밀게 되었다.', '그런데 A는 기분이 나빴던 나머지 나를 다시 밀게 되었고 계속 반복됐다. 그러다 상황이 종료되었다.', '나는 그 일이 있고난 후 원래 하던 것처럼 장난을 쳤는데 A가 너무 예민하게 받아들였다고 생각했다.', '하지만 집에 와서 생각해보니 오늘일만이 A를 화나게 한 건 아니라는 생각이 들었다.', '평소에 A와 나는 장난을 많이 쳤지만 내가 선을 넘은 장난을 쳤다라는 생각이 들 때가 있었다.', '갑자기 A에게 미안한 마음이 들었다.', '그래서 바로 문자로 사과의 편지를 보냈다.', '다행히 A도 미안하다고 말하고 나에게 사과했다.', \"이러한 일을 겪어보니 '항상 내 옆에 있는 친구들을 너무 당연하게 대하는 것이 아닌가?' 라는 생각이 들었다.\", '그리고 익숙함을 당연하게 여기지 말자라는 다짐을 하게 되었다.'])\n"
     ]
    },
    {
     "name": "stderr",
     "output_type": "stream",
     "text": [
      "INFO:root:Waiting for ttr to complete...\n",
      "INFO:root:ttr completed. 0.6251237392425537\n",
      "INFO:root:Waiting for similarity to complete...\n"
     ]
    },
    {
     "data": {
      "application/vnd.jupyter.widget-view+json": {
       "model_id": "70c3a5dbd2ac47f08cccde5b7fc33057",
       "version_major": 2,
       "version_minor": 0
      },
      "text/plain": [
       "Batches:   0%|          | 0/1 [00:00<?, ?it/s]"
      ]
     },
     "metadata": {},
     "output_type": "display_data"
    },
    {
     "data": {
      "application/vnd.jupyter.widget-view+json": {
       "model_id": "0e4cf04b74c44705a22932c1020fc5e0",
       "version_major": 2,
       "version_minor": 0
      },
      "text/plain": [
       "Batches:   0%|          | 0/1 [00:00<?, ?it/s]"
      ]
     },
     "metadata": {},
     "output_type": "display_data"
    },
    {
     "name": "stderr",
     "output_type": "stream",
     "text": [
      "INFO:root:similarity completed. 0.6900639533996582\n",
      "INFO:root:Waiting for adjacency to complete...\n",
      "INFO:root:adjacency completed. 0.6900639533996582\n",
      "INFO:root:Waiting for basic to complete...\n",
      "INFO:root:basic completed. 0.6910643577575684\n",
      "  0%|          | 49/39591 [00:58<13:49:46,  1.26s/it]"
     ]
    },
    {
     "name": "stdout",
     "output_type": "stream",
     "text": [
      "deque(['어느날 갑자기 모든게 싫어졌다.', '아무런 이유도 없다 그냥 말이다.', '무척 그 날에는 무언가 하나가 빈 것만 같았다.', '마치 음식을 만들었을때 간을 안하고 만든것 같이 그 날은 유튜브로 공부자극을 본 날 이었다.', '영상에는 하루하루 조금씩이라도 노력하며 어제와 다른 오늘을 살아가라는 내용이었는데 문뜩 나는 보다가 \"내가 왜 지금 뭐를 위해서 노력을 해야하지? 어차피 세상살아가는거는 사람마다 어떻게 될지 모르고 요즘은 인서울해도 취업하기 힘든 시대라는데 굳이 열심히 해야하나?\" 라는 생각이 들었다.', '나는 하루하루를 공부를 하지않고 놀면서 보내는 하루에 익숙해져있었기 때문에 공부를 하지 않고 있었는데 영상을 보고 나에게는 소중한게 뭘까 생각하며 하루를 보냈다.', '그 뒤로 하루 또 하루하루 지나며 나에게는 가족과 친구들이 가장 소중하다는걸 깨달았다.', '가족이란 어떤존재인가?', '가족은 내가 웃을때는 같이 웃어주고 내가 슬플때는 같이 울어주는 존재이다.', '하지만 나같은 경우에는 항상 가족이 옆에 있어주기 때문에 소중하다는걸 잘 인지하지 못한다.', '그렇지만 나는 서울친구 몇몇과 헤어진적(?)이 있는데 그중 초등학교 친구들과 같이 놀때는 이런일이 있을줄은 몰랐는데 헤어지고 나니 그 친구들을 자주 보지못하는게 매우 심심하고 아쉬운 마음도 많다.', '그래도 괜찮다.', '아직도 몇몇과는 연락하고 지내며 나중에 자취도 같이 하자는 이야기도 있었으니 말이다.', '나는 친구들이라는 소중한것을 잃고싶지 않으며 그 친구들도 나를 잊지 않았으면 한다.', '그러기에 나는 나만의 소중한것을 지키기 위해 대학교를 서울로 갈 수 있게 나라는 존재를 변화시키고 싶다.', '그렇지만 솔직히 아직은 자신이 없다.', '지금은 그저 꾸준히 공부를 하는 수밖에 없는것 같다.', '위에서 본 영상의 주제는 \"쌓이고 쌓여서 빛나는 보석이 될거야\" 였다.', '앞으로 나도 나만의 보석을 만들어 나갈거다. 그날을 위해서....'])\n"
     ]
    },
    {
     "name": "stderr",
     "output_type": "stream",
     "text": [
      "INFO:root:Waiting for ttr to complete...\n",
      "INFO:root:ttr completed. 0.6350247859954834\n",
      "INFO:root:Waiting for similarity to complete...\n"
     ]
    },
    {
     "data": {
      "application/vnd.jupyter.widget-view+json": {
       "model_id": "364b54effda14578bbd8c1b0ada34c87",
       "version_major": 2,
       "version_minor": 0
      },
      "text/plain": [
       "Batches:   0%|          | 0/1 [00:00<?, ?it/s]"
      ]
     },
     "metadata": {},
     "output_type": "display_data"
    },
    {
     "data": {
      "application/vnd.jupyter.widget-view+json": {
       "model_id": "e65c53463d0a4cc9940de07dce7bd560",
       "version_major": 2,
       "version_minor": 0
      },
      "text/plain": [
       "Batches:   0%|          | 0/1 [00:00<?, ?it/s]"
      ]
     },
     "metadata": {},
     "output_type": "display_data"
    },
    {
     "name": "stderr",
     "output_type": "stream",
     "text": [
      "INFO:root:similarity completed. 0.785024881362915\n",
      "INFO:root:Waiting for adjacency to complete...\n",
      "INFO:root:adjacency completed. 0.7870216369628906\n",
      "INFO:root:Waiting for basic to complete...\n",
      "INFO:root:basic completed. 0.7870216369628906\n",
      "  0%|          | 50/39591 [00:59<14:25:06,  1.31s/it]"
     ]
    },
    {
     "name": "stdout",
     "output_type": "stream",
     "text": [
      "deque(['우리는 어떠한 물체를 소유하고 있다는 것이 당연하는듯 받아들여 그 물건의 가치를 소중하게 생각하지 않는다.', '이렇듯 우리는 소유 대상에 대한 소중함을 인지하지 못하다가 그 소유 대상이 사라지고 난 뒤 소중함을 생각하려고 한다.', '그중 하나의 예시로 우리가 당연시 여겼던 평범한 일상이.그중하나이다.', '코로나 19바이러스가 터지기 이전에는친척들과의 만남,주변 이웃들과의 만남을 당연시 여겨 소중함을 느끼지 못했지만 코로나 19 사태가 터지고 난 후 그때의 만남을 이제서야 소중했다 라고 생각하는 사람이 많아졌다.', '우리는 이러한 소중함을 다시 느끼기 위해 마스크 착용과 거리두기와 같은 방역수칙을 잘 준수하기 위해 노력하고 있다.', '이렇듯 우리가 지니고 있는 여러가지 현상들과 물체를 너무 당연시 여기지만 말고 주어진 물체나 현상들에 대한 소중함을 느끼는 하루가 되면 어떨까?라는 생각을 해보곤 한다.', '제시문 처럼 익숙함에 속아 소중함을 잊지말자라는 명언처럼 곁에있는것들 하나 하나를 소중하게 여겨보는 습관을 지녀 보는게 어떨까??', '두번째 예시로 나에게 주어진 시공간적인 것들이 있다.', '우리는 하루하루 살아가고 있는 것에 대한 소중함과 고마움을 느끼지 못한 채 살아 가고 있는 것 같다.', '우리가 눈을 뜨고 생활하는것을 당연시 여겨 하루하루 최선을 다하지 않는 사람들이 대다수가 되고 있는것같다.', '우리의 삶(인생)이라는 것은 무한적인 것이 아니라 언젠간 끝나는 유한 적인 것이다 .', '평소 나는 이러한 생각을 가지고 생활 함으로 인해 모든 일에 대해 최선을 다해 노력한다.', '나말고도 최선을 다하는 사람이 있지만 몇몆 다수의 사람들은 처해진 상황에 대해 노력하지 않는 것 같다.', '이제부터 라도 처한 상황에 대해 최선을 다하며 살아가는것이 어떨까??'])\n"
     ]
    },
    {
     "name": "stderr",
     "output_type": "stream",
     "text": [
      "INFO:root:Waiting for ttr to complete...\n",
      "INFO:root:ttr completed. 0.628000020980835\n",
      "INFO:root:Waiting for similarity to complete...\n"
     ]
    },
    {
     "data": {
      "application/vnd.jupyter.widget-view+json": {
       "model_id": "10540e898d2843a8be4d4ccb702cadcf",
       "version_major": 2,
       "version_minor": 0
      },
      "text/plain": [
       "Batches:   0%|          | 0/1 [00:00<?, ?it/s]"
      ]
     },
     "metadata": {},
     "output_type": "display_data"
    },
    {
     "data": {
      "application/vnd.jupyter.widget-view+json": {
       "model_id": "b3197a3f01a845df98558be00cb60a64",
       "version_major": 2,
       "version_minor": 0
      },
      "text/plain": [
       "Batches:   0%|          | 0/1 [00:00<?, ?it/s]"
      ]
     },
     "metadata": {},
     "output_type": "display_data"
    },
    {
     "name": "stderr",
     "output_type": "stream",
     "text": [
      "INFO:root:similarity completed. 0.7259972095489502\n",
      "INFO:root:Waiting for adjacency to complete...\n",
      "INFO:root:adjacency completed. 0.7269973754882812\n",
      "INFO:root:Waiting for basic to complete...\n",
      "INFO:root:basic completed. 0.727996826171875\n",
      "  0%|          | 51/39591 [01:00<14:11:23,  1.29s/it]"
     ]
    },
    {
     "name": "stdout",
     "output_type": "stream",
     "text": [
      "deque(['나는 중학생때 학교에서 집으로 귀가하는 길이 두가지가 있었다.', '산을 통해 집으로 가거나 도로를 통해 집으로 가는 방식이였다.', '부모님께서는 항상 산은 위험하니 도로를 통해 집으로 오라고 이르셨지만 난 산으로 가는게 훨씬 빠르고 집가는길에 산에 노을이 지는 모습을 보는게 좋았었기에 줄곳 산으로 다녔었다.', '그러던중 난 산으로 오는길에 작은 웅덩이를 찾았다.', '이 산은 비가 오지 않는한 깨끗한 물이 흐르지 않아서 웅덩이가 생겨도 대부분 지저분하거나 빗물이 고인 것이였는데 그 웅덩이는 1급수처럼 맑고 깨끗했고 작지만 올챙이부터 도룡뇽까지 다양한 생물도 살고있었다.', '그당시에 나는 그모습이 너무 신기해서 학교가 끝나자마자 산으로 달려가 웅덩이를 몇십분째 구경하다가 집에 들어갔었다.', '날마다 늘어나는 생물들이 신기했고, 날마가 변하는 그들의 모습이 재미있었다.', '난 그 웅덩이를 아주 좋아했고, 거의 매일가다시피 웅덩이를 보러다녔다.', '그러던중 어느날부터 웅덩이 위쪽에 쓰레기가 조금씩 쌓이는걸 보았다.', '난 웅덩이에게 피해가 갈까봐 걱정했지만 비가 올때나 태풍이 몰아칠때도 항상 그자리에 그대로인 웅덩이였기에 별일아닌듯 넘어갔고 내가 무심한 사이에 쓰레기는 점점더 쌓여져만갔다.', '처음으로 쓰레기가 웅덩이에 빠져있던날엔 치우기는커녕 지저분해졌다며 며칠동안 웅덩이를 보러가지않았다.', '그 후 다시 웅덩이를 찾아갔을땐 예전의 깨끗했던 모습은 찾아볼수 없었다.', '물은 거의 다 말라버려 생물이 하나없었고 색은 탁하여 안을 들여다볼수 없었다.', '내가 알던 예전의 모습이라고는 하나도 찾아볼 수 없었다.', '나는 그동안의 모습들이 그리워서 주변에 낙엽이나 잔해물들을 치워보기도하고 돌로 턱을 쌓아 불순물이 들어가지않게도 해보았지만 몇년이 지난 지금까지도 웅덩이는 탁한 상태 그대로이다.', '난 웅덩이를 너무 당연시 여겼고, 아직까지도 예전의 모습을 찾지못하고있다.'])\n"
     ]
    },
    {
     "name": "stderr",
     "output_type": "stream",
     "text": [
      "INFO:root:Waiting for ttr to complete...\n",
      "INFO:root:ttr completed. 0.6150190830230713\n",
      "INFO:root:Waiting for similarity to complete...\n"
     ]
    },
    {
     "data": {
      "application/vnd.jupyter.widget-view+json": {
       "model_id": "af3e8123c10f40cd8e3f8cb7f954aa75",
       "version_major": 2,
       "version_minor": 0
      },
      "text/plain": [
       "Batches:   0%|          | 0/1 [00:00<?, ?it/s]"
      ]
     },
     "metadata": {},
     "output_type": "display_data"
    },
    {
     "data": {
      "application/vnd.jupyter.widget-view+json": {
       "model_id": "46903dd2ffc14030b51328c181a3a1dd",
       "version_major": 2,
       "version_minor": 0
      },
      "text/plain": [
       "Batches:   0%|          | 0/1 [00:00<?, ?it/s]"
      ]
     },
     "metadata": {},
     "output_type": "display_data"
    },
    {
     "name": "stderr",
     "output_type": "stream",
     "text": [
      "INFO:root:similarity completed. 0.7130224704742432\n",
      "INFO:root:Waiting for adjacency to complete...\n",
      "INFO:root:adjacency completed. 0.7150194644927979\n",
      "INFO:root:Waiting for basic to complete...\n",
      "INFO:root:basic completed. 0.7160193920135498\n",
      "  0%|          | 52/39591 [01:02<14:05:44,  1.28s/it]"
     ]
    },
    {
     "name": "stdout",
     "output_type": "stream",
     "text": [
      "deque(['이 글의 주제를 보자마자 떠올랐던 경험이 있다.', '친구라는 익숙함에 속아 친구의 소중함을 잊었고 친구를 잃었던 경험이었다.', '난 외향적인 사람이었다.', '누구에게나 낯을 가리지 않고 다가가던 그런 사람이었다.', '그만큼 발도 넓었고 모두 다같이 많은 친구를 알고 지내는 것이 좋은 것이라 생각했다.', '다다익선이라 했던가..', '친구에게도 그 내용이 적용되는 줄 알았다. 하지만 아니었다.', '유유상종이라 했던가...', '나와 다른 친구를 만나면 다툼이 잦아 나와 비슷한 친구들과 모였다.', '친구보다 나의 이익이 먼저 였고 그건 나와 모인 친구들도 마찬가지였다.', '심심하면 불러서 우정이 먼저인 듯 하였고 그게 아니고선 연락조차 없었다.', '어느 순간 내가 정말 친구라는 존재가 필요할 때, 위로가 필요하고, 내 편이 필요할 땐 아무도 없었다.', '그렇게 나와 다른 존재를 수용하지않고 멀리하며 이해하지 못한다 비아냥 댄 내가 마냥 처량하게 공허한 벌판에 혼자 서 있는 것 같은 느낌을 받았다.', '난 아무것도 남은게 없었다.', '그 공허한 벌판에서 날 꺼내준 건 다름 아닌 나와 다르다 생각한 친구였다.', '오히려 그 친구가 나를 수용해주었고 그때의 친구는 마치 공허한 벌판에 따뜻한 햇빛과도 같았으며 시원한 바람과도 같았다.', '울컥했다.', '분명 난 비아냥 댔는데..', '너에게 해준게 없는데..', '내가 달라지기로 했다.', '가식적으로 사람 앞에서 착한 척, 있어보이는 척, 내가 아닌 다른 사람을 연기하는 건 그만두기로 했다.', '그 후로 내가 누구인지 부터 많은 생각을 했다.', '무엇이 하고 싶고 무엇을 우선시 하는 사람인가를 생각했다.', '도저히 답이 나오지 않았다.', '그러고나서 한번 더 생각했다.', '답에 매달리지말고 그냥 마음 가는대로 생활해보자고..', '그럼 언젠간 나를 찾을 수 있을 것 같다고..', '그렇게 그 후로 난 다양한 경험을 하려 노력했다.', '내가 원래하던 운동도 다른 환경에 가서 해보고 다른 운동도 해보고 혼자 배낭여행을 떠나보기도 했다.', '아직까지 내가 누구인가에 대한 진정한 답은 나오지 않았지만, 어린아이에서 조금은 큰 것 같은 느낌이 든다.', '난 친구라는 익숙함에 속아 나와 다른 친구를 잃었고 그 나와 다른 친구로 인해서 다시 친구를 얻었다.', '소중함이라는건 내 주위 모든 것들에게 적용되는 것 같다. 친구, 가족, 심지어 내 손톱 하나하나 까지도..', '손톱 하나만 없어도 불편한 점이 이만저만이 아니다.', '손톱 하나 마저도 소중한데 주변에 있는 가족과 친구, 선생님들은 얼마나 소중한 것일까?', '도저히 책정할 수 없다.', '그들의 소중함을 책정하는 사람이 있다면 그는 분명 아직 어린아이임이 틀림없다.'])\n"
     ]
    },
    {
     "name": "stderr",
     "output_type": "stream",
     "text": [
      "INFO:root:Waiting for ttr to complete...\n",
      "INFO:root:ttr completed. 0.7390923500061035\n",
      "INFO:root:Waiting for similarity to complete...\n"
     ]
    },
    {
     "data": {
      "application/vnd.jupyter.widget-view+json": {
       "model_id": "4c54ef7995da4e34b54dd54c921068be",
       "version_major": 2,
       "version_minor": 0
      },
      "text/plain": [
       "Batches:   0%|          | 0/1 [00:00<?, ?it/s]"
      ]
     },
     "metadata": {},
     "output_type": "display_data"
    },
    {
     "data": {
      "application/vnd.jupyter.widget-view+json": {
       "model_id": "c05496c2b46243769d9ee658551f9be6",
       "version_major": 2,
       "version_minor": 0
      },
      "text/plain": [
       "Batches:   0%|          | 0/1 [00:00<?, ?it/s]"
      ]
     },
     "metadata": {},
     "output_type": "display_data"
    },
    {
     "name": "stderr",
     "output_type": "stream",
     "text": [
      "INFO:root:similarity completed. 1.008314847946167\n",
      "INFO:root:Waiting for adjacency to complete...\n",
      "INFO:root:adjacency completed. 1.008314847946167\n",
      "INFO:root:Waiting for basic to complete...\n",
      "INFO:root:basic completed. 1.009315013885498\n",
      "  0%|          | 53/39591 [01:04<16:40:50,  1.52s/it]"
     ]
    },
    {
     "name": "stdout",
     "output_type": "stream",
     "text": [
      "deque(['창문사이로 햇빛이 슬며시 자리잡고, 핸드폰에서는 경쾌한 알람이 울린다.', '추석연휴의 마지막날, 부모님은 동생을 데리고 나들이를 가셨고, 나는 시험기간이라는 핑계로 남았다.', '스터디 카페에 가서 공부 하기로 했지만 오늘 따라 그냥 추석의 마지막날인데 공부는 뒷전이어도 괜찮을거라는 생각에 부모님의 말을 어기고 가지않았다.', '불을 다끄고 혼자 남은 집에서 공부는 커녕 아무것도 하지않는다.', '쏟아지는 소나기가 외로움을 더해 무기력해지자 그 좋아하던 게임도 책도 하다못해 아침도 먹지 않는다.', '최근 며칠 동안 시험기간이어서 그냥 이리저리 치이다보니 지쳤는지 바람이 세차게 불어 창문이 흔들리는 소리에 그제서야 움직인다.', '창문을 닫으려 하는데 가을이 되어 제법 찬 바람을 깊게 들이마셨다.', '바람은 폐로 향했을 터인데 심장까지 시려왔다.', '소나기가 그치자 무지개를 찾고 한참을 멍때리는 등 부질없이 시간을 보내고 있는 와중에 가족이 집에 돌아온 것을 보자 마음 속에서 고요하게 회오리가 치기 시작함을 느꼈다.', '동생이 나를보며 웃자 미소가 지어지고 엉망이 된 화장실을 보고 짜증이 난 어머니를 보아도 마냥 좋았다.', '그냥 익숙한 일상을 보내고 아무렇지 않게 시간을 보냈는데, 한번도 웃음이 나오지 않았던 하루였는데 가족을 보자마자 웃음이 지어졌다.', '이렇게 하루를 보낼 줄 알았다면 가족과 시간을 보냈어야 했는데 그러지 못했다.', '아니다.', '그렇게 하지 않았다.', '말라있던 눈가에 눈물이 차오르는것을 느끼고 가족에겐 우는 모습을 보이긴 싫어 샤워를 한다며 화장실에 들어가 울음을 그치지 못했다.', '하루종일 집에만 있었으면서 샤워를 왜 오래하냐는 아버지의 구박을 들어도 오늘 하루만큼은 좋았다.', '부질없는 시간은 없다. 항상 공부는 나의 뒷전이었다.', '그러나 오늘 24시간도 되지않는 시간속에서 이것을 깨달았고, 내 소중한 가족을 위해 공부를하고 알찬 시간을 보내야겠다는 깨달음을 얻었다.', '비로소 나는 익숙한 일상속에서 소중한 가족을 잃었던 나를 용서할 수있었다.'])\n"
     ]
    },
    {
     "name": "stderr",
     "output_type": "stream",
     "text": [
      "INFO:root:Waiting for ttr to complete...\n",
      "INFO:root:ttr completed. 0.6397879123687744\n",
      "INFO:root:Waiting for similarity to complete...\n"
     ]
    },
    {
     "data": {
      "application/vnd.jupyter.widget-view+json": {
       "model_id": "bb34cfa4698a4de285970d98864dc322",
       "version_major": 2,
       "version_minor": 0
      },
      "text/plain": [
       "Batches:   0%|          | 0/1 [00:00<?, ?it/s]"
      ]
     },
     "metadata": {},
     "output_type": "display_data"
    },
    {
     "data": {
      "application/vnd.jupyter.widget-view+json": {
       "model_id": "4adec6c305db4bfd866f787f597e7842",
       "version_major": 2,
       "version_minor": 0
      },
      "text/plain": [
       "Batches:   0%|          | 0/1 [00:00<?, ?it/s]"
      ]
     },
     "metadata": {},
     "output_type": "display_data"
    },
    {
     "name": "stderr",
     "output_type": "stream",
     "text": [
      "INFO:root:similarity completed. 0.7048864364624023\n",
      "INFO:root:Waiting for adjacency to complete...\n",
      "INFO:root:adjacency completed. 0.7058827877044678\n",
      "INFO:root:Waiting for basic to complete...\n",
      "INFO:root:basic completed. 0.7058827877044678\n",
      "  0%|          | 54/39591 [01:05<15:57:35,  1.45s/it]"
     ]
    },
    {
     "name": "stdout",
     "output_type": "stream",
     "text": [
      "deque(['저는 인간관계의 소중함도 살아가는데 매우 중요한 역할을 하지만, 성적이나 나의 의지와 자신감에 대한 소중함도 잊지말자는 생각이 들었습니다.', '제 경험으로는 중학교2학년때 중간고사를 치고 내가 생각한것보다 믿을 수 없는 정도로 성적이 잘 나와서 다음 시험도 잘치겠지라는 마음이 제 머리속에 박혀있었습니다.', '하지만 저의 아이러니한 생각은 버렸어야 했습니다.', '저의 기말고사 시험은 처참하게 망했을뿐더러 그 순간 부터 저는 저의 의지와 자신감이 사라지고 있었습니다.', '항상 제가 잘하겠지라는 생각으로 너무 자만한 부분이 있었기 때문입니다.', '사람은 노력하는 대로 결과가 나온다는 생각이 이 순간에 들었습니다.', '저의 의지가 너무나도 소중했지만, 저는 이를 그 순간에는 알지 못했습니다.', '이처럼 어떤 일을 하는데에 있어 당연하고, 자만감은 가지면 안된다는 것을 느끼며, 자신의 의지도 잊지 말고 항상 노력하는 자세는 필요하다고 생각하였습니다.', '저는 저의 의지에 대한 소중함을 잃었기 때문에 제가 노력을 열심히 안 한 결과로 볼수 있었습니다.', '항상 당연하다는 것은 없습니다.', '자기 자리에서 노력하며, 자신의 의지를 가져야한다고 다짐했습니다.', '저는 저의 의지를 다시 향상시키기 위해서 계획을 세우고 이를 실천하기로 매일 마음속에 깊이 새기고 있습니다.', '누구나 자신의 의지를 잃어버릴 때나 자신감을 잃어버릴때가 있습니다.', '하지만 이를 극복한다면 그에 따른 결과도 따라 올것 입니다.'])\n"
     ]
    },
    {
     "name": "stderr",
     "output_type": "stream",
     "text": [
      "INFO:root:Waiting for ttr to complete...\n",
      "INFO:root:ttr completed. 0.5540204048156738\n",
      "INFO:root:Waiting for similarity to complete...\n"
     ]
    },
    {
     "data": {
      "application/vnd.jupyter.widget-view+json": {
       "model_id": "cd15c932295244929d668f08f4aa7f59",
       "version_major": 2,
       "version_minor": 0
      },
      "text/plain": [
       "Batches:   0%|          | 0/1 [00:00<?, ?it/s]"
      ]
     },
     "metadata": {},
     "output_type": "display_data"
    },
    {
     "data": {
      "application/vnd.jupyter.widget-view+json": {
       "model_id": "dedd361bdaaf4b80af9b9703994748e7",
       "version_major": 2,
       "version_minor": 0
      },
      "text/plain": [
       "Batches:   0%|          | 0/1 [00:00<?, ?it/s]"
      ]
     },
     "metadata": {},
     "output_type": "display_data"
    },
    {
     "name": "stderr",
     "output_type": "stream",
     "text": [
      "INFO:root:similarity completed. 0.6130175590515137\n",
      "INFO:root:Waiting for adjacency to complete...\n",
      "INFO:root:adjacency completed. 0.6140177249908447\n",
      "INFO:root:Waiting for basic to complete...\n",
      "INFO:root:basic completed. 0.6140177249908447\n",
      "  0%|          | 55/39591 [01:06<14:43:13,  1.34s/it]"
     ]
    },
    {
     "name": "stdout",
     "output_type": "stream",
     "text": [
      "deque(['먼저 이 주제를 받았을때, 익숙함에 속아 소중함을 잊었던 적을 생각 해보았다.', '나의 인간관계, 나에게 주어진 환경등을 생각하다보니 생각보다 내가 소중함을 알지 못했던 것들이 많다.', '지금의 인간관계는 나와 부모님,친구 이 둘이 가장 큰 비중을 차지하는 것 같다.', '부모님과의 관계에서 부모님과 대화하는 중에 귀찮다 라고 느끼는 것, 부모님에게 진심을 표현한 적을 생각해보니 기억에서 찾을 수 없다는 점 등, 매일 보니까 오히려 소홀해 지는 부모님과의 관계에서 내가 놓치고 있는 소중함은 많은 것 같다.', '부모님과 시간을 내서 나의 진심을 말하는 것이 필요 할 것 같다.', '친구에게는 너무 편한 나머지 나의 감정을 지나치게 나타 냈을 때가 있다.', '친구관계 에서도 적당한 긴장감을 유지 하는것이 좋을 것 같다.', '요즘 가장 심각하게 느끼는것은 나에게 주어진 환경에 대한 것이다.', '나에게 너무 편한 환경이 주어져 있다 보니 내가 너무 나태해 지는 것을 느낀다.', \"내가 할 일을 내일로 미루고 오늘은 마냥 놀며 보내다 침대에 누워서 '아 이건 아니다 내일부터 열심히 해야지' 하면서도 다음날에도 '내일이 있으니까' 하며 같은 행동을 반복하는 나의 모습을 봤다.\", '지금이 가장 중요한 때인것을 알면서도 행동으로 옮기지 못하고 있는상황에서 이글을 쓰게 되면서 나의 행동의 동기가 될수 있기를 바란다.'])\n"
     ]
    },
    {
     "name": "stderr",
     "output_type": "stream",
     "text": [
      "INFO:root:Waiting for ttr to complete...\n",
      "INFO:root:ttr completed. 0.564450740814209\n",
      "INFO:root:Waiting for similarity to complete...\n"
     ]
    },
    {
     "data": {
      "application/vnd.jupyter.widget-view+json": {
       "model_id": "e88f1ae32b03490ebef80836c8820de8",
       "version_major": 2,
       "version_minor": 0
      },
      "text/plain": [
       "Batches:   0%|          | 0/1 [00:00<?, ?it/s]"
      ]
     },
     "metadata": {},
     "output_type": "display_data"
    },
    {
     "data": {
      "application/vnd.jupyter.widget-view+json": {
       "model_id": "b90c30255fa74ad5831ece633440efb0",
       "version_major": 2,
       "version_minor": 0
      },
      "text/plain": [
       "Batches:   0%|          | 0/1 [00:00<?, ?it/s]"
      ]
     },
     "metadata": {},
     "output_type": "display_data"
    },
    {
     "name": "stderr",
     "output_type": "stream",
     "text": [
      "INFO:root:similarity completed. 0.6364514827728271\n",
      "INFO:root:Waiting for adjacency to complete...\n",
      "INFO:root:adjacency completed. 0.6364514827728271\n",
      "INFO:root:Waiting for basic to complete...\n",
      "INFO:root:basic completed. 0.6374478340148926\n",
      "  0%|          | 56/39591 [01:07<13:36:42,  1.24s/it]"
     ]
    },
    {
     "name": "stdout",
     "output_type": "stream",
     "text": [
      "deque(['4살 때부터 지금 17살까지 부모님의 맞벌이로 나는 할머니와 거의 매일을 보냈다.', '동생과 형은 엄마와 같이 있었지만 부모님이 바빠서 나는 혼자 할머니 댁에서 왔다 갔다 하며 지냈다.', '나와 함께 지내셨던 할머니는 나에게 친구와 가족이 되어주셨고 나도 할머니의 말동무, 웃음거리가 되었다.', '언제부터인지는 모르겠지만 할머니를 생각하면 코가 찡해지며 눈에 이슬이 맺힌다.', '할머니는 늘 나에게 좋은 추억을 주셨고 덤으로 웃음과 행복함을 선물해 주셨다.', \"그렇게 마냥 행복할 줄 알았던 어렸던 나에게 지금은 한마디를 해주고 싶다. '조금 더 지금의 행복을 느끼라고..'\", '지금의 할머니는 폐동맥 고혈압이라는 난치병을 앓고 계신다.', '약 3년 전부터 심장내과를 다니셨다.', '따뜻하고 건강했던 할머니의 심장이 나에게 온기를 나누어주시면서 점점 아파지신 게 아닐까 라고 생각을 했다.', '그렇게 계속 병원에 다니시다가 얼마 전 수술을 하셨다.', '부산에는 제대로 치료를 받기가 힘들어 서울의 병원에서 수술을 받으셨다.', '문제는 그때 부터였다.', '할머니가 입원하게 되셨을 때 난 집에서 혼자 지내야 했다.', '늘 집에 오면 할머니가 \"왔나\"라고 해주셨는데 그때는 그게 특별하다고 생각을 못 했다.', '혼자 있을 때는 할머니의 \"왔나\" 가 어찌나 그렇게 듣고 싶었는지...', '말도 평소에 잘 안 듣고 잘 못 해 드린 것만 생각나고 항상 그렇게 고마운 줄은 모르고 살았던 것 같아서 아주 슬프고 많이 우울하게 지냈던 것 같다.', '그렇게 할머니가 다시 돌아오신 날 엄청나게 기뻐했다.', '그리고 그때 결심했었다.', '할머니가 나에게 해주시는 말 들을 전부 소중하게 여기고 앞으로는 과거의 나보다는 더 나은 내가 되자는 결심을 했다.', '그리고 할머니도 스트레스 덜 받으시게 하고 신체적으로도 최대한 내가 노력해서 돌봐 드려야겠다고 생각했고 바로 설거지와 집안일을 하는 등의 실천을 했다.', '나에게 \"왔나\"라고 해주시는 할머니께 정말 소중함을 느꼈고 매일매일 할머니를 한 번씩 지금까지 안아드리고 있다.', '할머니가 해주시는 말들 하나하나가 나에게는 큰 행복이었다.', '건강하게 내 곁에 있어 주시면 좋겠다.'])\n"
     ]
    },
    {
     "name": "stderr",
     "output_type": "stream",
     "text": [
      "INFO:root:Waiting for ttr to complete...\n",
      "INFO:root:ttr completed. 0.6197428703308105\n",
      "INFO:root:Waiting for similarity to complete...\n"
     ]
    },
    {
     "data": {
      "application/vnd.jupyter.widget-view+json": {
       "model_id": "617f3a5b22564a1b9f8a3153d2c3c2b9",
       "version_major": 2,
       "version_minor": 0
      },
      "text/plain": [
       "Batches:   0%|          | 0/1 [00:00<?, ?it/s]"
      ]
     },
     "metadata": {},
     "output_type": "display_data"
    },
    {
     "data": {
      "application/vnd.jupyter.widget-view+json": {
       "model_id": "672124911f9e44be89049de322a53ecd",
       "version_major": 2,
       "version_minor": 0
      },
      "text/plain": [
       "Batches:   0%|          | 0/1 [00:00<?, ?it/s]"
      ]
     },
     "metadata": {},
     "output_type": "display_data"
    },
    {
     "name": "stderr",
     "output_type": "stream",
     "text": [
      "INFO:root:similarity completed. 0.9147403240203857\n",
      "INFO:root:Waiting for adjacency to complete...\n",
      "INFO:root:adjacency completed. 0.9157402515411377\n",
      "INFO:root:Waiting for basic to complete...\n",
      "INFO:root:basic completed. 0.9157402515411377\n",
      "  0%|          | 57/39591 [01:09<14:44:50,  1.34s/it]"
     ]
    },
    {
     "name": "stdout",
     "output_type": "stream",
     "text": [
      "deque(['나에게 가장 소중한 것을 말해보라 한다면 역시 먼저 생각나는 것은 가족이다.', '가족만큼 소중한 것도 없지만 대부분의 사람들이 가족의 소중함을 평소에는 잊고 사는 것 같다.', '나 또한 부모님이나 누나와 언성을 높일 때가 있는데, 그 때는 너무 속상하고 다시는 얘기를 안 할 것처럼 말하지만 시간이 지나서 다시 생각해보면 별 것도 아닌 일이었는데 싸운 것 같아 후회만 되고 서로 미안해하는 것 같다.', '이럴때는 누구든지 먼저 사과를 하는게 좋지만 괜히 부끄러워서 먼저 말하기가 쉽지 않다.', '예전에 내가 부모님과의 약속을 안 지켜서 부모님이 너무 실망하신 적이 있는데 사과를 해야겠다고 생각은 했지만 처음에는 먼저 말하기 부끄러웠는데 용기를 내서 부모님이랑 얘기도 해보고 한동안 집안일도 많이 하니 잘 풀렸던 기억이 있다.', '평소에는 잘 몰랐지만 부모님과 다투니까 너무 답답하고 속상했다.', '나에게 가장 소중한 것도 가족이지만 가장 익숙한 것도 가족이다보니 너무 익숙해지고 편해지면 실수를 많이 하게 되는 것 같다.', '가족이 날 위해 배려하는 부분이나 항상 힘들때마다 도와주는걸 예전에는 잘 모르고 생각하지 않았지만 한번 소중함을 잃어봐야 소중함을 느끼는 것 같다.', '앞으로는 나에게 가장 소중한 사람인 가족을 잘 챙겨야겠다.'])\n"
     ]
    },
    {
     "name": "stderr",
     "output_type": "stream",
     "text": [
      "INFO:root:Waiting for ttr to complete...\n",
      "INFO:root:ttr completed. 0.4950878620147705\n",
      "INFO:root:Waiting for similarity to complete...\n"
     ]
    },
    {
     "data": {
      "application/vnd.jupyter.widget-view+json": {
       "model_id": "669aa772a3894304a182c7086ef1e862",
       "version_major": 2,
       "version_minor": 0
      },
      "text/plain": [
       "Batches:   0%|          | 0/1 [00:00<?, ?it/s]"
      ]
     },
     "metadata": {},
     "output_type": "display_data"
    },
    {
     "data": {
      "application/vnd.jupyter.widget-view+json": {
       "model_id": "6922476ad07e40cd955efdeee0f5a67a",
       "version_major": 2,
       "version_minor": 0
      },
      "text/plain": [
       "Batches:   0%|          | 0/1 [00:00<?, ?it/s]"
      ]
     },
     "metadata": {},
     "output_type": "display_data"
    },
    {
     "name": "stderr",
     "output_type": "stream",
     "text": [
      "INFO:root:similarity completed. 0.542475700378418\n",
      "INFO:root:Waiting for adjacency to complete...\n",
      "INFO:root:adjacency completed. 0.5434768199920654\n",
      "INFO:root:Waiting for basic to complete...\n",
      "INFO:root:basic completed. 0.5444767475128174\n",
      "  0%|          | 58/39591 [01:10<13:05:47,  1.19s/it]"
     ]
    },
    {
     "name": "stdout",
     "output_type": "stream",
     "text": [
      "deque(['나는 어릴때 부모님 두분다 일을 하셨기 때문에 나를 챙겨줄 시간이 없어 나를 어린이 집에 보냈다.', '우리집에서 어린이집까지는 거리가 너무 멀기때문에 나는 차를 타고 어린이 집까지 갈수 있었다.', '나는 그곳에서 친구들과 만나 좋았기 때문에 그친구들과 나는 빨리 친해질수 있었다.', '그곳에서 나는 친구들과 같이 공부하고 같이 밥을 먹는것이 너무 좋았기때문에 친구들과 노는것이 너무 신났다.', '나는 그렇게 신나게 어린이집을 다녔고 6살이 되자 나는 어린이집에서 유치원으로 옮겨야했다.', '유치원을 찾던중 우리집에서 가까운 유치원이 있어 그곳으로 옮겨야했기 때문에 어린이집에서 친했던친구들을 못 만나게 되어 나는 친구들과 못만나다는것에 슬펐다.', '그렇게 나는 유치원을 다니게 되었고 그곳에 있는 친구들과 유치원을 다니게되었다.', '그렇게 나는 유치원을 졸업하고 나는 초등학교에 입학을 하게되었다.', '초등학교는 유치원과 같은 건물에 있었기 때문에 집에서 가까윘다.', '유치원과 초등학교 모두 같은 친구들과 다녔기 때문에 초등학교 친구들과 친해질수있었다.', '나는 3학년이 되자 부모님이 교회를 보내셨다.', '나는 친구와 교회를 다녔기 때문에 교회를 오래동안 다닐수있었고 교회를 다니는것이 좋았다.', '나는 교회에서 더많은 친구들을 만났고 그친구들과도 친해질수 있었다.', '그렇게 다니던중 나는 유치원에서 가장 친했던 친구를 만나게 되었다.', '나와 그친구는 너무 반가웠고 나는 매일 교회에서 그친구를 만났고 나와 그친구는 더 친해질수있었다.', '나는 가장 친했던 친구를 교회에서 만날수 있어 너무좋았다.'])\n"
     ]
    },
    {
     "name": "stderr",
     "output_type": "stream",
     "text": [
      "INFO:root:Waiting for ttr to complete...\n",
      "INFO:root:ttr completed. 0.562938928604126\n",
      "INFO:root:Waiting for similarity to complete...\n"
     ]
    },
    {
     "data": {
      "application/vnd.jupyter.widget-view+json": {
       "model_id": "0e7a167db03d4e7a8a5f7abaa5ec4fa4",
       "version_major": 2,
       "version_minor": 0
      },
      "text/plain": [
       "Batches:   0%|          | 0/1 [00:00<?, ?it/s]"
      ]
     },
     "metadata": {},
     "output_type": "display_data"
    },
    {
     "data": {
      "application/vnd.jupyter.widget-view+json": {
       "model_id": "0f09567b9dbe407f83f98d5adf4cee42",
       "version_major": 2,
       "version_minor": 0
      },
      "text/plain": [
       "Batches:   0%|          | 0/1 [00:00<?, ?it/s]"
      ]
     },
     "metadata": {},
     "output_type": "display_data"
    },
    {
     "name": "stderr",
     "output_type": "stream",
     "text": [
      "INFO:root:similarity completed. 0.6123573780059814\n",
      "INFO:root:Waiting for adjacency to complete...\n",
      "INFO:root:adjacency completed. 0.6133584976196289\n",
      "INFO:root:Waiting for basic to complete...\n",
      "INFO:root:basic completed. 0.6143589019775391\n",
      "  0%|          | 59/39591 [01:11<12:34:51,  1.15s/it]"
     ]
    },
    {
     "name": "stdout",
     "output_type": "stream",
     "text": [
      "deque(['저는 너무하게도 익숙함에 속아서 소중함을 잃었던 사례들이 그렇게 많지는 않지만 딱 보고나서 한 가지 기억이 났던 이야기가 생각이 났습니다.', '때는 제가 한 중학교 2학년 쯔음인데요.', '저는 그 때 저희 가족들과 같이 밖에서 외식을 하러 갔었습니다.', '그러고 나서는 저는 어쩌다가 워터파크 얘기가 나왔습니다.', '저는 말했죠 \"아, 워터파크 가고 싶다.\"', '그러자 부모님은 말씀하셨습니다.', '\"그럼 가족끼리 갈까?\"', '저는 그 당시에 이렇게 말했습니다.', '\"에이 가족들끼리 가면 뭐가 재밌어?\"', '네....', '저는 친구들과 노는 것이 너무나도 재미있어서 그런 재미에만 익숙해져 있었고 더 중요한 우리 가족들과의 소중한 재미와 추억을 까먹고 있었습니다.', '저는 저 말을 하고 아차 싶었습니다.', '어머니는 그 말을 듣고 황당해 하셨습니다.', '그러고는 저에게 \"이야... 아들 진짜 너무했다.\"라고요.', '저는 정말 이 일을 어떻게 할지 몰랐습니다.', '그러고는 어머니는 저와 집에 가기 전까지 말을 안 하셨구요.', '저는 집까지 오면서 어머니께 말도 걸고 안아도 보고 온갖 노력이라는 노력은 다 해보았지만 어머니는 안 받아 주셨죠.', '저는 그러고는 집에 와서 자기 전에 용기를 내서 부모님께 사과를 드렸습니다.', '그러자 부모님은 \"친구도 소중하지만 가족이 더 소중한 거야.', '가족이랑 함께 있는 것이 더 즐겁고 행복한 거야.\" 라고 말씀을 해 주셨고 저는 그 말을 듣고 교훈을 느꼈습니다.', \"'아... 그래 친구들과의 재미에만 익숙해져서 가족들과의 행복과 추억의 소중함은 잃고 있었어...'\", '그러고는 몇 일 뒤 저는 가족들과 함께 워터파크를 가서 그 누구보다도 행복하고 즐겁게 놀다가 왔습니다.', '정말 친구들과 있는 시간이 더 많아서 친구들과의 시간이 익숙해진다고 해서 부모님과의, 가족들과의 소중함을 잃으면은 안됩니다.', '여러분 부모님이 아무리 싫고 짜증이 나도 다 부모님께서 여러분을 사랑하고 아끼기 때문에 그러시는 것 입니다.', '다들 부모님과의 추억의 소중함을 잃지 마십시오.'])\n"
     ]
    },
    {
     "name": "stderr",
     "output_type": "stream",
     "text": [
      "INFO:root:Waiting for ttr to complete...\n",
      "INFO:root:ttr completed. 0.6239945888519287\n",
      "INFO:root:Waiting for similarity to complete...\n"
     ]
    },
    {
     "data": {
      "application/vnd.jupyter.widget-view+json": {
       "model_id": "c6f7daf27ec74cc2b6a290d6a9fae902",
       "version_major": 2,
       "version_minor": 0
      },
      "text/plain": [
       "Batches:   0%|          | 0/1 [00:00<?, ?it/s]"
      ]
     },
     "metadata": {},
     "output_type": "display_data"
    },
    {
     "data": {
      "application/vnd.jupyter.widget-view+json": {
       "model_id": "cce3cbcc049d4dafb3917c3ad2a2c4d1",
       "version_major": 2,
       "version_minor": 0
      },
      "text/plain": [
       "Batches:   0%|          | 0/1 [00:00<?, ?it/s]"
      ]
     },
     "metadata": {},
     "output_type": "display_data"
    },
    {
     "name": "stderr",
     "output_type": "stream",
     "text": [
      "INFO:root:similarity completed. 0.7520325183868408\n",
      "INFO:root:Waiting for adjacency to complete...\n",
      "INFO:root:adjacency completed. 0.7539947032928467\n",
      "INFO:root:Waiting for basic to complete...\n",
      "INFO:root:basic completed. 0.7539947032928467\n",
      "  0%|          | 60/39591 [01:12<13:26:54,  1.22s/it]"
     ]
    },
    {
     "name": "stdout",
     "output_type": "stream",
     "text": [
      "deque(['지난 일주일간 나는 전쟁같고 힘든 일들을 보내왔다.', '아침에 일어나서 급하게 아침을 먹고 버스를 타서 정신없이 학교에 도착하면 수업이 시작되고 또 정신없이 수행평가와 다양한 과목들의 압박들이 쏟아지고 또 그 학교를 마치면 저녁먹을 시간이 있을 리가 없고 나는 지하철과 버스를 반복해서 집보다 친숙한 학원에 도착한다.', '역시 학원도 그렇다.', '더 정신없고 낯선 지식들이 비상등없이 내 머리에 쏟아져왔고 이것들이 처음인 나는 받아들이기 버거워 저녁 11시, 자신의 소중한 휴식시간을 뺏기고 차로 달려오신 엄마께 화를 냈다.', '나는 항상 생각했었다.', \"'나는 이 세상에서 제일 힘든 사람이야.'\", \"'제일 피곤한건 당연하고 짜증은 어쩔수없이 나오는거야.'\", '항상 엄마는 피곤한 기색을 비치지 않으셨고 나는 더욱 당당해져갔다.', '나는 결국 엄마가 조금 늦게 오시거나 깜빡하시면 짜증을 내고 엄마를 몰아가기 시작했다.', '이글을 쓰고 있는 지금도 엄마가 모르고 주무셔서 학원을 마치고 11시에 버스를 타고가면서쓰고있다.', '이 과제를 받았을때 아무런 생각없이 바로 늦은밤에 나를 데리러 오시는 엄마가 생각났고, 익숙함에 속아 엄마의 힘듦은 잊고 있었다는 생각이 들며 후회가 되었다.', '이런 기회가 없었다면 나는 이런 생각을 절대 안했을 것이다.', '지금이라도 계속생각하면서 매일감사하게 생각해야겠다.', '데리러 오실때마다 내가 힘들더라고 엄마만큼일리는 없기 때문에 더 밝게 해맑게 얘기하면서 부끄러워서 직접적으로 감사하다고 전하지는 못하지만 간접적으로라도 꼭 감사함을 전해야겠다.'])\n"
     ]
    },
    {
     "name": "stderr",
     "output_type": "stream",
     "text": [
      "INFO:root:Waiting for ttr to complete...\n",
      "INFO:root:ttr completed. 0.505000114440918\n",
      "INFO:root:Waiting for similarity to complete...\n"
     ]
    },
    {
     "data": {
      "application/vnd.jupyter.widget-view+json": {
       "model_id": "e6b35302089f4776875523a4b7fdd1b7",
       "version_major": 2,
       "version_minor": 0
      },
      "text/plain": [
       "Batches:   0%|          | 0/1 [00:00<?, ?it/s]"
      ]
     },
     "metadata": {},
     "output_type": "display_data"
    },
    {
     "data": {
      "application/vnd.jupyter.widget-view+json": {
       "model_id": "54707d0f54f14e98bf16af736f42630a",
       "version_major": 2,
       "version_minor": 0
      },
      "text/plain": [
       "Batches:   0%|          | 0/1 [00:00<?, ?it/s]"
      ]
     },
     "metadata": {},
     "output_type": "display_data"
    },
    {
     "name": "stderr",
     "output_type": "stream",
     "text": [
      "INFO:root:similarity completed. 0.5789968967437744\n",
      "INFO:root:Waiting for adjacency to complete...\n",
      "INFO:root:adjacency completed. 0.5799973011016846\n",
      "INFO:root:Waiting for basic to complete...\n",
      "INFO:root:basic completed. 0.5799973011016846\n",
      "  0%|          | 61/39591 [01:13<12:56:17,  1.18s/it]"
     ]
    },
    {
     "name": "stdout",
     "output_type": "stream",
     "text": [
      "deque(['요즘엔 소중하다라는 표현을 잘 쓰지 않는다.', \"'소중하다'보다는 '필요하다'가 더 많이 쓰인다.\", '나도 그렇다.', '이것이 나에게 소중한 것이다.', '이것이 나에게 필요한 것이다.', '두 표현 다 의미는 다르지만 후자가 더 익숙하게 느껴진다.', '필요한 것과 소중한 것은 같은 것일까?', '소중한 것은 이미 내가 가지고 있는 것을 의미한다.', '반면에 필요한 것은 내가 현재 가지고 있지 않지만 내가 가지길 원하는 것이다.', \"사전적 의미로 비교하면 소중하다는 '중요한 의미나 가치를 가진 상태에 있다'이고 필요하다는 '반드시 요구되는 바가 있다'이다.\", '따라서 소중하다는 우리가 가지고 있는 것이라 해석할 수 있고 필요하다는 우리가 요구하는 것이라고 해석이 가능하다.', '그러면 현재 우리가 가지고 있는 것과 우리가 가지길 원하는 것 중에 우리가 무엇에 더 중요함을 느껴야 할까?', '가지지 않는 것에 중요함을 느끼는 것이 올바르지 않다고 본다.', '가지지 않은 것에 중요하다고 느끼는 것은 소유하지 않은 것에 가치를 부여하는 것이기 때문이다.', '물론 소유하지 않은 것에 가치를 부여해 동기 부여가 되기도 한다.', '예를 들어 나의 미래의 목표에 중요하다고 생각해서 동기부여가 되기도 한다.', '그러면 이걸 더 나아가서 우리가 가지고 있는 것보다 원하는 것, 즉, 요구하는 것에 더 중요하다고 생각하면 그것은 정말 어리석은 짓이다.', \"현재 가지고 있는 것보다 요구하는 것에 가치를 부여하는 것이 '익숙함에 속아 소중함을 잊지말자'가 아닐까라는 생각이 든다.\", '우리가 가지고있는것은 우리에게 익숙해져있기에 중요함을 느끼지 못한다.', '우리가 너무 당연하듯이 그것을 이용하거나 사용하고 있기 때문이다.', '그러한 것들이 만약에 우리에게 필요한 것이 된다면 즉, 가지지 못한 것이 된다면 그것이 아직까지 중요한것이 아닐까?', '아마도 생각이 달라질 것이다.', '나 또한 이러한 경험이 있다.', '시험 공부를 할때 나는 중요한것에 밑줄을 그으며 공부를 했었다.', '그 밑줄을 긋고 난 뒤에는 다시 볼때 그 밑줄 그은 부분만 보게된다.', '그렇게 몇번을 반복하면 완전히 그것이 공부가 되었다라는 느낌이든다.', '하지만 그것은 단지 그 글에 익숙해진 것일 뿐 이해했다고 보긴 힘들다.', '그렇지만 나는 공부가 되었다고 생각하고 시험을 보면 객관식 문제에서 오류가 많이났다.', '익숙함에 속아 내 소중한 객관식 문제에 점수를 잃은 것이다.', '이러한 경험이 꽤 있고난 뒤에는 반대로 생각해 보았다.', '소중함에 익숙함을 잃어보자 라고 생각해서 반대로 한 두세번을 밑줄 긋지 않고 그냥 읽는다.', '이해하기 위해 읽어야 한다.', '그렇게 하고 진짜 이해가 되었는지 확인하려면 선생님이 알려주시기 전에 먼저 연필로 내가 중요하고 생각한 것에 밑줄을 그어 본다.', '그러고 난 뒤에 선생님이 알려주신 것과 밑줄을 비교하여 공부하면 오류를 고칠 수 있었다.', '그래서 나는 항상 우리가 소중함에 대해 생각을 해야하며 혹시나 익숙함에 속았다면 반대로 소중함에 속아 익숙함을 잃어보는 것도 하나의 방법이라고 생각한다.', '결국 우리가 더 오랜시간 가지고 있는 것은 필요있는 것 보다는 현재 우리가 가지고 있는 것이다.', '그러니 우리는 소중함에 더 많은 가치를 부여해야 한다.'])\n"
     ]
    },
    {
     "name": "stderr",
     "output_type": "stream",
     "text": [
      "INFO:root:Waiting for ttr to complete...\n",
      "INFO:root:ttr completed. 0.7092766761779785\n",
      "INFO:root:Waiting for similarity to complete...\n"
     ]
    },
    {
     "data": {
      "application/vnd.jupyter.widget-view+json": {
       "model_id": "477d3ac67db54778b29825e5eed430fe",
       "version_major": 2,
       "version_minor": 0
      },
      "text/plain": [
       "Batches:   0%|          | 0/1 [00:00<?, ?it/s]"
      ]
     },
     "metadata": {},
     "output_type": "display_data"
    },
    {
     "data": {
      "application/vnd.jupyter.widget-view+json": {
       "model_id": "64993021288b411a8fee459aed366fcc",
       "version_major": 2,
       "version_minor": 0
      },
      "text/plain": [
       "Batches:   0%|          | 0/1 [00:00<?, ?it/s]"
      ]
     },
     "metadata": {},
     "output_type": "display_data"
    },
    {
     "name": "stderr",
     "output_type": "stream",
     "text": [
      "INFO:root:similarity completed. 0.959418773651123\n",
      "INFO:root:Waiting for adjacency to complete...\n",
      "INFO:root:adjacency completed. 0.9604151248931885\n",
      "INFO:root:Waiting for basic to complete...\n",
      "INFO:root:basic completed. 0.9614157676696777\n",
      "  0%|          | 62/39591 [01:15<15:19:18,  1.40s/it]"
     ]
    },
    {
     "name": "stdout",
     "output_type": "stream",
     "text": [
      "deque(['\"익숙함에 속아 소중함을 잊지말자 (Do not get fooled by something familiar and forget what is priceless)\" 라는 명언은 우리가 살아가면서 만드는 인간관계에 가장 잘 적용되고 있다고 생각이 든다.', '예를 들면 가까운 사이로 친하게 지냈던 친구와 다툼이 생겨 안좋은 사이가 되고, 화해를 한 이후에도 서먹한 사이가 되었을때, 거짓말 등을 하여 다른 사람의 신뢰를 잃었을때이다.', '나의 경우에는 친하게 지냈던 친구와 갈등을 빚어 사이가 안좋아졌을때이다.', '나는 한 친구와 아주 가깝게 지냈고, 그 친구는 내 이야기도 잘 들어주었으며 지내는 동안 행복했었고, 우리 친구관계가 소중하게 느껴졌다.', '하지만 나는 이러한 친구의 노력에도 불구하고, 익숙함에 속아 친구의 기분을 생각하지 않고 장난을 쳤었다.', '나는 그장난이 친구도 같이 즐겼다고 생각했다.', '하지만 나의 장난때문에 친구는 나를 멀리하기 시작하였고, 나의 기분또한 침울해졌다.', '소중함을 잃은것이다.', '하지만 나는 친구와의 관계를 다시금 회복하기 위해서 진심어린 사과를 했다.', '친구는 그것을 받아주었고, 우리 둘은 다시 친하게 지내자고 말하였지만, 예전과 같은 관계는 다시 회복되지 못했다.', '내게는 조금의 소중함이라도 되찾은것이 그나마 다행이였다.', '그때 익숙함에 속지않고 현실에 감사하며 친구의 입장을 한번이라도 생각해보았으면 지금은 달라지지 않았을까?', '아직까지 가끔씩 드는 생각이다.', '그 이후로 나는 친구에게든 누구에게든 내 스스로 선을 지키며 행동하자고 다짐했다.', '어떤 사람이건 편견을 가지지않고 누구에게든 친절하게 대하자고 다짐했다.', '내가 지고들어갈지라도 한낱 내 자존심을 위해 다툼과 갈등을 빚는것은 몰상식한 행동이라고 생각했다.', '그때의 다짐이 지금까지 이루어지고 있는지 아닌지 나는 모르겠다.', '내가 상대방에게 상처를 주는 의도로 하지 않았던 말또는 행동이 상대방에게 상처가 됐었던 적이 있었을 지도 모른다.', '\"아픔이 없는 교훈엔 의미가 없다\"라는 말이 있다.', '나는 예전의 나의 잘못된 행동으로 인해 소중함을 잃었던 것을 교훈삼아 소중함을 지키며 살 것이다.'])\n"
     ]
    },
    {
     "name": "stderr",
     "output_type": "stream",
     "text": [
      "INFO:root:Waiting for ttr to complete...\n",
      "INFO:root:ttr completed. 0.6099998950958252\n",
      "INFO:root:Waiting for similarity to complete...\n"
     ]
    },
    {
     "data": {
      "application/vnd.jupyter.widget-view+json": {
       "model_id": "add665458dab40629f7813ff5720c5e5",
       "version_major": 2,
       "version_minor": 0
      },
      "text/plain": [
       "Batches:   0%|          | 0/1 [00:00<?, ?it/s]"
      ]
     },
     "metadata": {},
     "output_type": "display_data"
    },
    {
     "data": {
      "application/vnd.jupyter.widget-view+json": {
       "model_id": "8269204e310f40f384dcd8fe0ec26ca0",
       "version_major": 2,
       "version_minor": 0
      },
      "text/plain": [
       "Batches:   0%|          | 0/1 [00:00<?, ?it/s]"
      ]
     },
     "metadata": {},
     "output_type": "display_data"
    },
    {
     "name": "stderr",
     "output_type": "stream",
     "text": [
      "INFO:root:similarity completed. 0.6699967384338379\n",
      "INFO:root:Waiting for adjacency to complete...\n",
      "INFO:root:adjacency completed. 0.6699967384338379\n",
      "INFO:root:Waiting for basic to complete...\n",
      "INFO:root:basic completed. 0.6709973812103271\n",
      "  0%|          | 63/39591 [01:16<14:41:22,  1.34s/it]"
     ]
    },
    {
     "name": "stdout",
     "output_type": "stream",
     "text": [
      "deque(['기억을 잃어버렸다.', '매일 매일 나는 기억을 잃어버린다.', '과거에 소중하고 재밌는 추억들이 많았던거 같은데 나이를 먹으며 하루 하루 흘려보내다 보면 기억의 샘이 점점 삭막해지는 거 같다.', '분명 어릴때의 소중한 추억들은 많았었다.', '가족과 여행을 갔던것, 친구들과 여행을 갔던것, 친척들과 명절에 모여서 이야기를 나누는것, 주말 오후에 좋아하는 티비 프로그램을 보던것, 학교에서 친구들과 있으면서 생겨나는 소소한 일상등 간직되었으면 하는 기억들이 많지만 점점 사라져간다.', '이젠 내가 가장 좋았을때는 언제였지 생각하면 한참을 고민해도 떠오르지가 않는다.', '앞으로는 더 사라질걸 생각하니 마음이 쓸쓸해진다.', '그래서 과거의 추억이 담겨 있는 물건들을 찬찬히 살펴 보면 기억을 되짚어 보니 무언가 따뜻해지는 느낌이다.', '이와 동시에 어떤 생각이 든다.', '바로 지금의 난 너무 무의미하게 시간을 흘려보내고 있다는것이다.', '그냥 아무 생각 없이 학원을 갔다 집에 와서 컴퓨터 게임을 하고 휴대폰으로 유튜브 시청을 하며 나중에 소중히 추억될수도 있는 시간을 그냥 아무 의미 없이 흘려보내고 있다.', '이렇게 또 시간이 지나다 보면 나중엔 아무 추억이 없을거 같아서 무섭다.', '시간은 금이다 라는 말이 이렇게 와닿은적이 없는데 지금은 정말 와닿는거 같다.', '원래 나는 주어진 시간에 최선을 다하며 무엇이든 열심히 하는 사람들을 보면 굳이 저렇게 까지 열심히? 라는 생각을 했는데 지금은 생각이 바뀐거 같다.', '하나를 하더라도 열중해서 열심히 해야 나에게 남는것이 있는거 같다.', '그러니 이제부턴 나도 모든것을 열심히 하는것은 아니더라도 내가 생각했을때 의미 있고 소중할거 같은 일들만이라도 내가 할수 있는 최선을 다해 후일에 기억에 남을수 있게 아주 열심히 할것이라고 다짐을 한다.'])\n"
     ]
    },
    {
     "name": "stderr",
     "output_type": "stream",
     "text": [
      "INFO:root:Waiting for ttr to complete...\n",
      "INFO:root:ttr completed. 0.6260859966278076\n",
      "INFO:root:Waiting for similarity to complete...\n"
     ]
    },
    {
     "data": {
      "application/vnd.jupyter.widget-view+json": {
       "model_id": "9435f065498e4cc5bc961dca962c4bdd",
       "version_major": 2,
       "version_minor": 0
      },
      "text/plain": [
       "Batches:   0%|          | 0/1 [00:00<?, ?it/s]"
      ]
     },
     "metadata": {},
     "output_type": "display_data"
    },
    {
     "data": {
      "application/vnd.jupyter.widget-view+json": {
       "model_id": "f07cedcec20949efa706efa21e03d2e3",
       "version_major": 2,
       "version_minor": 0
      },
      "text/plain": [
       "Batches:   0%|          | 0/1 [00:00<?, ?it/s]"
      ]
     },
     "metadata": {},
     "output_type": "display_data"
    },
    {
     "name": "stderr",
     "output_type": "stream",
     "text": [
      "INFO:root:similarity completed. 0.7270865440368652\n",
      "INFO:root:Waiting for adjacency to complete...\n",
      "INFO:root:adjacency completed. 0.7280893325805664\n",
      "INFO:root:Waiting for basic to complete...\n",
      "INFO:root:basic completed. 0.7290866374969482\n",
      "  0%|          | 64/39591 [01:17<14:17:49,  1.30s/it]"
     ]
    },
    {
     "name": "stdout",
     "output_type": "stream",
     "text": [
      "deque(['일상이란 단어의 정의를 알고있는가?', '일본의 상사라는 뜻도 있고, 불교에서는 별이 없고 절대적 평등이라는 뜻도 담고 있다.', \"하지만 오늘 내가 다룰 일상은 이런 거창한 것들이 아닌 우리가 평범하게 생각하는 '날마다 반복되는 생활'이다.\", '일상이라는 단어를 듣고는 \"일상이 주제와 무슨 상관이야?\" 라고 말하며 물을 수도 있을 것이다.', '하지만 일상이 있기 때문에 익숙함이란 단어를 알 수 있다.', '익숙함을 느꼈던 것 뿐이였던 것을 당연하다고 여겨 소홀히 생각해왔고 생각하고 생각할 것들이 차고 넘친다는 것이다.', '지금까지의 나의 일상은 다른 고등학생들과 크게 다를 것이 없었다.', '아침 햇살에 눈을 찡그리며 일어나 아침을 먹고 학교에서 공부도 하고 놀기도 하며 시간을 보내다, 집에서 가족들과 대화를 나눈다.', '아마 그랬어야 할 것이다.', '요즘은 공부의 압박감에 짓눌려 꾸준히 챙겨먹던 아침조차 먹지 않고 학교에서 친구랑 말하는 횟수도 줄게 되었다.', '하지만 그렇다고 해서 지금의 일상이 내가 살아온 17년을 대변해주는 것은 아니다.', '즉, 나의 일상은 죽어가고 있다.', '망가질지도 모르지만 하루 하루 꾸역꾸역 버티고 있다.', '지금은 나의 일상을, 17년을 대변해줄 수 없을지도 모르지만 언젠가는 모든 것이 보답 받는 그날까지의 토대를 마련해놓기 위해서 나는 현재진헹형으로 일상을 되찾기 위해 노력하고 있다.', '먼저 중학교 2학년에 사춘기로 인한 엄마와의 대화를 찾기 위해 처음에는 식탁위에서 대화 한줌 부터, 나의 일상에 대한 이야기 까지, 중학교 3학년 때 말다툼이 절교까지 번진 친구와 고등학교에 입학해서 화해도, 나와 눈이 마주친 친구부터 맨날 이야기를 나눈 친구까지 고등학교에 오면서 많은 이별을 했지만 생각날때마다 카톡도 하며 하루하루를 보내고 있다.', '1분, 1초, 1시간, 1달 마다 변하는게 사람의 마음이고 일상이다.', '하지만 지나온 것들, 변해버린 것들을 추억할 수 는 있다.', '즉, 변해버린 것들을 추억하는 것이 내가 일상을 간직하는 방법이다.'])\n"
     ]
    },
    {
     "name": "stderr",
     "output_type": "stream",
     "text": [
      "INFO:root:Waiting for ttr to complete...\n",
      "INFO:root:ttr completed. 0.6148829460144043\n",
      "INFO:root:Waiting for similarity to complete...\n"
     ]
    },
    {
     "data": {
      "application/vnd.jupyter.widget-view+json": {
       "model_id": "9c75c5e9ce0242e8b8ee0f2540ee93ae",
       "version_major": 2,
       "version_minor": 0
      },
      "text/plain": [
       "Batches:   0%|          | 0/1 [00:00<?, ?it/s]"
      ]
     },
     "metadata": {},
     "output_type": "display_data"
    },
    {
     "data": {
      "application/vnd.jupyter.widget-view+json": {
       "model_id": "a49040a3d877411b8fbc37e69c5788c7",
       "version_major": 2,
       "version_minor": 0
      },
      "text/plain": [
       "Batches:   0%|          | 0/1 [00:00<?, ?it/s]"
      ]
     },
     "metadata": {},
     "output_type": "display_data"
    },
    {
     "name": "stderr",
     "output_type": "stream",
     "text": [
      "INFO:root:similarity completed. 0.7158832550048828\n",
      "INFO:root:Waiting for adjacency to complete...\n",
      "INFO:root:adjacency completed. 0.7158832550048828\n",
      "INFO:root:Waiting for basic to complete...\n",
      "INFO:root:basic completed. 0.7168865203857422\n",
      "  0%|          | 65/39591 [01:19<14:10:51,  1.29s/it]"
     ]
    },
    {
     "name": "stdout",
     "output_type": "stream",
     "text": [
      "deque([\"여러분은 '익숙함에 속아 소중함을 잃지 말자(Do not get fooled by something familiar and forget what is priceless)라는 명언을 아는가?\", '누구나 익숙함에 속아서 소중한것을 잃어본 경험이 있을것이다.', '나 또한 익숙함에 속아서 소중한 것을 잃어 본적이 있는데 나는 과거에 매일 있는 자유시간이 영원할 것만 같았기에 그 시간을 나의 자기 개발이나 취미생활을즐기지 않고 낮잠을 자면서 쉬고 놀기에 바빴던 것 같다.', '솔직히 많은 이들이 있다.', '당시에는 이런 생각을 가지고 행동했을것 같다고 생각한다.', '물론 조금 다른아이들도 있을것이다.', '하지만 대부분은 평범한 아이이기에 대부분 나처럼 시간을 흥청망청 썼을 것이다.', \"그렇기에 간혹 나는 '내가 만약 그때 조금 다양한일을 하고 다양한 경험을 했으면 어땠을까..?'라는 생각을한다.\", '이런 생각은 대부분의 사람이 하고있을 것이라고 생각한다.', \"왜냐하면 그 당시에는 그 익숙하던 시간들이 지금 자라서 생각해보면 그때 내가 그랬더라면..' 혹은 '만약 그때 그랬으면 어떻게 되었을까?' 라는 생각이 든다.\", '그때 당시에 평범하다고 생각했던 시간들이 지금 돌이켜보면 소중한 시간들 이었지만 당시에는 내가 그것을 알지 못했기에 익숙함에 속아서 소중한 경험과 시간들을 잃어버리게 된 것 같다고 생각한다.', '이렇기에 나는 내가 그때 당시의 시간들을 흥청망청 썼기에 지금 내가 그때 그 시간을 소중하게 썼던 다른 아이들과는 다르게 더 많은 시간과 노력을 투자하여 그 시간 차이를 매꾸기 위해서 더욱 열심히 하고 있다고 생각한다.', '여러분들도 마찬가지 일꺼라고 생각한다.', '그렇기에 만약 과거로갈수만있다면 그 시간을 헛되이 쓰지 않으리라 다짐 할 수 있을 것이고 이것은 많은 이들도 마찬가지일 것이라고 생각이 든다.', '이 글을 마치면서 만약 당신에게 아직도 당신에게 익숙한 시간이 남아있다면 후회하지 말고 그 시간을 소중히 여기면서 살라고 말하고 싶다.'])\n"
     ]
    },
    {
     "name": "stderr",
     "output_type": "stream",
     "text": [
      "INFO:root:Waiting for ttr to complete...\n",
      "INFO:root:ttr completed. 0.5559999942779541\n",
      "INFO:root:Waiting for similarity to complete...\n"
     ]
    },
    {
     "data": {
      "application/vnd.jupyter.widget-view+json": {
       "model_id": "949d4509dd6142fea1ec95d88355d28d",
       "version_major": 2,
       "version_minor": 0
      },
      "text/plain": [
       "Batches:   0%|          | 0/1 [00:00<?, ?it/s]"
      ]
     },
     "metadata": {},
     "output_type": "display_data"
    },
    {
     "data": {
      "application/vnd.jupyter.widget-view+json": {
       "model_id": "7c2f18fd40824d1a84bf8e15acfa925b",
       "version_major": 2,
       "version_minor": 0
      },
      "text/plain": [
       "Batches:   0%|          | 0/1 [00:00<?, ?it/s]"
      ]
     },
     "metadata": {},
     "output_type": "display_data"
    },
    {
     "name": "stderr",
     "output_type": "stream",
     "text": [
      "INFO:root:similarity completed. 0.6629965305328369\n",
      "INFO:root:Waiting for adjacency to complete...\n",
      "INFO:root:adjacency completed. 0.6649963855743408\n",
      "INFO:root:Waiting for basic to complete...\n",
      "INFO:root:basic completed. 0.6659977436065674\n",
      "  0%|          | 66/39591 [01:20<13:50:08,  1.26s/it]"
     ]
    },
    {
     "name": "stdout",
     "output_type": "stream",
     "text": [
      "deque(['우리는 종종 듣곤 한다.', \"'나는 세상에 하나밖에 없는 소중한 사람'또는 학교에서 하는 자살예방 교육에서도 항상 나는 소중하다는 것을 개닫게 하듯이 여러번 강조한다.\", \"여기서 '소중하다'라는 것은 무엇일까?\", '국어사전에서는 매우 귀중하다, 귀하다 라고 정의되어있다.', '하지만 나는 조금 다르게 생각한다.', '나는 소중하다가 사랑하다라는 것과 비슷하다라고 생각한다.', '우리는 모두 사랑을 받고 살아간다.', '부모님께서 자식에게 주는사랑, 친구들끼리의 사랑, 연인들의 사랑.', '우리는 항상 사랑을 받고 살아왔는데, 우리는 사랑받고 있는지 표현을 안하면 알수가 없다.', '소중하다는 것도 마찬가지이다.', '우리는 다 소중한 존재인데 그걸 모르고 있는 사람들이 많다.', \"이런 점에서 '소중하다'와 '사랑하다'는 비슷한 말인것 같다.\", '그렇다면 익숙함에 속아 소중함을 잃지 않으려면 어떻게 해야 할까?', '나는 항상 자신을 사랑하고 자신을 소중히 여겨야 한다고 생각한다.', '우리나라는 OECD가입국 중에서 청소년 자살률 1위에 해당한다.', '그리고 청소년 행복률도 뒤에서 1등이다.', '우리나라는 왜 청소년 자살률 1위일까?', '교육적 스트레스가 가장 큰 이유일것 같은데, 왜 청소년들은 자신을 소중하게 여기지 않는것일까.', '항상 반복되고 똑같은 일상에서 익숙함에 속아 자신이 소중하다는 것을 잊어버리는것 같다.', \"영화 '두근두근 내인생'에서는 조로병에 걸려 신체나이가 80세여서 곧 죽을 16살 아름이에게 그의 친구 서하가 언제 가장 살고 싶냐고 물어본다.\", '아름이는 푸른 하늘에 구름을 볼때, 빨래 냄새를 맡을때, 무뚝뚝한 동네 아저씨가 드라마를 보고 울때 살고 싶어진다고 대답한다.', '생각해보면 이런 것들은 장황한것들이 아니라 우리가 흔히 이상에서 볼수있는 것들이다.', '아름이는 일상에서 쉽게 볼수 있는 것들을 쉽게 볼수 없어서 이런 말을 하는데 우리는 너무 쉽게, 편하게 경험할수 있는 것들이다.', '왜냐하면 우리는 병원에서 반평생을 보내지 않기 때문이다.', '이렇듯 우리가 흔히 누리는 것을 다른 이는 못한다고 생각하면 모든것들이 소중하게 느껴진다.', '따라서 익숙함에 속아 소중함을 잃지 말고 항상 자기 자신을 사랑하자.'])\n"
     ]
    },
    {
     "name": "stderr",
     "output_type": "stream",
     "text": [
      "INFO:root:Waiting for ttr to complete...\n",
      "INFO:root:ttr completed. 0.589073657989502\n",
      "INFO:root:Waiting for similarity to complete...\n"
     ]
    },
    {
     "data": {
      "application/vnd.jupyter.widget-view+json": {
       "model_id": "ce85696a170d4f9987c694b53adeeddf",
       "version_major": 2,
       "version_minor": 0
      },
      "text/plain": [
       "Batches:   0%|          | 0/1 [00:00<?, ?it/s]"
      ]
     },
     "metadata": {},
     "output_type": "display_data"
    },
    {
     "data": {
      "application/vnd.jupyter.widget-view+json": {
       "model_id": "ac15c9edce2c4dbdb335acfbc6f041ad",
       "version_major": 2,
       "version_minor": 0
      },
      "text/plain": [
       "Batches:   0%|          | 0/1 [00:00<?, ?it/s]"
      ]
     },
     "metadata": {},
     "output_type": "display_data"
    },
    {
     "name": "stderr",
     "output_type": "stream",
     "text": [
      "INFO:root:similarity completed. 0.7350738048553467\n",
      "INFO:root:Waiting for adjacency to complete...\n",
      "INFO:root:adjacency completed. 0.7360737323760986\n",
      "INFO:root:Waiting for basic to complete...\n",
      "INFO:root:basic completed. 0.7370743751525879\n",
      "  0%|          | 67/39591 [01:21<14:21:09,  1.31s/it]"
     ]
    },
    {
     "name": "stdout",
     "output_type": "stream",
     "text": [
      "deque(['익숙한 것에 대한 소중함을 잃은 적이 많다.', '항상 감사해야 하는 것이라 생각은 하지만 실천이 어려운 것 같다.', '이번 코로나 사태로 많은 사람들이 일상을 잃었고 나 또한 일상을 잃었다.', '한 번 익숙한 것을 잃고 보니 당연한 것이라 생각했던 것도 한순간에 잃을 수 있으니 감사하자는 생각이 들었다.', '예전에는 맨 얼굴을 보고 해외여행도 자유롭게 가고 많은 사람들과 공연을 즐기는 것들이 당연했다.', '이젠 당분간은 하지 못하는 것들이다.', '과거의 나는 학교에 가기 싫어하고 항상 주말, 방학과 같은 하루하루를 보내고 싶어 했다.', '작년은 코로나로 개학을 하지 못해 원래 가야하던 학교를 가지 못했다.', '처음에는 너무너무 좋았는데 계속 학교도 못가고 밖에 나가는 것도 함부로 못하니깐 너무 힘들었다.', '무기력해지고 아무것도 하기 싫고 휴대폰 말고는 할 것이 없다고 느껴졌다.', '그러다 온라인으로 수업을 한다는 소식을 들었다.', '무기력해지던 나에게는 수업을 집에서라도 하는 것이 설렜던 것 같다.', '편안하겠다고 생각을 했었지만 오히려 온라인이 더 힘들었다.', '수업시간에 잠이 오고 집중도 되지 않았다.', '선생님들께서도 원래 하던 방식도 아니고 우리가 수업을 제대로 듣는지 보지도 못하니 힘드실 거라고 생각했다.', '학교에서 오프라인으로 수업을 하던 것은 당연한 것이 아니고 소중한 것이었다는 것을 깨달았다.', '선생님 얼굴, 친구들 얼굴을 보며 수업을 하고 모둠 수업과 같이 함께 하는 것들도 이제는 못한다는 것이 속상했다.', '시간이 지나고 우리는 마스크를 쓰고 학교에 갈 수 있게 되었다.', '마스크를 쓴 모습들이 이제는 익숙해 졌지만 그때의 나는 어색했던 것 같다.', '방역수칙을 지키기 위한 행동들 하나하나가 나에게는 불편하고 어색하게 다가왔다.', '온라인 수업에 그새 익숙해졌는지 금방 피곤해지기도 했다.', '온라인과 오프라인을 섞어서 하다 보니 혼란스러웠다.', '시험은 다가오는데 공부를 하고 싶은 마음은 좀처럼 들지 않고 공부를 해도 잘 되지 않았다.', '그러다 보니 결과는 항상 받던 점수보다 낮게 나왔고 우울해졌던 것 같다.', '코로나로 인한 변화에 적응을 한 줄 알았지만 적응을 한 척 했던 것 같다.', '지금의 나도 완전히 적응했다고 보기는 힘들다.', '하지만 지금은 예전보다는 이 상황을 잘 극복해나가는 것 같다.', '시험이 끝나고 여름방학 왔다.', '방학 때 나는 상황을 잘 극복해보자는 마음으로 공부도 조금씩 하고 약간의 취미생활도 만들었다.', '오히려 코로나 전의 방학보다 알차게 보낸 기분이었다.', '하지만 한순간에 나태해진 나를 변화시키는 것을 어려운 일이었다.', '그래서 개학을 하고나서도, 겨울방학 오고도 나는 계획적으로 열심히 살고자 노력했다.', '꾸준히 인강도 보고 공부도 하고 운동도 하며 시간을 보냈고 양모로 인형 만들기 등 여러 취미 생활도 했다.', '또한 이번에는 진로를 위해서 여러 영상들도 찾아보고 책들도 많이 읽으면서 유익한 시간을 보냈다.', '코로나 사태로 익숙한 것들을 많이 잃었다.', '이런 상황을 극복하기 위해서 많은 노력을 했고 앞으로도 할 예정이다.', '처음에는 힘든 점들이 많았지만 나름대로 긍정적으로 내 생활이 변한 것 같다.', '이 사태로 인해 오히려 나를 변화 시킨 점들도 많았다.', '이 경험으로 소중한 일상들을 다시 찾게 되었을 때 익숙한 것들 당연하다고 생각한 것들을 더 소중히 여기게 될 것이다.', '하루빨리 일상들과 잃었던 많은 것들을 다시 찾게 되면 좋겠다.'])\n"
     ]
    },
    {
     "name": "stderr",
     "output_type": "stream",
     "text": [
      "INFO:root:Waiting for ttr to complete...\n",
      "INFO:root:ttr completed. 0.7020001411437988\n",
      "INFO:root:Waiting for similarity to complete...\n"
     ]
    },
    {
     "data": {
      "application/vnd.jupyter.widget-view+json": {
       "model_id": "26eb0b77a1674b759f99fb9b01a2587b",
       "version_major": 2,
       "version_minor": 0
      },
      "text/plain": [
       "Batches:   0%|          | 0/1 [00:00<?, ?it/s]"
      ]
     },
     "metadata": {},
     "output_type": "display_data"
    },
    {
     "data": {
      "application/vnd.jupyter.widget-view+json": {
       "model_id": "dcf966eef39d47c6a269df8adba30284",
       "version_major": 2,
       "version_minor": 0
      },
      "text/plain": [
       "Batches:   0%|          | 0/1 [00:00<?, ?it/s]"
      ]
     },
     "metadata": {},
     "output_type": "display_data"
    },
    {
     "name": "stderr",
     "output_type": "stream",
     "text": [
      "INFO:root:similarity completed. 0.9350001811981201\n",
      "INFO:root:Waiting for adjacency to complete...\n",
      "INFO:root:adjacency completed. 0.9360003471374512\n",
      "INFO:root:Waiting for basic to complete...\n",
      "INFO:root:basic completed. 0.9360003471374512\n",
      "  0%|          | 68/39591 [01:23<16:39:25,  1.52s/it]"
     ]
    },
    {
     "name": "stdout",
     "output_type": "stream",
     "text": [
      "deque(['익숙함 이라는 단어는 그저 듣기로만 듣는다면 추억을 회상시키거나 편안함, 안락함을 주는 단어라고 생각이 들 수 있는 단어이다.', '하지만 사람과의 관계에서 익숙함이라는 단어는 꽤나 무섭게 사용된다고 생각한다.', '흔히들 연인과의 관계에서 익숙함이라는 단어가 사용되면 연인과 있는 시간, 태도, 배려, 고마움 등등 서로가 당연해지면서 권태기가 찾아와 이별을 맞이하는 경우가 많다.', '그렇게 떠나보내고서야 후회하는 경우가 절반 이상이다.', '나는 아직 연인으로서의 익숙함을 경험해보지는 못했다.', '하지만 가족과의 관계에서는 굉장히 많이 느끼게 됐었다.', '항상 옆에 있어주고 서로를 응원해주며 격려해주는 소중한 관계를 너무 당연하게 생각하게 되니 괜스레 화풀이를 하거나 짜증을 내고 심해지면 큰 소리까지 오가는 경우도 나타났다.', '이렇게 내가 짜증을 자주 내고 스트레스 받은 일들을 가족에게 화풀이 하자 가족들이 더 이상 나와 이야기 하고싶어하지 않거나 대화를 거부하는 경우들도 많았다.', '이러한 관계가 지속되니 가족들이 점점 불편해지기만 했고 얘기를 꺼내는 것조차 힘들어졌었다.', '이러한 상황들이 더욱 지속되지 않도록 나는 가족들의 말을 하나하나 더 신경써서 듣고, 내 기분 내 감정만 내세우기보다는 가족들의 마음을 이해해보려고 노력하였다.', '또한 가족들이 내 기분을 이해해주고 한발 물러나주는 것이 당연한 것이 아님을 인지하고 고마운 마음을 갖고 가족들에게 더 나은 가족 구성원이 되고자 노력하였다.', '그렇게 한달즈음 지났을 무렵에는 다시 우리 집의 분위기는 전처럼 편안하고 안정적인 느낌이 가득 나는 분위기로 돌아왔다.'])\n"
     ]
    },
    {
     "name": "stderr",
     "output_type": "stream",
     "text": [
      "INFO:root:Waiting for ttr to complete...\n",
      "INFO:root:ttr completed. 0.5639998912811279\n",
      "INFO:root:Waiting for similarity to complete...\n"
     ]
    },
    {
     "data": {
      "application/vnd.jupyter.widget-view+json": {
       "model_id": "67be72addd66434694592b72764c8511",
       "version_major": 2,
       "version_minor": 0
      },
      "text/plain": [
       "Batches:   0%|          | 0/1 [00:00<?, ?it/s]"
      ]
     },
     "metadata": {},
     "output_type": "display_data"
    },
    {
     "data": {
      "application/vnd.jupyter.widget-view+json": {
       "model_id": "013dce997c6441eaa03ccb8537102f26",
       "version_major": 2,
       "version_minor": 0
      },
      "text/plain": [
       "Batches:   0%|          | 0/1 [00:00<?, ?it/s]"
      ]
     },
     "metadata": {},
     "output_type": "display_data"
    },
    {
     "name": "stderr",
     "output_type": "stream",
     "text": [
      "INFO:root:similarity completed. 0.6200003623962402\n",
      "INFO:root:Waiting for adjacency to complete...\n",
      "INFO:root:adjacency completed. 0.6210000514984131\n",
      "INFO:root:Waiting for basic to complete...\n",
      "INFO:root:basic completed. 0.6220002174377441\n",
      "  0%|          | 69/39591 [01:24<15:05:27,  1.37s/it]"
     ]
    },
    {
     "name": "stdout",
     "output_type": "stream",
     "text": [
      "deque(['나는 어릴적부터 어머니와 사이가 그리 좋진않았다.', '큰 문제가 있었던건 아니다, 나는 건강했고 어머니와 아버지는 자가를 소유했으며 안정적인 직장이 있었다.', '하지만 문제가 있었다면 그건 나였다.', '나는 초등학교 2학년때부터 공부를 전혀 하지 않았다.', '그럴때마다 어머니는 나를 혼내셨고 때로는 남들과는 다른 훈육방법으로 묵언을 사용하셨다.', '대화를 하지 못한다는건 다른사람들에겐 어떤의미 인지 모르겠지만 나에겐 정말 큰 공포였다.', '한번은 몇 달동안 제대로 된 대화를 못한적도 있었다.', '그런 훈육법과 함께 어머니와 나는 중학교 2학년때 까지 지냈고.', '지금은 어느정도 관계가 복구되고 있다, 부유하다곤 못해도 부족하다곤 하지못할 안정적인, 하지만 내 스스로 미래를 준비하지 않으면 편안한 미래를 보장할 순 없는 정도인,한마디로 그저 평범한 중산층 가정이다.', '여기까지가 내가 생각하는 내 집안사정과 가정사의 객관적인 정리다.', '나는 내가 가진것에 대해 행복해하고자 이 이전에도 노력해왔다.', '원래 사람이 좋은것보단 나쁜 것을 크게 받아들이는건 당연한 이치라고 생각하기에 가진것에 만족해하고자 해왔다.', '하지만 그럼에도 만족하지못하고 불만을 가진 것은 언제나 있어왔다.', '바로 어머니와의 관계였다.', '어릴때는 어머니의 사랑이 당연한것인줄로만 알았다.', '하지만 점점 몸과함께 머리가 커져가니 감정의 분출을 참고 어 누군가에 대해 무한한 사랑으로 돌봐주는 것은 정말 힘든행위라는 것을 알았고 그렇기에 어릴 때 어머니의 심정이 이해가기 시작했다.', '물론 나도 사람인 이상 어머니에 대해 무한한 사랑을 드릴수는없다, 때론 원망하고 때론 증오할수도 있다.', '하지만 그 기본적인 천륜에 대해 알고있기에 그것을 거스르지는 않을 것이다, 절대로.', '난 이미 너무 늦은것일수도 있는 어머니와의 관계를 긍정적으로 바꾸고싶은 마음이 가득하고.', '그렇기에 나 스스로를 바꾸어 나가고 어머니에 대한 태도도 바꾸어가기 시작했다.', '게임을 끊고, 규칙적인 생활과 어머니와 약간의 대화만으로도 관계는 나아지기 시작하였다.', '그렇게 시간이 지나자 어머니는 자신의 훈육방식에 대해 사과하기 시작하셨고 나도 내 과거의 태도들에대해 사과드리기 시작했다.', '서로 조금의 배려만 있어도 다시 돌아갈 수 있는 어머니와 아들이라는 관계에 대해 뭐가 그리 어렵고 다가가기 싫었는가 그것에 대해 이제는 생각해내기도 힘들다.', '난 나의 어머니를 사랑하고, 아껴드릴수 있는 진심에서 우러나오는 마음을 가지기 시작했으며 어머니도 나와 같을거라고 감히 생각해 본다.'])\n"
     ]
    },
    {
     "name": "stderr",
     "output_type": "stream",
     "text": [
      "INFO:root:Waiting for ttr to complete...\n",
      "INFO:root:ttr completed. 0.613532304763794\n",
      "INFO:root:Waiting for similarity to complete...\n"
     ]
    },
    {
     "data": {
      "application/vnd.jupyter.widget-view+json": {
       "model_id": "bc51d20d0eed4836a297963274765df0",
       "version_major": 2,
       "version_minor": 0
      },
      "text/plain": [
       "Batches:   0%|          | 0/1 [00:00<?, ?it/s]"
      ]
     },
     "metadata": {},
     "output_type": "display_data"
    },
    {
     "data": {
      "application/vnd.jupyter.widget-view+json": {
       "model_id": "30a454dac47c4fd9b1a0e3f06010e5de",
       "version_major": 2,
       "version_minor": 0
      },
      "text/plain": [
       "Batches:   0%|          | 0/1 [00:00<?, ?it/s]"
      ]
     },
     "metadata": {},
     "output_type": "display_data"
    },
    {
     "name": "stderr",
     "output_type": "stream",
     "text": [
      "INFO:root:similarity completed. 0.6855282783508301\n",
      "INFO:root:Waiting for adjacency to complete...\n",
      "INFO:root:adjacency completed. 0.6855282783508301\n",
      "INFO:root:Waiting for basic to complete...\n",
      "INFO:root:basic completed. 0.6865284442901611\n",
      "  0%|          | 70/39591 [01:26<15:17:10,  1.39s/it]"
     ]
    },
    {
     "name": "stdout",
     "output_type": "stream",
     "text": [
      "deque([\"국어사전에 등록된 '소중함'의 의미는 `소중하다.`를 뜻하는데 형용사로는 매우 귀중하다고 쓰이고 유의어로는 귀하다, 귀중하다, 긴하다로 쓰입니다.\", '일상에서는 소소한 소중함을 잊고 살아갑니다.', '위에 먼저 알아본 뜻과 같이 귀중한 무언가를 일상에서 얻고 잃으며 살아갑니다.', '혹시 여러분들은 무언가를 얻기 위해 소중한 무언가를 잊은 채로 놓친 적이 있으십니까?', '저는 무언가에 정신이 몰리면 다른 것들을 신경 쓰지 못하는 성격이라서 집에서 마음대로 안 되는 일들이 많아서 기분이 상한 체로 학교에 갔는데 친구가 힘들어하는 걸 모르고 사소한 것으로 트집이 잡히자 싸우게 되는 일이 있었습니다.', '당연히 후회했고 이런 일들을 줄이기 위해서 꾸준히 복잡하게 생각을 하지 않는 연습을 했습니다.', '그리고 생각을 버리고 정리하는 방법을 찾기 위해 노력을 했고 노력을 하는 것만으로도 생각을 버실 수 있다는 결론을 얻었습니다.', '저만의 방법을 적어보자면 가장 중요하다고 생각하는 것은 충분히 생각하는 시간이라고 생각합니다. 생각을 버리기 위해서는 충분한 준비운동이 필요한데 이 준비운동이 충분히 생각하는 시간이라고 생각하기 때문입니다. 그 다음으로는 대화가 필요합니다. 간단해도 좋고 깊은 이야기여도 좋습니다. 이렇게 노력하다 보면 어느새 생각을 버리는 방법을 알게 됩니다. 소중함을 잊지 않기 위해 더 큰 노력과 시간이 필요할 것입니다. `소중함`이라는 단어를 다시 되새기며 글을 마무리하겠습니다.'])\n"
     ]
    },
    {
     "name": "stderr",
     "output_type": "stream",
     "text": [
      "INFO:root:Waiting for ttr to complete...\n",
      "INFO:root:ttr completed. 0.569016695022583\n",
      "INFO:root:Waiting for similarity to complete...\n"
     ]
    },
    {
     "data": {
      "application/vnd.jupyter.widget-view+json": {
       "model_id": "87156bd6f54247e79c85a55b99e0b8c6",
       "version_major": 2,
       "version_minor": 0
      },
      "text/plain": [
       "Batches:   0%|          | 0/1 [00:00<?, ?it/s]"
      ]
     },
     "metadata": {},
     "output_type": "display_data"
    },
    {
     "data": {
      "application/vnd.jupyter.widget-view+json": {
       "model_id": "ea0c5297bdf64359afc6ccf9b6f6f552",
       "version_major": 2,
       "version_minor": 0
      },
      "text/plain": [
       "Batches:   0%|          | 0/1 [00:00<?, ?it/s]"
      ]
     },
     "metadata": {},
     "output_type": "display_data"
    },
    {
     "name": "stderr",
     "output_type": "stream",
     "text": [
      "INFO:root:similarity completed. 0.6380167007446289\n",
      "INFO:root:Waiting for adjacency to complete...\n",
      "INFO:root:adjacency completed. 0.6400177478790283\n",
      "INFO:root:Waiting for basic to complete...\n",
      "INFO:root:basic completed. 0.6410167217254639\n",
      "  0%|          | 71/39591 [01:27<13:58:34,  1.27s/it]"
     ]
    },
    {
     "name": "stdout",
     "output_type": "stream",
     "text": [
      "deque(['나는 초등학교 때부터 친한 친구가 한 명 있었다.', '항상 학교에서도 붙어 있고 학교 마치고도 항상 놀고 그게 나와 그 친구의 일상이었다.', '이런 일상이 5년 정도 지속되다 보니 나도 익숙해져서 그 친구에게 좋게 말하면 무관심하고 나쁘게 말하면 지쳤다.', '그래서 행동을 바르게 하지 못했다.', '예를 들면 다른 친한 친구와 놀려고 그 친구와의 약속을 회피해 버렸고 친구의 연락을 잘 보지 않았다.', '이런 나의 태도에 지친 친구는 이제 나에게 먼저 연락하는 일이 줄었다.', '나는 아직 그것을 인지하지 못하고 다른 친구와 잘 놀고 있었다.', '2주 동안 연락이 안 오자 분명 편했는데 어딘가 불편한 마음이 들었다.', '나는 2주 후에야 내 마음을 인지한 것이다.', '그 친구에게 다시 연락을 해 보고 싶었지만 전에 했던 내 행동들이 너무 못됐다.', '나는 후회스러움과 그 친구에 대한 미안함과 보고 싶음에 밤마다 울었다.', '나는 친구를 놓치고 싶지 않아서 진심으로 사과하고 관계를 회복하고자 마음먹었다.', '학교 끝나고 문자로 며칠간 적어두던 사과문을 보냈다.', '그러자 정말 다행히도 나의 진심을 받아주었다.', '나는 그 순간 안도감과 긴장감이 풀려서 눈물이 났다.', '친구와 다시 놀게 되고 나는 그 아이와 처음 만난 순간으로 돌아간 것처럼 행동했다.', '말 귀담아 들어주기, 연락 잘 보기, 하는 말에 반응 잘 해주기 등 정말 별거 아닌 것들이다.', \"'익숙함에 속아 소중함을 잊지 말자' 대부분 가장 잘 알고 있는 속담이다.\", '떠나간 사람에게 뒤늦게 후회하지 말고 평소에 잘 하자는 의미로 나는 이제 해석한다.', '만약 이 사람의 소중함을 잘 깨닫지 못할 때는 내 옆에 없다면 어떻게 될지 상상해봐라.', '아마 절대 놓지 못할 인연일 것이다.', '나는 이 속담의 진정한 뜻을 알게 해 준 내 친구에게 정말 고맙다.', '그리고 이게 나의 좌우명이다.'])\n"
     ]
    },
    {
     "name": "stderr",
     "output_type": "stream",
     "text": [
      "INFO:root:Waiting for ttr to complete...\n",
      "INFO:root:ttr completed. 0.6351373195648193\n",
      "INFO:root:Waiting for similarity to complete...\n"
     ]
    },
    {
     "data": {
      "application/vnd.jupyter.widget-view+json": {
       "model_id": "25f79a2c072842658819ecbfc2f14df8",
       "version_major": 2,
       "version_minor": 0
      },
      "text/plain": [
       "Batches:   0%|          | 0/1 [00:00<?, ?it/s]"
      ]
     },
     "metadata": {},
     "output_type": "display_data"
    },
    {
     "data": {
      "application/vnd.jupyter.widget-view+json": {
       "model_id": "0ce8a790245d4afba992adf34802f514",
       "version_major": 2,
       "version_minor": 0
      },
      "text/plain": [
       "Batches:   0%|          | 0/1 [00:00<?, ?it/s]"
      ]
     },
     "metadata": {},
     "output_type": "display_data"
    },
    {
     "name": "stderr",
     "output_type": "stream",
     "text": [
      "INFO:root:similarity completed. 0.7541513442993164\n",
      "INFO:root:Waiting for adjacency to complete...\n",
      "INFO:root:adjacency completed. 0.7561516761779785\n",
      "INFO:root:Waiting for basic to complete...\n",
      "INFO:root:basic completed. 0.7571513652801514\n",
      "  0%|          | 72/39591 [01:28<14:27:32,  1.32s/it]"
     ]
    },
    {
     "name": "stdout",
     "output_type": "stream",
     "text": [
      "deque(['익숙함에 속아 소중한것을 잃지 말자는 명언이 있다.', '하지만 난 이 명언을 무시하고 소중한것을 잃었던 경험이 있다.', '이제부터 이 경험에 대해 얘기해보려한다.', '나는 중학교 1학년 끝날 때쯤에 친구와 싸웠던 기억이 있다.', '그 친구는 너무 나와 잘 맞는 친구였고 너무 좋은 친구였다.', '하필 내가 철이 없던 중2 근처의 시기에 그 친구를 잃어버린것이다.', '내가 그 친구를 잃은 계기는 지금이나 예전이나 아무리 생각해봐도 너무 창피하다.', '정말 말하기 창피하지만 그 친구가 했던 다른 친구의 뒷담을 내가 그 친구에게 전달한것이다.', '그래서 사건이 일어났었고 2학년이 되어서 서로 어색해졌다.', '나는 그 친구의 소중함을 잃은 뒤에 정신을 차리고 그제서야 부끄러움이 몰려오고 많은 생각과 성찰을 하게되었다.', '일단 나는 어떻게 하면 그 친구에게 진정한 거짓되지않은 미안함을 전할 수 있을까 생각하다가 나는 사과하고싶지만 그 친구는 단단히 상처를 입어서 조금 그 상처를 완화시킬 시간이 필요하다고 생각해서 조금 참기로 했다.', '그 시간동안 많은 고민끝에 사과를 했다.', '그 이후로 그 친구와 예전만큼은 아니지만 사이가 나아진게 눈에 보였다.', '그리고 이 일을 겪은 후에는 다른 친구의 말을 절대 옮기지않고 누군가의 비밀을 꼭 지켜주는 사람이 되었다.', '이일이 일어난건 너무 부끄럽지만 그래도 이러한 기회를 통해 내가 더 나은 사람이 된거 같아 좋다!!', '앞으로 내가 커서 누군가에게 이런얘길 해줄 기회가 있으면 좋겠다.', '왜냐하면 이 얘기를 통해 상대가 더 나은사람이 되도록 도울수있기 때문이다.'])\n"
     ]
    },
    {
     "name": "stderr",
     "output_type": "stream",
     "text": [
      "INFO:root:Waiting for ttr to complete...\n",
      "INFO:root:ttr completed. 0.5744638442993164\n",
      "INFO:root:Waiting for similarity to complete...\n"
     ]
    },
    {
     "data": {
      "application/vnd.jupyter.widget-view+json": {
       "model_id": "a205b6eeb544428fba5e2af0e6b77b33",
       "version_major": 2,
       "version_minor": 0
      },
      "text/plain": [
       "Batches:   0%|          | 0/1 [00:00<?, ?it/s]"
      ]
     },
     "metadata": {},
     "output_type": "display_data"
    },
    {
     "data": {
      "application/vnd.jupyter.widget-view+json": {
       "model_id": "0ae268b16e4c4389a0566ed17cd75178",
       "version_major": 2,
       "version_minor": 0
      },
      "text/plain": [
       "Batches:   0%|          | 0/1 [00:00<?, ?it/s]"
      ]
     },
     "metadata": {},
     "output_type": "display_data"
    },
    {
     "name": "stderr",
     "output_type": "stream",
     "text": [
      "INFO:root:similarity completed. 0.6974637508392334\n",
      "INFO:root:Waiting for adjacency to complete...\n",
      "INFO:root:adjacency completed. 0.6994633674621582\n",
      "INFO:root:Waiting for basic to complete...\n",
      "INFO:root:basic completed. 0.7004644870758057\n",
      "  0%|          | 73/39591 [01:29<14:03:03,  1.28s/it]"
     ]
    },
    {
     "name": "stdout",
     "output_type": "stream",
     "text": [
      "deque(['지금엔 너무나도 당연하지만 과거엔 그렇지 않았던 것에 대하여 요즘 사회를 보면 산골 깊은곳에 있는 시골이 아니고선 어디든지 인터넷이 보급되어 있는데 이 인터넷과 관련된 다시금 깨닳은 소중함에 대한 글짓기입니다.', '저는 컴퓨터 게임을 정말 좋아합니다.', '때문에 하루에도 수시간동안 컴퓨터 게임을하고 학교에서도 쉬는시간마다 친구들과 스마트폰으로 게임을 즐기면서 학교생활을 즐기고 있습니다.', '그런데 어느날 저희 집 자택에 있는 인터넷 랜선이 노후화 되어서 인터넷을 사용하는데 큰 어려움이 있었습니다.', '인터넷이 안돼니 친구들과 저녁에 게임하기로 약속을 했는데 못하게 되어서 아쉬웠고 또 친구들에게 연락해서 못하게 되었다고 말했더니 믿어주지 않는 눈치였었습니다.', '마침 고장나고 난 다음주가 설날이였기에 인터넷을 봐주실 인터넷기사님이 방문하기까지에 너무나도 긴 시간이 들었습니다.', '그 긴시간동안에 지루한 시간들을 어떻게 해야할까? 라는 생각이들었고 저는 그 시간들을 오히려 이용해보자는 생각이 들어서 그 시간동안에 운동을하거나 저만의 취미를 게임뿐만이 아니라 다른 취미도 만들어보자는 취지로 인터넷이 고쳐질 때 까지 이것도 해보고 저것도 해보고 많은 것들을 해보았습니다.', '예를 들자면 악기를 배워 본다거나 평소엔 잘 보지않았던 책이나 영화같은 것들을 보곤 하면서 시간을 보냈습니다.', '이렇게 시간을 보내다보니 게임만하던 과거가 조금은 피폐했던 것 같기도하면서 앞으로는 좀 더 활동적인 삶을 살아보아야지 하고 다짐했습니다.'])\n"
     ]
    },
    {
     "name": "stderr",
     "output_type": "stream",
     "text": [
      "INFO:root:Waiting for ttr to complete...\n",
      "INFO:root:ttr completed. 0.5430221557617188\n",
      "INFO:root:Waiting for similarity to complete...\n"
     ]
    },
    {
     "data": {
      "application/vnd.jupyter.widget-view+json": {
       "model_id": "f161b6a439aa4191beac5e7f0d8c4d20",
       "version_major": 2,
       "version_minor": 0
      },
      "text/plain": [
       "Batches:   0%|          | 0/1 [00:00<?, ?it/s]"
      ]
     },
     "metadata": {},
     "output_type": "display_data"
    },
    {
     "data": {
      "application/vnd.jupyter.widget-view+json": {
       "model_id": "5596181a82604b6b9d9e52835e3095d8",
       "version_major": 2,
       "version_minor": 0
      },
      "text/plain": [
       "Batches:   0%|          | 0/1 [00:00<?, ?it/s]"
      ]
     },
     "metadata": {},
     "output_type": "display_data"
    },
    {
     "name": "stderr",
     "output_type": "stream",
     "text": [
      "INFO:root:similarity completed. 0.6610195636749268\n",
      "INFO:root:Waiting for adjacency to complete...\n",
      "INFO:root:adjacency completed. 0.6630191802978516\n",
      "INFO:root:Waiting for basic to complete...\n",
      "INFO:root:basic completed. 0.6630191802978516\n",
      "  0%|          | 74/39591 [01:31<13:21:18,  1.22s/it]"
     ]
    },
    {
     "name": "stdout",
     "output_type": "stream",
     "text": [
      "deque(['지금엔 너무나도 당연하지만 과거엔 그렇지 않았던 것에 대하여 요즘 사회를 보면 산골 깊은곳에 있는 시골이 아니고선 어디든지 인터넷이 보급되어 있는데 이 인터넷과 관련된 다시금 깨닳은 소중함에 대한 글짓기입니다.', '저는 컴퓨터 게임을 정말 좋아합니다.', '때문에 하루에도 수시간동안 컴퓨터 게임을하고 학교에서도 쉬는시간마다 친구들과 스마트폰으로 게임을 즐기면서 학교생활을 즐기고 있습니다.', '그런데 어느날 저희 집 자택에 있는 인터넷 랜선이 노후화 되어서 인터넷을 사용하는데 큰 어려움이 있었습니다.', '인터넷이 안돼니 친구들과 저녁에 게임하기로 약속을 했는데 못하게 되어서 아쉬웠고 또 친구들에게 연락해서 못하게 되었다고 말했더니 믿어주지 않는 눈치였었습니다.', '마침 고장나고 난 다음주가 설날이였기에 인터넷을 봐주실 인터넷기사님이 방문하기까지에 너무나도 긴 시간이 들었습니다.', '그 긴시간동안에 지루한 시간들을 어떻게 해야할까? 라는 생각이들었고 저는 그 시간들을 오히려 이용해보자는 생각이 들어서 그 시간동안에 운동을하거나 저만의 취미를 게임뿐만이 아니라 다른 취미도 만들어보자는 취지로 인터넷이 고쳐질 때 까지 이것도 해보고 저것도 해보고 많은 것들을 해보았습니다.', '예를 들자면 악기를 배워 본다거나 평소엔 잘 보지않았던 책이나 영화같은 것들을 보곤 하면서 시간을 보냈습니다.', '이렇게 시간을 보내다보니 게임만하던 과거가 조금은 피폐했던 것 같기도하면서 앞으로는 좀 더 활동적인 삶을 살아보아야지 하고 다짐했습니다.'])\n"
     ]
    },
    {
     "name": "stderr",
     "output_type": "stream",
     "text": [
      "INFO:root:Waiting for ttr to complete...\n",
      "INFO:root:ttr completed. 0.5630002021789551\n",
      "INFO:root:Waiting for similarity to complete...\n"
     ]
    },
    {
     "data": {
      "application/vnd.jupyter.widget-view+json": {
       "model_id": "abd6c3f7a5a1455390c246819b2859cc",
       "version_major": 2,
       "version_minor": 0
      },
      "text/plain": [
       "Batches:   0%|          | 0/1 [00:00<?, ?it/s]"
      ]
     },
     "metadata": {},
     "output_type": "display_data"
    },
    {
     "data": {
      "application/vnd.jupyter.widget-view+json": {
       "model_id": "b597543b354948ddb13ab8db1b58b4a7",
       "version_major": 2,
       "version_minor": 0
      },
      "text/plain": [
       "Batches:   0%|          | 0/1 [00:00<?, ?it/s]"
      ]
     },
     "metadata": {},
     "output_type": "display_data"
    },
    {
     "name": "stderr",
     "output_type": "stream",
     "text": [
      "INFO:root:similarity completed. 0.6779117584228516\n",
      "INFO:root:Waiting for adjacency to complete...\n",
      "INFO:root:adjacency completed. 0.6789116859436035\n",
      "INFO:root:Waiting for basic to complete...\n",
      "INFO:root:basic completed. 0.6799118518829346\n",
      "  0%|          | 75/39591 [01:32<12:49:57,  1.17s/it]"
     ]
    },
    {
     "name": "stdout",
     "output_type": "stream",
     "text": [
      "deque(['부모님이 베풀어 주셨던 은혜가 지금도 감사합니다.', '보잘 것 없이 평범하게 태어난 저는 잘하는게 무엇 하나 없는 사람이였습니다.', '항상 무얼 하는 누구에게나 뒤처지는 모습을 자주 보이고 또 아무리 노력해도 다른사람보다 못하단 것을 깨닳을 때 마다 의욕은 점점 사라져 갔습니다.', '그렇게 점점 의욕이 사라져 간 저는 많이 소심해지기도 하고 말을 많이 안하게 되었습니다.', '그럼에도 제 부모님은 항상 절 응원해 주시고 제가 뭘 하고싶다 라고 말하면 긴말없이 시켜주시는 부모님 이였습니다.', '어릴적에 저는 어리석게도 당연하다 라고 생각했었습니다.', '그러다가 학교에서 열리는 과학 경진대회가 있었습니다.', '내용은 공장을 비롯한 생산시설에서 배출되는 오염물질을 해결할수 있는 방법이나 기계를 조금의 상상을 더해서 창작을 하는 대회였습니다.', '삼일을 노력해서 준비해 당일날 발표를 하게 되었는데. 제가 생각했던 아이디어는 저보다 발표 순서가 빨랐던 아이와 겹치게 되었고 그 순간에 자신감을 잃어 버리게 되었습니다.', '제 발표 순서가 되었을때에 어머니가 큰소리로 저에게 응원을 해주셨는데 당시엔 제가 많이 부끄러웠습니다.', '부모님이 댓가없이 제게 주신 사랑을 저는 부끄럽다고 생각한 것입니다.', '그 탓인지 발표도 많이 어색하게 마무리 되었고 집에 가서는 오히려 제가 어머니께 큰소리를 내어 버렸습니다.', '지금은 이랬던 제가 부끄럽지만 당시에 제게 주셨던 부모님의 사랑을 당연하다고 생각하다 못해 부끄럽다고 생각한 제가 참 고통스럽습니다.', '현재로써는 과거의 멍청한 저를 생각하면서 늘 부모님께 효도하면서 살아가고 있지만 앞으로도 죽을때까지 쭉 부모님께 더욱 효도해야 겠습니다.'])\n"
     ]
    },
    {
     "name": "stderr",
     "output_type": "stream",
     "text": [
      "INFO:root:Waiting for ttr to complete...\n",
      "INFO:root:ttr completed. 0.5770142078399658\n",
      "INFO:root:Waiting for similarity to complete...\n"
     ]
    },
    {
     "data": {
      "application/vnd.jupyter.widget-view+json": {
       "model_id": "d5ae7e11412948139428d214bb8354ba",
       "version_major": 2,
       "version_minor": 0
      },
      "text/plain": [
       "Batches:   0%|          | 0/1 [00:00<?, ?it/s]"
      ]
     },
     "metadata": {},
     "output_type": "display_data"
    },
    {
     "data": {
      "application/vnd.jupyter.widget-view+json": {
       "model_id": "79d4a80d4123478683d3a7f47837aa25",
       "version_major": 2,
       "version_minor": 0
      },
      "text/plain": [
       "Batches:   0%|          | 0/1 [00:00<?, ?it/s]"
      ]
     },
     "metadata": {},
     "output_type": "display_data"
    },
    {
     "name": "stderr",
     "output_type": "stream",
     "text": [
      "INFO:root:similarity completed. 0.7226407527923584\n",
      "INFO:root:Waiting for adjacency to complete...\n",
      "INFO:root:adjacency completed. 0.7236413955688477\n",
      "INFO:root:Waiting for basic to complete...\n",
      "INFO:root:basic completed. 0.7256412506103516\n",
      "  0%|          | 76/39591 [01:33<12:48:03,  1.17s/it]"
     ]
    },
    {
     "name": "stdout",
     "output_type": "stream",
     "text": [
      "deque(['제가 격었던 익숙함에 속아 소중함을 잃었던 사례는 제몸에 관한 사례입니다.', '저는 사람들의 시선과 말로 인해 많은 상처를 받고 그로 인해 다이어트를 결심했습니다.', '스트레스를 너무 많이 받아서 인지 스스로를 완전히 변화시키기 위해 다이어트를 엄청 열심히 했습니다.', '남들보다 더 안먹고 남들보다 더 운동하려했습니다.', '그렇게 저는 운동을 매일 3시간씩 하며 밥을 먹지도 않고 굶으며 다이어트를 했습니다.', '그렇게 점점 시간이 지나고 제몸도 점점 망가지고 있었습니다.', '그리고 계속 다이어트를 하던 어느날 영양실조로 인해 잠깐 쓰러지기도 했습니다.', '그래도 다이어트의 욕심이 과했던 저는 계속 다이어트를 하며 7개월정도만에 약 20kg을 빼게 되었습니다.', '다이어트에 만족했던 저는 다시 되돌아보니 제몸은 망가질대로 망가져있었습니다.', '점심을 하루에 한끼 먹어도 살찐다는 생각으로 망가져 있었으며 운동도 했지만 먹은 것이 없어 근육량은 계속 빠져 근육량이 일반사람들 보다 한참 작았습니다.', '그리고 음식소화로 잘 시키지 못할 정도로 몸이 망가졌습니다.', '저는 항상 같이 붙어 있던 제 몸이라는 익숙함에 속아 사는데 가장 중요한 몸과 건강을 잃었습니다.', '그리고 저는 이것을 다시 해결하기 위해 상담도 받고 식생활도 고치려고 노력을 했습니다.', '식생활을 고치기 위해 일부러 더 먹으려고 하고 근육량을 되돌리기 위해 헬스선생님과 함께 균형잡힌 운동도 하고 있습니다.', '제 몸이 망가지는 데는 7개월이 걸렸지만 다시 되돌리기 위한 노력을 1년이 넘도록 했지만 아직 돌아오지 않았습니다.', '저는 앞으로 계속 노력할 것이며 다시는 소중한 몸을 잃지 않으려고 할 것입니다.'])\n"
     ]
    },
    {
     "name": "stderr",
     "output_type": "stream",
     "text": [
      "INFO:root:Waiting for ttr to complete...\n",
      "INFO:root:ttr completed. 0.6322243213653564\n",
      "INFO:root:Waiting for similarity to complete...\n"
     ]
    },
    {
     "data": {
      "application/vnd.jupyter.widget-view+json": {
       "model_id": "a51c34b6a0174457b3be9de65bb1a586",
       "version_major": 2,
       "version_minor": 0
      },
      "text/plain": [
       "Batches:   0%|          | 0/1 [00:00<?, ?it/s]"
      ]
     },
     "metadata": {},
     "output_type": "display_data"
    },
    {
     "data": {
      "application/vnd.jupyter.widget-view+json": {
       "model_id": "35b71220234b45d48710776fd4516559",
       "version_major": 2,
       "version_minor": 0
      },
      "text/plain": [
       "Batches:   0%|          | 0/1 [00:00<?, ?it/s]"
      ]
     },
     "metadata": {},
     "output_type": "display_data"
    },
    {
     "name": "stderr",
     "output_type": "stream",
     "text": [
      "INFO:root:similarity completed. 0.738410234451294\n",
      "INFO:root:Waiting for adjacency to complete...\n",
      "INFO:root:adjacency completed. 0.7404100894927979\n",
      "INFO:root:Waiting for basic to complete...\n",
      "INFO:root:basic completed. 0.7424108982086182\n",
      "  0%|          | 77/39591 [01:34<12:58:04,  1.18s/it]"
     ]
    },
    {
     "name": "stdout",
     "output_type": "stream",
     "text": [
      "deque(['나는 몇 년 전도 아니고 몇개월전에 69일을 사귀던 여자친구가 있었다.', '69일이 언뜻 보면 길 수 도 있고 짧을 수 도 있다.', '나는 그 친구와 짧지만 길었던 연애를 하였다.', '처음에 서로 알게 된 사건이 있다.', '그것은 나도 그 친구도 친구의 소개로 알게 되었다.', '그렇게 나와 그 친구는 연락을 주고 받았다.', '썸을 타면서 서로 안 맞는 것도 맞추면서 가고 오래 가자고 약속도 하며 썸을 탔다.', '썸 타는 기간에 그 친구를 실제로 한 번 보고 싶었지만 썸이 5개월정도 됐을 때 그친구와 만났다.', '그 애는 작고 귀여웠다.', '그 뒤로 우린 사귀게 됐다.', '처음에는 서로 맞추고 연락도 빨리 빨리 보고 애정표현도 많이 했다.', '나는 그친구를 위해 계속 내가 맞추어주었다.', '하지만 이게 익숙했던 것일까..', '그 애는 직접적으로 자기 불만을 말하진않았지만 내가 느끼기엔 자기는 바쁘니까 연락을 알아서 좀 늦게 해라 이런 식이었다.', '이렇게 갑과 을 같은 사이가 된 뒤 부터는 애정표현도 잘 안하고 답장도 3,4시간에 한 번 꼴로 대답하였다.', '그리고 며칠뒤 그 친구는 점심시간 쯤에 헤어지자고 나한테 말했다.', '나는 붙잡았지만 그 친구는 이미 마음이 없는거 같아 나도 놓아주었다.', '그 친구는 내가 다 이해해주고 배려하는게 당연시 느끼며 나와 연애를 한거 같다.', '그 애는 꼭 익숙함에 속아 날 잃은거에 후회를 했으면 좋겠다라고 매일 생각한다.', '나는 그 익숨함을 잃고 날 잃은 애를 잊지 못하고 다시 몇 번을 연락할 려고 했지만 인스타를 언팔을 당했다.', '그리고 내 친구 한테 들었는데 그친구는 나랑 헤어진지 몇개월이 지났다고 벌써 남자가 생긴가 같다거 얘기를 한다.', '난 슬펐지만 나도 내가 너무 잘해준게 후회 스럽기도하고 잘해준건 내 선택이니까 내가 잘못한거 같기도 하다.', '다음에 누구를 만나거나 썸을 탈 때는 내 정을 쉽게 안주겠다고 결심도 하고 이쁘다고 다 좋은 여자애가 아니란걸 걔가 날 떠난 뒤로 알게되었다.'])\n"
     ]
    },
    {
     "name": "stderr",
     "output_type": "stream",
     "text": [
      "INFO:root:Waiting for ttr to complete...\n",
      "INFO:root:ttr completed. 0.5974719524383545\n",
      "INFO:root:Waiting for similarity to complete...\n"
     ]
    },
    {
     "data": {
      "application/vnd.jupyter.widget-view+json": {
       "model_id": "30fbda842a2e46859512257552d03fe9",
       "version_major": 2,
       "version_minor": 0
      },
      "text/plain": [
       "Batches:   0%|          | 0/1 [00:00<?, ?it/s]"
      ]
     },
     "metadata": {},
     "output_type": "display_data"
    },
    {
     "data": {
      "application/vnd.jupyter.widget-view+json": {
       "model_id": "9e811f73c1364099b0cdbaf34c1671dc",
       "version_major": 2,
       "version_minor": 0
      },
      "text/plain": [
       "Batches:   0%|          | 0/1 [00:00<?, ?it/s]"
      ]
     },
     "metadata": {},
     "output_type": "display_data"
    },
    {
     "name": "stderr",
     "output_type": "stream",
     "text": [
      "INFO:root:similarity completed. 0.7184679508209229\n",
      "INFO:root:Waiting for adjacency to complete...\n",
      "INFO:root:adjacency completed. 0.7194693088531494\n",
      "INFO:root:Waiting for basic to complete...\n",
      "INFO:root:basic completed. 0.720468282699585\n",
      "  0%|          | 78/39591 [01:35<13:46:39,  1.26s/it]"
     ]
    },
    {
     "name": "stdout",
     "output_type": "stream",
     "text": [
      "deque(['나는 어릴 때 익숙함에 속아 흰둥이라고 있는 강아지를 잃어 버린것에 대해 어리석다고 생각한다.', '왜냐하면 주택에서 대문을 닫지 않았던 것과 강아지에게 목줄을 달지 않은 것이다.', '톰은 너무 순하고 착하다보니 내가 방치에 가까운 행동을 해도 집을 나가지 않았다.', '하지만 어느날 대문을 닫지않고있다가 톰이 사라진 것을 보았다.', '그렇다 톰은 밖으로 나가버린 것이다.', '만약 내가 익숙함에 속아서 저런 어리석은 것들을 하지 않았더라면 흰둥이는 지금쯤 톰이라 부르던 골든 리트리버와 함께 자라며서 나이를 먹었겠다.', '안좋은 맞이하지 않았을까? 하는 생각들을 한다.', '이때, 개장수가 있을거라는 소문들이 돌았던 때라서 흰둥이의 미래가 더욱 걱정되었다.', '이때는 반려 견은 위한 집이 없던 시대라서 찾을 방법은 단순히 발로 뛰면서 찾는 것 뿐이었다.', '잃어버린 당일날 하루종일 찾아도 톰은 보이지 않았다.', '다음날에는 전단지까지 붙여가면서 찾았고 그 이후에도 톰을 찾았다는 연락만을 기다리면서 하루하루 보내왔다.', '하지만 연락은 오지 않았고 결국 톰은 우리집으로 돌아오지 못했다.', '때문에 따라서 나는 애완동물에게 칩 삽입은 필수라고 생각한다.', '내가 가장 최근 애완동물의 전자칩에 대하여 보았을 때는 정보를 입력해두는 수준이었지만 현재는 더욱 발전하였을것이라고 본다.', '이를 이용하면 만약 잃어 버린다면 적어도 다시 찾을때 도움이 되겠다.', '그렇기에 나는 전자칩을 삽입시키는 것을 제안한다.'])\n"
     ]
    },
    {
     "name": "stderr",
     "output_type": "stream",
     "text": [
      "INFO:root:Waiting for ttr to complete...\n",
      "INFO:root:ttr completed. 0.579808235168457\n",
      "INFO:root:Waiting for similarity to complete...\n"
     ]
    },
    {
     "data": {
      "application/vnd.jupyter.widget-view+json": {
       "model_id": "dab83296dc6b42b2b57915bb72adb3f3",
       "version_major": 2,
       "version_minor": 0
      },
      "text/plain": [
       "Batches:   0%|          | 0/1 [00:00<?, ?it/s]"
      ]
     },
     "metadata": {},
     "output_type": "display_data"
    },
    {
     "data": {
      "application/vnd.jupyter.widget-view+json": {
       "model_id": "ec1337022f704d4183dcf66c39dd2a41",
       "version_major": 2,
       "version_minor": 0
      },
      "text/plain": [
       "Batches:   0%|          | 0/1 [00:00<?, ?it/s]"
      ]
     },
     "metadata": {},
     "output_type": "display_data"
    },
    {
     "name": "stderr",
     "output_type": "stream",
     "text": [
      "INFO:root:similarity completed. 0.6898064613342285\n",
      "INFO:root:Waiting for adjacency to complete...\n",
      "INFO:root:adjacency completed. 0.6908059120178223\n",
      "INFO:root:Waiting for basic to complete...\n",
      "INFO:root:basic completed. 0.6918065547943115\n",
      "  0%|          | 79/39591 [01:37<13:34:39,  1.24s/it]"
     ]
    },
    {
     "name": "stdout",
     "output_type": "stream",
     "text": [
      "deque(['나는 노는것에 익숙해져 시간의 소중함을 잊고 있었던 적이 있었다.', '하지만 나는 잘 모르고 있었다.', '그저 노는게 좋아서 하루종일 노는 날이 많았고 또한 학교에서 공부하는게 지겨워서 보충수업을 빠지고 놀기도 했다.', '그때에 나는 시간을 빨리 보내기 위해 최대한 놀 수 있을 만큼 놀았고 시간이 값을 매길수 없는 정도로 가치있다는 것을 알면서도 모른채 했다.', '그렇게 나는 계속 놀았다.', '무작정 목표없이 살고있었다.', '그러던 어느 날 나는 이런 생각이 들었다.', \"'미래에 나는 어떻게 되어 있을까?\", '이 생각을 하고 난 후 나는 내 꿈을 이루기 위해 책상에 앉는 것에 익숙해지기로 했다.', '처음에는 쉽지만은 않았다.', '매일같이 놀다가 앉아서 공부를 하려니 너무나도 힘들었다.', '하지만 그래도 난 달라지기 위해 매일같이 노력했다.', '공부에 집중을 할수 없어도 일단 무작정 앉아있었다.', '앉아있던 시간이 늘어나고 익숙해지자 공부가 눈에 들어오기 시작했다.', '공부가 눈에 들어오니 성적도 자연스럽게 올라갔다.', '이렇게 목표가 생기고 공부하는게 습관이 되니까 시간의 소중함을 알게 되었고 자존감이 높아지는 기분이었다.', '또한 내가 앞으로 어떻게 살아야할지 또 어떤 방향으로 나아가야할지 갈피도 잡혔다.', '그렇게 나는 지금까지도 내가 앞으로 진학하고싶은 학과와 대학교를 위해 열심히 공부하면서 시간의 소중함을 잊지 않고 살아가고 있다.'])\n"
     ]
    },
    {
     "name": "stderr",
     "output_type": "stream",
     "text": [
      "INFO:root:Waiting for ttr to complete...\n",
      "INFO:root:ttr completed. 0.562999963760376\n",
      "INFO:root:Waiting for similarity to complete...\n"
     ]
    },
    {
     "data": {
      "application/vnd.jupyter.widget-view+json": {
       "model_id": "38bae3c28a4e4c2d8553d43c55424547",
       "version_major": 2,
       "version_minor": 0
      },
      "text/plain": [
       "Batches:   0%|          | 0/1 [00:00<?, ?it/s]"
      ]
     },
     "metadata": {},
     "output_type": "display_data"
    },
    {
     "data": {
      "application/vnd.jupyter.widget-view+json": {
       "model_id": "9c6f4f44984a4fc2b94c1fd0c721e962",
       "version_major": 2,
       "version_minor": 0
      },
      "text/plain": [
       "Batches:   0%|          | 0/1 [00:00<?, ?it/s]"
      ]
     },
     "metadata": {},
     "output_type": "display_data"
    },
    {
     "name": "stderr",
     "output_type": "stream",
     "text": [
      "INFO:root:similarity completed. 0.6660220623016357\n",
      "INFO:root:Waiting for adjacency to complete...\n",
      "INFO:root:adjacency completed. 0.6670229434967041\n",
      "INFO:root:Waiting for basic to complete...\n",
      "INFO:root:basic completed. 0.6680233478546143\n",
      "  0%|          | 80/39591 [01:38<13:32:00,  1.23s/it]"
     ]
    },
    {
     "name": "stdout",
     "output_type": "stream",
     "text": [
      "deque(['처음 이 주제를 받았을 때 익숙함이 뭐지? 라는 생각이 먼저 들었다.', '그래서 익숙함에 대해 생각을 해보았는데, 익숙함이라는 단어의 뜻에는 두가지의 의미가 있다고 생각한다.', '첫 번째는 친숙함이고 두 번째는 질림이다.', '첫 번재의 익숙함의 경우는 거리낌 없이 내 행동과 말을 표출하며 계속해서 다가간다면 두 번째의 익숙함은 상대가 다가와도 필요 없다는 듯이 내빼는 경우이다.', '한가지 단어에 두가지 상반되는 의미가 내포하고있다고 생각하는데, 이것을 생각해볼때 계속 만나도 좋은 사람이 있고 계속 만나면 귀찮은 사람이 있다.', '왜냐면 난 그 친구가 계속 똑같이 행동 할 줄 알았기 때문이다.', '그 친구는 아마 내가 자신을 등한시 한다는 것을 알고있을 것이다.', '모른다면 나의 착각일것이고, 기만일 뿐이다.', '지금 저버려도 나중에도 만날 수 있다고 생각하기에 나를 찾아오는 사람을 후순위에 두고 내가 만나고 싶은 사람을 우선순위에 두어 나를 찾아오는 사람들이 점점 멀어 질 수도 있고 나도 내가 멀리한 사람처럼 내가 찾아가는 사람에게 내가 행동한 것처럼 문전박대 당할수도 있다.', '그렇게 되지 않기 위해서는 일단 나부터 변해야된다고 생각한다.', '인간관계에서는 나를 찾아줄 때 멀리하지 말고 인간관계에 대해 복잡하게 생각하지말고 그냥 잴것없이 내가 끌린다면 만나는게 좋다고 생각한다.', '오늘도 나와 같이 있어주는 친구에게 찾아가봐야겠다.'])\n"
     ]
    },
    {
     "name": "stderr",
     "output_type": "stream",
     "text": [
      "INFO:root:Waiting for ttr to complete...\n",
      "INFO:root:ttr completed. 0.5133728981018066\n",
      "INFO:root:Waiting for similarity to complete...\n"
     ]
    },
    {
     "data": {
      "application/vnd.jupyter.widget-view+json": {
       "model_id": "ea709f50bd904e97a133447f34252582",
       "version_major": 2,
       "version_minor": 0
      },
      "text/plain": [
       "Batches:   0%|          | 0/1 [00:00<?, ?it/s]"
      ]
     },
     "metadata": {},
     "output_type": "display_data"
    },
    {
     "data": {
      "application/vnd.jupyter.widget-view+json": {
       "model_id": "c39a36c2376644b99a4ec69e99f17b74",
       "version_major": 2,
       "version_minor": 0
      },
      "text/plain": [
       "Batches:   0%|          | 0/1 [00:00<?, ?it/s]"
      ]
     },
     "metadata": {},
     "output_type": "display_data"
    },
    {
     "name": "stderr",
     "output_type": "stream",
     "text": [
      "INFO:root:similarity completed. 0.725372314453125\n",
      "INFO:root:Waiting for adjacency to complete...\n",
      "INFO:root:adjacency completed. 0.7263729572296143\n",
      "INFO:root:Waiting for basic to complete...\n",
      "INFO:root:basic completed. 0.7263729572296143\n",
      "  0%|          | 81/39591 [01:39<13:23:52,  1.22s/it]"
     ]
    },
    {
     "name": "stdout",
     "output_type": "stream",
     "text": [
      "deque(['나는 익숙함에 속아 소중한 친구를 잃었던 것 같다.', '어렸을 때, 나는 친구가 별로 없어서 외로웠다.', '하지만 어떤 친구가 계속 나와 함께 해주어서 그 친구가 굉장히 고마웠다.', '어린시절에 나는 친구가 그 친구 하나뿐이였다.', '그 친구는 나랑 같이 게임도 해주고, 밥도 같이 먹고, 이야기도 같이 하였다.', '하지만 학기 말에 접어들면서 친구가 많이 생기고, 그 친구가 나도 모르게 편해지고 익숙하여 막 대하고 비난하여 나한테도 그 친구가 막대하니 어이가 없었다.', '내가 먼저 시작한 것이었는데 나는 그 친구와 다른 친구들이 참 많이 놀았다.', '지금 생각해보면 나를 진정으로 챙겨주고, 생각해주는 친구였는데 이기적으로 생각하여 행동했던 것 같다.', '내가 친구가 없을 때 그 친구가 먼저 손내밀고 찾아와 준 것을 생각했어야 했다.', '하지만 난 그러지 못하고 그 친구를 막대하고 말았다.', '나는 이것을 깨닫고 소중한 그 친구와 다시 친구를 하고 싶다는 마음이 들었다.', '이러한 이유 때문에 최근에 말을 걸려고 시도해 보고, 노력 했지만 소심한 성격과 내가 먼저 절교하자고 선포 하면서 아직까지 화해 못하고 있다.', '하지만 더 노력하면은 분명 나의 진심을 알아 줄것이라고 생각한다.', '앞으로 더 말을걸려고 시도하고, 사과도 하고, 같이 놀자고 먼저 제안함으로써 관계가 회복되기를 노력할 것이다.', '이렇게 나는 익숙함에 속아 소중함을 잃었던 사례로 친구를 잃었던 사례를 이야기했다.'])\n"
     ]
    },
    {
     "name": "stderr",
     "output_type": "stream",
     "text": [
      "INFO:root:Waiting for ttr to complete...\n",
      "INFO:root:ttr completed. 0.5023741722106934\n",
      "INFO:root:Waiting for similarity to complete...\n"
     ]
    },
    {
     "data": {
      "application/vnd.jupyter.widget-view+json": {
       "model_id": "7f5b8d59571a4489aa9be0f17a3f4e26",
       "version_major": 2,
       "version_minor": 0
      },
      "text/plain": [
       "Batches:   0%|          | 0/1 [00:00<?, ?it/s]"
      ]
     },
     "metadata": {},
     "output_type": "display_data"
    },
    {
     "data": {
      "application/vnd.jupyter.widget-view+json": {
       "model_id": "0786131e7a7243b9bee64b3ea2dba99f",
       "version_major": 2,
       "version_minor": 0
      },
      "text/plain": [
       "Batches:   0%|          | 0/1 [00:00<?, ?it/s]"
      ]
     },
     "metadata": {},
     "output_type": "display_data"
    },
    {
     "name": "stderr",
     "output_type": "stream",
     "text": [
      "INFO:root:similarity completed. 0.5590059757232666\n",
      "INFO:root:Waiting for adjacency to complete...\n",
      "INFO:root:adjacency completed. 0.5600054264068604\n",
      "INFO:root:Waiting for basic to complete...\n",
      "INFO:root:basic completed. 0.5600054264068604\n",
      "  0%|          | 82/39591 [01:40<12:49:52,  1.17s/it]"
     ]
    },
    {
     "name": "stdout",
     "output_type": "stream",
     "text": [
      "deque(['소중함이라는 것은 사실 사소한 부분에서부터 오는 것이라고 생각하는데, 그것을 가장 크게 느낀 것은 코로나19가 터진 이후였습니다.', '국내에서 코로나19 환자가 처음 발생하던 날이 아직도 잊혀지지 않는데, 그 날은 가장 사랑하는 친구들과 오랜만에 만나 밥을 먹고 있던 날이었습니다.', '밥을 먹으면서 이런 저런 이야기를 하고 있었는데, 가게에서 국내 1호 환자가 발생했대 진짜 큰일난거 아니야? 라는 소리가 크게 들렸고 우리도 부랴부랴 기사를 찾아보면서 서로 \"조심해야겠다\" 라던가 각자 그릇에다가 예비용 수저나 젓가락으로 담아서 뷔페식처럼 먹자 등등 여러가지를 얘기했던 기억이 납니다.', '그 이후로 학교 안에서의 생활도 많이 달라져서 이 날은 아직도 잊혀지지 않는 날 중 하루입니다.', '항상 지루하기만 했던 수업이지만, 그 수업 속에서 친구들과 몰래 떠들던 기억이나 동아리 활동을 하며 만났던 시간들이 순식간에 없어져버렸고, 처음에는 좋아하던 학원 친구들과 수업도 같이 못 듣게 되어 집에 갇혀있는게 이 순간이 영원할 것 같은 느낌이 들었습니다.', '지금이야 적응을 했고, 만나고 싶던 친구들과 다같이는 못 만나더라도 한 두명씩 약속을 잡아 얼굴을 나눠보는 시간도 생겨서 굉장히 삶의 활력이 돌고 있습니다.', '소중함이라는 주제를 받아보며 가장 먼저 떠오르는 것은 이런 사소한 일상도 뒤돌아 생각해보니 영원하지 않을 수 있다는 것 그렇기에 더욱 소중했다라는 생각이 들어서 적을 수 있는 것 같습니다.', '다음에 만났을 때는 친구들에게 오랜만에 소중한 만남을 이어갈 수 있었음에 감사하고 또 감사하다 라고 전할 수 있는 사람이 되고 싶습니다.'])\n"
     ]
    },
    {
     "name": "stderr",
     "output_type": "stream",
     "text": [
      "INFO:root:Waiting for ttr to complete...\n",
      "INFO:root:ttr completed. 0.5719997882843018\n",
      "INFO:root:Waiting for similarity to complete...\n"
     ]
    },
    {
     "data": {
      "application/vnd.jupyter.widget-view+json": {
       "model_id": "83e092583c4747c182d8cbef38bf0dd9",
       "version_major": 2,
       "version_minor": 0
      },
      "text/plain": [
       "Batches:   0%|          | 0/1 [00:00<?, ?it/s]"
      ]
     },
     "metadata": {},
     "output_type": "display_data"
    },
    {
     "data": {
      "application/vnd.jupyter.widget-view+json": {
       "model_id": "3b006664331848fe9fbf9a2f98e7bbdc",
       "version_major": 2,
       "version_minor": 0
      },
      "text/plain": [
       "Batches:   0%|          | 0/1 [00:00<?, ?it/s]"
      ]
     },
     "metadata": {},
     "output_type": "display_data"
    },
    {
     "name": "stderr",
     "output_type": "stream",
     "text": [
      "INFO:root:similarity completed. 0.6820006370544434\n",
      "INFO:root:Waiting for adjacency to complete...\n",
      "INFO:root:adjacency completed. 0.6830003261566162\n",
      "INFO:root:Waiting for basic to complete...\n",
      "INFO:root:basic completed. 0.6850011348724365\n",
      "  0%|          | 83/39591 [01:41<12:33:30,  1.14s/it]"
     ]
    },
    {
     "name": "stdout",
     "output_type": "stream",
     "text": [
      "deque(['어릴적부터 사이가 좋은 친구가 있는데, 이 친구와 몇 해 전에 겪었던 일 덕분에 항상 소중한 사람에게 감사하며 살자라는 생각을 갖게 되었고, 말로 감사함을 표현하고자 한다.', '하루는 이 친구가 나한테 \"나한테 불만있으면 말로 해\"라고 뜬금없이 얘기를 했다.', '전혀 불만이 없었는데, 무슨 얘기인건지 몰라서 \"그런거 없어\"라고 말을 했는데, 오해를 했는지 불만이 있는데 숨기고 있다는 식으로 받아들이게 된 것이다.', '그 이후로 이 친구가 거의 반년 가까이를 나를 피해다녔는데, 너무 눈에 띄게 나를 피하는 것이 나한테도 느껴져서 서러움에 같이 누가 이기나 해보자 라는 식으로 말을 안 한 적이 있다.', '그랬는데 부모님끼리도 친한 사이라 어쩌다보니 하루 만나게 되었다.', '부모님들께서도 서로 이 이야기를 알고있었는지 우리를 도와주셨는데, 긴 내용을 정리하자면 내가 실수로 어떤 행동을 했었고 사과를 하긴 했었는데 이 친구는 내가 본인한테 불만이 있어서 일부러 그런 행동을 한것이라고 전해들었다는 것이다.', '우리는 서로의 오해를 푼 이후에 서로 이런 일이 생기면 남의 말을 듣기보다는 서로에게 직접 이때 이런 일 있었는데 일부러 그런건지, 그랬다면 왜 그랬는지라고 직접 물어보기로 결정하였다.', '사실 이 친구랑 대화하지 못해서 지난 반년 정도가 굉장히 심심했었는데 오해를 풀고 다시 잘 지내니까 이 친구에게 가지고 있던 고마운 감정이 내 안에 가득한 것을 알 수 있었다.', '고등학생이 되어서는 서로 떨어지게 되었는데, 서로 하루 일과를 메세지를 하거나 전화를 하는 등 얘기하면서 서로를 다독이고 존중해주는 하루하루를 보내고 있다.', '빠르게 위드코로나가 적용되어서 다시 만날 수 있는 날만을 기다리고 있다.'])\n"
     ]
    },
    {
     "name": "stderr",
     "output_type": "stream",
     "text": [
      "INFO:root:Waiting for ttr to complete...\n",
      "INFO:root:ttr completed. 0.5779998302459717\n",
      "INFO:root:Waiting for similarity to complete...\n"
     ]
    },
    {
     "data": {
      "application/vnd.jupyter.widget-view+json": {
       "model_id": "1b3f382d48f540c98c91964f2447c4d4",
       "version_major": 2,
       "version_minor": 0
      },
      "text/plain": [
       "Batches:   0%|          | 0/1 [00:00<?, ?it/s]"
      ]
     },
     "metadata": {},
     "output_type": "display_data"
    },
    {
     "data": {
      "application/vnd.jupyter.widget-view+json": {
       "model_id": "141fffc193c3416b800d0ccfa9a9d46c",
       "version_major": 2,
       "version_minor": 0
      },
      "text/plain": [
       "Batches:   0%|          | 0/1 [00:00<?, ?it/s]"
      ]
     },
     "metadata": {},
     "output_type": "display_data"
    },
    {
     "name": "stderr",
     "output_type": "stream",
     "text": [
      "INFO:root:similarity completed. 0.6740007400512695\n",
      "INFO:root:Waiting for adjacency to complete...\n",
      "INFO:root:adjacency completed. 0.6749999523162842\n",
      "INFO:root:Waiting for basic to complete...\n",
      "INFO:root:basic completed. 0.6760003566741943\n",
      "  0%|          | 84/39591 [01:42<12:36:20,  1.15s/it]"
     ]
    },
    {
     "name": "stdout",
     "output_type": "stream",
     "text": [
      "deque(['나에게는 배우 사촌누나가 있다.', '최근에는 매우 유명한 드라마에서 꽤 비중있는 역할을 맡아서 열연했던 누나인데, 이번 추석때 촬영 일정때문에 할머니댁에 못 내려온다고 전했었다.', '누나는 항상 나에게 먹을 것도 해주고, 모르는 것도 알려줘서 친누나만큼이나 좋아하는 누나인데 올해 초에는 나의 입시 특강 수업때문에 만나지 못했고, 이번 추석은 누나의 촬영 일정때문에 만나지 못해서 벌써 만나지 못한지 1여년이 다 되어간다.', '나에게 누나는 굉장히 소중한 존재인데 그 중 가장 큰 이유는 유년시절에 할머니댁 근처에서 길을 잃어가지고 집에 못 들어가고 있던 나를 찾으러 와준 장본인인게 첫번째 이유이다.', '그당시 할머니댁은 골목이 굉장히 많은 곳 사이쯤에 있어서 길을 잃기 시작하면 지리적으로 멀리 동 떨어져 있는 곳까지 갈 정도로 길이 복잡한 곳이었다.', '엄마랑 같이 손 잡고 마트에 갔다가 혼자 강아지를 보고 좋아서 좇아가다 보니 엄마를 잃었다는 것을 깨닫고 어린 마음에 호기롭게 집에 찾아가야겠다! 했었는데, 부모님이랑 할머니, 외가댁 사람들이 내가 없어진 것에 난리가 났고 길이 어렵고 복잡하여 같이 움직였다가 더 큰 사고가 날까봐 부모님은 경찰서에 신고를 하고 설명을 하고 있었다고 한다.', '그런게 누나는 어린 시절부터 할머니 손에 길러져서 동네 지리를 잘 알아 어른들이 찾는 것보다 자신이 찾는게 빠르다면서 나를 찾아와줬다.', '물론 누나와 나는 멋대로 행동했다고 추후에 굉장히 욕을 많이 먹었지만 이것은 누나와 나의 소중한 추억으로 자리매김해있다.', '이렇게 소중한 우리 누나 얼굴을 1여년이나 못 보고 지내니 벌써 그립다.', '누나가 나 주겠다고 연예인 사인도 받아놨다는데 빨리 만나고 싶고 그렇다.'])\n"
     ]
    },
    {
     "name": "stderr",
     "output_type": "stream",
     "text": [
      "INFO:root:Waiting for ttr to complete...\n",
      "INFO:root:ttr completed. 0.5662944316864014\n",
      "INFO:root:Waiting for similarity to complete...\n"
     ]
    },
    {
     "data": {
      "application/vnd.jupyter.widget-view+json": {
       "model_id": "f60b2997d92e4e108f597110c740c8d8",
       "version_major": 2,
       "version_minor": 0
      },
      "text/plain": [
       "Batches:   0%|          | 0/1 [00:00<?, ?it/s]"
      ]
     },
     "metadata": {},
     "output_type": "display_data"
    },
    {
     "data": {
      "application/vnd.jupyter.widget-view+json": {
       "model_id": "f711c3cae9dd48f98f14e64d196a8b9b",
       "version_major": 2,
       "version_minor": 0
      },
      "text/plain": [
       "Batches:   0%|          | 0/1 [00:00<?, ?it/s]"
      ]
     },
     "metadata": {},
     "output_type": "display_data"
    },
    {
     "name": "stderr",
     "output_type": "stream",
     "text": [
      "INFO:root:similarity completed. 0.6862943172454834\n",
      "INFO:root:Waiting for adjacency to complete...\n",
      "INFO:root:adjacency completed. 0.6882946491241455\n",
      "INFO:root:Waiting for basic to complete...\n",
      "INFO:root:basic completed. 0.6892945766448975\n",
      "  0%|          | 85/39591 [01:43<12:25:07,  1.13s/it]"
     ]
    },
    {
     "name": "stdout",
     "output_type": "stream",
     "text": [
      "deque(['몇 주 전에 우연히 방송 프로그램을 보았는데 지구온난화로 인해 전체 식물의 13~15% 정도가 멸종 되었고 많은 종들이 멸종 위기에 처해있다는 것을 알게 되었다.', '지구온난화로 인해 동물들이 많이 멸종되고 있다는 사실은 여러 방송이나 뉴스를 통해 접해서 인지 어느 정도 인지를 하고 있었지만 식물에 대한 이야기는 자주 접하지 못해서 그런지 이런 사실을 듣고 나서는 마음이 복잡해졌다.', '또한 식물이 멸종된다는 소리를 듣자 아마존의 열대우림의 3분의 1이 사라졌다는 뉴스도 생각났다.', '식물들은 우리가 사는 지구의 산소를 담당해주는 역할을 하고있지만, 우리 일상에 당연하게 녹아있는 푸른 산과 늘 그 자리를 지키고 있는 나무들이 몇백 년, 몇십 년이 지나면 더 이상 볼 수 없을지도 모르는 생각과 어떤 사람에게는 삶의 쉼터가 될 수도 있고, 삶의 활력을 줄 수도 있고, 생계를 이어나갈 수 있는 중요한 일상이 사라질 수도 있다는 생각으로 식물이 우리 생활에 많은 부분을 차지하고 있었는지 나는 식물들이 우리에게 주는 것을 꽤나 당연하다고 생각하고 있었다는 것을 깨달았다.', '이런 사실을 알게 된 후 이제는 주위에 있는 것이 당연하다고 생각하지 않고 소중한 것을 지키기 위해 지구온난화를 늦추기 위해서 할 수 있는 개인의 노력을 할 것을 생각했고 며칠 밖에 지키지 못해도 잊을 때마다 매번 내가 생각했던 것을 떠올리면서 내가 할 수 있는 한에서 최선을 다할 것을 다짐하며 소중함을 잊지 말아야겠다고 느꼈다.'])\n"
     ]
    },
    {
     "name": "stderr",
     "output_type": "stream",
     "text": [
      "INFO:root:Waiting for ttr to complete...\n",
      "INFO:root:ttr completed. 0.6080000400543213\n",
      "INFO:root:Waiting for similarity to complete...\n"
     ]
    },
    {
     "data": {
      "application/vnd.jupyter.widget-view+json": {
       "model_id": "78e6b6259bf344599cb8f3cab9c0d45d",
       "version_major": 2,
       "version_minor": 0
      },
      "text/plain": [
       "Batches:   0%|          | 0/1 [00:00<?, ?it/s]"
      ]
     },
     "metadata": {},
     "output_type": "display_data"
    },
    {
     "data": {
      "application/vnd.jupyter.widget-view+json": {
       "model_id": "d163287a73f547a4a9ffb1700f99ca20",
       "version_major": 2,
       "version_minor": 0
      },
      "text/plain": [
       "Batches:   0%|          | 0/1 [00:00<?, ?it/s]"
      ]
     },
     "metadata": {},
     "output_type": "display_data"
    },
    {
     "name": "stderr",
     "output_type": "stream",
     "text": [
      "INFO:root:similarity completed. 0.7120010852813721\n",
      "INFO:root:Waiting for adjacency to complete...\n",
      "INFO:root:adjacency completed. 0.7140007019042969\n",
      "INFO:root:Waiting for basic to complete...\n",
      "INFO:root:basic completed. 0.7150006294250488\n",
      "  0%|          | 86/39591 [01:44<12:03:16,  1.10s/it]"
     ]
    },
    {
     "name": "stdout",
     "output_type": "stream",
     "text": [
      "deque(['우리는 살아가면서 많은것들을 경험하게 된다.', '살면서 한번도 겪지 못한 것, 종종 겪던 것, 항상 겪는 것들이 있는데 그중 항상 겪는 것들에 대해 이야기 할 것이다.', '살아가며 항상 겪던 익숙한 것 들이 어느순간 사라져 버리거나, 겪지 못하게 된 적이 있을 것이다.', '그제서야 우리는 익숙한 것들의 소중함을 깨닫게 된다.', '예를들어 매일매일 삼시세끼 챙겨먹던 우리가 밥을 먹지 못하는 상황이 생겨 굶게되거나, 시험을 칠 수 있게 도와주는 컴퓨터용 사인펜을 시험치는날, 학교에서 잃어버리거나, 옆에있어주던 사람들이 갑자기 떠난다거나 공중화장실에서 볼일을 보았는데 휴지가 없다거나 하는 상황 등등이 있다.', '또한 우리는 쉽게 마실 수 있는 물을 아프리카와 같은 사막이 있거나, 건조한 기후에서는 드물고, 매우 중요한 역할을 하게 되지만, 구할수 있는 물이라고는 오염된 흙탕물밖에 없는 사람들도 있고, 부모님으로부터 항상 받는 사랑을 못받는 아이들도 있다.', '이런 상황들이 우리에게는 사소했다고 생각했던 것들인데, 막상 사라지니 불편하거나 외롭게 되는 것이고 누구는 누리며 살아가지 못하고 있다.', '이를통해 알 수 있는 점은, 생텍쥐페리의 소설, \\'어린왕자\\'에 나온 \"익숙함에 속아 소중함을 잊지말자.\"', '이 명언을 통해 이야기 할 수 있다.', '우리 모두 익숙하게 사용했던 것을 당연하게 여기지 말고, 소중하게 사용할 수 있도록 마음가짐을 해야한다.'])\n"
     ]
    },
    {
     "name": "stderr",
     "output_type": "stream",
     "text": [
      "INFO:root:Waiting for ttr to complete...\n",
      "INFO:root:ttr completed. 0.5560028553009033\n",
      "INFO:root:Waiting for similarity to complete...\n"
     ]
    },
    {
     "data": {
      "application/vnd.jupyter.widget-view+json": {
       "model_id": "5ed1de10743e465794158b599eaa8bda",
       "version_major": 2,
       "version_minor": 0
      },
      "text/plain": [
       "Batches:   0%|          | 0/1 [00:00<?, ?it/s]"
      ]
     },
     "metadata": {},
     "output_type": "display_data"
    },
    {
     "data": {
      "application/vnd.jupyter.widget-view+json": {
       "model_id": "723bc1bc430a4e4fa0f99c92fbe5704c",
       "version_major": 2,
       "version_minor": 0
      },
      "text/plain": [
       "Batches:   0%|          | 0/1 [00:00<?, ?it/s]"
      ]
     },
     "metadata": {},
     "output_type": "display_data"
    },
    {
     "name": "stderr",
     "output_type": "stream",
     "text": [
      "INFO:root:similarity completed. 0.8339188098907471\n",
      "INFO:root:Waiting for adjacency to complete...\n",
      "INFO:root:adjacency completed. 0.834918737411499\n",
      "INFO:root:Waiting for basic to complete...\n",
      "INFO:root:basic completed. 0.834918737411499\n",
      "  0%|          | 87/39591 [01:46<12:19:07,  1.12s/it]"
     ]
    },
    {
     "name": "stdout",
     "output_type": "stream",
     "text": [
      "deque([\"'나태'라는 익숙함에서 인생의 소중함을 잃은 적이 있었다.\", '나태는 하고 싶을 일이 생각나지 않을 때 발생하는 것 같다.', '내가 생각하기에 나는 스스로 나태해졌다고 생각했고 지금생각해보면 실제로도 객관적으로 나태했던 것 같다.', '그러기에 스스로 자괴감이들어서 내 자신이 바뀌었으면 했다.', '내가 나태해질 때면 억지로 무언가를 아무거나 하는 것이 아니라 내가 하고 싶은 일이 무엇인지 생각해 보았다.', '하다보니까 여러번 시행착오를 겪었다 하고싶은 일 중에서 나 스스로 발전에 악영향을 주는 일들이 있기도 했다.', '그 하고 싶은 일 중에서 나의 발전을 해치는 것은 제외했다.', '내가 제일 얻고 싶은 것은 자신감이었고 이것을 위해 운동을 하였다.', '인생에서 목표가 생기고 나니 저절로 무언가가 하고 싶어졌고 나의 발전을 위해 힘쓰고 싶어졌다.', '이것은 자신감으로 이어졌고 시간의 소중함을 알게 되었다.', '물론 발전하고싶은 마음이 항상 이어진 것은 아니다.', '전까지는 열심히 내가 하고싶은 운동을 했지만, 고등학교에 올라오면서 공부라는 핑계로 운동을 멈추어서 다시 나태로 빠진 것 같다.', '옛날의 경험이 지금의 슬럼프를 극복할 것 같았지만 그렇지는 않았다.', '고등학교에서 내가 해야 할 일이 공부이고 다른 행동을 하면 위험하다는 생각이 나를 힘들게 하는 것일지도 모르겠다.', '그래도 나는 다시 노력했다 공부도 열심히 하고 짬짬이 시간을 내서 운동도 열심히 하고 있다.', '다시 언젠가 슬럼프가 올지 모르지만 그래도 현재는 열심히 운동 하려고 한다.'])\n"
     ]
    },
    {
     "name": "stderr",
     "output_type": "stream",
     "text": [
      "INFO:root:Waiting for ttr to complete...\n",
      "INFO:root:ttr completed. 0.5530352592468262\n",
      "INFO:root:Waiting for similarity to complete...\n"
     ]
    },
    {
     "data": {
      "application/vnd.jupyter.widget-view+json": {
       "model_id": "cd59043e9df24ff89d25520d1363beb8",
       "version_major": 2,
       "version_minor": 0
      },
      "text/plain": [
       "Batches:   0%|          | 0/1 [00:00<?, ?it/s]"
      ]
     },
     "metadata": {},
     "output_type": "display_data"
    },
    {
     "data": {
      "application/vnd.jupyter.widget-view+json": {
       "model_id": "e2615abf046348198f2bd128161b8d9c",
       "version_major": 2,
       "version_minor": 0
      },
      "text/plain": [
       "Batches:   0%|          | 0/1 [00:00<?, ?it/s]"
      ]
     },
     "metadata": {},
     "output_type": "display_data"
    },
    {
     "name": "stderr",
     "output_type": "stream",
     "text": [
      "INFO:root:similarity completed. 0.6100418567657471\n",
      "INFO:root:Waiting for adjacency to complete...\n",
      "INFO:root:adjacency completed. 0.6110415458679199\n",
      "INFO:root:Waiting for basic to complete...\n",
      "INFO:root:basic completed. 0.6130411624908447\n",
      "  0%|          | 88/39591 [01:47<12:07:50,  1.11s/it]"
     ]
    },
    {
     "name": "stdout",
     "output_type": "stream",
     "text": [
      "deque(['항상 저와 같이 게임을 즐겨했던 친한, 아주 친한 친구가 있었습니다.', '그 친구와 저는 어렸을 때부터 친한건 아니지만 중학교때 처음만나서 저희가 잘 어울린다는걸 알았습니다.', '왜냐하면 그 친구와 저는 죽과 합이 잘 맞았었고 취미도 비슷해서 마음이 정말 잘 맞는 친구였습니다.', '그래서 항상 같이 게임도하고 놀러가기도 하면서 맛있는 음식도 먹고, 참 좋은 시간들 이였습니다.', '그랬던 시간들로 계속 되면 좋았겠지만은 결국은 저희고 고등학교 진로를 탐색해야 했고 저는 일반 공업고등학교를 선택한 반면에 친구는 타지의 마이스터고등학교를 선택했고 갈라선 진로는 서로의 시간을 다르게 흐르게 만들었습니다.', '그렇게 일정이 달라지자 제가 게임을 하는 와중에도 친구는 더욱 공부해야 했기에 늘상 공부를 하면서 졸업일이 점점 다가왔습니다.', '결국에 그친구도 마이스터고등학교에 입학에 성공했고 축하한다며 축하하고는 했습니다.', '그러나 몸과 마음의 거리는 비례한다는 말처럼 점점더 친구와 저는 연락이 뜸해졌고 새로사귄 친구들과 어울리게 되었습니다.', '그렇게 서로의 기억에서 지워지나 싶을 때 저는 아무리 그래도 가장친한 친구를 그렇게 떠나보내고 싶진 않았고 용기내어 먼저 연락했을때에 친구도 저를 반갑다고 해주었고 다시금 연락이 닿아 지금은 간간히 놀러도 가면서 과거처럼 잘 지내고 있습니다.', '저는 이번 일을 계기로 정말 소중했던 친구는 자주자주 연락하자는 마음가짐을 가지게 되었습니다.'])\n"
     ]
    },
    {
     "name": "stderr",
     "output_type": "stream",
     "text": [
      "INFO:root:Waiting for ttr to complete...\n",
      "INFO:root:ttr completed. 0.5710318088531494\n",
      "INFO:root:Waiting for similarity to complete...\n"
     ]
    },
    {
     "data": {
      "application/vnd.jupyter.widget-view+json": {
       "model_id": "7f18d13cb093465e99ff8b26b4defdf4",
       "version_major": 2,
       "version_minor": 0
      },
      "text/plain": [
       "Batches:   0%|          | 0/1 [00:00<?, ?it/s]"
      ]
     },
     "metadata": {},
     "output_type": "display_data"
    },
    {
     "data": {
      "application/vnd.jupyter.widget-view+json": {
       "model_id": "c047e8c52c124be09617b69a56dd86a3",
       "version_major": 2,
       "version_minor": 0
      },
      "text/plain": [
       "Batches:   0%|          | 0/1 [00:00<?, ?it/s]"
      ]
     },
     "metadata": {},
     "output_type": "display_data"
    },
    {
     "name": "stderr",
     "output_type": "stream",
     "text": [
      "INFO:root:similarity completed. 0.6310291290283203\n",
      "INFO:root:Waiting for adjacency to complete...\n",
      "INFO:root:adjacency completed. 0.6320288181304932\n",
      "INFO:root:Waiting for basic to complete...\n",
      "INFO:root:basic completed. 0.6320288181304932\n",
      "  0%|          | 89/39591 [01:48<11:46:24,  1.07s/it]"
     ]
    },
    {
     "name": "stdout",
     "output_type": "stream",
     "text": [
      "deque(['저는 저희 집에서 막내입니다.', '그 중에서도 늦둥이라서 누나와 나이 차이가 12살입니다.', '무려 띠동갑이죠.', '그랬던 탓인지 가족들은 항상 저를 챙겨주고 잘 대해주는데, 그중에서도 누나는 어렸을 적부터 저를 잘 돌봐주기도 하고 많이 이뻐해 주며 잘 보살펴 주었습니다.', '맛있는 음식을 사올 때도 있었고 옷이나 신발 아니면 등교가방처럼 많은 것들을 저에게 선물로 주고는 참 잘해줘서 너무나도 고마운 누나였습니다.', '그렇게 자라나서 중학생이 되었을 무렵에도 저희 가족은 서로서로 사이가 참 좋았었습니다.', '그런데 저도 사춘기가 왔었던 때가 있었는데 그때에 누나는 항상 밤늦게까지 알바를 하고 돌아오느라 스트레스가 쌓여있었는지 저도 모르게 사소한 일로 싸우게 되었고 지금까지 한 번도 싸운적 없었던지라 싸우고 나서 조금은 충격이었습니다.', '뒤늦게나마 제가 누나에게 짜증을 냈었기 때문에 내가 잘못했다고 생각하고 먼저 사과하며 용서를 구했습니다.', '항상 저한테 잘해주던 누나라서 나도 모르게 짜증을 냈었던게 후회스러웠지만 화해 하고나서 앞으로 잘해야겠다라는 다짐으로 누나가 집에왔을 때 먹을것들을 사다두는 등 조금이라도 누나한테 도움이 될수 있는 것들을 해보려고 합니다.', '이 일로 아무리 편하고 익숙한 관계여도 함부로 대하면 안된다는 교훈을 얻고 내가 좋은 관계를 유지하고 싶으면 먼저 평소에도 잘 대해야 된다는 것을 알았습니다.', '앞으로 익숙하고 친밀한 관계이더라도 더 신중하게 행동해야하겠습니다.'])\n"
     ]
    },
    {
     "name": "stderr",
     "output_type": "stream",
     "text": [
      "INFO:root:Waiting for ttr to complete...\n",
      "INFO:root:ttr completed. 0.5780003070831299\n",
      "INFO:root:Waiting for similarity to complete...\n"
     ]
    },
    {
     "data": {
      "application/vnd.jupyter.widget-view+json": {
       "model_id": "4e07d48672e049a8b8ab8c6c1330c73a",
       "version_major": 2,
       "version_minor": 0
      },
      "text/plain": [
       "Batches:   0%|          | 0/1 [00:00<?, ?it/s]"
      ]
     },
     "metadata": {},
     "output_type": "display_data"
    },
    {
     "data": {
      "application/vnd.jupyter.widget-view+json": {
       "model_id": "ba8db867986742ee8d75c6a84b0c8d79",
       "version_major": 2,
       "version_minor": 0
      },
      "text/plain": [
       "Batches:   0%|          | 0/1 [00:00<?, ?it/s]"
      ]
     },
     "metadata": {},
     "output_type": "display_data"
    },
    {
     "name": "stderr",
     "output_type": "stream",
     "text": [
      "INFO:root:similarity completed. 0.689091682434082\n",
      "INFO:root:Waiting for adjacency to complete...\n",
      "INFO:root:adjacency completed. 0.691091775894165\n",
      "INFO:root:Waiting for basic to complete...\n",
      "INFO:root:basic completed. 0.6920928955078125\n",
      "  0%|          | 90/39591 [01:49<11:52:16,  1.08s/it]"
     ]
    },
    {
     "name": "stdout",
     "output_type": "stream",
     "text": [
      "deque(['나에게 가장 소중한 것은 가족 중에서도 특히 엄마인데, 큰 잘못을 했던 기억이 떠오른다.', '학원에서 집오는 길에 대중교통이나 엄마가 운전해주는 차를 타고 다니는데, 이동하는 시간이 꽤 길어서 항상 휴대폰 게임을 하면서 집에 오고는 했다.', '하루는 즐겨하던 휴대폰 게임이 내가 옛날부터 좋아하던 아이돌이랑 콜라보 상품을 내놓았고, 상품도 맘에 들고 추첨을 통해서 싸인도 선물로 준다고 하길래 내 용돈으로 사도 되는지 물었더니 엄마 카드가 연동되어 있으니 적당한 선에서 미리 말하면 그렇게 해주겠다고 했다.', '당첨은 되지 않았지만 상품이 너무 맘에 들어서 좋았던 기억이 있다.', '사실 여기까지는 별 이상한게 없는거 같지만 이 이후로 크게 잘못했던 것이 바로 최근 2차 콜라보 이벤트였다.', '이번 추석에 용돈을 꽤 많이 받았고 평소에는 꼭 저금을 해왔었는데 2차 콜라보 이벤트때 걸린 한정판 폴라로이드 싸인이 너무 맘에 드는 것이다.', '그래서 일주일동안 총 30만원 이라는 큰 금액을 사용한 것이다.', '그리고 문제는 이게 끝이 아니었다.', '나중에 드리면 되겠지 하고 선결제 후통보를 선택해버렸고 그 와중에 또 까먹고있었다.', '그렇게 잊고 산지 얼마 되지 않았을 때 휴대폰 고지서를 본 엄마는 처음으로 나한테 화를 냈다.', '금액이 큰 것도 큰 것이지만 약속을 안 지켰다는 점이 화가 났다고 하셨다.', '나도 변명 하는것도 너무 미안한 나머지 연신 죄송하다고 사과만 했던 기억이 있다.', '이 사건으로 나는 엄마와의 신뢰라는 가족관계에서 굉장히 중요한 부분을 잃을뻔했었다.', '다음부터는 학생이라는 본분에 맞게 행동하는 착한 아들이 되기로 결심했다.'])\n"
     ]
    },
    {
     "name": "stderr",
     "output_type": "stream",
     "text": [
      "INFO:root:Waiting for ttr to complete...\n",
      "INFO:root:ttr completed. 0.5709738731384277\n",
      "INFO:root:Waiting for similarity to complete...\n"
     ]
    },
    {
     "data": {
      "application/vnd.jupyter.widget-view+json": {
       "model_id": "6819c49bfd214bccb7e6d8dc6b83a097",
       "version_major": 2,
       "version_minor": 0
      },
      "text/plain": [
       "Batches:   0%|          | 0/1 [00:00<?, ?it/s]"
      ]
     },
     "metadata": {},
     "output_type": "display_data"
    },
    {
     "data": {
      "application/vnd.jupyter.widget-view+json": {
       "model_id": "0949e3104bf44f33aa6528d3e936a7ad",
       "version_major": 2,
       "version_minor": 0
      },
      "text/plain": [
       "Batches:   0%|          | 0/1 [00:00<?, ?it/s]"
      ]
     },
     "metadata": {},
     "output_type": "display_data"
    },
    {
     "name": "stderr",
     "output_type": "stream",
     "text": [
      "INFO:root:similarity completed. 0.6779701709747314\n",
      "INFO:root:Waiting for adjacency to complete...\n",
      "INFO:root:adjacency completed. 0.6799702644348145\n",
      "INFO:root:Waiting for basic to complete...\n",
      "INFO:root:basic completed. 0.6809699535369873\n",
      "  0%|          | 91/39591 [01:50<12:03:22,  1.10s/it]"
     ]
    },
    {
     "name": "stdout",
     "output_type": "stream",
     "text": [
      "deque(['얼마 전에 같은 동네에서 나고 자라서 근 10년을 꼭 붙어다닌 친구랑 크게 싸운적이 있다.', '마음에 드는 선배가 있어서 고백을 할까 말까 물어보다가 서로 의견이 달라서 얘기하다 목소리가 높아져서 결국 언쟁으로 이어졌던 경험이다.', '처음에는 친구가 이렇게까지 나한테 화를 내는게 이해가 안 돼서 나도 같이 화가 났던거 같다.', '지금 와서 생각해보면 내년에 성인되는 선배한테 고등학생이 고백한다고 하는게 조금 이상할 수 있을거 같기도 한데 그때는 그냥 좋아하는 마음을 너무 밟히는거 같아 속상했던거 같다.', '아무튼 서로 이렇게까지 목소리 내며 싸운 적이 없어서인지 화해하는 방법이 잘 생각나지 않았다.', '그래서 절대 먼저 사과 안 해야겠다 했었는데 시간이 지날수록 친구의 소중함이 느껴지면서 이 친구의 입장에서 왜 그런 생각을 하게 됐을까 생각해보게 되었다.', '생각해보면 코로나 시국 이전에는 잠이 많은 나를 직접 깨워서 학교도 가주고 아침에 배고프지 말라고 간식도 항상 챙겨와서 나눠주고 서로 모르는 과목이나 공부가 있으면 알려주고 했었던 친구가 하루 아침에 내가 싫어졌을리가 없지 않는가.', '그래서 곰곰히 생각해보게 되었다.', '왜 그렇게 생각했을까 하고 역지사지 입장에서 생각해보니 의외로 답은 명쾌하게 나왔다.', '내가 걱정돼서 그랬던 것이었다.', '생각이 여기까지 닿으니까 오히려 내가 앞뒤 내용을 잘라먹고 나한테만 몰입했던 것이었다.', '그래서 바로 전화 걸어서 내가 미안하다고 사과했더니 오히려 먼저 사과해줘서 고맙다고 해줬다.', '아무리 생각해도 자기 입장에서는 아닌 거 같아서 사과하고 싶지 않았다고 하더라.', '그래도 좋게 좋게 넘어가서 다행인 것 같다.'])\n"
     ]
    },
    {
     "name": "stderr",
     "output_type": "stream",
     "text": [
      "INFO:root:Waiting for ttr to complete...\n",
      "INFO:root:ttr completed. 0.5091922283172607\n",
      "INFO:root:Waiting for similarity to complete...\n"
     ]
    },
    {
     "data": {
      "application/vnd.jupyter.widget-view+json": {
       "model_id": "a75c77543b944717826e3acad0ca0930",
       "version_major": 2,
       "version_minor": 0
      },
      "text/plain": [
       "Batches:   0%|          | 0/1 [00:00<?, ?it/s]"
      ]
     },
     "metadata": {},
     "output_type": "display_data"
    },
    {
     "data": {
      "application/vnd.jupyter.widget-view+json": {
       "model_id": "435f53330b1640eb83025d6b3af994d0",
       "version_major": 2,
       "version_minor": 0
      },
      "text/plain": [
       "Batches:   0%|          | 0/1 [00:00<?, ?it/s]"
      ]
     },
     "metadata": {},
     "output_type": "display_data"
    },
    {
     "name": "stderr",
     "output_type": "stream",
     "text": [
      "INFO:root:similarity completed. 0.6131894588470459\n",
      "INFO:root:Waiting for adjacency to complete...\n",
      "INFO:root:adjacency completed. 0.6161887645721436\n",
      "INFO:root:Waiting for basic to complete...\n",
      "INFO:root:basic completed. 0.6181883811950684\n",
      "  0%|          | 92/39591 [01:51<12:13:42,  1.11s/it]"
     ]
    },
    {
     "name": "stdout",
     "output_type": "stream",
     "text": [
      "deque(['소중한 것을 잃어버린 경험이라는 주제를 보았을 때 가장 먼저 떠오르는 건 얼마전에 큰 파장을 일으킨 연예인 김선호와 관련된 내용이었다.', '나는 그의 연기를 굉장히 좋아했던 사람 중 하나였고, 나 말고도 많은 사람들이 그를 사랑하고 있었다.', '그가 찍은 광고 영상을 소장하는 것은 물론이고, 잡지나 싸인 등 관련된 물건도 굉장히 많았었다.', '하지만 이번에 그는 내가 좋아할만큼의 그릇을 가진 사람이 아니었음을 깨닫게 되었다.', '물론 모든 사람이 앞과 뒤가 다른 것은 아니지만, 특히 연예인의 경우에는 일방적으로 자신의 겉모습을 시청자들에게 전달하기 때문에 촬영이 끝난 뒤 사생활적인 모습에 대해서는 시청자들이 알 방도가 없다.', '물론 이런거 때문에 사생활을 공개하거나 공유해야된다고 생각하냐면 그것은 절대 아니다', '하지만 뒤가 구리다면 이번처럼 앞에서 만들어놓은 이미지도 한 번에 나락에 갈 수 있다는 점을 꼭 알아줬으면 좋겠다.', '연예인에게 있어 가장 소중한 것은 팬들의 사랑 아닌가?', '하지만 일방적인 사랑은 조금의 바람에도 날아갈 수 있는 존재라는 것을 명심해야 된다는 의미이다.', '이번 사건을 계기로 나도 하나 결심한 것이 있다.', '내가 잘 알지 못하는 상대에 대해서 함부로 이럴 것이다 저럴 것이다를 판단하지 않겠다는 것이다.', '사건이 터지고 소속사와 본인의 사과문이 올라오기까지 이틀이란 시간이 걸렸다.', '나는 그동안 \"에이 여성분이 뭔가 오해하신 것 같네 그럴 사람이 아닌데\"하면서 기다리고 있었고, 결과는 이렇게 나의 뒤통수를 거의 가격하는 수준의 결과였다.', '앞으로는 누군가를 판단하기 전에 신중에 신중을 가하기로 마음을 먹었고, 그냥 잠깐 있는 해프닝 정도로 생각하기로 했다.'])\n"
     ]
    },
    {
     "name": "stderr",
     "output_type": "stream",
     "text": [
      "INFO:root:Waiting for ttr to complete...\n",
      "INFO:root:ttr completed. 0.5110318660736084\n",
      "INFO:root:Waiting for similarity to complete...\n"
     ]
    },
    {
     "data": {
      "application/vnd.jupyter.widget-view+json": {
       "model_id": "2eed79da0f6842e7812e05b6de6d31e3",
       "version_major": 2,
       "version_minor": 0
      },
      "text/plain": [
       "Batches:   0%|          | 0/1 [00:00<?, ?it/s]"
      ]
     },
     "metadata": {},
     "output_type": "display_data"
    },
    {
     "data": {
      "application/vnd.jupyter.widget-view+json": {
       "model_id": "cb2b15cb96dc4cc392ae3b5aea2ad59d",
       "version_major": 2,
       "version_minor": 0
      },
      "text/plain": [
       "Batches:   0%|          | 0/1 [00:00<?, ?it/s]"
      ]
     },
     "metadata": {},
     "output_type": "display_data"
    },
    {
     "name": "stderr",
     "output_type": "stream",
     "text": [
      "INFO:root:similarity completed. 0.7232630252838135\n",
      "INFO:root:Waiting for adjacency to complete...\n",
      "INFO:root:adjacency completed. 0.7242534160614014\n",
      "INFO:root:Waiting for basic to complete...\n",
      "INFO:root:basic completed. 0.725332498550415\n",
      "  0%|          | 93/39591 [01:52<12:36:33,  1.15s/it]"
     ]
    },
    {
     "name": "stdout",
     "output_type": "stream",
     "text": [
      "deque(['TV나 인터넷 등 여러 매체들에서 친남매 사이는 항상 싸우는 경우가 많은것처럼 그려지는데 우리집은 누나가 나를 굉장히 잘 챙겨주는 편이었고 지금도 그렇다.', '예를 들어 누나가 아르바이트로 벌어온 첫 월급으로 내가 좋아하는 치킨을 사서 온다던지 대학교 졸업 후 직장 생활을 시작하면서는 겨울에는 패팅이나 스웨터같이 따뜻한 옷들을 \"요즘은 남자애들도 트렌드에 맞게 입어야해\"라면서 그 해 트렌드에 맞춰서 항상 사줬고 여름에는 캐쥬얼하게 입으라면서 반팔이나 반바지같이 편한 옷들을 사주는건 당연했고 하루는 집에 여자친구를 데리고 온 적이 있었는데 누나가 그 소식을 듣더니 여자친구 먹으라고 케이크를 만들어서 주는 등 굉장히 나한테 잘 대해주는 누나이다.', '그래서 나도 누나한테 항상 잘해주려고 노력하는데, 이번에 누나가 결혼을 하게 되었다.', '원래 더 일찍 하려고 했었는데 계획이 밀리고 밀려 이제서야 하게 되었고 누나의 결혼식 당일날은 그냥 \"오 우리 누나 그래도 꾸미니까 꽤 이쁘구만\" 하고 지냈는데 딱 집에 오니까 누나가 없음이 느껴졌다.', '뭔가 17년간 같이 살면서 떨어질거라고 생각해본적이 없어서 그랬는지 집에 와서 좀 눈물이 났다.', '그리고 하나의 결심을 했다. 이때까지 우리 누나가 나한테 준 사랑을 나도 누나가 올 때 꼭 잘 대해주는 걸로 갚겠다고 말이다.', '나에게 가족의 소중함을 그 누구보다 실천으로 알려준 우리 누나의 이야기가 이 주제문을 보고 가장 먼저 떠올랐다.', '앞으로도 소중한 누나에게 안부 연락도 자주 보내고 해야겠다.'])\n"
     ]
    },
    {
     "name": "stderr",
     "output_type": "stream",
     "text": [
      "INFO:root:Waiting for ttr to complete...\n",
      "INFO:root:ttr completed. 0.5771274566650391\n",
      "INFO:root:Waiting for similarity to complete...\n"
     ]
    },
    {
     "data": {
      "application/vnd.jupyter.widget-view+json": {
       "model_id": "fcd91cb96a8d4af7b24fcd7764e423d3",
       "version_major": 2,
       "version_minor": 0
      },
      "text/plain": [
       "Batches:   0%|          | 0/1 [00:00<?, ?it/s]"
      ]
     },
     "metadata": {},
     "output_type": "display_data"
    },
    {
     "data": {
      "application/vnd.jupyter.widget-view+json": {
       "model_id": "2294363b520e44269c0d32a2bba8c059",
       "version_major": 2,
       "version_minor": 0
      },
      "text/plain": [
       "Batches:   0%|          | 0/1 [00:00<?, ?it/s]"
      ]
     },
     "metadata": {},
     "output_type": "display_data"
    },
    {
     "name": "stderr",
     "output_type": "stream",
     "text": [
      "INFO:root:similarity completed. 0.703125\n",
      "INFO:root:Waiting for adjacency to complete...\n",
      "INFO:root:adjacency completed. 0.7041246891021729\n",
      "INFO:root:Waiting for basic to complete...\n",
      "INFO:root:basic completed. 0.7051239013671875\n",
      "  0%|          | 94/39591 [01:53<12:24:58,  1.13s/it]"
     ]
    },
    {
     "name": "stdout",
     "output_type": "stream",
     "text": [
      "deque(['나는 인형 모으는 것을 굉장히 좋아하는데 그 중에서 가장 좋아하는 베개 인형과 이별하게 된 사연을 소개해보고자 한다.', '우리 집은 어린 시절부터 아버지 직장 때문에 자주 이사를 다닌 편이었다.', '결국 잦은 이사로 인해 부모님은 강제적으로 주말 부부화 되었고, 나와 남동생은 어머니와 같이 살기 시작하며 드디어 지긋지긋하던 이사에서 벗어날 수 있었다.', '그러던 어느 날 아버지와 드디어 다같이 살 수 있는 기회가 주어졌다.', '몇 년 동안 헤어져있던 가족과 같이 살 수 있다는 것이 너무 좋았었고, 새로운 집을 구하게 되었다.', '한 번 남동생한테 아빠 없는 애라고 놀림을 하던 애가 있었는데, 동생도 아닌 걸 알고 있지만 서운하긴 했는지 그 말을 나한테 전했었다.', '그 소식을 들은 나는 엄마가 슬퍼할테니까 우리끼리만 알고 있자고 하였다.', '그 이후로 나는 누나로써 책임감 있게 행동 해야 된다고 생각했고 어머니에게 어떻게 하면 더 책임감 있는 누나가 될 수 있는지 여쭤봤을 때 어머니가 장난삼아 집에 있던 인형들을 얘기를 한 것이었다.', '나는 그때 정말 진지하게 받아들여서 집에 있던 인형들을 대부분 정리하고, 특히 가장 좋아하던 베개 인형은 오래 사용해서 허름해지고 낡아버려서 누구한테도 줄 수 없는 상태였기 때문에 그냥 수거장에 넘겨버리고 말았다.', '지금이야 웃으면서 얘기할 수 있지만 당시에 어머니는 얘가 뭘 잘못 먹었길래 그 말을 진지하게 받아들인 걸까 했었다고 한다.', '물론 나에게 소중한 베개 인형이었지만 더 소중한 가족을 위해 사용한 것에 대해 아직까지 후회를 하지는 않는다.', '가끔 생각이 나는 정도이다.'])\n"
     ]
    },
    {
     "name": "stderr",
     "output_type": "stream",
     "text": [
      "INFO:root:Waiting for ttr to complete...\n",
      "INFO:root:ttr completed. 0.6237301826477051\n",
      "INFO:root:Waiting for similarity to complete...\n"
     ]
    },
    {
     "data": {
      "application/vnd.jupyter.widget-view+json": {
       "model_id": "7553cef5e52f4452aa89c864ca29ec36",
       "version_major": 2,
       "version_minor": 0
      },
      "text/plain": [
       "Batches:   0%|          | 0/1 [00:00<?, ?it/s]"
      ]
     },
     "metadata": {},
     "output_type": "display_data"
    },
    {
     "data": {
      "application/vnd.jupyter.widget-view+json": {
       "model_id": "2945fbe5e48847b68830fc525a5b9130",
       "version_major": 2,
       "version_minor": 0
      },
      "text/plain": [
       "Batches:   0%|          | 0/1 [00:00<?, ?it/s]"
      ]
     },
     "metadata": {},
     "output_type": "display_data"
    },
    {
     "name": "stderr",
     "output_type": "stream",
     "text": [
      "INFO:root:similarity completed. 0.7487297058105469\n",
      "INFO:root:Waiting for adjacency to complete...\n",
      "INFO:root:adjacency completed. 0.749730110168457\n",
      "INFO:root:Waiting for basic to complete...\n",
      "INFO:root:basic completed. 0.7507297992706299\n",
      "  0%|          | 95/39591 [01:55<12:35:40,  1.15s/it]"
     ]
    },
    {
     "name": "stdout",
     "output_type": "stream",
     "text": [
      "deque(['나는 나의 소중한 부모님께 너무 홀대했던 것 같다.', '학교생활에 치여, 학원생활에 치여 받은 스트레스를 집에 오면 나를 다정하게 맞이해주는 엄마를 보고 짜증내고 신경질적으로 행동하며 홀대했던 것 같다.', '내가 이 생각을 하게 된 계기가 있다.', '여느 때처럼 학원 끝나고 집에 왔는데 항상 나를 반갑게 맞아주시던 엄마가 안 계시는 것이다.', '11시가 넘은 늦은 밤 엄마, 아빠가 집에 안계시고 나 혼자 텅 빈 집에 있으니 정말 공허하고 무서움이 나를 맴돌았다.', '부모님은 부부 동반 여행을 가셔서 집에 안계시는 것이었다.', '며칠뒤면 돌아오시는 부모님이지만 막상 학교와 학원을 끝마치고 집에 오니 매일 계시던 부모님이 집에 안계시니 기분이 묘했다.', \"나는 이때 '익숙함에 속아 소중함을 잃어버리지 말자.' 라는 문구가 떠올랐다.\", '즉 이 문구가 지금의 나의 상황을 대신해 설명해 주는 것이었다.', \"나는 집에 오면 항상 나를 반갑게 맞아주는 엄마를 당연시 여겼고, 귀찮다고 생각했지만 막상 엄마가 반갑게 맞아주는 행동이 사라지니 정말 공허함이 하즐로 치솟았다. 그리고 '다녀왔냐?' 라는 아빠의 그 한마디가 없으니 마음이 허전함을 느꼈다.\", '부모님이 나를 사랑하는 것이 당연한 것이 아닌데 나는 그 사랑을 당연하다는 듯이 생각하고 부모님께 짜증만 내고 귀찮아 했던 나의 행동을 반성하는 계기가 되었다.', '그래서 부모님이 여행에서 돌아오시는 날 정말 반갑게 맞이해드렸는데, 그 때 정말 좋아하시는 엄마, 아빠의 표정을 나는 아직도 잊지 못한다.', '즉 소중한 것은 멀리있지 않고 바로 당신 옆에 있는 사람이라는 것을 잊지말고 항상 잘 대해주기를 바란다.'])\n"
     ]
    },
    {
     "name": "stderr",
     "output_type": "stream",
     "text": [
      "INFO:root:Waiting for ttr to complete...\n",
      "INFO:root:ttr completed. 0.6020264625549316\n",
      "INFO:root:Waiting for similarity to complete...\n"
     ]
    },
    {
     "data": {
      "application/vnd.jupyter.widget-view+json": {
       "model_id": "fd61c1c2d78541b2a8f1ed98a5dc9a1b",
       "version_major": 2,
       "version_minor": 0
      },
      "text/plain": [
       "Batches:   0%|          | 0/1 [00:00<?, ?it/s]"
      ]
     },
     "metadata": {},
     "output_type": "display_data"
    },
    {
     "data": {
      "application/vnd.jupyter.widget-view+json": {
       "model_id": "2025b17735f94a818612f2e041353f60",
       "version_major": 2,
       "version_minor": 0
      },
      "text/plain": [
       "Batches:   0%|          | 0/1 [00:00<?, ?it/s]"
      ]
     },
     "metadata": {},
     "output_type": "display_data"
    },
    {
     "name": "stderr",
     "output_type": "stream",
     "text": [
      "INFO:root:similarity completed. 0.7200264930725098\n",
      "INFO:root:Waiting for adjacency to complete...\n",
      "INFO:root:adjacency completed. 0.7210264205932617\n",
      "INFO:root:Waiting for basic to complete...\n",
      "INFO:root:basic completed. 0.7220268249511719\n",
      "  0%|          | 96/39591 [01:56<12:49:42,  1.17s/it]"
     ]
    },
    {
     "name": "stdout",
     "output_type": "stream",
     "text": [
      "deque(['우리는 살아가면서 온갖 일들은 겪는데요.', '예를 들자면 즐거운 생일날에 어머니가 헨드폰을 사줄 때 즐겁다 못해 날뛰면서 좋아했을 경험을 했을 사람들도 있을 겁니다.', '헨드폰을 계속해서 사용하다 보면 가끔은 이런 생각을 하실 때도 있을 겁니다.', \"'왜 내 폰만 이렇게 인 거야?'\", '네?', '그런 적이 없으시다고요?', '네, 사실은 저의 이야기입니다.', '저는 아버지가 열심히 일을 해서 사주신 휴대폰을 남들 보다 성능이 는 이유로 바꾸고 싶다는 생각을 하였는 데요.', '그럴 때 마다 저는 생각을 합니다.', \"'그래도 헨드폰이 없던 나를 위해 사주셨는데 내가 뭐라고 할 처지인가?'\", '남들보다 면 어떻습니까.', '부모님이 여러분들을 위해 돈을 아끼지 않고 투자를 하는걸요!', '여러분들은 태어날 때 부터 부모님의 사랑을 마음껏 받으며 행복하신 삶을 살아갔을 겁니다.', '여러분들이 부모님의 사랑에 보답하는 방법은 학교에서 말썽을 피우지 말고, 모범적이며, 성실하고 공부를 열심히 해서 좋은 대학교, 또는 회사에 취업을 하는 겁니다.', '좋은 회사에 취업을 해서 얻는 월급의 반을 부모님에게 드리는 것은 어떤가요?', '이것은 오로지 자기만족을 위해 하는 것이지만, 당신의 마음을 깨끗하게 해주는 것입니다.', '당신은 일을 하다보면 힘들고, 지치고, 포기하고 싶을 때 가 있을 겁니다.', '그럴 때 마다 부모님의 품에 안겨 마음을 치유하는 것은 어떤가요?', '여러분들은 자신의 소중한 감정을 잘 지켜내고 있습니까?', '아니면 이미 그 소중한 감정이 사라지셨습니까?', '지금 당장이라도 자신이 소중했던 무언가를 찾는건 어떠신가요?'])\n"
     ]
    },
    {
     "name": "stderr",
     "output_type": "stream",
     "text": [
      "INFO:root:Waiting for ttr to complete...\n",
      "INFO:root:ttr completed. 0.5543253421783447\n",
      "INFO:root:Waiting for similarity to complete...\n"
     ]
    },
    {
     "data": {
      "application/vnd.jupyter.widget-view+json": {
       "model_id": "694d7ef1da4246908c363cea64658ba9",
       "version_major": 2,
       "version_minor": 0
      },
      "text/plain": [
       "Batches:   0%|          | 0/1 [00:00<?, ?it/s]"
      ]
     },
     "metadata": {},
     "output_type": "display_data"
    },
    {
     "data": {
      "application/vnd.jupyter.widget-view+json": {
       "model_id": "c7447da345b34948962fff0a0f6e5b73",
       "version_major": 2,
       "version_minor": 0
      },
      "text/plain": [
       "Batches:   0%|          | 0/1 [00:00<?, ?it/s]"
      ]
     },
     "metadata": {},
     "output_type": "display_data"
    },
    {
     "name": "stderr",
     "output_type": "stream",
     "text": [
      "INFO:root:similarity completed. 0.6643288135528564\n",
      "INFO:root:Waiting for adjacency to complete...\n",
      "INFO:root:adjacency completed. 0.6653287410736084\n",
      "INFO:root:Waiting for basic to complete...\n",
      "INFO:root:basic completed. 0.6653287410736084\n",
      "  0%|          | 97/39591 [01:57<13:10:54,  1.20s/it]"
     ]
    },
    {
     "name": "stdout",
     "output_type": "stream",
     "text": [
      "deque(['중학교 3학년 시절 단짝 친구를 잃은 경험이 있었다.', '고등학교 진학을 앞둔 상황에서 일반고와 실업고 원서를 쓰면서 던진 나의 말한마디에 친구와의 긴 우정이 끝이나버렸다.', '무심코 던진 말한마디 말의 소중함을 다시 한번 깨닳게 해주었다.', '실업고 진학을 앞둔 친구에게 거기 좀 가면어때라는 그냥 무심코 던진말이 친구에게는 엄청난 큰 상처로 남아 지금도 그친구와의 연락을 해보았지만 어렵다.', '어떠한 감정을 실어서 얘기한것도 악의적으로 표현한 것도 아니었다.', '시간이 지난 지금에서야 되돌아보니 말이라는게 하는 사람 그리고 듣는 사람의 입장이 다르다는 것을 늦게서야 깨닳았다.', '늘 항상 함께할 것만 같았던 나의 소중한 친구도 그냥 아무렇지 않게 던진 나의 말한마디에 지금까지 연락이 되지 않는다.', '친구들을 통해 수없이 많이 시도해보았지만 쉽지가 않았다.', '옛속담에 말한마디에 천냥빚도 갚는다는 말이있다.', '그 속담이 정말 절실하게 와 닿는 그리고 말의 소중함을 다시 되새겨 보는 그런 마음아픈 경험이었다.', '내가 던진 돌맹이에 누군가는 상처가 그리고 아픔이었다는 것을 말이다.', '오랜 시간이 흘러 언젠가는 그 친구에게 다시 진정성있는 사과를 통해 친구의 마음을 풀어주고 싶다.', '그리고 소중한 나의 친구를 다시 만나고 싶다.', '소중한 것을 잃기 전에 그것을 지키기 위해 무단히 노력하고 조심해야하겠다.', '모든 것이 다 소중하겠지만 특히나 말의 소중함을 내가 살아가는 현재 가장 뼈져리게 느끼고 있다.', '말의 소중함에 대해 말이다.'])\n"
     ]
    },
    {
     "name": "stderr",
     "output_type": "stream",
     "text": [
      "INFO:root:Waiting for ttr to complete...\n",
      "INFO:root:ttr completed. 0.5660030841827393\n",
      "INFO:root:Waiting for similarity to complete...\n"
     ]
    },
    {
     "data": {
      "application/vnd.jupyter.widget-view+json": {
       "model_id": "6e8570298eaf4c56b7f5971458d7d61c",
       "version_major": 2,
       "version_minor": 0
      },
      "text/plain": [
       "Batches:   0%|          | 0/1 [00:00<?, ?it/s]"
      ]
     },
     "metadata": {},
     "output_type": "display_data"
    },
    {
     "data": {
      "application/vnd.jupyter.widget-view+json": {
       "model_id": "0e8d0b6234d24180b7949ecce0081850",
       "version_major": 2,
       "version_minor": 0
      },
      "text/plain": [
       "Batches:   0%|          | 0/1 [00:00<?, ?it/s]"
      ]
     },
     "metadata": {},
     "output_type": "display_data"
    },
    {
     "name": "stderr",
     "output_type": "stream",
     "text": [
      "INFO:root:similarity completed. 0.8400073051452637\n",
      "INFO:root:Waiting for adjacency to complete...\n",
      "INFO:root:adjacency completed. 0.8400073051452637\n",
      "INFO:root:Waiting for basic to complete...\n",
      "INFO:root:basic completed. 0.8410069942474365\n",
      "  0%|          | 98/39591 [01:58<13:38:07,  1.24s/it]"
     ]
    },
    {
     "name": "stdout",
     "output_type": "stream",
     "text": [
      "deque(['익숙함에 속아 소중함을 잊지 말자 라는 명언을 솔직히 나는 오늘 처음 들어보았다.', '인터넷에 찾아보니 소설 어린 왕자에 나오는 한 구절인 것 같던데 어렸을 때 소설 어린 왕자를 네다섯번 쯤 읽어 보았음에도 기억이 안 나는 건지 어렸을 때 나에게는그다지 인상 깊었던 구절이 아니였던 것 같다.', '그런데도 내가 글쓰기 주제로 이 것을 택한 이유는 이 구절을 계속 읽으며 뜻을 파헤쳐 볼수록 생각나는 사람이 있었기 때문이다.', '그 사람은 바로 나의 외할머니이다.', '나의 외할머니는 내가 태어났을 때부터 초등학교 때까지 같이 살았으며 중학생이 된 이후에도 부모님이 평일이나 주말에 출장을 가실 때마다 걸어서 우리 집에 와서 같이 있어주시곤 했다.', '(외할머니 집과 우리 집은 동 수는 다르지만 같은 아파트이다) 할머니와 떨어져 살게 된 초반에는 학교에서돌아 오면 나를 반겨 주시던 할머니의 빈자리가 매우 크게 느껴져 매일 전화도 하고 할머니 집에 놀러 가기도 했다.', '하지만 중학교 1학년 2학기 후반에 스마트폰이 생기고 여러가지 게임을 하다 보면서 할머니의 빈자리가 조금씩 게임으로 메워지기 시작했다.', '그러다가 할머니가 아파서 3주 정도 병원에 입원해 있었을 때 나는 덜컥 겁이 나기 시작했다.', '내가 성인이 되어서 할머니께 받은 은혜와 고마움을 진정으로 표현하기 전에 할머니가 돌아가실 까봐 불안했다.', '그때가 내가 할머니에 대한 진정한 소중함을 느끼기 시작한 때인 것 같다.', '내가 생각해도 참 철이 늦게 든 것 같다.', '내가 고등학교에 입학하고 나서 쯤 이었나 할머니의 건강이 전보다 매우 쇠약해지셨고 나는 시간이 될 때마다 할머니 집에 방문하여 할머니의 말동무가 되어드리곤 했다.', '다행인건 할머니가 고양이를 키우면서 조금 더 밝아지셨고 덜 외로워 하신다는 점이었다.', '이 글을 쓰면서 할머니가 나를 돌봐주고 키워주는 것을 당연하게 생각했던 과거의 나를 반성하고 다시 한번 할머니에 대한 고마움과 소중함을 되새긴 것 같다.', '지금 내가 할머니께 바라는 점이 있다면 내가 성인이 되어서 할머니에게 진정한 효도를 할 때 까지 건강하시는 것이다.', '앞으로 삶을 살아 가면서 익숙함에 속아 소중함을 잊지 말자 라는 말을 가슴 속에 새기면서 살아야 겠다.'])\n"
     ]
    },
    {
     "name": "stderr",
     "output_type": "stream",
     "text": [
      "INFO:root:Waiting for ttr to complete...\n",
      "INFO:root:ttr completed. 0.6299996376037598\n",
      "INFO:root:Waiting for similarity to complete...\n"
     ]
    },
    {
     "data": {
      "application/vnd.jupyter.widget-view+json": {
       "model_id": "0aa2ea8840364fd7adfad9866f3b5483",
       "version_major": 2,
       "version_minor": 0
      },
      "text/plain": [
       "Batches:   0%|          | 0/1 [00:00<?, ?it/s]"
      ]
     },
     "metadata": {},
     "output_type": "display_data"
    },
    {
     "data": {
      "application/vnd.jupyter.widget-view+json": {
       "model_id": "70186ae915da4bfcba1627009cd79448",
       "version_major": 2,
       "version_minor": 0
      },
      "text/plain": [
       "Batches:   0%|          | 0/1 [00:00<?, ?it/s]"
      ]
     },
     "metadata": {},
     "output_type": "display_data"
    },
    {
     "name": "stderr",
     "output_type": "stream",
     "text": [
      "INFO:root:similarity completed. 0.7157187461853027\n",
      "INFO:root:Waiting for adjacency to complete...\n",
      "INFO:root:adjacency completed. 0.7167186737060547\n",
      "INFO:root:Waiting for basic to complete...\n",
      "INFO:root:basic completed. 0.7187187671661377\n",
      "  0%|          | 99/39591 [02:00<13:51:22,  1.26s/it]"
     ]
    },
    {
     "name": "stdout",
     "output_type": "stream",
     "text": [
      "deque(['익숙함에 속아 소중함을 잊지말자 이 구절은 생택쥐페리의 어린 왕자 책의 한 구절이다.', '짧지만 이 쉬운 말은 연인 혹은 부모자식 관계에서 당연하게 느껴졌던 관계가 끊어졌을 때 뒤늦게 후회하지 말라는 의미로 알려져있다.', '익숙함은 우리 모두가 가지고있고 알고있는 느낌이다.', '익숙함은 우리가 자주 느끼는 것을 의미하며 보통 불편하지않고 편한상태를 말한다.', '하지만 익숙함은 그 무엇보다 무서운 존재가 될 수 있다.', '내가 어렸을 적 나는 아버지에게 내 생에 가장 후회스러운 행동을 한 적 이 있다.', '아버지의 생일날 이었다.', '나는 어머니에게 아버지의 선물을 준비해달라는 부탁을 받았지만 나는 대수롭게 여기지 않고 완전히 까먹고 있었다.', '결국 선물은 준비도 하지 못한채 아버지는 일을 끝마치고 집으로 돌아왔다.', '아버지가 돌아온 순간 나는 완전히 까먹고있던 아버지의 생일과 선물을 생각해냈고 나는 어쩔줄몰라하다 아버지가 생일 선물을 챙겼냐는 말에 나는 아무생각도 없이 당황한채로 없다고 했다.', '그리고 아버지는 어떻게 편지한편도 준비하지 않았냐 했고 나는 그 전에 가지고있던 섭섭함과 함께 그럼 아버지는 나에게 어떤 것을 해주었냐고 말을 순간적으로 뱉어버린 것 이다.', '아버지와 어머니는 그 말에 화가 나셨는지 나를 혼내키고 벌을 주었다.', '그럴만도 하다.', '아버지와 어머니는 내게 키워주며 생일도 챙겨주고 사랑도 해주셨기에 화가 날 만도 했다.', '하지만 나는 그런 생각도 하지 못하고 그만 그런 말을 내뱉은 것 이다.', '그 후로 아버지와의 관계는 어색한 관계로 이틀 정도만 지속되었고 점차 어색함이 사라지며 다시 일상으로 돌아왔다.', '하지만 이 일로인해 그 이틀간은 너무 후회스럽고 슬펐고 고통스러웠다.', '하지만 이 일로인해 아직도 아버지의 생일이 다가오면 이 일이 갑작스럽게 생각나기도 하며 후회를 다시 하기도 하고 작년엔 아버지의 생일 케이크를 직접구매해 가기도하였다.', '이 일은 매일 나를 사랑해주던 아버지의 익숙함에 속아 소중한 아버지와의 관계를 부쉈고 지금은 괜찮지만 이 일이 생각날때마다 후회스럽다.', '만일 지금이라도 돌아가서 제대로 선물을 드릴 수 있다면 무조건 편지한장이라도 정성을 담아 쓸 것 이다.', '익숙함에 속아 소중함을 잃는 일 그것은 무엇보다도 내가 느낀 가장 고통스러운 일 이었고 다시는 일어나질 않길 바라는 일이다.'])\n"
     ]
    },
    {
     "name": "stderr",
     "output_type": "stream",
     "text": [
      "INFO:root:Waiting for ttr to complete...\n",
      "INFO:root:ttr completed. 0.6360015869140625\n",
      "INFO:root:Waiting for similarity to complete...\n"
     ]
    },
    {
     "data": {
      "application/vnd.jupyter.widget-view+json": {
       "model_id": "86eb208a1ae84460b8234b520316e8c5",
       "version_major": 2,
       "version_minor": 0
      },
      "text/plain": [
       "Batches:   0%|          | 0/1 [00:00<?, ?it/s]"
      ]
     },
     "metadata": {},
     "output_type": "display_data"
    },
    {
     "data": {
      "application/vnd.jupyter.widget-view+json": {
       "model_id": "6118c228b6364d91afbdf79c52ef3f05",
       "version_major": 2,
       "version_minor": 0
      },
      "text/plain": [
       "Batches:   0%|          | 0/1 [00:00<?, ?it/s]"
      ]
     },
     "metadata": {},
     "output_type": "display_data"
    },
    {
     "name": "stderr",
     "output_type": "stream",
     "text": [
      "INFO:root:similarity completed. 0.748997688293457\n",
      "INFO:root:Waiting for adjacency to complete...\n",
      "INFO:root:adjacency completed. 0.7509975433349609\n",
      "INFO:root:Waiting for basic to complete...\n",
      "INFO:root:basic completed. 0.7519979476928711\n",
      "  0%|          | 100/39591 [02:01<14:22:36,  1.31s/it]"
     ]
    },
    {
     "name": "stdout",
     "output_type": "stream",
     "text": [
      "deque(['소중함이란 사물이든 사람이든 나에게 있어 정말 중요하고 아끼지만 잘해주지 못하는 것인 거 같다.', '서로 각자에게서 소중한것은 다르지만 대체로 서로의 가까운곳에 위치해있다.', '하지만 가까이 있는데도 그 소중함을 알지 못하고 잘 대해주지 못한다.', '왜냐하면 항상 내 주변 가까운 곳에 있고 항상 내 옆에 있을 거 같기때문에 잘 대해주지 못하는 거 같다.', '한 번쯤 자신이 되게 좋아했던 사람이나 아끼던 물건이 부서지거나 사라지거나 해본 경험이 있으면 그때서야 소중함을 깨닫거나 느끼게된다.', '특히 자신이 사랑했던 사람이 없어지는것은 말로 표현을 못할만큼 아프다.', '항상 나의 곁에 있었고 계속 아프지 않고 내 옆에 있을거라 믿었던 사람이 없어져 그때서야 소중함을 깨닫고 후회를 하는것은 너무 늦었다.', '평소에 그 사람에게 10% 아니 5% 로만 더 잘 대해주고 그 사람에 대한 소중함을 일찍 깨달았으면 그 사람이 없어지기 전에 조금만 더 잘 했더라면 나중에 후회를 하더라도 그 후회의 양이 더 적지 않을까 라는 생각을 한다.', '그리고 그 사람을 잃어버렸을때는 그 사람 자리에 그 사람이 아닌 공허함과 허망감이 그 자리를 대신한다.', '대체로 후회를 할때는 어떤 선택을 하거나 어떤 일이 일어난 뒤에 크든 작든 후회를 한다.', '우리는 주변에 자신이 진짜 중요하다고 생각하는 사람이나 사랑하는 사람에게 나중에 후회를 하지 않도록 잘해주어야한다.', '나중에 그 사람을 잃은 후에 후회를 해도 많이 후회하지 않하지 않도록 평소에 그 사람에게 잘 대하고 평생 나의 곁에 있지 않으니 하루라도 빨리 그 사람에 대한 소중함을 깨닫고 항상 그 사람에게 고마움을 그 사람이 내 곁에 없어졌을때를 생각하며 잘해주어야한다.'])\n"
     ]
    },
    {
     "name": "stderr",
     "output_type": "stream",
     "text": [
      "INFO:root:Waiting for ttr to complete...\n",
      "INFO:root:ttr completed. 0.5662820339202881\n",
      "INFO:root:Waiting for similarity to complete...\n"
     ]
    },
    {
     "data": {
      "application/vnd.jupyter.widget-view+json": {
       "model_id": "7ee268425cd142f6bf0a2aec218fd08b",
       "version_major": 2,
       "version_minor": 0
      },
      "text/plain": [
       "Batches:   0%|          | 0/1 [00:00<?, ?it/s]"
      ]
     },
     "metadata": {},
     "output_type": "display_data"
    },
    {
     "data": {
      "application/vnd.jupyter.widget-view+json": {
       "model_id": "10ba829a17b44371944c6109ad334a73",
       "version_major": 2,
       "version_minor": 0
      },
      "text/plain": [
       "Batches:   0%|          | 0/1 [00:00<?, ?it/s]"
      ]
     },
     "metadata": {},
     "output_type": "display_data"
    },
    {
     "name": "stderr",
     "output_type": "stream",
     "text": [
      "INFO:root:similarity completed. 0.6763267517089844\n",
      "INFO:root:Waiting for adjacency to complete...\n",
      "INFO:root:adjacency completed. 0.6773059368133545\n",
      "INFO:root:Waiting for basic to complete...\n",
      "INFO:root:basic completed. 0.6773059368133545\n",
      "  0%|          | 101/39591 [02:02<13:35:36,  1.24s/it]"
     ]
    },
    {
     "name": "stdout",
     "output_type": "stream",
     "text": [
      "deque(['소중함이라는 주제를 보았을때 내가 소중하게 생각하는게 무엇인가 생각해 보았다.', '하지만 아무리 생각해봐도 없었다.', '내가 여자친구가 있는것도 아니고 특별히 무엇을 아끼는 것도 아니라서찾기 힘들었다.', '다시 처음부터 소중함이라는 주제로 제시문을 살펴보고나서야 내가 소중하게 생각하는 것을 찾았다.', '제시문에 익숙함에 속아 소중함을 잊지 말자는 명언을 보고 나에게 제일 익숙하고 또 금방 속아서 소중함을 잊을수 있는것은 바로 가족이었다.', '가족은 매일 보기때문에 익숙하다.', '또 살아가면서 제일 중요한거같다.', '내가 소중하게 생각하는 가족을 잃을뻔 했던적은 바로 부모님과의 싸움으로 관계가 틀어질뻔한게 생각났다.', '부모님과 싸울땐 여러가지 이유가 있는거같다.', '하지만 내가 싸웠을땐 아무래도 이 이유가 제일많을거같은데 바로 성적이었다.', '내 성적은 좋은편은 아니다.', '시험이 끝났을때 부모님한테 매번 혼나고 나는 또 혼나는 상황에서 반박을 한다.', '시험이 끝나고 부모님과 싸움을 하고나면 꽤 긴 시간동안 정말 말을 안하게된다.', '나는 이런경우가 나에게 소중한것을 잃을뻔한거같다고 생각한다.', '이렇게 싸우고 나면 나는 친구집에서 자거나 내 방에서 아예 나가지 않는다.', '내가 소중한것을 회복하고자 내가 한 노력은 내가 먼저 부모님에게 다가가는 방법이었다.', '내 잘못이 크고 또 먼저 다가가서 죄송하다고 말했을때 부모님은 풀리셨다.', '소중함이 꼭 물건이 아니라는것을 이번에 알았다.'])\n"
     ]
    },
    {
     "name": "stderr",
     "output_type": "stream",
     "text": [
      "INFO:root:Waiting for ttr to complete...\n",
      "INFO:root:ttr completed. 0.511070728302002\n",
      "INFO:root:Waiting for similarity to complete...\n"
     ]
    },
    {
     "data": {
      "application/vnd.jupyter.widget-view+json": {
       "model_id": "12acae32948f4225bf9e128cbf4210bc",
       "version_major": 2,
       "version_minor": 0
      },
      "text/plain": [
       "Batches:   0%|          | 0/1 [00:00<?, ?it/s]"
      ]
     },
     "metadata": {},
     "output_type": "display_data"
    },
    {
     "data": {
      "application/vnd.jupyter.widget-view+json": {
       "model_id": "ef3cdf5c5ccf4857b979c5176d924893",
       "version_major": 2,
       "version_minor": 0
      },
      "text/plain": [
       "Batches:   0%|          | 0/1 [00:00<?, ?it/s]"
      ]
     },
     "metadata": {},
     "output_type": "display_data"
    },
    {
     "name": "stderr",
     "output_type": "stream",
     "text": [
      "INFO:root:similarity completed. 0.6190710067749023\n",
      "INFO:root:Waiting for adjacency to complete...\n",
      "INFO:root:adjacency completed. 0.6200709342956543\n",
      "INFO:root:Waiting for basic to complete...\n",
      "INFO:root:basic completed. 0.6210677623748779\n",
      "  0%|          | 102/39591 [02:03<13:01:35,  1.19s/it]"
     ]
    },
    {
     "name": "stdout",
     "output_type": "stream",
     "text": [
      "deque(['익숙함에 속아 소중함을 잃었던 사례로는 저는 집안 사정으로 인하여 6학년때 경기도 성남시에서 이곳 익산시로 전학을 오게 되었는데 전학을 오기 전인 5학년 때까지만 해도 저는 친구들의 집에 놀러가서 놀고, 친구들이 놀러 오기도 하는 등 친구관계가 아주 원활했었는데 그렇기 때문에 그게 당연한 것인 줄 알고 친구들과 그 친구들과 함께 놀았던 추억에 대해 그저 일상이라고만 생각하고 그것이 소중한 줄 모르고 생각없이 살고 있었는데 집안에 뜻밖의 일이 생겨서 익산으로 와서#@소속#에 입학하자 저는 모든 것이 달라졌는데, 보통 초등학교 6학년정도 되면 같이 노는 무리들이 형성이 되어있었어서 저는 할 수 있는 것이 없었습니다.', '애초에 저는 적극적인 성격도 아니고 그때는 엄청 소심하고 부끄럼도 많이 타는 성격이었어서 친구들한테 말도 잘 못 걸었어서 그 때서야 제가 성남에 살았을 때 그때 그 친구들, 그리고 그 친구들과 함께했던 추억들이 너무나도 소중했다는 것을 깨닫고 소중함을 잃었다고 생각했습니다.', '소중함을 회복하고자 했던 노력은 그래도 어찌어찌 6학년때 적응을 하고 중학교 1학년이 되었는데, 그때부터는 다른 친구들이 나에게 말을 걸어주는 것을 바라는 것이 아니라 나부터 바뀌어서 친구들과 친해져야겠다는 생각이 들어서 적극적으로 성격을 바꾸기로 노력하였는데, 당연히 처음부터 잘 된 것은 아니었습니다.', \"1학년 1학기까지는 아직도 친구들도 잘 못 사귀어서 자꾸 제 성격 탓만 하다보니 우울증이 생겨서 학교 상담실도 자주 다니고 보건소까지 가 보았는데 그 덕분인지 고민을 말하는 것 만으로도 마음이 편해질 수 있다는 생각이 들었고 덕분에 그 쪽으로 진로도 생각해 보게 되었고 2학기부터는 성격도 바뀌어서 친구들도 많이 사귀고 잘 놀아서 ' 친구 ' 라는 저의 소중함을 회복하게 될 수 있었던 것 같습니다.\"])\n"
     ]
    },
    {
     "name": "stderr",
     "output_type": "stream",
     "text": [
      "INFO:root:Waiting for ttr to complete...\n",
      "INFO:root:ttr completed. 0.6173174381256104\n",
      "INFO:root:Waiting for similarity to complete...\n"
     ]
    },
    {
     "data": {
      "application/vnd.jupyter.widget-view+json": {
       "model_id": "1fac547e570145919df8aa841e7b0e1d",
       "version_major": 2,
       "version_minor": 0
      },
      "text/plain": [
       "Batches:   0%|          | 0/1 [00:00<?, ?it/s]"
      ]
     },
     "metadata": {},
     "output_type": "display_data"
    },
    {
     "data": {
      "application/vnd.jupyter.widget-view+json": {
       "model_id": "452caf7685ad4a878c02bfd7e9ed9d09",
       "version_major": 2,
       "version_minor": 0
      },
      "text/plain": [
       "Batches:   0%|          | 0/1 [00:00<?, ?it/s]"
      ]
     },
     "metadata": {},
     "output_type": "display_data"
    },
    {
     "name": "stderr",
     "output_type": "stream",
     "text": [
      "INFO:root:similarity completed. 0.7292604446411133\n",
      "INFO:root:Waiting for adjacency to complete...\n",
      "INFO:root:adjacency completed. 0.7302572727203369\n",
      "INFO:root:Waiting for basic to complete...\n",
      "INFO:root:basic completed. 0.7302572727203369\n",
      "  0%|          | 103/39591 [02:04<12:31:17,  1.14s/it]"
     ]
    },
    {
     "name": "stdout",
     "output_type": "stream",
     "text": [
      "deque(['익숙함에 속아 소중함을 잊지 말자는 명언은 중학생 때부터 알고 있었지만, 소중한 것을 잃었던 때가 중학생때이다.', '중학교 2학년때 초등학교 때부터 오래알고 지낸 친구가 있었다.', '우연히 같은반이 되었고, 1학기는 그 친구와 평소처럼 잘 지내왔었다.', '2학기가 시작되고 얼마지나지 않아 중간고사 시험기간이 시작되었다.', '난 평소처럼 그 친구와 살고있는 집이 가까웠어서 자주 만나 도서관으로 공부 하러 가고는 했다.', '원래 친한 친구끼리는 그 친구가 힘들 때 놀려야 진짜 친한 친구로 여겨져 왔었다.', '그래서 친구가 힘든일이 생겼을 때 서로 더 많이 놀렸던거 같다.', '그 속에서 위기가 몇 번 있긴 했지만 모두 수월하게 지나갔고, 이번 일 또한 그렇게 지나갈 줄 알았다.', '근데 이번엔 약간 느낌이 평소와는 달랐지만, 난 그럼에도 평소처럼 친구의 속을 살살 긁었다.', '그때 친구가 화를 내면서 도서관을 나갔다', '왜 그랬는지 모르지만 쫒아가서 잡으면 자존심이 상할 거 같았다.', '전화를 해봤지만 역시 받지 않았고, 도서관에 나 혼자 앉아있게 되었다.', '다음날이 되어도 우린 서로 말을 걸지 않았고 약 3주간 지속되었다.', '어느덧 시험 보기 1주일 전이 되었다.', '친구와의 문제 때문에 공부는 눈에 들어오지도 않았고, 멍하게 지냈다.', '이대로는 안되겠다 싶어서 몰려다니는 주변 친구들과 저녁약속을 잡아 도움을 받기로 했다.', '혼자 나서서 해결하지엔 자존심이 상했나 보다.', '10명정도 모였고 그 중 한 친구가 나와 싸운 친구를 불렀다.', '그 무리중에 내가 있다는 말만 빼고 불렀다.', '그 친구가 와보니 내가 있었고 우린 서로 서먹해져있었다.', '도서관에 가서 공부를 마치고 노래방에 10시까지 놀았다.', '물론 눈치 보느라 제대로 놀지 못했다.', '그리고 친구집에 가 게임을 하는데 원래 안친한 사람 둘이 피시방에 넣어놓으면 친해져서 나오는게 전통이었다.', '그래서 비슷한 방식으로 우린 게임을 하게되었고, 게임 한판이 끝났을 무렵엔 자연스럽게 제법 많은 말을 섞고 있었다.', '우리 둘다 인지하지 못했다.', '말하고 있었단 것을.', '내 잘못이 맞지만 사과하기엔 내 자존심이 따르지 않았던 나는 지금 아니면 안되겠다 싶어서 따로 불렀다.', '친구집 근처 편의점으로 가서 내 간식과 친구 간식까지 내가 사서 어색하게 간식을 건냈다.', '사과를 우물쭈물 거리며 하고 그 친구가 나한테 웃으면서 이딴거 오글거리면서 이딴거 하지 말라고 욕을 하면서 말했다.', '욕을 들으니 마음이 편해졌다.', '다시 돌아온거 같아 시원한 기분을 받았고, 마음졸인 시간들이 식은땀과 함께 내려간 듯 했다.', '다시 친해진 우리는 일주일내내 놀았고 시험을 서로 망쳤다.', '근데 기분이 좋았다.', '시험을 망친 충격보다 친구를 잃었던 3주의 충격이 더 컸던거 같다.', '화해하기 위해서 게임을 해야겠다는 교훈을 얻었고, 선을 넘지 말자고 다짐했다.'])\n"
     ]
    },
    {
     "name": "stderr",
     "output_type": "stream",
     "text": [
      "INFO:root:Waiting for ttr to complete...\n",
      "INFO:root:ttr completed. 0.6383631229400635\n",
      "INFO:root:Waiting for similarity to complete...\n"
     ]
    },
    {
     "data": {
      "application/vnd.jupyter.widget-view+json": {
       "model_id": "69f55b7251f44828b869cf8664b50672",
       "version_major": 2,
       "version_minor": 0
      },
      "text/plain": [
       "Batches:   0%|          | 0/1 [00:00<?, ?it/s]"
      ]
     },
     "metadata": {},
     "output_type": "display_data"
    },
    {
     "data": {
      "application/vnd.jupyter.widget-view+json": {
       "model_id": "7d1b233506c24b00a00dd95147b670c1",
       "version_major": 2,
       "version_minor": 0
      },
      "text/plain": [
       "Batches:   0%|          | 0/1 [00:00<?, ?it/s]"
      ]
     },
     "metadata": {},
     "output_type": "display_data"
    },
    {
     "name": "stderr",
     "output_type": "stream",
     "text": [
      "INFO:root:similarity completed. 0.7753593921661377\n",
      "INFO:root:Waiting for adjacency to complete...\n",
      "INFO:root:adjacency completed. 0.776360034942627\n",
      "INFO:root:Waiting for basic to complete...\n",
      "INFO:root:basic completed. 0.7773594856262207\n",
      "  0%|          | 104/39591 [02:06<14:20:23,  1.31s/it]"
     ]
    },
    {
     "name": "stdout",
     "output_type": "stream",
     "text": [
      "deque(['한 1년 전 쯤 이었다.', '나는 학원에서 공부를 마치고 집에 3~4시에 도착했었다.', '집에 와서 바로 방에 들어가서 학교 과제를 했다.', '그러나 방에 불을 환하게 켜 놓고 과제에 혼신을 다하고 있었을 때였다.', '갑자기 원인을 알 수 없이 방에 불이 꺼져버리게 됐다.', '나는 혹시 우리 집 전기 회로에 문제가 있나 하고 확인을 하러 집 밖 복도로 나왔다.', '하지만 복도에서 한창 열일을 하고 있어야할 엘리베이터도 운행을 하지 않고 있었다.', '그때에서야 나는 정전이라는 사실을 알아차리게 되었다.', '정전 사건의 전말을 알고 보니 사거리에서 자동차가 빠른 속도로 달려와 인도에 있는 발전함을 박아서 영등동 일대의 전기가 모조리 끊기게 되었던 것이었다.', '더군다나 정전이 일어났던 시간대가 저녁을 먹고 샤워을 해야하는, 즉 전기가 꼭 필요한 일을 해야 하는 시간대였다.', '일단 나는 하는 수 없이 방에 촛불을 키고 과제를 마무리해 갔다.', '과제를 끝마쳤을 때 쯤, 학원에 갔던 동생, 그리고 회사에 다녀오신 부모님도 집에 오셨다.', '과제를 끝내고 안심하고 있던 나는 가족들이 모두 모이니 저녁도 먹어야 하고 씻기도 해야 하고 등의 일이 남아있다는 것을 인지하게 되었다.', '먼저 전기가 들어오지 않으니 인덕션을 사용하는 우리 집에서는 찌개를 데우거나 간단한 라면도 끓여먹지 못하였다.', '또한 밥솥이 되지 않는 상태에다가 밥도 남아있지 않아서 직접 냄비에 밥을 했어야 했다.', '그래서 우리 가족은 집에 있던 가스 버너를 이용해서 밥을 짓고, 그 후에 찌개를 끓여서 저녁식사를 준비 했었다.', '그때까지도 사고 처리가 되고 있지 않아 생각보다 오랫동안 전기 복구가 되고 있지 않고 있는 상황이었다.', '어쩔 수 없이 우리 가족은 불편하게 식탁 등도 켜지지 않는 상황에서 촛불 몇 개에 의지해서 저녁 식사를 끝마쳤다.', '하지만 아직도 하나의 큰 고난이 남아 있었다.', '바로 네 식구가 샤워를 해야 하는 것이었다.', '전기가 들어오지 않아 보일러도 작동하지 않았을 뿐더러 화장실에 불이 켜지지 않으니 말 그대로 씻을 수가 없는 상황이었다.', '별 수 없이 우리 가족은 생각보다 무거운 욕실 용품을 바리바리 싸서 근처에 있는 목욕탕에 가서 씻었었다.', '그리고 집을 나가고 들어올 때는 엘리베이터가 작동하지 않으니 10층에 위치한 우리 집까지 계단으로 걸어야만 했었다.', '이러한 고난이 지겨워질 때 즈음인 10시에 정전 복구와 사고 처리가 완료되어 다시 전등을 킬 수 있었고, 보일러와 가스레인지, 그리고 밥솥 등도 다시 사용할 수 있게 되었다.', '나를 포함한 우리 모두는 아마 일상에서 항상 쓰이는 전기와 그 전기 공급의 소중함과 중요함을 잊어버리고 살고 있을 것이다.', '왜냐하면 언제든지 스위치를 누르면 불이 켜지고, 충전기를 콘센트에 꽂으면 폰이 충전되니까.', '하지만 이 정전 사건을 통해 나는 전기가 잠시 하루도 아닌 몇 시간 동안만이라도 공급되지 않으면 평소에는 당연하게 여겼던 불을 키고 과제를 하는 활동조차도 촛불을 키고 해야 하는 아주 불편하고 한 번 하기도 힘든 일이 되어버린다는, 즉 우리의 편안한 일상이 갑자기 불편한 생활로 바뀌게 된다는 사실을 깨닫게 되었다.', '그래서 이 사건을 계기로 전기의 소중함을 회복하고자 전기를 사용할 때마다 불이 켜지고 폰이 충전되는 것을 당연한 것으로 생각하는 것이 아니라 곁에서 우리의 생활을 편안하게 해주어서 감사하고 소중한 것으로 생각하는 정신적인 습관을 들이게 되었다.', '또한 꼭 그 전자제품이 필요한 상황이 아니라면, 그리고 전자제품을 지금 당장 사용하고 있지 않는다면 전기 콘센트를 뽑아 놓고 전자 제품의 전원을 꼭 꺼서 보관하여 전기 낭비를 최소한도로 하는 습관을 가지게 되었다.', '이로 인해 1년이 지난 지금은 정확하진 않지만, 노트북 세 대를 동시에 충전 할 수 있는 양의 전기를 절약하게 되었다.'])\n"
     ]
    },
    {
     "name": "stderr",
     "output_type": "stream",
     "text": [
      "INFO:root:Waiting for ttr to complete...\n",
      "INFO:root:ttr completed. 0.6151285171508789\n",
      "INFO:root:Waiting for similarity to complete...\n"
     ]
    },
    {
     "data": {
      "application/vnd.jupyter.widget-view+json": {
       "model_id": "f662fe45dd8241d8bd91535cfe83c75f",
       "version_major": 2,
       "version_minor": 0
      },
      "text/plain": [
       "Batches:   0%|          | 0/1 [00:00<?, ?it/s]"
      ]
     },
     "metadata": {},
     "output_type": "display_data"
    },
    {
     "data": {
      "application/vnd.jupyter.widget-view+json": {
       "model_id": "9e06e4b8f66f4a7fa4158953b7eaf29c",
       "version_major": 2,
       "version_minor": 0
      },
      "text/plain": [
       "Batches:   0%|          | 0/1 [00:00<?, ?it/s]"
      ]
     },
     "metadata": {},
     "output_type": "display_data"
    },
    {
     "name": "stderr",
     "output_type": "stream",
     "text": [
      "INFO:root:similarity completed. 0.7711312770843506\n",
      "INFO:root:Waiting for adjacency to complete...\n",
      "INFO:root:adjacency completed. 0.7721314430236816\n",
      "INFO:root:Waiting for basic to complete...\n",
      "INFO:root:basic completed. 0.7721314430236816\n",
      "  0%|          | 105/39591 [02:08<15:37:18,  1.42s/it]"
     ]
    },
    {
     "name": "stdout",
     "output_type": "stream",
     "text": [
      "deque(['내가 익숙함에 속아 소중함을 잃었던 사례는 바로 친구였다.', '예전에 내가 초등학교 시절에 맨날 같이 놀던 친구들이 있었다.', \"그렇게 계속 친하게 지내던 도중에 어느 날에 그 친구들이 '학교 끝나고 같이 우리 놀자'라고 나에게 말했다.\", '하지만 나는 그 친구에게 학원을 가야한다고 핑계를 대고 학교가 끝난 후 학원을 가지 않고 새로 친해진 친구들과 분식집에 가고 pc방에 갔었다.', '몇 시간 뒤에 내가 집에서 컴퓨터로 게임을 하고 있었는데 나와 친한 한 친구가 게임메신저로 왜 자신한테 학원 간다고 거짓말 치고 다른 애들이랑 놀았냐고 나에게 말했다.', '나는 순간 당황해서 그 친구에게 잘못 본거일거라고 말했다.', '하지만 그 친구 외에도 다른 친구들도 내가 새롭게 친해진 애들과 놀고 있다는 것을 봤다고 했다.', \"그 일이 일어난 뒤에 애들은 나에게 왜 거짓말을 하냐고 화를 냈고 새롭게 친해진 애들이랑 놀라고 하고 나는 '나도 너네랑 안 놀아도 되니까 너희 필요 없어'라고 말했다.\", '우리들의 사이는 급격히 차가워졌고 몇몇 애들하고는 말도 섞지 않았다.', '하지만 얼마 안가서 나는 다시 그 친구들과 놀고 싶다고 느꼈고 내가 왜 그런 말을 했지 하면서 심한 말을 한 것에 후회하기도 했다.', '학교가 끝나면 갔던 친구의 집도 더 이상 가지 못했고 점심시간에도 다른 애들과 점심을 먹고 놀게 되었다.', '내 친한 친구들이 노는 것을 보고 나는 계속 그 친구들이 노는 모습을 쳐다보면서 그 친구들과 놀고 싶다고 느꼈다.', '게다가 주말에는 친했던 친구들과만 놀았기 때문에 나는 그 때 처음으로 친구들과 주말에 놀러 나가지 않은 것 같았다.', '나는 너무 심심했고 애들과 얘기도 하고 싶고 같이 놀고 싶었다.', '그렇게 해서 나는 친구들의 소중함을 느꼈다.', '결국 나는 친구들에게 사과하기 위해서 친한 친구들과 토요일에 매주 모였던 장소인 한 친구의 집에 찾아갔다.', \"하지만 애들은 나에게 '사과 안 받을 거니까 너희 집으로 돌아가'라고 했다.\", '하지만 나는 계속 그 친구 집의 초인종을 눌러서 미안하다고 했다.', '결국 그 친구 집에 있던 친구의 누나가 집에 들어오게 해줬고 애들에게 심한 말 한 것에 대해서 사과하고 다시는 친구들을 배신하고 거짓말하지 않겠다고 사과를 해서 친구들이 나를 용서해줬다.'])\n"
     ]
    },
    {
     "name": "stderr",
     "output_type": "stream",
     "text": [
      "INFO:root:Waiting for ttr to complete...\n",
      "INFO:root:ttr completed. 0.5956087112426758\n",
      "INFO:root:Waiting for similarity to complete...\n"
     ]
    },
    {
     "data": {
      "application/vnd.jupyter.widget-view+json": {
       "model_id": "c792a6a7d49b4e9bb392f7f95c2e8f25",
       "version_major": 2,
       "version_minor": 0
      },
      "text/plain": [
       "Batches:   0%|          | 0/1 [00:00<?, ?it/s]"
      ]
     },
     "metadata": {},
     "output_type": "display_data"
    },
    {
     "data": {
      "application/vnd.jupyter.widget-view+json": {
       "model_id": "c6052b369ee14744bd7fb8aede983df5",
       "version_major": 2,
       "version_minor": 0
      },
      "text/plain": [
       "Batches:   0%|          | 0/1 [00:00<?, ?it/s]"
      ]
     },
     "metadata": {},
     "output_type": "display_data"
    },
    {
     "name": "stderr",
     "output_type": "stream",
     "text": [
      "INFO:root:similarity completed. 0.704608678817749\n",
      "INFO:root:Waiting for adjacency to complete...\n",
      "INFO:root:adjacency completed. 0.7056088447570801\n",
      "INFO:root:Waiting for basic to complete...\n",
      "INFO:root:basic completed. 0.7056088447570801\n",
      "  0%|          | 106/39591 [02:09<15:23:50,  1.40s/it]"
     ]
    },
    {
     "name": "stdout",
     "output_type": "stream",
     "text": [
      "deque(['어렸을 적부터 알고 지낸 여자인 친구가 있었는데 오랜 시간을 함께 보내고 많은 추억을 나누다 보니 서로 더 가까워지고 연락을 자주 주고받으며 하루 일상의 많은 부분을 그 친구와 서로의 하루나 서로가 몰랐던 과거를 이야기하며 고민 등과 재미난 사실들을 이야기하며 보냈다.', '일상생활 속에서 아무리 힘든 일이 있거나 스트레스를 받아도 나중에 그 친구에게 이야기하고 나에게 조언해주는 그 친구가 고마웠고 그 친구와 이야기하는 시간이 기다려졌다.', '나의 하루 일과를 그 친구와의 연락으로 시작하여 그 친구로 끝낼 만큼 매우 친해지게 되었다.', '하지만 먼저 연락을 해주거나 같이 놀자고 하는 것은 대부분이 그 친구가 먼저 나에게 말을 꺼냈다.', '나는 내성적인 성격이다 보니 나보다는 그 친구가 먼저 이야기를 걸어왔는데 시간이 지나서 보니 나는 그 친구가 먼저 말을 꺼내는 것이 당연하고 자연스럽게 여겨지게 되었다.', '그렇게 시간이 지나니 내가 먼저 말을 하는 경우는 사라지고 그 친구가 먼저 말을 걸었을 때부터 대화가 시작되었다.', '그 친구도 오랜 시간 그게 힘들었는지 대화의 횟수가 적어지고 자주 안 만나게 되었다.', '하루 중 많은 시간을 함께 했던 친구와 연락을 하지 않으니 고민이나 이야기를 할 친구가 마땅히 생각나지 않았고 그 친구의 빈자리가 느껴지기 시작했다.', '친구의 연락이 먼저 오는 것이 익숙하고 당연했던 나는 그대로 속아 친구의 소중함을 잊고 그 친구를 잃기 시작했다.', '친구를 완전히 잃기 전에 나는 한참 고민하다가 용기를 내서 그 친구에게 먼저 연락하기 시작했고 놀자고도 제안했다.', '그 친구도 기다렸다는 듯 웃으며 같이 놀고 평소처럼 이야기도 자연스럽게 이어갔다.', '먼저 말을 꺼내서 대화를 이어가는 게 생각보다 어려운데 그 친구는 항상 그래온 것이 대단하게 느껴져서 지금까지 내가 먼저 말을 꺼내지 않았던 점에 대해 사과하였다.', '내가 먼저 말을 꺼내기 시작하니 예전처럼 서로 즐거워졌고 서로 만나기만 해도 웃는 친구로 돌아왔다.'])\n"
     ]
    },
    {
     "name": "stderr",
     "output_type": "stream",
     "text": [
      "INFO:root:Waiting for ttr to complete...\n",
      "INFO:root:ttr completed. 0.6179995536804199\n",
      "INFO:root:Waiting for similarity to complete...\n"
     ]
    },
    {
     "data": {
      "application/vnd.jupyter.widget-view+json": {
       "model_id": "58f8583b495243e7a3371649c85d32cf",
       "version_major": 2,
       "version_minor": 0
      },
      "text/plain": [
       "Batches:   0%|          | 0/1 [00:00<?, ?it/s]"
      ]
     },
     "metadata": {},
     "output_type": "display_data"
    },
    {
     "data": {
      "application/vnd.jupyter.widget-view+json": {
       "model_id": "6ffb03a7e02548c6b55a3fe555b58604",
       "version_major": 2,
       "version_minor": 0
      },
      "text/plain": [
       "Batches:   0%|          | 0/1 [00:00<?, ?it/s]"
      ]
     },
     "metadata": {},
     "output_type": "display_data"
    },
    {
     "name": "stderr",
     "output_type": "stream",
     "text": [
      "INFO:root:similarity completed. 0.8686840534210205\n",
      "INFO:root:Waiting for adjacency to complete...\n",
      "INFO:root:adjacency completed. 0.8696842193603516\n",
      "INFO:root:Waiting for basic to complete...\n",
      "INFO:root:basic completed. 0.8706841468811035\n",
      "  0%|          | 107/39591 [02:10<15:13:13,  1.39s/it]"
     ]
    },
    {
     "name": "stdout",
     "output_type": "stream",
     "text": [
      "deque(['많은 사람들이 집에서 혹은 다른 곳에서 하지 말아야 하는 행위를 익숙하고 편해서 하는 경우가 많다.', '나의 경우만 봐도 등교, 하교 할 때마다 무단횡단 하는 사람들이 꽤 많이 본다.', '빠르게 뛰어가 무단횡단하면 빨리 도착할 수 있고 기다리지 않아도 되니까 편하고 좋겠지만, 잘못해서 교통사고 나면 골로 간다.', '뉴스에서 무단횡단 사고들을 살펴보면 숨지는 경우가 있다.', '제발 무단횡단이 얼마나 위험한 행동인지 무단횡단 하는 사람들이 깨달았으면 좋겠다.', '가해자나 피해자나 사고 나면 귀찮고 힘들다.', '빨간불에 멈추고 초록불에 건너는 쉽고 간편한 것이니 꼭 지켰으면 좋겠다.', '다른 경우는 자전거, 오토바이, 전동킥보드 같은 것은 보호장비를 착용하고 탄다.', '그러나 주위 사람들 보면 착용하지 않는다.', '보호장비 종류만 봐도 헬멧, (무릎, 팔꿈치)보호장비 정도 있는데 헬멧이라도 착용했으면 좋겠다.', '헬멧을 착용하지 않으면 어떻게 되는지 영상을 보면서 조사해보니까 헬멧 덕분에 뇌진탕을 피하고 약간의 충격만 받고 끝났다.', '뇌진탕도 막아주는데 사람들은 헬멧이 불편한 건지, 안 쓰고 다니는게 편하고 익숙한 건지 안 쓰고 다닌다.', '보호장비 없이 사고 나면 정말 큰일 난다.', '실제로 나도 헬멧 같은 보호장비 사용하지 않다가 자전거 사고 나서 매우 큰일 난 적이 있다.', '자전거나 오토바이를 탈 때 헬멧을 쓰라고 하는 법이 있는데 그럼에도 불구하고 왜 안 쓰는지 모르겠다.', '사람들이 위험하다는 것을 인지하고 편안함과 익숙함에 속아 소중한 것을 잃지 않았으면 좋겠다.', '나만 잃으면 나만 손해지만 대부분 근처 사람들, 가족들까지 피해가 간다.', '이를 사람들이 인지하고 있으면 좋겠다.'])\n"
     ]
    },
    {
     "name": "stderr",
     "output_type": "stream",
     "text": [
      "INFO:root:Waiting for ttr to complete...\n",
      "INFO:root:ttr completed. 0.6442813873291016\n",
      "INFO:root:Waiting for similarity to complete...\n"
     ]
    },
    {
     "data": {
      "application/vnd.jupyter.widget-view+json": {
       "model_id": "0f32b7387dfb4b049ad176a7fe41c5a4",
       "version_major": 2,
       "version_minor": 0
      },
      "text/plain": [
       "Batches:   0%|          | 0/1 [00:00<?, ?it/s]"
      ]
     },
     "metadata": {},
     "output_type": "display_data"
    },
    {
     "data": {
      "application/vnd.jupyter.widget-view+json": {
       "model_id": "0f07cf714d1e439bb8b86942e89ba670",
       "version_major": 2,
       "version_minor": 0
      },
      "text/plain": [
       "Batches:   0%|          | 0/1 [00:00<?, ?it/s]"
      ]
     },
     "metadata": {},
     "output_type": "display_data"
    },
    {
     "name": "stderr",
     "output_type": "stream",
     "text": [
      "INFO:root:similarity completed. 0.6982777118682861\n",
      "INFO:root:Waiting for adjacency to complete...\n",
      "INFO:root:adjacency completed. 0.6982777118682861\n",
      "INFO:root:Waiting for basic to complete...\n",
      "INFO:root:basic completed. 0.6992790699005127\n",
      "  0%|          | 108/39591 [02:12<14:32:13,  1.33s/it]"
     ]
    },
    {
     "name": "stdout",
     "output_type": "stream",
     "text": [
      "deque(['\"익숙함에 속아 소중함을 잃지 말자\"라는 명언은 어렸을 때부터 누가 말했는지는 모르지만 자주 듣던 명언이다.', '이 말처럼 인간은 처음에는 소중하다가도 점차 편해지면서 그 소중함은 잃고 익숙해져 결국 익숙함과 소중함 모두 잃어버린다.', '처음에는 풋풋했던 연인들도 100일, 200일을 같이 지내면서 서로가 편해지고 익숙해지면서 소중함을 잃고 권태기를 겪고 난 후 해어지고 세상에서 제일 소중한 가족들을 소중한지 모르고 남보다 못한 사이가 돼버리거나 가족보다 친구들을 우선시하면서 가족들과의 시간을 거의 보내지 않는다.', '나는 요즘 후자와 같은 일을 겪고 있다.', '나와 형은 사소한 일 때문에 여러 번 크게 다퉈 진짜로 남보다 못한 사이가 되었고 친구들과 노는 거에 시간 가는 줄 모르고 노느라 항상 집에 10시, 11시쯤에 들어가고 부모님께 신경질적으로 행동하면서 부모님께서 뭔 말만 하시면 짜증을 내거나 부정적으로 듣게 된다.', '또 형은 부모님께 말실수를 하였고 누나는 부모님께 큰 실수를 하였다.', '나는 내가 형 누나처럼 부모님께 실수하지는 않을까?', '또 그냥 편해서 했던 행동이 부모님 가슴에 못을 박는 행동은 아니었을까라는 생각을 자주 하게 된다.', '내가 가족에 대한 소중함을 잃고 익숙하다는 것을 내세우며 한 행동이 결국 소중함과 익숙함 모두 잃어버릴 수 있다는 것을 깨닫고 익숙하더라도 그 안에 들어있는 작은 소중함이라도 찾아내어 한 번 더 생각하여 행동하고 가족들과 더 많은 소중한 시간을 보낼 것이다.'])\n"
     ]
    },
    {
     "name": "stderr",
     "output_type": "stream",
     "text": [
      "INFO:root:Waiting for ttr to complete...\n",
      "INFO:root:ttr completed. 0.565018892288208\n",
      "INFO:root:Waiting for similarity to complete...\n"
     ]
    },
    {
     "data": {
      "application/vnd.jupyter.widget-view+json": {
       "model_id": "fec4bc33b1bb42ef99986caefd154b6b",
       "version_major": 2,
       "version_minor": 0
      },
      "text/plain": [
       "Batches:   0%|          | 0/1 [00:00<?, ?it/s]"
      ]
     },
     "metadata": {},
     "output_type": "display_data"
    },
    {
     "data": {
      "application/vnd.jupyter.widget-view+json": {
       "model_id": "c53d3dbad9864734a8effb25ec174179",
       "version_major": 2,
       "version_minor": 0
      },
      "text/plain": [
       "Batches:   0%|          | 0/1 [00:00<?, ?it/s]"
      ]
     },
     "metadata": {},
     "output_type": "display_data"
    },
    {
     "name": "stderr",
     "output_type": "stream",
     "text": [
      "INFO:root:similarity completed. 0.642949104309082\n",
      "INFO:root:Waiting for adjacency to complete...\n",
      "INFO:root:adjacency completed. 0.643949031829834\n",
      "INFO:root:Waiting for basic to complete...\n",
      "INFO:root:basic completed. 0.6449489593505859\n",
      "  0%|          | 109/39591 [02:13<13:23:17,  1.22s/it]"
     ]
    },
    {
     "name": "stdout",
     "output_type": "stream",
     "text": [
      "deque(['나는 이 주제를 보고 할머니라는 단어를 떠올리게 되었다.', '이유는 모르겠다.', '내가 왜 그랬는지.', '하지만 이 수행평가를 통해서 깊은생각을 갖게 되었다.', '내가 할머니라는 단어를 떠올린 이유는 너무 죄송했기 때문이다.', '그때가 아마 중학교 3학년 시험을 3일 정도 앞둔 날이었을 것이다.', '아빠가 나에게 물었다.', '병원에 가자고. 이건 흔한 병원이 아니었다.', '요양병원이었다.', '하지만 나는 생각조차 하지 않고 싫다고 말했다.', '나는 요양병원 그 특유의 공기가 싫었기 때문이다.', '사실 우리 할머니는 치매에 걸리셨다.', '내가 거절한 날 하루 전에 병원에 잠시 다녀왔었다.', '할머니는 아빠와 내가 들어가자마자 웃음을 지으셨다.', '그 웃음이 상징하는 것을 나는 느낄 수 있었다.', '오랜만에 만난 나를 반기는 웃음이었다.', '나도 그 모습을 보고 웃었다.', '이렇게 우리는 언어적인 것이 아닌 표정으로도 간단한 대화를 나누었다.', '그때였다.', '할머니가 내 손을 잡고 우시는 것이었다.', '마음이 아팠다.', '우리가 간다는 소리에 더 이상 보지도 못할 것 같은 표정으로 아빠와 나를 빤히 쳐다보고 있었다.', '더 있고 싶었지만 시험을 앞둔 나였기에 죄송한 마음을 남긴 채 병원에서 나왔었다.', '하지만 오늘은 가기가 싫었다.', '공부에 열정을 불태우는 나였기에 성적을 더 중시하게 생각했나보다.', '그렇게 밤이 되었다.', '아빠에게 전화 한 통이 걸려왔다.', '아빠에게 밤 중에 전화가 오는 것은 익숙한 일이었다.', '그래서 내 공부에 집중하게 되었다.', '그때 생각해보면 공부는 내 일상이어서 익숙했던 것 같다.', '그렇게 집중을 하고 있을 때, 갑자기 아빠가 다급하게 집을 나갔다.', '뭐지? 하고 생각하다가도 공부에 다시 집중했다.', '그때 아빠한테 전화 한 통이 걸려왔다.', '그 전화를 받은 나는 나도 모르게 눈물을 흘리고 있었다.', '할머니가 돌아가신 것이었다.', '일단 너무 급해서 땅에 던져놓은 옷을 입고 바로 병원으로 갔다.', '병원에 도착하고보니 연예인 공연이라도 온 것같이 사람이 많았다.', '저기 멀리서 아빠가 보였다.', '아빠는 내가 온 것을 신경쓰지도 않고 전화만 계속 하고 있었다.', '그렇게 우리는 너무 늦었기에 일단 집으로 돌아왔다.', '가족은 다 잠이 들었고, 시계는 4시를 알려주고 있었다.', '잠시 화장실을 가려고 나왔는데 아빠는 잠을 안 자고 계속 깊은 생각에 빠진 것처럼 보였다.', '아빠도 충격이 매우 컸을 것이다.', '날이 밝자 우리는 장례식을 치르러 병원 옆에 있는 장례식장을 갔다.', '친척들과 가족이 관에 담긴 할머니를 마지막으로 볼 시간이 다가왔다.', '하지만 나는 보지 않고 혼자 건물 밖을 나와서 숲 속으로 향했다.', '나는 내 자신이 너무 미웠다.', '그때 공부는 나에게 너무 중요했기 때문에 소중했던 할머니를 생각하지도 못한 것이다.', '아빠가 병원에 가자했을 때 갔으면 이렇게까지 나를 원망하지 않았을 것이다.', '내 자신이 너무 미웠다.', '죄송했다.', '새벽이 됐을 때까지 나는 계속 울었다.', '다음 날 학교에 가야했기 때문에 새벽 4시에 혼자 택시를 타고 집으로 왔다.', '집으로 왔을 때 항상 나를 반겨주던 할머니의 냄새가 났다.', '나는 잠을 잘 수 없었다.', '하지만 어느새 잠을 들었고 일어났을 때 6시 40분이었다.', '그 시간은 너무 익숙했다.', '왜 그런지는 할머니와 나만 안다.', '초등학교 때 내가 할머니와 항상 했던 놀이였다.', '일찍 일어나기.', '할머니를 이기려면 6시 40분 정도에 일어나야 했다.', '할머니가 나를 깨워준 것일까 생각을 하고 학교에 가기 전까지 계속 울었다.', '학교에 가서도 물론 수업에 집중할 수 없었다.', '하지만 책은 글씨로 가득 찼다.', '그 책은 수학책이다.', '아직까지 내가 가지고 있다.', '그 책에는 할머니에 대한 내용이 책을 가득 채웠다.', '이 일을 뒤로 절대 아빠 부탁에 거절하지 않는다.', '또 익숙함에 속아 소중한 것을 잃을까봐.'])\n"
     ]
    },
    {
     "name": "stderr",
     "output_type": "stream",
     "text": [
      "INFO:root:Waiting for ttr to complete...\n",
      "INFO:root:ttr completed. 0.6567912101745605\n",
      "INFO:root:Waiting for similarity to complete...\n"
     ]
    },
    {
     "data": {
      "application/vnd.jupyter.widget-view+json": {
       "model_id": "bbee9ac096a540588ed41f0818999e98",
       "version_major": 2,
       "version_minor": 0
      },
      "text/plain": [
       "Batches:   0%|          | 0/1 [00:00<?, ?it/s]"
      ]
     },
     "metadata": {},
     "output_type": "display_data"
    },
    {
     "data": {
      "application/vnd.jupyter.widget-view+json": {
       "model_id": "6794f1e7b0ee447ba4c72a41db285677",
       "version_major": 2,
       "version_minor": 0
      },
      "text/plain": [
       "Batches:   0%|          | 0/1 [00:00<?, ?it/s]"
      ]
     },
     "metadata": {},
     "output_type": "display_data"
    },
    {
     "name": "stderr",
     "output_type": "stream",
     "text": [
      "INFO:root:similarity completed. 0.978421688079834\n",
      "INFO:root:Waiting for adjacency to complete...\n",
      "INFO:root:adjacency completed. 0.9794187545776367\n",
      "INFO:root:Waiting for basic to complete...\n",
      "INFO:root:basic completed. 0.9804184436798096\n",
      "  0%|          | 110/39591 [02:15<18:00:25,  1.64s/it]"
     ]
    },
    {
     "name": "stdout",
     "output_type": "stream",
     "text": [
      "deque(['어릴 적 나는 마트에서 파는 거북이를 사서 키워본 적이 있었다.', '거북이의 특성상 거북이는 배변을 많이 하고, 온도에 민감할뿐더러, 먹이를 먹고 난 후 음식 찌꺼기가 많은 편이기 때문에 환수를 자주 하여 유지를 해주어야 한다.', '초반에는 당연히 거북이에 대해 신경을 온갖 쏟아 부었지만, 시간이 흘러 갈 수록 해야 할 일도 많고 관심을 줄 시간이 부족하여 거북이에 대한 관심이 점점 더 떨어져만 갔던 것 같다.', '어항 청소를 주기적으로 해주어야 하는데, 그 어항 청소를 내가 아닌 어머니께서 거의 하셨고, 거북이에게 줄 먹이도 거의 내가 주지 않았던 것 같다.', '그로부터 몇 달이 지난 후, 자고 일어나보니 거북이가 어항 안에서 움직이질 않길래 별 상관 없이 거북이가 단지 잠을 자는 것인 줄 알고 신경을 쓰지 않고 지냈지만, 거북이는 이미 세상을 떠난 뒤였다.', '거북이가 세상을 떠난 것을 본 나는 거북이에게 미안하고 유감스러운 감정이 들었다.', '거북이를 앞마당에 묻어주고 난 후 몇 달 뒤 누나의 권유로 집에서 강아지를 키우게 되었다.', '강아지를 관리하면서 잘 관리해주지 못하였던 거북이에 관한 생각이 자주 들곤 하였다.', '강아지 만큼은 거북이와 달리 신경을 많이 써주어야겠다고 마음을 먹고, 내가 할 수 있는 최대한 강아지를 돌보고 있는 중이다.', '강아지를 잘 돌볼 수 있도록 하기 위한 다양한 정보들을 찾아보고 강아지가 아프지 않도록 관리하여 오래오래 같이 생활하고 싶다고 생각함과 동시에 동물들의 생명이 인간의 생명처럼 중요한 만큼 동물들에게 관심과 사랑을 가지고 여러가지 동물과 관련된 운동이나 캠페인 등에 적극적으로 참여하는 태도를 가져야 겠다고 다짐하였다.'])\n"
     ]
    },
    {
     "name": "stderr",
     "output_type": "stream",
     "text": [
      "INFO:root:Waiting for ttr to complete...\n",
      "INFO:root:ttr completed. 0.6248462200164795\n",
      "INFO:root:Waiting for similarity to complete...\n"
     ]
    },
    {
     "data": {
      "application/vnd.jupyter.widget-view+json": {
       "model_id": "b4a7907a9bf04832ac2a16f3decb952e",
       "version_major": 2,
       "version_minor": 0
      },
      "text/plain": [
       "Batches:   0%|          | 0/1 [00:00<?, ?it/s]"
      ]
     },
     "metadata": {},
     "output_type": "display_data"
    },
    {
     "data": {
      "application/vnd.jupyter.widget-view+json": {
       "model_id": "c27ab0755b6b48dd8e444a0c6fe28b4d",
       "version_major": 2,
       "version_minor": 0
      },
      "text/plain": [
       "Batches:   0%|          | 0/1 [00:00<?, ?it/s]"
      ]
     },
     "metadata": {},
     "output_type": "display_data"
    },
    {
     "name": "stderr",
     "output_type": "stream",
     "text": [
      "INFO:root:similarity completed. 0.6798481941223145\n",
      "INFO:root:Waiting for adjacency to complete...\n",
      "INFO:root:adjacency completed. 0.6808485984802246\n",
      "INFO:root:Waiting for basic to complete...\n",
      "INFO:root:basic completed. 0.6808485984802246\n",
      "  0%|          | 111/39591 [02:16<16:06:06,  1.47s/it]"
     ]
    },
    {
     "name": "stdout",
     "output_type": "stream",
     "text": [
      "deque(['나는 익숙함에 속아서 소중함을 잃은 사례가 있었는데 그것은 내가 중학생때 까지는 집에서 등하교를 하였는데 고등학교에 올라오면서부터 기숙사 생활을 하게 되었는데 이때 가족과 집의 소중함을 알게 되었다.', '기숙사생활을 하기 전에는 학교가 끝나면 집으로와서 휴식을 취하며 크게 걱정없이 생활했지만 기숙사에 오게 되면서 학교가 끝나면 열람실로 가서 다시 공부를 더 하였다.', '그래서 나만의 자유시간이나 휴식시간등이 사라져서 조금 힘들었다.', '또한 집에 있을때는 부모님이 나를 많이 챙겨주고 지지해주셔서 마음의 위안이나 버팀목이 되어주셨는데 기숙사 생활을 하다보니 집에 갈 기회가 주말 빼고는 없어져서 그러지 못하게 되었다.', '중학생때 집에 있었을 때는 집에 있는 것이 당연하고 부모님이 나를 챙겨주시는 것도 당연하다는 생각을 하게 되어서 소중한 것을 느끼지 못했던 예시가 아닐까 싶다.', '그래서 내가 회복하고자 한 행동이 부모님께 더 잘해드리자는 것이다.', '왜냐하면 내가 기숙사 생활을 하며 부모님이 집에서는 대신 해주시던 일을 스스로 해보니까 얼마나 힘들고 고된 일인지 알게 되었다.', '그래서 나는 부모님의 빈자리를 느끼고 부모님이 평소에 나한테 해주신 일에 대하여 감사한마음이 생겨서 주말이나 특별한 사유로 집에 갔을 때 부모님께 더 잘해드리고 같이 있는 시간을 늘렸다.', '기숙사 생활을 하면서 느낀 것은 집과 가족의 빈자리가 크다는 것을 느꼈다.', '소중한 것을 평소에 잘 느끼지 못하는 나를 되돌아 보고 또 소중한 것에 대하여 감사하며 살아야겠다고 생각을 했다.', '소중한 것을 잃었을 때 비로소 그것의 가치를 느낀다는 것이 슬프기도 하면서 부정할수 없는 사실 같기도 하였다.'])\n"
     ]
    },
    {
     "name": "stderr",
     "output_type": "stream",
     "text": [
      "INFO:root:Waiting for ttr to complete...\n",
      "INFO:root:ttr completed. 0.6240003108978271\n",
      "INFO:root:Waiting for similarity to complete...\n"
     ]
    },
    {
     "data": {
      "application/vnd.jupyter.widget-view+json": {
       "model_id": "c8f97a72debd40569ffcf43778bcce3f",
       "version_major": 2,
       "version_minor": 0
      },
      "text/plain": [
       "Batches:   0%|          | 0/1 [00:00<?, ?it/s]"
      ]
     },
     "metadata": {},
     "output_type": "display_data"
    },
    {
     "data": {
      "application/vnd.jupyter.widget-view+json": {
       "model_id": "0a824455a20e429582dd14879ffa94ef",
       "version_major": 2,
       "version_minor": 0
      },
      "text/plain": [
       "Batches:   0%|          | 0/1 [00:00<?, ?it/s]"
      ]
     },
     "metadata": {},
     "output_type": "display_data"
    },
    {
     "name": "stderr",
     "output_type": "stream",
     "text": [
      "INFO:root:similarity completed. 0.7089977264404297\n",
      "INFO:root:Waiting for adjacency to complete...\n",
      "INFO:root:adjacency completed. 0.7099974155426025\n",
      "INFO:root:Waiting for basic to complete...\n",
      "INFO:root:basic completed. 0.7099974155426025\n",
      "  0%|          | 112/39591 [02:17<14:53:57,  1.36s/it]"
     ]
    },
    {
     "name": "stdout",
     "output_type": "stream",
     "text": [
      "deque(['부모님께서 매일 같이 밥을 해주시고 그 노력과 고마움에 감사한다는 마음을 담아 전하고 표현했어야하는데 그저 아는 지인들이 밥 한번 사주는 것에 고마움을 바로 전하고 행동으로 실천했지만 매일 같이 나를 위해 없는 시간까지 만들어가면서 따뜻한 밥을 차려주신 부모님께 맛있고 따뜻한 밥 해주셔서 감사하다는 말 매일 저를 위해 부모님들이 흘린 땀과 노력이 나에게 큰 힘이 되고 다시 일어설 수 있게 해주신 부모님의 노력이 어느 순간부터 내게 그저 사소한 것이 되고 당연하다고만 생각한 내 자신이 부끄러울 따름 이었다.', '부모님의 노력이 헛되지 않게 그들에게 감사하다는 말 고맙다는 말 나의 진심을 전하고 그들에게 꼭 보답하고 싶다.', '내가 커서 받은 만큼 부모님께 전하고 부모님도 자식 키운 보람 있게 그들이 내게 투자한 시간이 헛되지 않게 부모님의 소중한 사랑을 나도 커서 꼭 다시 전해드릴 것이다.', '매일 부모님의 노력을 익숙함에 속아 소중함을 잃지 않게 매일 감사하다고 저에게 많은 사랑을 주셔서 정말 행복하다고 말하며 가족관계가 다시 돈독해질 수 있게 했다.', '더 많은 진심을 전하고 그들에게 보답할수록 내 마음이 점점 더 편해지고 뿌듯해지는 뭔가 묘한 기분도 들고 나 자신도 좀 더 성장하고 내 마음속에 있던 진심을 보여드린 것 같아 부모님께서도 웃고 나도 웃는 더 화목해지는 가족이 되어 정말 행복했다.', '앞으로 더욱 화목한 가정이 되도록 노력해야겠다.'])\n"
     ]
    },
    {
     "name": "stderr",
     "output_type": "stream",
     "text": [
      "INFO:root:Waiting for ttr to complete...\n",
      "INFO:root:ttr completed. 0.47025108337402344\n",
      "INFO:root:Waiting for similarity to complete...\n"
     ]
    },
    {
     "data": {
      "application/vnd.jupyter.widget-view+json": {
       "model_id": "35bafad48fde48e09f2c0f0701c42d5e",
       "version_major": 2,
       "version_minor": 0
      },
      "text/plain": [
       "Batches:   0%|          | 0/1 [00:00<?, ?it/s]"
      ]
     },
     "metadata": {},
     "output_type": "display_data"
    },
    {
     "data": {
      "application/vnd.jupyter.widget-view+json": {
       "model_id": "ae63ef6146d641648220f3e816a1579e",
       "version_major": 2,
       "version_minor": 0
      },
      "text/plain": [
       "Batches:   0%|          | 0/1 [00:00<?, ?it/s]"
      ]
     },
     "metadata": {},
     "output_type": "display_data"
    },
    {
     "name": "stderr",
     "output_type": "stream",
     "text": [
      "INFO:root:similarity completed. 0.5562479496002197\n",
      "INFO:root:Waiting for adjacency to complete...\n",
      "INFO:root:adjacency completed. 0.5582478046417236\n",
      "INFO:root:Waiting for basic to complete...\n",
      "INFO:root:basic completed. 0.5582478046417236\n",
      "  0%|          | 113/39591 [02:18<13:16:26,  1.21s/it]"
     ]
    },
    {
     "name": "stdout",
     "output_type": "stream",
     "text": [
      "deque(['소중했던 추억 누구나 소중했던 추억 하나쯤은 가지고 있을 겁니다.', '하지만 살아가다보면 힘들고, 지치고, 외롭고, 모든 것을 포기하고 싶을 때가 있을겁니다.', '그럴 때 한번쯤은 자신에게 있어서 가장 즐겁고 행복했던 순간을 되새길 때가 있을 텐데요.', '그런데 이상하게도 그 추억은 기억이 나지 않으며 그때의 순간이 아예 머리에서 떠나 갈 때가 있을 겁니다.', '그럴땐 우리에겐 필요합니다.', '그 소중한 추억을 사진으로 영원히 보관을 하거나, 잊지 못할 추억을 만드는 것이죠.', '우리의 뇌는 많은 것을 기억하지 못합니다.', '뇌에도 한계라는 것이 있기에 그 한계를 넘을려고 하면 옛것은 잊혀지기 마련이죠.', '특히 이 현상은 직장을 구하고 직장을 다니기 시작할 때부터 시작하는데요.', '직장으로 인한 스트레스와 직장을 구하기 위해 여러 곳을 뛰어다니며 면접을 보고, 떨어지고, 다시 보고, 떨어지고를 반복 하다 보면 우리의 몸과 마음은 완전히 지치게 됩니다.', '그때쯤 한번 생각해보는 것이 어떻습니까?', '나는 괜찮아...', '나는 할 수 있어...', '나는 두렵지 않아...', '자기 자신에게 긍정적인 말을 하면서 힘든 상황을 벗어나 몸과 마음을 치유시킨다면, 잊혀질 뻔한 추억도 다시 돌아오게 됩니다.', '우리는 자존감이 필요하며 그 자존감은 당신을 살리는 길입니다.', '앞으로 우리 모두 소중한 것들에게 소중히 대하는 태도가 필요하다고 생각합니다.'])\n"
     ]
    },
    {
     "name": "stderr",
     "output_type": "stream",
     "text": [
      "INFO:root:Waiting for ttr to complete...\n",
      "INFO:root:ttr completed. 0.5120420455932617\n",
      "INFO:root:Waiting for similarity to complete...\n"
     ]
    },
    {
     "data": {
      "application/vnd.jupyter.widget-view+json": {
       "model_id": "e510a82a74504827a2e9abd59181b7c4",
       "version_major": 2,
       "version_minor": 0
      },
      "text/plain": [
       "Batches:   0%|          | 0/1 [00:00<?, ?it/s]"
      ]
     },
     "metadata": {},
     "output_type": "display_data"
    },
    {
     "data": {
      "application/vnd.jupyter.widget-view+json": {
       "model_id": "a2413853953f451c912db37a89f9fd86",
       "version_major": 2,
       "version_minor": 0
      },
      "text/plain": [
       "Batches:   0%|          | 0/1 [00:00<?, ?it/s]"
      ]
     },
     "metadata": {},
     "output_type": "display_data"
    },
    {
     "name": "stderr",
     "output_type": "stream",
     "text": [
      "INFO:root:similarity completed. 0.737443208694458\n",
      "INFO:root:Waiting for adjacency to complete...\n",
      "INFO:root:adjacency completed. 0.73844313621521\n",
      "INFO:root:Waiting for basic to complete...\n",
      "INFO:root:basic completed. 0.73844313621521\n",
      "  0%|          | 114/39591 [02:19<13:09:41,  1.20s/it]"
     ]
    },
    {
     "name": "stdout",
     "output_type": "stream",
     "text": [
      "deque(['저는 6살 차이를 둔 누나가 있습니다.', '누나는 제가 태어난 이후 13년 동안 같이 살고 떨어진 적이 없었습니다.', '그리고 어느덧 제가 중학교 입학을 앞두던 날 좋은 소식이 들려왔습니다.', '누나가 대기업에 취직했다는 소식이었습니다.', '저와 저희 가족은 정말 진심으로 축하했습니다.', '하지만 맘 편으론 슬펐습니다.', '회사가 수도권에 있어 기숙사 생활을 위해 그쪽으로 옮겨야 했기 때문입니다.', '6살 터울을 두었지만 저희 남매는 어릴 때부터 같이 있는 시간이 많았습니다.', '어머니는 밤에 일을 가셨고 아버지는 낮에 일을 가셨기 때문에 저희는 서로를 의지할 수밖에 없었습니다.', '그렇기 때문에 저는 누나를 정말 존경하고 좋아합니다.', '그래서 다른 곳으로 가 떨어져 살아야 한다는 것을 들었을 때엔 정말 슬펐습니다.', '그렇게 몇 달이 지나고 누나가 가야 하는 날이 왔고 그 전날 저희 가족은 다시 한번 진심으로 축하해 주었습니다.', '하지만 그날 저도 누나도 부모님도 모두가 울었습니다.', '소중한 아니 어쩌면 남들보다 더욱더 강한 유대로 묶인 저희 가족이 떨어진다니 눈물이 나오지 않을 수가 없었습니다.', '지금은 몇 달에 한 번 집에 와 보고 있지만 저도 고등학교를 다니며 기숙사 생활을 하기 때문에 보기가 더 어려워졌지만 아무리 떨어져 있어도 저는 누나를 존경하고 생각하고 있습니다.', '그래서 저는 앞으로 누나를 소중히 여기는 사람이 되도록 노력했습니다.'])\n"
     ]
    },
    {
     "name": "stderr",
     "output_type": "stream",
     "text": [
      "INFO:root:Waiting for ttr to complete...\n",
      "INFO:root:ttr completed. 0.5411627292633057\n",
      "INFO:root:Waiting for similarity to complete...\n"
     ]
    },
    {
     "data": {
      "application/vnd.jupyter.widget-view+json": {
       "model_id": "7b6800b0e79d48cd9dcea79f3189683d",
       "version_major": 2,
       "version_minor": 0
      },
      "text/plain": [
       "Batches:   0%|          | 0/1 [00:00<?, ?it/s]"
      ]
     },
     "metadata": {},
     "output_type": "display_data"
    },
    {
     "data": {
      "application/vnd.jupyter.widget-view+json": {
       "model_id": "e574ffe483f440c9a162e89db6a1cdf7",
       "version_major": 2,
       "version_minor": 0
      },
      "text/plain": [
       "Batches:   0%|          | 0/1 [00:00<?, ?it/s]"
      ]
     },
     "metadata": {},
     "output_type": "display_data"
    },
    {
     "name": "stderr",
     "output_type": "stream",
     "text": [
      "INFO:root:similarity completed. 0.5941596031188965\n",
      "INFO:root:Waiting for adjacency to complete...\n",
      "INFO:root:adjacency completed. 0.5951600074768066\n",
      "INFO:root:Waiting for basic to complete...\n",
      "INFO:root:basic completed. 0.5961601734161377\n",
      "  0%|          | 115/39591 [02:20<12:39:13,  1.15s/it]"
     ]
    },
    {
     "name": "stdout",
     "output_type": "stream",
     "text": [
      "deque(['나는소중한게사라져본적은없지만 그사람들에 기분은이상하게알것같다.', '자기 주변에사람들과애완동물, 물건들이사람마다 다르겠지만 어떤사람은 추억이담아있는물건추억소중하게여길수잇다.', '우리에게가족이존재한다.', '좋은부모님, 나쁜부모님이라도사라진다면 부모님이라는가치알 수 있다.', '아침밥을해주는부모님이하루아침에혼자 부모님집에서아침밥을먹으면 아무것아니던게 소중해진다.', '왜냐하면아무로치아난는데 이상하게 슬퍼질거야.', '왜하면부모님이사라진다것자체얼마나슬프알거야 태어난때마다 같치있어준사람이사라진다면 남운인생이얼마나슬플가 소중한 것매우 중요하고 가치가 있다.', '이게바로우리매우중요한물건매중요사람있다.', '무것도아니던기억그냥넘어가지말고한번더생각하면서인생을살라가면엄마나 멋진인생일까그냥흔한것이라도 소중하게다루다가 사라지면 얼마나기분이않좋을까?', '이렇게 자기소중한것을계속잃어보면후회많이할 것이다.', '자기더잘해줘다면아직살아있거나않이저벌렸을텐데.', '자기소중한 것을 지키면서 인생응사라보자.'])\n"
     ]
    },
    {
     "name": "stderr",
     "output_type": "stream",
     "text": [
      "INFO:root:Waiting for ttr to complete...\n",
      "INFO:root:ttr completed. 0.46700263023376465\n",
      "INFO:root:Waiting for similarity to complete...\n"
     ]
    },
    {
     "data": {
      "application/vnd.jupyter.widget-view+json": {
       "model_id": "92f720940a8c4c94b1fd99da4f435a80",
       "version_major": 2,
       "version_minor": 0
      },
      "text/plain": [
       "Batches:   0%|          | 0/1 [00:00<?, ?it/s]"
      ]
     },
     "metadata": {},
     "output_type": "display_data"
    },
    {
     "data": {
      "application/vnd.jupyter.widget-view+json": {
       "model_id": "3c457e4aeebc434598376b38abc65be7",
       "version_major": 2,
       "version_minor": 0
      },
      "text/plain": [
       "Batches:   0%|          | 0/1 [00:00<?, ?it/s]"
      ]
     },
     "metadata": {},
     "output_type": "display_data"
    },
    {
     "name": "stderr",
     "output_type": "stream",
     "text": [
      "INFO:root:similarity completed. 0.5340709686279297\n",
      "INFO:root:Waiting for adjacency to complete...\n",
      "INFO:root:adjacency completed. 0.5350708961486816\n",
      "INFO:root:Waiting for basic to complete...\n",
      "INFO:root:basic completed. 0.5350708961486816\n",
      "  0%|          | 116/39591 [02:21<11:34:18,  1.06s/it]"
     ]
    },
    {
     "name": "stdout",
     "output_type": "stream",
     "text": [
      "deque(['나는 익숙함에 속아 소중함을 잃었었던 경험이 많다.', '내 친구중에 나에게 자주 피시방이나 먹을 것을 자주 사주던 친구가 있었는데 어느순간 그 친구가 나에게 자주 피시방이나 먹을 것을 사주는 것이 당연하게 느껴져서 그 친구에게 고마움이 없어졌던 적이 있다.', '그래서 그 뒤로 내가 당연하게 생각하자 그 친구는 나에게 서운함이 많아지고 그 뒤로 나에게 더 이상 베푸는 일이 없어졌다.', '익숨함에 속아 소중함을 잃고 나서 나는 그 후에서야 소중함을 알게 되었다.', '그리고 이제는 내가 그 친구에게 전에 사줬었던 것에 대한 고마움에 내가 그 친구에게 많이 베풀어 주었다.', '이처럼 누군가 나에게 베풀어주면 익숙해지는 것이 아닌 항상 그 누군가에게 고마워 해야한다.', '만약 누군가 나에게 베풀어주고 있다면 당연하듯이 받아드리지 말고 항상 고마워하자.', '그렇지않으면 익숙하게 생각했던 행동들도 다 사라질 것이다.', '지금 만약 누군가 당신에게 베풀어주고 있다면 당신이 익숙함에 빠져있는지 아니면 그 친구에게 항상 고마워하고 있는지 한번씩 다들 생각해보자.', '익숙함에 속아 소중함을 잃는 일이 없도록 다들 항상 주변사람들에게 고마워하며 살자.', '그리고 그 사람의 선행을 당연하다고 생각하지 말고 항상 감사하며 그 사람의 공로를 잊지 말고 그 선행을 나누면서 살자.', '그렇게 살면 언젠가는 서로 살기 좋은 행복한 사회가 올 수 있을 것이다.'])\n"
     ]
    },
    {
     "name": "stderr",
     "output_type": "stream",
     "text": [
      "INFO:root:Waiting for ttr to complete...\n",
      "INFO:root:ttr completed. 0.43365025520324707\n",
      "INFO:root:Waiting for similarity to complete...\n"
     ]
    },
    {
     "data": {
      "application/vnd.jupyter.widget-view+json": {
       "model_id": "aa06e14ccd4b42638fbb337a8f754884",
       "version_major": 2,
       "version_minor": 0
      },
      "text/plain": [
       "Batches:   0%|          | 0/1 [00:00<?, ?it/s]"
      ]
     },
     "metadata": {},
     "output_type": "display_data"
    },
    {
     "data": {
      "application/vnd.jupyter.widget-view+json": {
       "model_id": "47b8b7bfa38b42dbb6d69c9e7a32fbd3",
       "version_major": 2,
       "version_minor": 0
      },
      "text/plain": [
       "Batches:   0%|          | 0/1 [00:00<?, ?it/s]"
      ]
     },
     "metadata": {},
     "output_type": "display_data"
    },
    {
     "name": "stderr",
     "output_type": "stream",
     "text": [
      "INFO:root:similarity completed. 0.5180466175079346\n",
      "INFO:root:Waiting for adjacency to complete...\n",
      "INFO:root:adjacency completed. 0.5200459957122803\n",
      "INFO:root:Waiting for basic to complete...\n",
      "INFO:root:basic completed. 0.5210468769073486\n",
      "  0%|          | 117/39591 [02:22<11:02:11,  1.01s/it]"
     ]
    },
    {
     "name": "stdout",
     "output_type": "stream",
     "text": [
      "deque(['소중함이란 누군가에겐 평생도록 간직하고 싶은 물건, 사람, 동물 등 다양하게 이루어져 있다.', '하지만 물건이라면 파괴, 잊혀짐, 흥미가 식으면서 잊혀지고 사람이라면 다양한 말과 행동으로 서로에게 상처를 입혀 헤어진다.', '물론 천생연문이라는 말도 있 긴 하지만 거의 없다.', '동물이라면 결국 수명이라는 한계로 언젠간 헤어지고 슬픔이 머리 속을 잠식한다.', '주변에 가깝게 지냈던 사람들을 생각해보면 만나고 놀고 할수록 서로에게 애정이 생기고 우정이 생겨도 결국 인간이기에 사소한 실수 하나로 그 관계는 깨지고 우정 혹은 애정을 깨지지 않기 위해 화회나 다양한 방법으로 우정은 간직한다.', '하지만 결국 시간이 지나면 우정은 없어지고 새로운 사람들과 우정과 애정이 생긴다.', '어쩌면 서로에게 우정이 생기는 게 아닌 오직 나만의 우정이 아닌가라는 생각이 들기도 한 것 같다.', '우정이 아닌 어떠한 목적을 가지고 접근한 속내도 모른 채 순수하게 놀아나는 것이라면 언젠간 들통나 슬픔이 정신을 잠식시켜 정신을 차리지도 못 한 채 시간만 낭비한 날들을 생각한다면 그때 나를 위해 시간을 투자했더라면 지금의 나는 어떨까 하고 생각을 할 때가 많은 것 같다.', '앞으로 이런 과거의 경험을 잊지 말고 미래의 일어날 일들에 대해 잘 대처해 소중함을 잊지 않는 내가 되도록 노력할 것이다.', '그러면 미래에는 조금더 발전된 내가 되어있을 것이니까.'])\n"
     ]
    },
    {
     "name": "stderr",
     "output_type": "stream",
     "text": [
      "INFO:root:Waiting for ttr to complete...\n",
      "INFO:root:ttr completed. 0.568413496017456\n",
      "INFO:root:Waiting for similarity to complete...\n"
     ]
    },
    {
     "data": {
      "application/vnd.jupyter.widget-view+json": {
       "model_id": "104d078b9f9a4759a1b1b66d2d9ad5e2",
       "version_major": 2,
       "version_minor": 0
      },
      "text/plain": [
       "Batches:   0%|          | 0/1 [00:00<?, ?it/s]"
      ]
     },
     "metadata": {},
     "output_type": "display_data"
    },
    {
     "data": {
      "application/vnd.jupyter.widget-view+json": {
       "model_id": "016bb0389be14475a64fa9b0cb391436",
       "version_major": 2,
       "version_minor": 0
      },
      "text/plain": [
       "Batches:   0%|          | 0/1 [00:00<?, ?it/s]"
      ]
     },
     "metadata": {},
     "output_type": "display_data"
    },
    {
     "name": "stderr",
     "output_type": "stream",
     "text": [
      "INFO:root:similarity completed. 0.6724138259887695\n",
      "INFO:root:Waiting for adjacency to complete...\n",
      "INFO:root:adjacency completed. 0.6734178066253662\n",
      "INFO:root:Waiting for basic to complete...\n",
      "INFO:root:basic completed. 0.6744136810302734\n",
      "  0%|          | 118/39591 [02:23<11:01:33,  1.01s/it]"
     ]
    },
    {
     "name": "stdout",
     "output_type": "stream",
     "text": [
      "deque(['저는 마음이 따뜻한 할머니가 계셨습니다.', '할머니집에 가면 항상 똥강아지라고 불러주시며 반갑게 맞이 해주셨습니다.', '항상 쇠고기무국을 해주시며 같이 거봉도 따고 비빔밥도 해먹었습니다.', '할머니집에 가면 변함없이 그럴 것 같았지만 할머니는 좋은 곳에 가셔 행복했던, 영원할 것 같았던 순간들이 사라지게 돼었죠.', '익숙함에 속아 항상 일어난일들이 영원히 일어날 수 없는 일이 되자 난생 처음 느껴보는 기분과 슬픔이 몰려왔습니다.', '소중하고 행복했던 순간들을 잃어버리는 것은 느껴보지 않으면 모르는 느낌입니다.', '다시는 느끼고 싶지않은 느끼면 안되는 기분입니다.', '여러분들도 자신의 삶을 되돌아보면서 사소한 행복이나 감사한것들을 잊지말고 표현하세요.', '있을 때 잘하라는 말이 있듯이 나중에 가서 후회하면 많이 늦은 겁니다.', '사소한 것이라도 감사하며 감사하다고 표현해 보세요.', '여러분들은 소중하고 행복한 것을 잃기 전에 바로잡아 보시고 후회하지 마세요.', '저는 바로잡아 보기위해 지금이라도 산소에 가서 안부 인사를 전합니다.', '늦으신 분들은 그렇게라도 해보세요.', '늦었다고 생각할 때가 가장 빠른 때이다 라는 속담이 있잖아요.', '한시라도 빨리 안부 인사를 전하는 것이 그 사람의 소중함을 일깨워주고 사이도 더 돈독해지는 길입니다.', '소중한 사람을 소중히 대하면 나 자신도 소중한 사람이 됩니다.', '우리 모두 서로를 소중히 대하는 태도를 가집시다.'])\n"
     ]
    },
    {
     "name": "stderr",
     "output_type": "stream",
     "text": [
      "INFO:root:Waiting for ttr to complete...\n",
      "INFO:root:ttr completed. 0.4129312038421631\n",
      "INFO:root:Waiting for similarity to complete...\n"
     ]
    },
    {
     "data": {
      "application/vnd.jupyter.widget-view+json": {
       "model_id": "69172e523e1b4db7b138e99820c09952",
       "version_major": 2,
       "version_minor": 0
      },
      "text/plain": [
       "Batches:   0%|          | 0/1 [00:00<?, ?it/s]"
      ]
     },
     "metadata": {},
     "output_type": "display_data"
    },
    {
     "data": {
      "application/vnd.jupyter.widget-view+json": {
       "model_id": "36657e82650d4df9b0c29c9c71556741",
       "version_major": 2,
       "version_minor": 0
      },
      "text/plain": [
       "Batches:   0%|          | 0/1 [00:00<?, ?it/s]"
      ]
     },
     "metadata": {},
     "output_type": "display_data"
    },
    {
     "name": "stderr",
     "output_type": "stream",
     "text": [
      "INFO:root:similarity completed. 0.5122551918029785\n",
      "INFO:root:Waiting for adjacency to complete...\n",
      "INFO:root:adjacency completed. 0.5132522583007812\n",
      "INFO:root:Waiting for basic to complete...\n",
      "INFO:root:basic completed. 0.5142519474029541\n",
      "  0%|          | 119/39591 [02:24<10:54:09,  1.01it/s]"
     ]
    },
    {
     "name": "stdout",
     "output_type": "stream",
     "text": [
      "deque(['제가 소중함을 잃었던 것은 친구인데요.', '이 친구랑은 죽마고우였던 친구인데 저의 한번의 실수로 인하여 친구를 잃었었던 일인데 그날은 저희가 학교 끝나고 축구를 하고나서 학교 기숙사에 가서 친구 방에서 놀고 있었습니다.', '그런데 침대 옆에 악력기가 있었는데 제가 그걸 가져가다가 친구한테 잡혀서 실랑이를 벌이다가 친구에 옷을 찢어 버린 겁니다.', '그래서 제가 사과를 해도 받아주지도 않고 제가 물어준다고 해도 마음이 속상했는지 꺼지라고 욕을 하면서 손절 한다고 하고 더 이상 저랑 말을 섞지 않았습니다.', '저의 한번의 실수로 친구를 잃은 것입니다.', '저는 이 일을 계기로 다른 친구들한테는 잘 대해주고 교우 관계도 원만해졌습니다.', '하지만 저는 소중한 친구를 잃었단 것에 더 마음이 아프고 다시는 이런 실수로 안하겠다는 계기로 삼았습니다.', '그래서 과거의 경험을 토대로 앞으로 미래에 일어날 일들에 대해 잘 대처하기로 했습니다.', '소중함을 잊지 않고 말이죠.', '제시문에 나온 속담에도 써 있듯이 익숙함에 속아 소중함을 잊지 않기로 다짐했습니다.', '앞으로는 나에게 소중한 사람들에게 최선을 다하는 내가 되어 변화하는 모습을 보여주어야 겠습니다.', '소중한 사람들을 잊지 않고 생활하며 소중한 사람들에게 항상 헌신하고 봉사하는 사람이 되도록 노력하겠습니다.', '우리 모두 소중한 것들에게 소중하게 대하는 사람이 되도록 노력합시다.'])\n"
     ]
    },
    {
     "name": "stderr",
     "output_type": "stream",
     "text": [
      "INFO:root:Waiting for ttr to complete...\n",
      "INFO:root:ttr completed. 0.5452144145965576\n",
      "INFO:root:Waiting for similarity to complete...\n"
     ]
    },
    {
     "data": {
      "application/vnd.jupyter.widget-view+json": {
       "model_id": "2d1a7a7bc40b4349a1f92025d45f89b9",
       "version_major": 2,
       "version_minor": 0
      },
      "text/plain": [
       "Batches:   0%|          | 0/1 [00:00<?, ?it/s]"
      ]
     },
     "metadata": {},
     "output_type": "display_data"
    },
    {
     "data": {
      "application/vnd.jupyter.widget-view+json": {
       "model_id": "4a0de4401be7452284dd540eb5d5ea0a",
       "version_major": 2,
       "version_minor": 0
      },
      "text/plain": [
       "Batches:   0%|          | 0/1 [00:00<?, ?it/s]"
      ]
     },
     "metadata": {},
     "output_type": "display_data"
    },
    {
     "name": "stderr",
     "output_type": "stream",
     "text": [
      "INFO:root:similarity completed. 0.6322176456451416\n",
      "INFO:root:Waiting for adjacency to complete...\n",
      "INFO:root:adjacency completed. 0.6332144737243652\n",
      "INFO:root:Waiting for basic to complete...\n",
      "INFO:root:basic completed. 0.6342134475708008\n",
      "  0%|          | 120/39591 [02:25<11:07:57,  1.02s/it]"
     ]
    },
    {
     "name": "stdout",
     "output_type": "stream",
     "text": [
      "deque(['나는 소중함을 잃었던 경험이 많다.', '부모님께 실망을 시켜드려 신뢰감을 잃거나 명절에 자주 보던 소중한 고모가 정말 아프시거나 이별을 했던 경험 친구들과 심하게 싸웠던 경험 등이 있다.', '나는 정말 나를 사랑해 주시고 아껴주시는 부모님께 실망을 시켜드린 이유는 찰나에 호기심을 참지 못해서 담배를 피웠던 적이였다.', '이 일 때문에 부모님이 나에게 정망 많이 실망하셨다.', '그리고 내가 가장 좋아하고 나를 잘 챙겨주시는 고모가 최근 암에 걸렸단 사실을 알게되었다.', '작년까지만 해도 명절에 내려오셔서 친적들과 밥도 먹고 웃고 떠들며 시간을 보냈던 때가 엊그제 같은데 갑작스러운 건강 악화로 병원에 계신 고모가 생각이 난다.', '치료도 잘 받고 빨리 건강을 찾으셔서 내년 명절에도 뵐 수 있으면 좋을것같다.', '암에 걸린단게 남들 얘기 일 줄만 알았던 병이 고모가 걸리셔서 처음 들었을땐 정말 놀랐다 암이라는 병에 고모를 잃을까 라는 공포심이 정말 무섭기도 하고 걱정이된다.', '그리고 또 다른 경험은 내가 이별을 했던 경험이다.', '얼마전 나는 이별을 경험했다.', '항상 행복하고 사랑했던 사람과 이별을 하고 한동안 기분도 안좋고 힘도 나지 않았다.', '나한테 정말 소중했던 사람이지만 여자친구에게 난 그렇지 못한 사람이였던걸까?', '하지만 만남이 있으면 이별도 당연한거라고 생각한다.', '그런 저런 경험을 하고 나면서 더 단단해지고 성숙해 지기 때문에다.', '친구들과의 갈등도 겪은적이 많다.', '평상시에 감정 기복이 심하던 나이기에 친구와 잘지내다가도 사소한 말과 이유, 행동들로 인해 상처 받고 신경이 쓰일때가 종종 있다.', '조그만한 친구의 장난에 짜증을 내거나 별것도 아닌일에 혼자 우울해하고 힘들어 한다.', '가끔 심하게 싸울때면 몇 일동안 말도 안하지만 속으로는 정말 미안하고 다시 친하게 지내고 싶었다.', '이렇게 나는 소중했던 것들 잃고 힘들거나 우울했던일이 많다.', '내 이야기를 써내려 가는게 한편으론 부끄럽지만 적다보면 누군가 내이야기를 들어주는 것 같아 속이 편해진 것 같다.'])\n"
     ]
    },
    {
     "name": "stderr",
     "output_type": "stream",
     "text": [
      "INFO:root:Waiting for ttr to complete...\n",
      "INFO:root:ttr completed. 0.6230759620666504\n",
      "INFO:root:Waiting for similarity to complete...\n"
     ]
    },
    {
     "data": {
      "application/vnd.jupyter.widget-view+json": {
       "model_id": "66820246ed3b497d80dc6c0c4b3d7e4d",
       "version_major": 2,
       "version_minor": 0
      },
      "text/plain": [
       "Batches:   0%|          | 0/1 [00:00<?, ?it/s]"
      ]
     },
     "metadata": {},
     "output_type": "display_data"
    },
    {
     "data": {
      "application/vnd.jupyter.widget-view+json": {
       "model_id": "5e59e27e727d4ae4b567daa6bdd9c9b9",
       "version_major": 2,
       "version_minor": 0
      },
      "text/plain": [
       "Batches:   0%|          | 0/1 [00:00<?, ?it/s]"
      ]
     },
     "metadata": {},
     "output_type": "display_data"
    },
    {
     "name": "stderr",
     "output_type": "stream",
     "text": [
      "INFO:root:similarity completed. 0.9023377895355225\n",
      "INFO:root:Waiting for adjacency to complete...\n",
      "INFO:root:adjacency completed. 0.9023377895355225\n",
      "INFO:root:Waiting for basic to complete...\n",
      "INFO:root:basic completed. 0.9033346176147461\n",
      "  0%|          | 121/39591 [02:27<12:46:36,  1.17s/it]"
     ]
    },
    {
     "name": "stdout",
     "output_type": "stream",
     "text": [
      "deque(['중학교 3학년 마지막 겨울방학 때 저의 용돈을 벌기위해 음식점 알바를 하였습니다.', '첫날 출근은 설거지를 하였습니다.', '생각보다 많이 빡빡했습니다.', '단순히 설거지를 하기보다는 빠르게 많은 양을 끝내야만 했습니다.', '어느덧 2시간이라는 시간이 지났습니다.', '비록 2시간만 일하였는데 허리만 많이 수셨습니다.', '이때부터 일하는 것이 쉬운 게 아닌 걸 알았습니다.', '저희 아버지께서는 12시간 가까이 일하시고도 힘든 내색 하나 없이 파스 한 장으로 끝내버립니다.', '저는 고작 2시간 일했다고 알바를 그만두고 싶었습니다.', '또한 아버지께서 일을 하셔야 하는 것을 당연하다는 식으로 생각한 제가 너무 야속했습니다.', '그리고 어머니께서도 설거지, 빨래, 청소 등, 집안일 모두 혼자서 하고 계십니다.', '이러한 어머니의 수고가 너무 감사했습니다.', '그리고 매일 꾸준히 하시는 모습에도 존경스러웠습니다.', '그래서 저도 고등학교 입학하기 전까지 겨울방학을 완수하기로 마음먹었습니다.', '그렇게 약2달이 흐르고 제 몸도 적응하기 시작했습니다.', '고등학교 가서도 알바를 하고 싶었지만 학업과 기숙사 생활로 인해 그만두어야 하였습니다.', '아쉬운 마음도 있지만 이런 일보다 더 힘든 일을 매일 꾸준히 하시는 부모님의 덕에 감사한 마음이 들었습니다.', '있을 때 잘하자 라는 마음을 품고 효도하며 살 것입니다.', '절대 이 마음다짐을 잊지않고 사는 권경민이 되도록 하겠습니다.'])\n"
     ]
    },
    {
     "name": "stderr",
     "output_type": "stream",
     "text": [
      "INFO:root:Waiting for ttr to complete...\n",
      "INFO:root:ttr completed. 0.5710389614105225\n",
      "INFO:root:Waiting for similarity to complete...\n"
     ]
    },
    {
     "data": {
      "application/vnd.jupyter.widget-view+json": {
       "model_id": "229d787bc25b4f37a24e5496aaac8a2e",
       "version_major": 2,
       "version_minor": 0
      },
      "text/plain": [
       "Batches:   0%|          | 0/1 [00:00<?, ?it/s]"
      ]
     },
     "metadata": {},
     "output_type": "display_data"
    },
    {
     "data": {
      "application/vnd.jupyter.widget-view+json": {
       "model_id": "c68e7aad27c64991ad0cdf0169c7bdd7",
       "version_major": 2,
       "version_minor": 0
      },
      "text/plain": [
       "Batches:   0%|          | 0/1 [00:00<?, ?it/s]"
      ]
     },
     "metadata": {},
     "output_type": "display_data"
    },
    {
     "name": "stderr",
     "output_type": "stream",
     "text": [
      "INFO:root:similarity completed. 0.685295581817627\n",
      "INFO:root:Waiting for adjacency to complete...\n",
      "INFO:root:adjacency completed. 0.6862928867340088\n",
      "INFO:root:Waiting for basic to complete...\n",
      "INFO:root:basic completed. 0.6872928142547607\n",
      "  0%|          | 122/39591 [02:28<12:43:54,  1.16s/it]"
     ]
    },
    {
     "name": "stdout",
     "output_type": "stream",
     "text": [
      "deque(['저는 다행히도 아직 소중한 무언가를 잃었던 적은 없습니다.', '물론 부모님도 이혼하시고 할머니와 할아버지께서도 돌아가셨습니다만 할머니와 할아버지에 대한 기억은 거의 없는 것을 넘어서 아예 없고 아버지와는 딱히 관계도 좋지 않았었기 때문에 이혼한 이후에도 딱히 별느낌은 없었습니다.', '물론 나이가 어리기도 했고 딱히 실감이 나지 않았기에 별느낌이 없었던 것일지도 모르지만 딱히 중요하게는 생각하지 않았었던 것은 확실한 듯 합니다.', '그런 저에게도 소중한 무언가가 확실하게 존재합니다.', '언제나 저에게 사랑을 주시고 지금까지 키워주셨으며 언제나 따뜻한 밥을 먹을 수 있게 해주셨던 어머니와 언제나 애교를 부리고 사랑스러움을 독차지 하는 제 동생.', '언제나 함께 있어 느낌이 강하진 않지만 서로 떨어져 있을 때 그 무엇보다 생각나는 가족들이 저에게 있어서 그 무엇보다 소중한 존재죠.', '제가 사춘기가 오고 가족에게 조금씩 짜증을 내기도 했지만 그 이후로 더욱 사이가 좋아지고 안 그러던 저도 어머니께 가끔 애교를 부리죠.', '저에게 있어 이 둘은 그 무엇보다 소중한 존재들입니다.', '이 글을 쓰면서 가족의 소중함을 다시한번 상기시키는 좋은 기회가 되었던 것 같습니다.', '앞으로는 가족들의 소중함을 받아 저도 가족들에게 소중함을 주는 사람이 되도록 노력하겠습니다.', '나 하나 쯤이야라는 생각을 버리고 나부터 라는 생각을 하면서 실천하는 삶을 살도록 하겠습니다.'])\n"
     ]
    },
    {
     "name": "stderr",
     "output_type": "stream",
     "text": [
      "INFO:root:Waiting for ttr to complete...\n",
      "INFO:root:ttr completed. 0.5087685585021973\n",
      "INFO:root:Waiting for similarity to complete...\n"
     ]
    },
    {
     "data": {
      "application/vnd.jupyter.widget-view+json": {
       "model_id": "a7d10b48ce2a4ad1ab9689f3dc21eab4",
       "version_major": 2,
       "version_minor": 0
      },
      "text/plain": [
       "Batches:   0%|          | 0/1 [00:00<?, ?it/s]"
      ]
     },
     "metadata": {},
     "output_type": "display_data"
    },
    {
     "data": {
      "application/vnd.jupyter.widget-view+json": {
       "model_id": "af55295542f1434ea129d306b15093ef",
       "version_major": 2,
       "version_minor": 0
      },
      "text/plain": [
       "Batches:   0%|          | 0/1 [00:00<?, ?it/s]"
      ]
     },
     "metadata": {},
     "output_type": "display_data"
    },
    {
     "name": "stderr",
     "output_type": "stream",
     "text": [
      "INFO:root:similarity completed. 0.6047797203063965\n",
      "INFO:root:Waiting for adjacency to complete...\n",
      "INFO:root:adjacency completed. 0.6047797203063965\n",
      "INFO:root:Waiting for basic to complete...\n",
      "INFO:root:basic completed. 0.6057798862457275\n",
      "  0%|          | 123/39591 [02:29<12:19:55,  1.12s/it]"
     ]
    },
    {
     "name": "stdout",
     "output_type": "stream",
     "text": [
      "deque(['중학교 1학년시절 저는 소중함을 주던 강아지를 잃었습니다.', '저는 중학교1학년 때 갑자기 몸이 악화되며 원인불명으로 앓아가고있었습니다.', '열이 갑자기 엄청올라가고 온몸이 아파하여 결국 병원에 입원하여 지내게되었습니다.', '그렇게 병원에서 원인과 병명을 찾던도중 뇌척수액으로 검사하는 뇌수막염 검사를 하게되었습니다.', '매우 아팠지만 뇌수막염 검사는 한번더 하게되었습니다.', '부모님도 매일매일 걱정하며 챙겨주셨습니다.', '그렇게 한달쯤 되었을 때 그때서야 점점 호전되며 저는 병을 이겨내고 원래삶으로 돌아오게되었습니다.', '하지만 집에가던 도중 부모님이 그러셨습니다.', '집에 있던 강아지가 무지개 다리를 건넜다구..', '건넌지는 좀 되었지만 부모님은 혹시나 제가 더악화되거나 힘들어할까봐 얘기를 못해주었습니다.', '그말을 듣고 저는 마음도 아프고 그랬지만 부모님한테는 보여드리고싶지않아서 애써 아무일 없는척하며 반응하였고, 아직도 생각만하면 마음이 아프고 보고싶습니다.', '매번 있던 익숙함이 소중함이 되어있었습니다.', '앞으로 살아가면서 나에게 소중한 것들이 많이 생길텐데 내 곁에 있다고 해서 속담처럼 익숙함에 속아 소중함을 잃지 않는 내가 되도록 노력하며 살겠습니다.', '이 글을 쓰면서 정말 또 강아지가 보고싶네요....', '정말 익숙함에 속아 소중함을 잃어버렸던 것 같습니다.'])\n"
     ]
    },
    {
     "name": "stderr",
     "output_type": "stream",
     "text": [
      "INFO:root:Waiting for ttr to complete...\n",
      "INFO:root:ttr completed. 0.5093274116516113\n",
      "INFO:root:Waiting for similarity to complete...\n"
     ]
    },
    {
     "data": {
      "application/vnd.jupyter.widget-view+json": {
       "model_id": "baaac72332fb4a0ebc485f6ab8aab367",
       "version_major": 2,
       "version_minor": 0
      },
      "text/plain": [
       "Batches:   0%|          | 0/1 [00:00<?, ?it/s]"
      ]
     },
     "metadata": {},
     "output_type": "display_data"
    },
    {
     "data": {
      "application/vnd.jupyter.widget-view+json": {
       "model_id": "3e2e068c642c428081637e424c0e6ea0",
       "version_major": 2,
       "version_minor": 0
      },
      "text/plain": [
       "Batches:   0%|          | 0/1 [00:00<?, ?it/s]"
      ]
     },
     "metadata": {},
     "output_type": "display_data"
    },
    {
     "name": "stderr",
     "output_type": "stream",
     "text": [
      "INFO:root:similarity completed. 0.6673235893249512\n",
      "INFO:root:Waiting for adjacency to complete...\n",
      "INFO:root:adjacency completed. 0.6683273315429688\n",
      "INFO:root:Waiting for basic to complete...\n",
      "INFO:root:basic completed. 0.6683273315429688\n",
      "  0%|          | 124/39591 [02:30<12:15:51,  1.12s/it]"
     ]
    },
    {
     "name": "stdout",
     "output_type": "stream",
     "text": [
      "deque([\"여러분들은 '익숙함에 속아 소중함을 잊지 말자' 라는 명언을 알고 계신가요?\", '부모님께서 매일 해주시는 아침밥이나, 너무 친해서 매일 맛있는 간식을 사주는 친구 등 처음에는 매우 감사했지만 반복되는 호의에 우리는 소중함을 잊어가기도 합니다.', '크거나 작거나 같은 소중함일지라도 그 소중함을 잃게 되면 호의를 베푸는 사람 입장에서는 매우 당황스럽고 기분이 나쁠 수가 있습니다.', '계속 소중함을 모르고 부탁을 하면 상대방은 지치고 힘들고 당사자와의 연을 끊고 싶다는 마음도 생길 수가 있습니다.', '호의를 베풀어 받았으면 그 받은 걸 또 다른 사람에게 베풀어 보답을 하면 서로 소중함을 잃지 않고 더욱 더 성장하는 사람이 될 꺼 같고 그래야 사회가 더 행복하게 다같이 재밌게 잘 지낼 수 있을꺼 같고 행복한 사회는 우리가 만들어 나가야 하기 때문에 잘 지키고 배려하며 상대방을 존중하면서 지내면 좋겠다.', '모두 주변 사람들을 챙기면서 잊지 맙시다.', '이 사람들 덕분에 내가 행복하다는 것을....', '하지만 살다보면 이런 소중한 것들에 익숙해져서 잠시 소중함을 잊을 때가 있습니다.', '그런 것을 방지하기 위해서 지갑속에는 소중한 사람의 사진을 넣고 다닌다거나 핸드폰 케이스에 사진을 넣고 다니면서 무의식중에 한 번씩 보면서 소중한 것들에 대해 상기해보는 방법도 좋을 것 같다고 생각합니다.', '앞으로 제가 먼저 이 방법을 실천해 소중한 사람들을 절대 잊지 않도록 하겠습니다.'])\n"
     ]
    },
    {
     "name": "stderr",
     "output_type": "stream",
     "text": [
      "INFO:root:Waiting for ttr to complete...\n",
      "INFO:root:ttr completed. 0.4648580551147461\n",
      "INFO:root:Waiting for similarity to complete...\n"
     ]
    },
    {
     "data": {
      "application/vnd.jupyter.widget-view+json": {
       "model_id": "ecab7199be08468c999203ef005469ca",
       "version_major": 2,
       "version_minor": 0
      },
      "text/plain": [
       "Batches:   0%|          | 0/1 [00:00<?, ?it/s]"
      ]
     },
     "metadata": {},
     "output_type": "display_data"
    },
    {
     "data": {
      "application/vnd.jupyter.widget-view+json": {
       "model_id": "98503da09bfd4afc8df7294dc08831ef",
       "version_major": 2,
       "version_minor": 0
      },
      "text/plain": [
       "Batches:   0%|          | 0/1 [00:00<?, ?it/s]"
      ]
     },
     "metadata": {},
     "output_type": "display_data"
    },
    {
     "name": "stderr",
     "output_type": "stream",
     "text": [
      "INFO:root:similarity completed. 0.5568583011627197\n",
      "INFO:root:Waiting for adjacency to complete...\n",
      "INFO:root:adjacency completed. 0.5578587055206299\n",
      "INFO:root:Waiting for basic to complete...\n",
      "INFO:root:basic completed. 0.5588586330413818\n",
      "  0%|          | 125/39591 [02:31<11:45:48,  1.07s/it]"
     ]
    },
    {
     "name": "stdout",
     "output_type": "stream",
     "text": [
      "deque(['나의 소중함은 나의 친구이다.', '하지만 내일이면 없을지도 모른다.', '나는 항상 생각한다.', '친구는 항상 나의 곁에 있지만 언제 까지고 나와 같이 있을 수 없다는 것을 나의 학년이 올라갈 때마다 친구들을 새롭게 바뀐다.', '나는 그 과정에서 옛 친구의 소중함을 항상 잃는다.', '물론 옛 친구와 지금까지도 친하게 지내고 있는 친구도 있다.', '하지만 대부분의 친구를 잃는다.', '솔직히 난 친구를 잃을 때마다 그게 당연한지 알았다.', '왜냐하면 학년이 올라갈수록 그 새로운 친구를 사귀고 예전의 친구와 거의 만나거나 놀지 않아 멀어지는 것이 당연하다고 생각하였다.', '하지만 고등학교에 올라와서 친구의 소중함을 많이 배웠다.', '우리 학교는 기숙사를 다니는 학교로 집에 있는 것보다 기숙사에 있는 시간이 더욱 많다.', '그래서 처음에는 두렵기도 하고 잘해 나갈 수 없으리라 생각하였다.', '하지만 이제는 친구의 소중함을 느끼고 친구들이 가족 같다고 생각된다.', '앞으로는 시간이 지나도 친구들을 잊지 않을 것이며 진짜 가족같이 친하게 지내야겠다고 생각한다.', '하지만 막상 시간이 지나면 이러한 다짐들을 까먹곤 한다.', '소중함이 익숙해 지는 것이다.', '이러한 소중함을 잊지 않기 위해서는 노력이 필요하다고 생각한다.', '연애할때도 보면 서로 노력해야 하듯이, 소중함을 잊지 않기 위해 우리 모두 노력하는 사람들이 되도록 노력을 해보면 좋을 것 같다.'])\n"
     ]
    },
    {
     "name": "stderr",
     "output_type": "stream",
     "text": [
      "INFO:root:Waiting for ttr to complete...\n",
      "INFO:root:ttr completed. 0.5234048366546631\n",
      "INFO:root:Waiting for similarity to complete...\n"
     ]
    },
    {
     "data": {
      "application/vnd.jupyter.widget-view+json": {
       "model_id": "fa74b7c24969470c8f8d1295786d87ba",
       "version_major": 2,
       "version_minor": 0
      },
      "text/plain": [
       "Batches:   0%|          | 0/1 [00:00<?, ?it/s]"
      ]
     },
     "metadata": {},
     "output_type": "display_data"
    },
    {
     "data": {
      "application/vnd.jupyter.widget-view+json": {
       "model_id": "6e765c74610d442d89a1f0803c434845",
       "version_major": 2,
       "version_minor": 0
      },
      "text/plain": [
       "Batches:   0%|          | 0/1 [00:00<?, ?it/s]"
      ]
     },
     "metadata": {},
     "output_type": "display_data"
    },
    {
     "name": "stderr",
     "output_type": "stream",
     "text": [
      "INFO:root:similarity completed. 0.7594053745269775\n",
      "INFO:root:Waiting for adjacency to complete...\n",
      "INFO:root:adjacency completed. 0.7604053020477295\n",
      "INFO:root:Waiting for basic to complete...\n",
      "INFO:root:basic completed. 0.7604053020477295\n",
      "  0%|          | 126/39591 [02:32<12:12:11,  1.11s/it]"
     ]
    },
    {
     "name": "stdout",
     "output_type": "stream",
     "text": [
      "deque(['저는 올해초 저는 할아버지를 잃었습니다.', '저희할아버지는 참 좋으신분이였습니다.', '저희 할아버지는 예전부터 저에게 맛있는것도하고 함께 놀러도 많이 갔습니다.', '그런데 4년전부터 할아버지의 건강상태가 않좋아지시면서 예전처럼 지내지는못하였습니다.', '할아버지는 몸이않좋아지시면서 병원에 계셨는데 주말마다 병원을 찾아가 할아버지를 뵈러갔습니다.', '할아버지를 볼때마다 할아버지가 아프시지않았으면 좋겠다고 생각하였습니다.', '할아버지는 허리수술을 하시고나서부터 몸상태가 더 않좋아지셨고 병원에 있는 날이 더많아졌습니다.', '그리고 할아버지는 병원에 계속있으시면서 몸이 더 않좋아지셨습니다.', '할아버지가 편찮으시자 저희 할머니도 슬퍼하셨고 아버지도 많이 슬퍼하셨습니다.', '할아버지가 치매에 걸리셔서 저희 할머니를 기억못하였을때는 저희 할머니는 많이 울으셨습니다.', '그러고 지내는중에 병원에서 저희 아버지에게 말을하였습니다.', '할아버지가 몸이 많이 안좋으셔서 이번달안에 돌아가실거같다고 하였습니다.', '그래서 저희 가족은 많이 슬펐습니다.', '그리고 의사선생님의 말대로 저희 할아버지는 결국 돌아가셨습니다.', '저는 기숙사에서 어머니께 전화와서 받아보니 할아버지가 돌아가셨다고 하셨습니다.', '저는 그 말을 듣고 너무 슬펐습니다.', '좋아하던 할아버지꼐서 돌아 가셨다고 하시는 저랑 저희 가족들은 많이 슬펐습니다.', '할아버지 장례식을 마치고 할아버지를 납골당으로 모셨습니다.', '저희 가족은 시간 날때마다 할머니와 함께 할아버지를 보러 납골당에 갔습니다.', '저는 소중한 할아버지를 잃었습니다.'])\n"
     ]
    },
    {
     "name": "stderr",
     "output_type": "stream",
     "text": [
      "INFO:root:Waiting for ttr to complete...\n",
      "INFO:root:ttr completed. 0.5768411159515381\n",
      "INFO:root:Waiting for similarity to complete...\n"
     ]
    },
    {
     "data": {
      "application/vnd.jupyter.widget-view+json": {
       "model_id": "3868ac2829544110af68eab7ddc1c6d9",
       "version_major": 2,
       "version_minor": 0
      },
      "text/plain": [
       "Batches:   0%|          | 0/1 [00:00<?, ?it/s]"
      ]
     },
     "metadata": {},
     "output_type": "display_data"
    },
    {
     "data": {
      "application/vnd.jupyter.widget-view+json": {
       "model_id": "5b3e436a84f645b8bed31cd12d45a761",
       "version_major": 2,
       "version_minor": 0
      },
      "text/plain": [
       "Batches:   0%|          | 0/1 [00:00<?, ?it/s]"
      ]
     },
     "metadata": {},
     "output_type": "display_data"
    },
    {
     "name": "stderr",
     "output_type": "stream",
     "text": [
      "INFO:root:similarity completed. 0.6278414726257324\n",
      "INFO:root:Waiting for adjacency to complete...\n",
      "INFO:root:adjacency completed. 0.6298420429229736\n",
      "INFO:root:Waiting for basic to complete...\n",
      "INFO:root:basic completed. 0.6308412551879883\n",
      "  0%|          | 127/39591 [02:33<12:32:13,  1.14s/it]"
     ]
    },
    {
     "name": "stdout",
     "output_type": "stream",
     "text": [
      "deque(['저는 부모님의 소중함을 잃어버렸던 경험이 있습니다.', '매일 부모님과 행복하고 평화로운 시간들이 계속 지나가다 보니 어느 순간 당연하게 느껴지고 소중히 안 해도 되겠다는 생각이 들었습니다.', '익숙함에 속아 소중함을 잃어버렸습니다.', '부모님의 소중함을 다시 생각하고 잃어버리지 않겠다는 생각을 한 계기는 어머니가 많이 편찮으셔서 입원을 했을 때였습니다.', '입원하시고 집에 당연하다고 생각되었던 익숙한 풍경들은 없고 집에 돌아오면 아무도 없는 불안한 풍경들만 있었습니다.', '누나는 학교에서 늦게 돌아오고 아버지는 회사일을 하신다고 늦게 집에 들어오시는데 평소라면 어머니가 반겨주시는 평범한 일상이 없어지니 그때의 기분은 말로 할 수 없는 기분이었습니다.', '빨래, 설거지 등 집안일은 어떻게 해야 할지 막막하고 밥 먹는 것도 어떡해 뭘 해야 하는지 도 모르고 평소의 익숙했던 것이 없어지니 정말 평범한 것도 사라지니 소중해지는구나라는 것을 느꼈습니다.', '이 사건 이후로 평범하고 익숙한 것이라도 소중함을 잃어버리지 않아야겠다고 다짐하는 계기가 된 것 같습니다.', '앞으로도 이 경험을 잊지 않고 나를 소중히 대하는 것에 대해 당연하다고 생각하지 않고 고맘게 생각하며 나도 그 사람을 소중히 대하면 서로 소중한 사이가 될 것이라고 생각합니다.', '나 자신이 소중히 대접받는 것을 당연하다고 생각하지 말고 먼저 다른 사람들을 소중히 대해주면 자연스레 자신도 소중히 대해질 수 있다고 생각합니다.'])\n"
     ]
    },
    {
     "name": "stderr",
     "output_type": "stream",
     "text": [
      "INFO:root:Waiting for ttr to complete...\n",
      "INFO:root:ttr completed. 0.5329980850219727\n",
      "INFO:root:Waiting for similarity to complete...\n"
     ]
    },
    {
     "data": {
      "application/vnd.jupyter.widget-view+json": {
       "model_id": "6319fd8c0ca04df29a8e77c02a9f768c",
       "version_major": 2,
       "version_minor": 0
      },
      "text/plain": [
       "Batches:   0%|          | 0/1 [00:00<?, ?it/s]"
      ]
     },
     "metadata": {},
     "output_type": "display_data"
    },
    {
     "data": {
      "application/vnd.jupyter.widget-view+json": {
       "model_id": "6b842c147529405ea28034ca47622c2f",
       "version_major": 2,
       "version_minor": 0
      },
      "text/plain": [
       "Batches:   0%|          | 0/1 [00:00<?, ?it/s]"
      ]
     },
     "metadata": {},
     "output_type": "display_data"
    },
    {
     "name": "stderr",
     "output_type": "stream",
     "text": [
      "INFO:root:similarity completed. 0.586421012878418\n",
      "INFO:root:Waiting for adjacency to complete...\n",
      "INFO:root:adjacency completed. 0.5874214172363281\n",
      "INFO:root:Waiting for basic to complete...\n",
      "INFO:root:basic completed. 0.5874214172363281\n",
      "  0%|          | 128/39591 [02:34<11:54:43,  1.09s/it]"
     ]
    },
    {
     "name": "stdout",
     "output_type": "stream",
     "text": [
      "deque(['고1 초창기 때에 이야기입니다.', '3월 1일에 처음으로 #@소속#에 들어갔었는데 그 당시에는 아는 사람과 아는 친구들이 없었습니다.', '그런데 저에게 먼저 다가와 이야기를 해준 친구가 있었습니다.', '저는 그 친구 덕분에 그 친구 바탕으로 많은 친구를 사귀게 될 수 있었습니다.', '하지만 그 친구는 며칠 후 저에게 자퇴하고 싶다고 말을했습니다.', '처음에는 그냥 장난이겠지 하고 넘어갔습니다.', '그런데 어느 순간부터 그 친구는 점점 심각해지었습니다.', '선생님과 상담도 하고 기숙사에 있으면 자살하고 싶은 마음이 생긴다고 저에게 말을 해주었습니다.', '그리고 우울증까지 와서 항상 밝게 웃어 주던 친구가 이제는 어둡고 똑똑한 친구가 되어 있었습니다.', '그래서 그때부터 심각성을 깨닫고 친구의 이야기를 들어주고 상담도 같이해주었습니다.', '하지만 시간이 조금 지난 후 저는 이미 늦었다는 것을 알았습니다.', '결국 그 친구는 자퇴하게 되고 처음부터 친구의 이야기를 잘 들어주고 조금 더 그 친구에게 잘해주었다면 그 친구는 자퇴를 하지 않을 수도 있었을 터라는 생각을 하고 후회를 하였습니다.', '가끔 그 친구의 책상과 기숙사의 침대를 보면 그 친구가 생각이 나고 정말 나에게 도움을 주고 저를 많이 도와준 친구를 잃어버려서 한동안은 많이 마음이 아팠습니다.', '이 경험을 토대로 앞으로 나의 소중한 사람들에게 소중함을 잊지 않고 소중히 대하도록 노력하겠습니다.'])\n"
     ]
    },
    {
     "name": "stderr",
     "output_type": "stream",
     "text": [
      "INFO:root:Waiting for ttr to complete...\n",
      "INFO:root:ttr completed. 0.5440011024475098\n",
      "INFO:root:Waiting for similarity to complete...\n"
     ]
    },
    {
     "data": {
      "application/vnd.jupyter.widget-view+json": {
       "model_id": "ef140c2c959c4da3945bfc65ae47e1f4",
       "version_major": 2,
       "version_minor": 0
      },
      "text/plain": [
       "Batches:   0%|          | 0/1 [00:00<?, ?it/s]"
      ]
     },
     "metadata": {},
     "output_type": "display_data"
    },
    {
     "data": {
      "application/vnd.jupyter.widget-view+json": {
       "model_id": "669b939f1f864e19ab45b84a500b3c5e",
       "version_major": 2,
       "version_minor": 0
      },
      "text/plain": [
       "Batches:   0%|          | 0/1 [00:00<?, ?it/s]"
      ]
     },
     "metadata": {},
     "output_type": "display_data"
    },
    {
     "name": "stderr",
     "output_type": "stream",
     "text": [
      "INFO:root:similarity completed. 0.5939991474151611\n",
      "INFO:root:Waiting for adjacency to complete...\n",
      "INFO:root:adjacency completed. 0.5949993133544922\n",
      "INFO:root:Waiting for basic to complete...\n",
      "INFO:root:basic completed. 0.595999002456665\n",
      "  0%|          | 129/39591 [02:35<11:49:41,  1.08s/it]"
     ]
    },
    {
     "name": "stdout",
     "output_type": "stream",
     "text": [
      "deque(['제게 있어 소중함을 주는 사람들은 제 친구들입니다.', '꿈을 향해 정진 중인 저로서는 여러 번의 실전 경험만이 실력을 늘리는 길이지요.', '제 꿈은 소설가입니다.', '언제나 글을 쓰는 것이 일인 직업입니다.', '글을 쓰기 위해선 좋은 아이디어가 필요한데, 그를 만들어내기 위해서는 영감을 받는 것이 좋지요.', '영감을 제대로 받지 못할 경우에 만들어진 아이디어는 쓰기 참 어렵습니다.', '제 마음에 들지 못합니다.', '그런데 이러한 상황에서 친구들은 제게 영감을 줍니다.', '머리가 잘 돌아가지 않아 글을 쓰는데 어려움을 겪을 때, 친구들과 함께 무언가를 하다 보면 어느새 영감을 얻어버립니다.', '딱히 그 행동의 종류는 정해진 것이 없습니다.', '아무 생각 없이 놀거나, 같이 얘기를 나누다보면 소설을 만들 수 있는 아이디어를 얻게 되는 것입니다.', '그렇게 만들어진 소설도 수 편 있지요, 아주 의미 깊은 작품들이라 할 수 있습니다.', '또한 좋은 추억을 만들며 깊은 유대를 나누고 있으니, 그야말로 Best Friends라 할 수 있습니다.', '학교 생활이 끝나고 직장 생활을 할 때엔 같이 일본 여행을 가겠노라 하고 말이 오가기도 하였었습니다.', '그에서 또 좋은 추억들이 만들어지겠죠.', '이러한 점에서 제게 소중함을 주는 이들은 제 친구들이라 할 수 있습니다.', '이 글을 쓰는 계기로 인해 소중함에 대해 다시 한번 생각해 보는 시간이 되었습니다.', '앞으로 나에게 소중한 것들에게 소중히 대하는 내가 되겠습니다.'])\n"
     ]
    },
    {
     "name": "stderr",
     "output_type": "stream",
     "text": [
      "INFO:root:Waiting for ttr to complete...\n",
      "INFO:root:ttr completed. 0.5460412502288818\n",
      "INFO:root:Waiting for similarity to complete...\n"
     ]
    },
    {
     "data": {
      "application/vnd.jupyter.widget-view+json": {
       "model_id": "15665483fcbb4be79c8265b2383ed4da",
       "version_major": 2,
       "version_minor": 0
      },
      "text/plain": [
       "Batches:   0%|          | 0/1 [00:00<?, ?it/s]"
      ]
     },
     "metadata": {},
     "output_type": "display_data"
    },
    {
     "data": {
      "application/vnd.jupyter.widget-view+json": {
       "model_id": "f83f2b1a2a044938b9f7194e067723bf",
       "version_major": 2,
       "version_minor": 0
      },
      "text/plain": [
       "Batches:   0%|          | 0/1 [00:00<?, ?it/s]"
      ]
     },
     "metadata": {},
     "output_type": "display_data"
    },
    {
     "name": "stderr",
     "output_type": "stream",
     "text": [
      "INFO:root:similarity completed. 0.6071019172668457\n",
      "INFO:root:Waiting for adjacency to complete...\n",
      "INFO:root:adjacency completed. 0.6081008911132812\n",
      "INFO:root:Waiting for basic to complete...\n",
      "INFO:root:basic completed. 0.6091005802154541\n",
      "  0%|          | 130/39591 [02:36<11:55:55,  1.09s/it]"
     ]
    },
    {
     "name": "stdout",
     "output_type": "stream",
     "text": [
      "deque(['내가 소중함을 잃었던 경험은 제가 중학교 시절에는 학교 갈 때 부모님이 깨워주시고 항상 밥도 차려주시고 학교 갈 때 잘 가라는 말도 해준다.', '그런데 나는 항상 늦게 일어나고 학교 가기 싫다고 하고 그러고 밥도 잘 안 먹고 잘 가라는? 말마저 그냥? 흘리듯 간 거 같다.', '지금 생각하면 많이 죄송한 거 같다.', '그런데도 부모님은 항상 해주신거 같다.', '중학교 1학년 때부터 중학교 3학년 때까지 나는 제대로 한 적이 없는 거 같아 한 번도 죄송한 거 같다.', '나의 이런 행동 때문에 소중함을 잃었던 거 같다고 생각한다.', '하지만 저는 그걸 고등학교 가서야 깨달았습니다.', '부모님이 해주신 것들이 정말 소중하다는 걸요.', '고등학교 올라가서 기숙사 생활하게 됐습니다.', '근데 아침에 깨워주는 사람도 없고 잘 가라고 한마디 해주는 사람도 없었습니다.', '저는 거기서 많이 깨달았던 거 같습니다.', '만약 제가 이 소중함을 빨리 알았더라면 중학교 시절로 다시 돌아가고 싶습니다.', '부모님이 깨워주시면 빨리 일어나고 맛있는 밥도 먹고 잘 가라는 그 말에 대답도 해줄 거 같습니다.', '이 글쓰기 경진대회 하면서 그런 소중함도 알게 됐습니다.', '그래서 이 글을 쓰기 대회에 잘 참가 한 거 같고 내가 몰랐거나 흔한 일이라고 생각하면 흘려보냈던 소중함도 있을 거 같다.', '그런 소중함도 잊어버렸다고 생각하니 그 소중함을 줬던 친구나 부모님 등등 많은 소중함을 줬을 텐데 그걸 잊어버렸거나 무시했던 거 같습니다.', '다시 한번 이 글을 쓰기 대회를 하면서 여러모로 깨닫거나 후회 하게 되고 반성하게 되는 거 같습니다.'])\n"
     ]
    },
    {
     "name": "stderr",
     "output_type": "stream",
     "text": [
      "INFO:root:Waiting for ttr to complete...\n",
      "INFO:root:ttr completed. 0.5532348155975342\n",
      "INFO:root:Waiting for similarity to complete...\n"
     ]
    },
    {
     "data": {
      "application/vnd.jupyter.widget-view+json": {
       "model_id": "befdd44c6c064fd9b86633ef7f8a7673",
       "version_major": 2,
       "version_minor": 0
      },
      "text/plain": [
       "Batches:   0%|          | 0/1 [00:00<?, ?it/s]"
      ]
     },
     "metadata": {},
     "output_type": "display_data"
    },
    {
     "data": {
      "application/vnd.jupyter.widget-view+json": {
       "model_id": "98fd2b9e10464dc7b5cd25e3c4227a43",
       "version_major": 2,
       "version_minor": 0
      },
      "text/plain": [
       "Batches:   0%|          | 0/1 [00:00<?, ?it/s]"
      ]
     },
     "metadata": {},
     "output_type": "display_data"
    },
    {
     "name": "stderr",
     "output_type": "stream",
     "text": [
      "INFO:root:similarity completed. 0.6912345886230469\n",
      "INFO:root:Waiting for adjacency to complete...\n",
      "INFO:root:adjacency completed. 0.6922359466552734\n",
      "INFO:root:Waiting for basic to complete...\n",
      "INFO:root:basic completed. 0.6922359466552734\n",
      "  0%|          | 131/39591 [02:38<12:08:17,  1.11s/it]"
     ]
    },
    {
     "name": "stdout",
     "output_type": "stream",
     "text": [
      "deque(['엄마가 같이 사는 것이 익숙하여 소중함을 모르고 짜증내거나 다투다보니 가끔 서로 맞지 않아서 다투는 것이 많아 사이가 나쁜 경우가 있는데 그런 경우 먼저 화해하거나 서로 사과해서 해결합니다.', '또한 저는 해결을 위해 먼저 나서고마찰을 일으키지 않기 위해 조심하도록 노력합니다.', '그리고 제가 엄마의 소중함을 느낀 가장 큰 사건이 있습니다.', '예전에 아침에 엄마랑 학교 성적 때문에 싸우고 학교에 갔습니다.', '그런데 학교 끝날 무렵 비가 왔습니다.', '저는 아침에 학교올 때 비가 안와서 우산을 안 가져 와서 비맞으면서 집에 가야하나 하고 생각하고 있었습니다.', '그런데 학교 끝나고 엄마에게 전화가 와서 자기가 학교 정문에서 기달리고 있다고 얼른 나오라고 했습니다.', '저는 그 때 아침에 엄마에게 화를 냈던 나 자신이 부끄러워졌습니다.', '그래서 엄마에게 가서 아침에 화를 냈던것에 대해 사과를 했습니다.', '엄마도 저에게 사과를 했습니다.', '저는 이 일 이후로 엄마가 나를 정말 사랑하는구나 라고 느꼈습니다.', \"그래서 제시문에 있는 명언인 '익숙함에 속아 소중함을 잊지 말자'라는 말이 더더욱 마음 깊이 새겨졌습니다.\", '앞으로 이 경험을 잊지 않고 엄마 이외에도 나에게 소중한 사람들에게 그 소중함을 익숙히 여기지 않고 최선을 다해 나도 소중히 여겨주는 사람이 되도록 노력하겠습니다.', '지금이라도 먼저 소중한 사람들에게 안부를 묻는 것이 어떨까요?'])\n"
     ]
    },
    {
     "name": "stderr",
     "output_type": "stream",
     "text": [
      "INFO:root:Waiting for ttr to complete...\n",
      "INFO:root:ttr completed. 0.5749993324279785\n",
      "INFO:root:Waiting for similarity to complete...\n"
     ]
    },
    {
     "data": {
      "application/vnd.jupyter.widget-view+json": {
       "model_id": "f0f6bf9a7768405b92d0b050b24fe6ed",
       "version_major": 2,
       "version_minor": 0
      },
      "text/plain": [
       "Batches:   0%|          | 0/1 [00:00<?, ?it/s]"
      ]
     },
     "metadata": {},
     "output_type": "display_data"
    },
    {
     "data": {
      "application/vnd.jupyter.widget-view+json": {
       "model_id": "b1422f7fcd83419d91f3419fc0ecfeff",
       "version_major": 2,
       "version_minor": 0
      },
      "text/plain": [
       "Batches:   0%|          | 0/1 [00:00<?, ?it/s]"
      ]
     },
     "metadata": {},
     "output_type": "display_data"
    },
    {
     "name": "stderr",
     "output_type": "stream",
     "text": [
      "INFO:root:similarity completed. 0.6700000762939453\n",
      "INFO:root:Waiting for adjacency to complete...\n",
      "INFO:root:adjacency completed. 0.6710000038146973\n",
      "INFO:root:Waiting for basic to complete...\n",
      "INFO:root:basic completed. 0.6710000038146973\n",
      "  0%|          | 132/39591 [02:39<12:10:15,  1.11s/it]"
     ]
    },
    {
     "name": "stdout",
     "output_type": "stream",
     "text": [
      "deque(['나에게 있어 소중하지만 그 귀함을 가장 쉽게 잊고 사는건 바로 부모님의 사랑이 아닐까 싶다.', '부모님의 은혜와 사랑은 의식적으로 생각하면 세상 가장 소중하고 귀한것이지만 평상시엔항상 잊고 산다.', '나를 위한 엄마의 말은 모두 잔소리로 들리고 간섭처럼 느껴지며, 한 번씩 나에게 오는 아빠의 관심은 귀찮게 느껴지기 때문이다.', '얼마전 엄마가 아파서 입원하신 적이 있어서 밥도 내가 챙겨먹고 빨래도 내가 챙겨야 할때가 있었다.', '세상 손도 많이 가고 신경쓸 일도 많았다.', '나는 그냥 집밥은 뚝딱하면 나오고 깨끗한 옷은 세탁기가 다 하는줄 알았다.', '하지만 그 단순하다고 생각했던 일들이 정말 손이 많이 가고 신경이 많이 쓰인다는 걸 새삼 알게 되었다.', '엄마는 늘 이런 일들을 불평불만 없이 묵묵히 매일매일 하셨던 거였다.', '밖에서 친구들이랑 군것질을 하고 와서는 밥먹으라는 엄마에게 괜한 반찬투정을 부렸던 일들이 생각났다.', '정말 엄마에게 미안하고 죄스러운 마음이 들었다.', '만약 이세상에 엄마가 없다면, 생각만으로도 눈물이 나는 것 같다.', '막막한 바다위에 혼자 있는 기분일 것 같다.', '항상 나의 곁에서 나를 지켜주시는 부모님의 은혜와 사랑을 소중하게 생각하고 귀하여 여겨야 할것같다.', '이 글을 쓰면서 나의 소중한 부모님에 대해 다시 한번 생각해보는 계기가 되어 정말 좋았다.', '앞으로 나의 소중한 부모님께 함부로 대하지 않도록 노력해야겠다.'])\n"
     ]
    },
    {
     "name": "stderr",
     "output_type": "stream",
     "text": [
      "INFO:root:Waiting for ttr to complete...\n",
      "INFO:root:ttr completed. 0.5390205383300781\n",
      "INFO:root:Waiting for similarity to complete...\n"
     ]
    },
    {
     "data": {
      "application/vnd.jupyter.widget-view+json": {
       "model_id": "8ea31432213f44fb9139d4b45096625c",
       "version_major": 2,
       "version_minor": 0
      },
      "text/plain": [
       "Batches:   0%|          | 0/1 [00:00<?, ?it/s]"
      ]
     },
     "metadata": {},
     "output_type": "display_data"
    },
    {
     "data": {
      "application/vnd.jupyter.widget-view+json": {
       "model_id": "2ac68bc5098e4388b0883bc7848723aa",
       "version_major": 2,
       "version_minor": 0
      },
      "text/plain": [
       "Batches:   0%|          | 0/1 [00:00<?, ?it/s]"
      ]
     },
     "metadata": {},
     "output_type": "display_data"
    },
    {
     "name": "stderr",
     "output_type": "stream",
     "text": [
      "INFO:root:similarity completed. 0.7520208358764648\n",
      "INFO:root:Waiting for adjacency to complete...\n",
      "INFO:root:adjacency completed. 0.7530207633972168\n",
      "INFO:root:Waiting for basic to complete...\n",
      "INFO:root:basic completed. 0.7540209293365479\n",
      "  0%|          | 133/39591 [02:40<12:31:55,  1.14s/it]"
     ]
    },
    {
     "name": "stdout",
     "output_type": "stream",
     "text": [
      "deque(['최근 1년 새 나의 주위에는 코로나 19 시대를 맞아 학교 친구와 주변 분들이 코로나19 감염자와 직, 간접적으로 접촉하여 자가격리 해야하는 사람들이 많이 발생하였다.', '거기에 해당하지 않고 마음대로 다닐 수 있는 사람으로서 자가격리 중인 사람들에게 미안함을 느끼는 한편으로 자유의 의미를 새삼 되새기게 된다.', '코로나19로 외출을 제한받는 자가격리자들은 얼마나 힘들까.', '자가격리가 끝나고 나온 친구의 언니는 다시는 자가격리를 하고 싶지 않다며 마스크 착용 및 주변 사람들 외출 단속까지 철저하게 하는 모습을 볼수 있었다.', '자가격리 기간에 얼마나 답답하고 힘들었으면 저럴까 싶기도 하지만 내가 자가 격리중이라면 과중한 학습과 바쁜 일상에서 벗어나 혼자만의 시간을 제대로 보낼수 있을거같아서 답답함보다 자유로움이 더 있지 않을까 생각하는 데 정작 그 상황이 되면 자유를 억압당해서 어서 빨리 격리를 끝내고 바깥 공기 냄새를 맡고 싶은 마음뿐이다고 한다.', '마음대로 걷고 어디든 갈 수 있는 것은 인간의 기본적인 자유이지만 이런 흔하고 작은 고마움을 우리는 잘 모른다.', '신선한 공기와 맑은 물이 늘 가까이 있어서 소중한 존재인지 알지 못 하듯이 우리는 소중한 것을 잃고 나서야 비로소 깨닫는다.', \"'건강한 두 다리'와 '속박 받지 않는 자유' 이것들이 소중하다면 이런 결론에 이를 것이다.\", \"'작은 것에도 감사히 여기며 살자.'\", '항상 곁에 있어서 귀중함을 알지 못하는 것들은 얼마든지 많다.', '아침이면 창가에서 들려오는 청아한 새 울음소리, 들판에 흐드러지게 핀 야생화, 저 푸른 하늘의 뭉게구름.', '묵묵히 믿고 따르는 가족과 친구들. 무심하게 지나치면서 어디라도 다닐 수 있는 작은 자유만큼이나 소중함을 느끼지 못하는 것들이다.', '멀쩡한 사지와 아름다운 자연, 좋은 사람들에게 감사하며 오늘은 열심히 자유를 느끼며 일상의 행복을 찾아 간다.'])\n"
     ]
    },
    {
     "name": "stderr",
     "output_type": "stream",
     "text": [
      "INFO:root:Waiting for ttr to complete...\n",
      "INFO:root:ttr completed. 0.5460021495819092\n",
      "INFO:root:Waiting for similarity to complete...\n"
     ]
    },
    {
     "data": {
      "application/vnd.jupyter.widget-view+json": {
       "model_id": "425c49b8460f4cda840e39920782a2c0",
       "version_major": 2,
       "version_minor": 0
      },
      "text/plain": [
       "Batches:   0%|          | 0/1 [00:00<?, ?it/s]"
      ]
     },
     "metadata": {},
     "output_type": "display_data"
    },
    {
     "data": {
      "application/vnd.jupyter.widget-view+json": {
       "model_id": "9eb2320322944d12bf3bb5b3a6cc22d5",
       "version_major": 2,
       "version_minor": 0
      },
      "text/plain": [
       "Batches:   0%|          | 0/1 [00:00<?, ?it/s]"
      ]
     },
     "metadata": {},
     "output_type": "display_data"
    },
    {
     "name": "stderr",
     "output_type": "stream",
     "text": [
      "INFO:root:similarity completed. 0.60638427734375\n",
      "INFO:root:Waiting for adjacency to complete...\n",
      "INFO:root:adjacency completed. 0.6073849201202393\n",
      "INFO:root:Waiting for basic to complete...\n",
      "INFO:root:basic completed. 0.6073849201202393\n",
      "  0%|          | 134/39591 [02:41<12:20:46,  1.13s/it]"
     ]
    },
    {
     "name": "stdout",
     "output_type": "stream",
     "text": [
      "deque(['작은 것이 모여 크게 된다.', '아직 얼마 살지 않은 인생이지만 인생을 살다보니 전에는 못 느꼈던 작은 것에 소중함을 느끼고 있다.', '예전에는 작은 걸 소중하게 생각하지 못했다.', \"돈의 경우 작은 푼돈은 '이정도 모아서 뭐 얼마나 되겠어'란 생각을 많이 했다.\", \"작은 돈을 소중히 하지 않은 결과 친구들이 취미로 주식이나 비트코인을 한다는데 나는 그런걸 시도해 볼 '종잣돈'이라는 것이 없었다.\", '그 작은 돈이 모여서 나중에는 큰 돈이 되는 건데, 작은 것을 무시했다가 이런 결과가 된것이라고 생각한다.', '운동도 그렇고 학업도 그렇고 뭐든 꾸준히 했으면 뭐라도 지금쯤 윤곽이 나타났을 듯 싶은데 그걸 기다리지도 못하고 중간에 포기하거나 이것해서 얼마나 되겠는가 라는 한심한 생각으로 지금 결국은 모든 면에서 다 흐지부지 되어버린 것 같다.', '학원선생님 추천으로 최근 읽은 책에서 푼돈은 참는 법을 가르치고 끈기를 훈련시킨다고 하는데 이부분 정말 공감하고 자책하고 후회했다.', '나는 그동안 매우 조급했다.', '조금하다가 재미가 없다고 나랑 맞지 않는 것 같다고 쉽게 포기했다.', '거의 모든 일들을.', '이 책을 읽고 작은 것의 소중함을 다시 한번 느낄 수 있었다.', '이제부터라도 뭐든 꾸준히 해보자는 모토가 생겼다.', '꾸준히 한다면 꼭 내가 원하는 결과가 아니더라도 작은 무언가가 쌓이고 쌓여 어떤식으로든 성공으로 이끌어 줄 것이라고 생각한다.', '내가 힘들지 않고 그렇다고 썩 티가 나지도 않는 작은 변화에서 그것이 쌓이고 쌓여 기적같은 삶의 변화가 일어난다고 한다.', \"'천리길도 한걸음부터'라는 말은 처음에는 작다가 점점 커지는 크레센도가 아닌 그저 한걸음 한걸음 쌓이는 것을 말한다.\", '작은 물방울이 모여 어느순간 구름이 되는 것처럼 누구나 할수 있는 작은 실천으로 내 삶의 큰 기적을 만들어 내야겠다고 생각했다.', '하루 1000원 한달 3만원씩 용돈을 모아서 내년에는 내 이름으로 주식계좌도 꼭 개설하고 지금도 늦지 않았다고 생각하고 차근차근 공부해서 원하는 진로에 꼭 성공하고 싶다.'])\n"
     ]
    },
    {
     "name": "stderr",
     "output_type": "stream",
     "text": [
      "INFO:root:Waiting for ttr to complete...\n",
      "INFO:root:ttr completed. 0.5950005054473877\n",
      "INFO:root:Waiting for similarity to complete...\n"
     ]
    },
    {
     "data": {
      "application/vnd.jupyter.widget-view+json": {
       "model_id": "725061edff12499da7345ac6ac66e192",
       "version_major": 2,
       "version_minor": 0
      },
      "text/plain": [
       "Batches:   0%|          | 0/1 [00:00<?, ?it/s]"
      ]
     },
     "metadata": {},
     "output_type": "display_data"
    },
    {
     "data": {
      "application/vnd.jupyter.widget-view+json": {
       "model_id": "a94f78de4146452d95f81b2135bdaba3",
       "version_major": 2,
       "version_minor": 0
      },
      "text/plain": [
       "Batches:   0%|          | 0/1 [00:00<?, ?it/s]"
      ]
     },
     "metadata": {},
     "output_type": "display_data"
    },
    {
     "name": "stderr",
     "output_type": "stream",
     "text": [
      "INFO:root:similarity completed. 0.6676790714263916\n",
      "INFO:root:Waiting for adjacency to complete...\n",
      "INFO:root:adjacency completed. 0.6686782836914062\n",
      "INFO:root:Waiting for basic to complete...\n",
      "INFO:root:basic completed. 0.6696791648864746\n",
      "  0%|          | 135/39591 [02:42<12:45:57,  1.16s/it]"
     ]
    },
    {
     "name": "stdout",
     "output_type": "stream",
     "text": [
      "deque(['지난주 갑자기 왼쪽 엄지발가락이 욱씬거린다.', '평소에는 왼쪽 엄지발톱의 오른쪽 가장자리가 아프기 시작하고 그럼 저는 손톱깍이로 발톱 사이에 있는 막 차오르기 시작하는 뭉근한 새살 발톱들이 덜어내면 신기하게 살을 누르던 압박이 사라지며 통증이 완화된다.', '당연히 평소처럼 능숙하게 발톱 손질을 했다.', '그런데 이상하게 이번에는 엄지발톱의 왼쪽 가장자리도 아팠다.', '너무 아프니 일단 발톱을 자르고 보자하며 아무 생각없이 바짝 발톱을 잘라 버렸는데 동그란 발톱의 끝이 발을 파고들었다.', '너무 아파서 급한 마음에 인터넷에 찾아보니 1번은 발톱을 일자로 깍으라는 것, 2단계는 항생제를 먹으며 발이 곪는 것을 예방하며 스스로 나아지기를 기다리는 것이다.', '만약 그 단계에서 치료가 안되면 발톱제거 수술을 해야 한다는 공포스러운 예고를 보고 두려움에 얼른 항생제 2알을 삼켰다.', '그리고 내발을 내려다 보니 무식한 주인을 만난 발관리를 못해서 이렇게 된 것 같아 내 발이 불쌍했다.', '세상 모든일이 그렇듯 하루아침에 일어난 일이 없다.', '조금씩 조금씩 아주 서서히 변해서 오늘까지 온 것이다.', '갑자기 제 발에게 너무 미안한 생각이 듭니다.', '살을 파고 드는 발톱으로 발을 디딜 때마다 왼쪽 엄지발가락이 지금 고통스럽다.', '친구들과 쇼핑가기로 했던 약속도 못가게 되었고 다니던 체육관도 발이 아파서 나가지 못하게 되었다.', '세상에~', '이 발가락 하나가 내 일상을 바꿀수 있다니..', \"우리가 살면서 '건강이 최고다'라고 말한다.\", '그리고 우리 신체의 소중함도 늘 느낀다.', \"그렇지만 '난 손가락이 제일 중요해, 난 발가락이 정말 중요해' 이렇게 말하지는 않았던 것 같다.\", '그래도 신체라 하면 뇌, 심장, 팔, 다리, 장기 등 뭐 이런 다소 거창한 단어들을 당연시하며 떠올렸던 것 같다.', '그런데 이번에 알았다.', '우리가 살면서 만나는 모든 요소중 그 어떤것도 소중하지 않고 그 역할을 못하는 것은 없다는 것을 말이다.', '그 작은 하나가 잘못되면 커다란 그 무엇이 제대로 작동될 수 없다는 것이다.', '다행히 내 발은 2단계인 항생제 치료법으로 안정을 찾았고 이제 통증이 거의 없다.', '이렇게 엄지발톱 하나가 제 삶의 작은 것에 대한 소중함을 일깨워 주는 시간이 되었다.', '이 순간 내가 가진 모든 삶의 요소들에게 조용히 말하고 싶다.', \"'감사합니다.\", '사랑합니다'])\n"
     ]
    },
    {
     "name": "stderr",
     "output_type": "stream",
     "text": [
      "INFO:root:Waiting for ttr to complete...\n",
      "INFO:root:ttr completed. 0.6590428352355957\n",
      "INFO:root:Waiting for similarity to complete...\n"
     ]
    },
    {
     "data": {
      "application/vnd.jupyter.widget-view+json": {
       "model_id": "05addf7c45f145e8840e9d257fad1285",
       "version_major": 2,
       "version_minor": 0
      },
      "text/plain": [
       "Batches:   0%|          | 0/1 [00:00<?, ?it/s]"
      ]
     },
     "metadata": {},
     "output_type": "display_data"
    },
    {
     "data": {
      "application/vnd.jupyter.widget-view+json": {
       "model_id": "6bdbb9d73430416eb3d3925889df3164",
       "version_major": 2,
       "version_minor": 0
      },
      "text/plain": [
       "Batches:   0%|          | 0/1 [00:00<?, ?it/s]"
      ]
     },
     "metadata": {},
     "output_type": "display_data"
    },
    {
     "name": "stderr",
     "output_type": "stream",
     "text": [
      "INFO:root:similarity completed. 0.8073320388793945\n",
      "INFO:root:Waiting for adjacency to complete...\n",
      "INFO:root:adjacency completed. 0.8083322048187256\n",
      "INFO:root:Waiting for basic to complete...\n",
      "INFO:root:basic completed. 0.8093323707580566\n",
      "  0%|          | 136/39591 [02:44<13:57:55,  1.27s/it]"
     ]
    },
    {
     "name": "stdout",
     "output_type": "stream",
     "text": [
      "deque(['\"개와 함께한 하루\"라는 책에는 헹크라는 주인공의 지극히 개인적이고 일상적인 순간을 포착한다.', '너무 이른 아침에 눈을 떠 다시 잘까 고민하는 헹크의 사소한 모습에서부터 갑자기 지난밤 동료와 나눴던 대화가 떠올라 그 장면으로 전환하는 등 소설은 오롯이 헹크의 의식을 따라 진행된다.', '이는 우리가 일상을 살아가는 모습과 거의 흡사하다.', '별다른 사건도 일어나지 않는다.', '토요일 아침 6시에 깨어나 다음날인 일요일 아침 6시에 다시 깨어나는 동안 일어난 헹크의 하루가 전부다.', '하지만 이 소설은 그저 그런, 자칫 별 볼일 없어 보일 수 있는 인물의 사소한 일상과 내면을 보여줌으로써 인생의 의미와 삶의 환희를 되새기게 하는 놀라운 힘을 지닌다.', \"우리는 끊임없이 '내 감정을 상대방에게 이야기하고 알아달라고 갈구하는 존재'인 동시에, 처음 보는 낯선 여자에게서 욕망을 느끼기도 하는 '그저 본능에 충실한 물질'에 불과하기도 하다.\", '이 책에서 가장 큰 미덕은, 인간이란, 인생이란 의미와 무의미가 공존하는 것임을, 그러한 개개인은 서로 영원히 완벽한 타자로 남을 수밖에 없음을 한 사람의 일상을 통해서 보여준다는 것이다.', '그리고 그럼에도 불구하고 인간은 서로를 보듬을 수밖에 없다는 사실을, 따뜻하게 일깨워주고 있다는 것이다. 코로나로 인해 지구의 전 인류는 이전과는 전혀 다른 시간을 살고 있다.', '다시는 돌아가지 못할 순간들에 대한 소중함을 모든 걸 잃고 나서야 깨닫는다.', '주인공 헹크 역시 자신에게 가장 소중한 걸 잃게 되는 순간에 직면하고 나서 자신의 삶을 다시 되돌아본다.', '불행이란 무엇인가?', '행복이란 무엇인가?', '거실의 안락한 소파에서 하루를 정리한다.', '자신의 몸속에 따스한 피가 흐르고, 심장이 뛰고, 누군가를 그리워하는 이 모든 감정들은 오직 한 가지 사실을 일깨워주고 있다는 걸 깨닫게 된다.', '그건 바로, 지금, 살아 있다는 것이다.', '그리고, 지금, 살아간다는 것이다.', '지금 우리는 코로나라는 힘겨운 시간을 통과하고 있다.', '우리는 결코 희망을 놓지 않고 일상의 소중함을 느끼며 감사한 하루 하루를 보내야 한다.'])\n"
     ]
    },
    {
     "name": "stderr",
     "output_type": "stream",
     "text": [
      "INFO:root:Waiting for ttr to complete...\n",
      "INFO:root:ttr completed. 0.6360001564025879\n",
      "INFO:root:Waiting for similarity to complete...\n"
     ]
    },
    {
     "data": {
      "application/vnd.jupyter.widget-view+json": {
       "model_id": "718035c6c00948c2a50246cd9ed9079e",
       "version_major": 2,
       "version_minor": 0
      },
      "text/plain": [
       "Batches:   0%|          | 0/1 [00:00<?, ?it/s]"
      ]
     },
     "metadata": {},
     "output_type": "display_data"
    },
    {
     "data": {
      "application/vnd.jupyter.widget-view+json": {
       "model_id": "14dfbed5ef034acf989232fff6ead707",
       "version_major": 2,
       "version_minor": 0
      },
      "text/plain": [
       "Batches:   0%|          | 0/1 [00:00<?, ?it/s]"
      ]
     },
     "metadata": {},
     "output_type": "display_data"
    },
    {
     "name": "stderr",
     "output_type": "stream",
     "text": [
      "INFO:root:similarity completed. 0.7699997425079346\n",
      "INFO:root:Waiting for adjacency to complete...\n",
      "INFO:root:adjacency completed. 0.7720000743865967\n",
      "INFO:root:Waiting for basic to complete...\n",
      "INFO:root:basic completed. 0.7720000743865967\n",
      "  0%|          | 137/39591 [02:45<14:25:23,  1.32s/it]"
     ]
    },
    {
     "name": "stdout",
     "output_type": "stream",
     "text": [
      "deque(['우리는 공기와 물의 소중함을 잘 알고 있다.', '하지만 평상시에 그 사실을 인지하고 있는 사람은 많지 않을 것이다.', '우리가 익숙함에 속아 소중함을 잃은 것은 아닐까 라고 생각한다.', '물이 없는 사막에서 며칠 고생하면 물의 소중함을 알 것이고 물속에 잠수해 보면 공기의 소중함을 절로 알게 될 것이다.', '인간 관계에서도 이 명제가 성립한다고 생각한다.', '내 주변의 가족과 소중한 사람들에 대해서 우리는 고마워하고 소중해 하고 있는가 생각해 본다.', '마음으로라도 고맙고 소중하다고 생각한다면 상황이 조금 낫지 싶다.', '하지만 주변의 가족이나 소중한 사람이 알수 있도록 느낄수 있도록 따뜻한 말 한마디 한마디 한적이 최근에 얼마나 있는 가 생각해 보자.', '우리는 바쁘다는 핑계로 학업스트레스로 힘들다는 핑계로 나를 지지해 주시는 부모님께 짜증과 신경질을 내고 사랑한다는 말도 부끄럼과 쑥스러움에 잘하지 못하고 내가 사랑하는 소중한 가족에게 따뜻한 말 한마디 전하지 못하고 있다.', '우리의 삶은 그리 길지 않다.', '나에게 남은 삶 동안 더 열심히 감사함과 고마움을 표현하고 사랑할 수 있는 내가 되었으면 좋겠다.', '코로나19시대에 많은 주변의 사람들이 코로나 바이러스로 인해 목숨을 잃기도 하였고 코로나19로 인한 정부의 많은 제한 방침에 많은 자영업들이 도산하고 그것에 낙담하여 자살률이 높아지고 있다고 한다.', '이로 인해 많은 가정이 해체되고 사회는 어둠속으로 잠식되어 가고 있는 지금 우리는 우리가 아직 살아 있음에 감사하고 지금 자신의 위치에서 할수 있는 본분을 다하여 사회구성원으로써 우리사회가 다시 일어설 희망이 보임에 감사하고 소소한 행복을 찾아야 할 때인거 같다.', '작은 삶의 소중한 행복이 인생을 행복하게 값지게 해준다.', '빠르게 달릴수 있는 두 다리가 건강함에 감사하고 가족들과 눈마주치고 웃을수 있음에 감사하고 아침에 학교에 가서 친구들과 웃을수 있는 일상의 소중함에 감사하고 산다면 우리의 삶의 질이 조금 더 윤택해지지 않을까 라고 생각한다.'])\n"
     ]
    },
    {
     "name": "stderr",
     "output_type": "stream",
     "text": [
      "INFO:root:Waiting for ttr to complete...\n",
      "INFO:root:ttr completed. 0.6217565536499023\n",
      "INFO:root:Waiting for similarity to complete...\n"
     ]
    },
    {
     "data": {
      "application/vnd.jupyter.widget-view+json": {
       "model_id": "3cb9f8e18131498dbe8ae5c5d5f20780",
       "version_major": 2,
       "version_minor": 0
      },
      "text/plain": [
       "Batches:   0%|          | 0/1 [00:00<?, ?it/s]"
      ]
     },
     "metadata": {},
     "output_type": "display_data"
    },
    {
     "data": {
      "application/vnd.jupyter.widget-view+json": {
       "model_id": "b8cbaf22ead44403b8321c8d432a13b4",
       "version_major": 2,
       "version_minor": 0
      },
      "text/plain": [
       "Batches:   0%|          | 0/1 [00:00<?, ?it/s]"
      ]
     },
     "metadata": {},
     "output_type": "display_data"
    },
    {
     "name": "stderr",
     "output_type": "stream",
     "text": [
      "INFO:root:similarity completed. 0.7491374015808105\n",
      "INFO:root:Waiting for adjacency to complete...\n",
      "INFO:root:adjacency completed. 0.7511377334594727\n",
      "INFO:root:Waiting for basic to complete...\n",
      "INFO:root:basic completed. 0.7511377334594727\n",
      "  0%|          | 138/39591 [02:47<14:20:52,  1.31s/it]"
     ]
    },
    {
     "name": "stdout",
     "output_type": "stream",
     "text": [
      "deque(['최근 유투브 영상을 보다가 6살 소년 카메론에 대한 동영상을 보게 되었다.', '카메론은 태어날 때부터 색맹으로 났고 3살때 유치원에서 색칠공부를 하던 중 다르다는 것을 깨달았다고 한다.', '엄마는 그런 아들에게 색보정안경을 선물했다.', '새로운 세상을 바라보며 신나하는 모습은 영상을 시청하는 이들마저 기분 좋게 하였다.', '영상을 본 후 나는 유튜브에서 다른 색맹환자들의 영상들도 찾아봤다.', '어린아이부터 70대 노인까지 처음 색을 마주한 이들의 반응은 한결 같이 모두 감동 받았으며 신이 난 아이가 되었다.', \"색맹 환자가 아닌 사람이 보았을 때 평범한 집앞 나무들이 그들에게는 '아름다운 초록'이 되었다.\", '우리가 감탄하며 보는 동물원에 있는 신기한 동물이나 아주 아름다운 절경을 사육사들이나 그 근처에서 사는 주민들은 처음보는 우리처럼 볼때마다 매번 감격하지 않을 것이다.', '이렇듯 우리에게 당연한 것들은 시간이 지나면 익숙해지게 된다.', '물건이든 생명이든 그 무엇이 되었든 말이다.', '익숙해졌다는 이야기는 우리 마음이나 몸에 익어 편해졌다는 것을 의미한다.', '익숙한 것을 잃으면 불편함을 느낀다.', '큰 불편을 겪을 수 있는 것들에 대해 익숙함과 편함을 명목삼아 등한시하게 되면 그것들은 나에게서 멀어지게 된다.', '나의 할머니는 귀가 좋지 않다.', '할머니가 잘 듣지 못하니 가족들은 할머니에게 얘기할 때 더욱 더 큰 소리로 얘기하곤 한다.', '그리고 듣지 못함을 때론 답답해 하기도 한다.', '나는 할머니에게 얘기할 때 소리를 크게 내지 않는다.', '그래도 할머니는 나의 이야기를 잘 듣는다.', '나는 할머니에 귀가 더 무리가지 않게 적당한 소리로 할머니의 눈과 나의 입을 맞춰 얘기를 해드린다.', '의식적으로 나의 익숙함인 할머니와 당신의 불편인 귀를 존중한다.', '그런 인련의 의식이 끝나면 우리는 소통한다.', '그것들을 존중하지 못하면 당신의 귀는 불편함을 느낄 것이고 우리는 소통하지 못해 답답함을 느낄 것이다.', '나의 익숙함을 당연하게 여기지 않고 상대방의 불편함을 존중한다면 더 좋은 삶이 될 것이다.', '감사는 소중함을 잃게 되었을 때 소중한 순간을 기억하기 위함이고 소중함을 잃지 않기 위해 하는 행동과 같다.', '잃지 않고 기억하기 위해 더욱 내가 가진 것들, 익숙해진 것들에 대해 감사하고 아껴주어야 겠다.'])\n"
     ]
    },
    {
     "name": "stderr",
     "output_type": "stream",
     "text": [
      "INFO:root:Waiting for ttr to complete...\n",
      "INFO:root:ttr completed. 0.6592013835906982\n",
      "INFO:root:Waiting for similarity to complete...\n"
     ]
    },
    {
     "data": {
      "application/vnd.jupyter.widget-view+json": {
       "model_id": "69add7be7c114c40a0d01f811235c1de",
       "version_major": 2,
       "version_minor": 0
      },
      "text/plain": [
       "Batches:   0%|          | 0/1 [00:00<?, ?it/s]"
      ]
     },
     "metadata": {},
     "output_type": "display_data"
    },
    {
     "data": {
      "application/vnd.jupyter.widget-view+json": {
       "model_id": "d34c691f4e3d4cc3be4fcd7fc35c80bf",
       "version_major": 2,
       "version_minor": 0
      },
      "text/plain": [
       "Batches:   0%|          | 0/1 [00:00<?, ?it/s]"
      ]
     },
     "metadata": {},
     "output_type": "display_data"
    },
    {
     "name": "stderr",
     "output_type": "stream",
     "text": [
      "INFO:root:similarity completed. 0.7882177829742432\n",
      "INFO:root:Waiting for adjacency to complete...\n",
      "INFO:root:adjacency completed. 0.789217472076416\n",
      "INFO:root:Waiting for basic to complete...\n",
      "INFO:root:basic completed. 0.789217472076416\n",
      "  0%|          | 139/39591 [02:48<15:01:30,  1.37s/it]"
     ]
    },
    {
     "name": "stdout",
     "output_type": "stream",
     "text": [
      "deque(['생텍쥐페리의 소설 어린 왕자는 어느 사막 한가운데에 불시착한 조종사가 행성 B612호에 사는 어린 왕자를 만나 왕자가 살던 행성의 이야기들을 나누게 되는 내용이다.', '그런데 생텍쥐페리는 어린왕자를 집필하기 전 소설속 주인공과 비슷한 일화를 겪었다고 한다.', '실제로 생텍쥐페리는 비행기 조종사였는데 그가 어느날 비행기를 몰고 상공을 날다가 기체결함으로 리비아 사막에 불시착했지만 5일만에 기적적 구조됐었다.', '생존에 필요한 절대 요소들이 결핍된 사막에서 어떻게 버틸수 있었던 것인지 궁금했던 기자들이 생텍쥐페리에게 물었다.', '\"당신은 아무것도 없는 사막 한가운데서 어떻게 살아남았나요?', '당신을 살아남게 한 것이 무엇입니까?\"', '이 물음에 생텍쥐페리는 이렇게 대답하였다고 한다.', '\"그건 바로 가족입니다.', '가족을 생각하며 최악의 상황을 버텼습니다.\"', '소중한 사람과 보내는 시간을 얼마나 가지고 나는 살고 있는가?', '나도 우리가족을 너무나 사랑하고 아낀다.', '하지만 요샌 부모님과 여행보다 친구들와 카페에서 수다떠는 것이 더 재미있고 저녁식사후 부모님과 디저트를 먹으며 이야기 나누는 것보다 친구들과 SNS를 하며 시간 보내는 것이 더 중요시되어지고 있다.', '내가 방문을 닫고 친구들과 소통하고 있을 때 부모님들이 닫힌 방문이나 핸드폰을 보며 고개숙인 나의 정수리를 얼마나 마음 아프게 안타깝게 바라보셨을까 라고 생각하니 죄송스럽기 한이 없다.', '부모님은 항상 내 옆에서 나를 지지해주시고 언제든지 도움을 요청하면 달려와 주시고 나에게 부족함이 없는지 계속 살펴주시는 정말 소중한 존재임에도 나는 그들이 너무 가까이에 있어서 소중함을 모르고 너무 사랑해서 표현해야 할 필요성을 못 느끼고, 언제나 함께여서 영원할 것이라고 착각하며 살아가고 있지는 않은가?', '지금이라고 나는 가까이 있는 소중한 부모님에게 \"감사합니다\"\"사랑합니다\"라고 말을 해야겠다.', '그리고 앞으로 그들과의 익숙하지만 소중한 시간을 나누어 행복은 공유해야 겠다.', '이글을 쓴 이시간이 나의 삶의 우선순위를 깨우쳐 주는 중요한 스승이 되고 소소한 행복을 찾는 기회를 주었다.'])\n"
     ]
    },
    {
     "name": "stderr",
     "output_type": "stream",
     "text": [
      "INFO:root:Waiting for ttr to complete...\n",
      "INFO:root:ttr completed. 0.608999490737915\n",
      "INFO:root:Waiting for similarity to complete...\n"
     ]
    },
    {
     "data": {
      "application/vnd.jupyter.widget-view+json": {
       "model_id": "386d08bd1f394fcf833cf2f96af96bb4",
       "version_major": 2,
       "version_minor": 0
      },
      "text/plain": [
       "Batches:   0%|          | 0/1 [00:00<?, ?it/s]"
      ]
     },
     "metadata": {},
     "output_type": "display_data"
    },
    {
     "data": {
      "application/vnd.jupyter.widget-view+json": {
       "model_id": "140cc62361e143c8aa0951978e9e6869",
       "version_major": 2,
       "version_minor": 0
      },
      "text/plain": [
       "Batches:   0%|          | 0/1 [00:00<?, ?it/s]"
      ]
     },
     "metadata": {},
     "output_type": "display_data"
    },
    {
     "name": "stderr",
     "output_type": "stream",
     "text": [
      "INFO:root:similarity completed. 0.7180111408233643\n",
      "INFO:root:Waiting for adjacency to complete...\n",
      "INFO:root:adjacency completed. 0.7190113067626953\n",
      "INFO:root:Waiting for basic to complete...\n",
      "INFO:root:basic completed. 0.7200107574462891\n",
      "  0%|          | 140/39591 [02:49<14:53:03,  1.36s/it]"
     ]
    },
    {
     "name": "stdout",
     "output_type": "stream",
     "text": [
      "deque([\"살아가다 보니 인간관계에 대해 무언가를 느끼고, 바깥에서 의 내 '이미지'라는게 생기고, 그거에 맞추어 행동하고 있는 나 자신이 생긴다.\", \"그리고 다른 이들에게 보이고 싶지 않은 내면 속의 내 모습이 있는데, 가만히 생각해보니 나는 나의 내면 속 내 모습을 내 가족들에게는 '당신들에게만 내가 솔직해 질 수 있어요'라는 이유를 말하며 그들에게 나의 속내를 모두 내보였던 것 같다.\", '사실 타인에게 그런 모습들을 스스로 보여주고 싶어하지 않는 이유는 남들이 그런 행동을 달가워하지 않을 것이고 이런 행동을 하면 사람들이 싫어할 수 도 있다는 것을 뻔히 알기 때문이다.', \"나의 그런 행동을 가족들 또한 달가워하지 않는 것과 가족들이라고 다른 사람들과 다 다르지 않을 걸 뻔히 알면서도 '나는 당신들 앞에서 솔직한 거야.' 라고 말하면서 행한 행동과 나의 태도들이 어찌 보면 참 이기적이고 폭력적인 행동이진 않았을까 싶은 생각이 든다.\", \"다른 사람들 앞에서는 안 울고 화 안내면서 가족들 앞에서는 조금만 억울해도 울거나 화내며 극도의 감정기복을 보이며 감정적으로 굴었고, 타인들이 내 의견과 다른 의견을 내비치면 속으로 '그럴 수 있지, 나와 다른 거지 틀린 게 아니지'하며 이해하려고 노력하고 그저 웃던 내가 가족들과 대화를 하다가 다른 의견이 나오면 고집을 부리고, 반박하려 들며 방어기제를 날카롭게 내세우기 일쑤였다.\", '소중한 사람들일수록 더 잘 챙겨야 하고 더 조심해야 하는 것을 내가 잊고 지낸건 아닌가 싶다.', '익숙함에 속아 소중함을 잃지 말아야 한다.', '앞으로 가족들에게 더 세심하게 잘 하고 그들에게 사랑한다고 이야기 해야 겠다.'])\n"
     ]
    },
    {
     "name": "stderr",
     "output_type": "stream",
     "text": [
      "INFO:root:Waiting for ttr to complete...\n",
      "INFO:root:ttr completed. 0.5639970302581787\n",
      "INFO:root:Waiting for similarity to complete...\n"
     ]
    },
    {
     "data": {
      "application/vnd.jupyter.widget-view+json": {
       "model_id": "99fa6f8f1d7b4a74b93b07395f66ee27",
       "version_major": 2,
       "version_minor": 0
      },
      "text/plain": [
       "Batches:   0%|          | 0/1 [00:00<?, ?it/s]"
      ]
     },
     "metadata": {},
     "output_type": "display_data"
    },
    {
     "data": {
      "application/vnd.jupyter.widget-view+json": {
       "model_id": "e771a4d85a27433995a47b7a102ac529",
       "version_major": 2,
       "version_minor": 0
      },
      "text/plain": [
       "Batches:   0%|          | 0/1 [00:00<?, ?it/s]"
      ]
     },
     "metadata": {},
     "output_type": "display_data"
    },
    {
     "name": "stderr",
     "output_type": "stream",
     "text": [
      "INFO:root:similarity completed. 0.7989974021911621\n",
      "INFO:root:Waiting for adjacency to complete...\n",
      "INFO:root:adjacency completed. 0.7999975681304932\n",
      "INFO:root:Waiting for basic to complete...\n",
      "INFO:root:basic completed. 0.7999975681304932\n",
      "  0%|          | 141/39591 [02:51<14:12:55,  1.30s/it]"
     ]
    },
    {
     "name": "stdout",
     "output_type": "stream",
     "text": [
      "deque(['우리는 늘 익숙함에 속아 소중함을 잊고 살아가고 있다.', '언제나 항상 곁에 있기에 소중함을 당연함으로 느끼며 살아가고 있다.', '필요하면 언제든지 금방 찾을 수 있기에 그것이 얼마나 중요한것인지도 잊어버리곤 한다.', '소중하다고 생각하지만 언제나 필요할 때면 무조건 나의 편이 되어주기에 가끔은 힘들고 지치고 투정을 부려도 모든것을 받아주기에 우리는 항상 멀어지고 난 후에야 알게 된다.', '친구의 소중함은 혼자 있을 때, 연인의 소중함은 헤어졌을 때, 부모의 소중함은 돌아가셨을 때 느낀다.', '가장 소중하고 나에게 필요한 존재는 왜 가장 극단적인 상황이와야 그 소중함을 느끼는가?', '나도 이런 극단적인 상황에 닥친 적이 있다.', '초등학교 때부터 정말 친하게 지내온 절친이 있는데 그친구와는 같은 중학교 고등학교 까지 진학하게 되면서 쌍둥이처럼 붙어다니게 되었다.', '다른 친구들조차도 그 친구를 보면 나의 부재를 물어보고 나를 보면 그친구의 부재를 물을 정도로 우리는 같이 붙어 다녔다.', '등교, 하교까지 항상 옆에서 나의 이야기를 들어주는 조용한 내친구는 여름에 미국으로 유학을 갔다.', '매일 매일 같이 지내온 친구가 떠나서 2학기에 혼자 학교에 등교할 때 왜이리 쑥스럽고 친구들끼리 팔짱을 끼고 다니는 친구들만 봐도 왜이리 눈물이 나는지..', '친구가 유학 간다고 했을 때만 해도 잘 다녀오라고 씩씩하게 대답했지만 이렇게 그 친구의 빈자리가 클줄을 몰랐다.', '이제 학교가는 것도 재미가 없고 학교 생활에서도 그 친구의 빈자리가 너무 크게 다가 온다.', '있을 때 잘해 줄걸 이라고 후회를 해도 이미 친구는 떠났고 지금 이 시간에 내옆에 존재 하지 않는다.', '나는 친구에게 화상통화를 했다.', '친구 또한 내가 너무 보고 싶고 바뀐 환경속에서 기대도 있지만 적응하기 힘들다고 했다.', '우리는 다음의 만남을 기약하며 통화를 끝냈다.', '항상 곁에서 나를 응원해 주고 지지해주는 사람이라고 해서 소중함을 느끼지 못한다면 그 사람을 잃고 후회하지 말고 감사하게 생각하라고 말해주고 싶다.'])\n"
     ]
    },
    {
     "name": "stderr",
     "output_type": "stream",
     "text": [
      "INFO:root:Waiting for ttr to complete...\n",
      "INFO:root:ttr completed. 0.6298940181732178\n",
      "INFO:root:Waiting for similarity to complete...\n"
     ]
    },
    {
     "data": {
      "application/vnd.jupyter.widget-view+json": {
       "model_id": "9d1e2a18d3f848778b0b9412f3b70785",
       "version_major": 2,
       "version_minor": 0
      },
      "text/plain": [
       "Batches:   0%|          | 0/1 [00:00<?, ?it/s]"
      ]
     },
     "metadata": {},
     "output_type": "display_data"
    },
    {
     "data": {
      "application/vnd.jupyter.widget-view+json": {
       "model_id": "dc8e7f7c534f482bae782a02fc92286c",
       "version_major": 2,
       "version_minor": 0
      },
      "text/plain": [
       "Batches:   0%|          | 0/1 [00:00<?, ?it/s]"
      ]
     },
     "metadata": {},
     "output_type": "display_data"
    },
    {
     "name": "stderr",
     "output_type": "stream",
     "text": [
      "INFO:root:similarity completed. 0.6938912868499756\n",
      "INFO:root:Waiting for adjacency to complete...\n",
      "INFO:root:adjacency completed. 0.6948909759521484\n",
      "INFO:root:Waiting for basic to complete...\n",
      "INFO:root:basic completed. 0.6958916187286377\n",
      "  0%|          | 142/39591 [02:52<14:01:54,  1.28s/it]"
     ]
    },
    {
     "name": "stdout",
     "output_type": "stream",
     "text": [
      "deque(['소중한 경험은 누구에게나 존재한다.', '사람마다 소중하게 느끼는건 모두 다를 것이다.', '누군가에겐 가족일수도, 누군가에겐 애완동물일수도있으며 누군가에겐 거창하지 않지만 그만의 사연이 담긴 컵일수도 있다.', '그리고 그 소중함은 내 의지와 상관없이 사라지기도 한다.', '원하지 않던 소중함을 떠나보낸 사람들에게는 위로가, 아직 손에 쥐고있는 사람들에게는 그것을 더욱 소중하게 대해주길 바라며 나의 이야기를 적어나가본다.', '나에게 있어 소중했던 존재는 강아지였다.', '작고 부드러운 존재가 내 품에 처음 안겼을 때 난 마음을 빼앗겼다.', '너무 귀엽고 소중한 존재.', '말이 통하지 않아도 대화가 통하는 것만 같았고 내가 힘들때나 기쁠때나 내 곁을 지켜주던 작은 아이.', '나의 가족이다.', '지금은 곁에 없는 이 아이를 생각할 때면 너무나도 그립지만 나와 함께 지낼 수 있어서 고맙고 행복했다.', '해맑게 뛰어놀던 산책을 좋아하는 아이였는데 갈수록 힘없이 잠만자는 모습을 보니 건강할 때 산책가자고 조르던 아이를 피곤하다는 이유로 외면하던 내가 미웠다.', '왜 소중함은 잃고서야 깨닫는지..', '비슷한 후회를 하는 사람들도 있을것이고 나를 비난하는 사람도 있을거다.', '그래도 내 경험을 이야기하는 것은 나를 통해 다른 누군가 후회하는 사람이 적어지길 바라는 마음에서다.', '무지개 위를 달리고있을 나의 소중한 동생!', '아프지 말고 맛있는거도 많이 먹고있어야해!', '덕분에 행복했어 사랑하는 우리 강아지에게 이 글을 바칩니다.'])\n"
     ]
    },
    {
     "name": "stderr",
     "output_type": "stream",
     "text": [
      "INFO:root:Waiting for ttr to complete...\n",
      "INFO:root:ttr completed. 0.5723142623901367\n",
      "INFO:root:Waiting for similarity to complete...\n"
     ]
    },
    {
     "data": {
      "application/vnd.jupyter.widget-view+json": {
       "model_id": "83b646514a154489a964bd7426afe407",
       "version_major": 2,
       "version_minor": 0
      },
      "text/plain": [
       "Batches:   0%|          | 0/1 [00:00<?, ?it/s]"
      ]
     },
     "metadata": {},
     "output_type": "display_data"
    },
    {
     "data": {
      "application/vnd.jupyter.widget-view+json": {
       "model_id": "69ec1ec87b8b4c10a792e52cfd7f2495",
       "version_major": 2,
       "version_minor": 0
      },
      "text/plain": [
       "Batches:   0%|          | 0/1 [00:00<?, ?it/s]"
      ]
     },
     "metadata": {},
     "output_type": "display_data"
    },
    {
     "name": "stderr",
     "output_type": "stream",
     "text": [
      "INFO:root:similarity completed. 0.684314489364624\n",
      "INFO:root:Waiting for adjacency to complete...\n",
      "INFO:root:adjacency completed. 0.6853113174438477\n",
      "INFO:root:Waiting for basic to complete...\n",
      "INFO:root:basic completed. 0.6863114833831787\n",
      "  0%|          | 143/39591 [02:53<13:43:28,  1.25s/it]"
     ]
    },
    {
     "name": "stdout",
     "output_type": "stream",
     "text": [
      "deque(['어릴 때 저를 주 양육해주시는 분은 저의 할머니셨습니다.', '부모님께서는 늘 일터에 나가시느라 학교를 다녀오고 나서 간식을 챙겨주시는 분도 식사를 챙겨주시는 분도 늘 저의 할머니이셨습니다.', '할아버지께서는 저의 남동생을 더 예뻐 해주셨지만 할머니께서는 늘 인사성도 밝고 야무지다며 늘 예뻐 해주셨습니다.', '그리고 늘 저의 칭찬을 주위 분들에게 아끼지 않으셨지요.', '부모님의 바쁘심을 대신해서 늘 식사를 그리고 간식을 챙겨주시는 그런 할머니께서 갑작스레 중풍으로 쓰러지셨습니다.', '그런데 그런 할머니의 모습이 어린나이에 너무 부끄럽고 창피하였습니다.', '그래서 그게 너무 싫었습니다.', '늘 저의 부모님처럼 저를 알뜰살뜰하게 챙겨주셨던 분이 갑자기 중풍으로 쓰러지셔서 거동조차 제대로 하실 수 없는 것도 너무 싫었습니다.', '그리고 부모님의 역할적인 부분을 도맡아 해주셨는데 그런 역할이 제대로 안된것도 너무 속상했습니다.', '그냥 당연하게 늘 제 옆에서 건강하게 저를 챙겨주실 것 같았던 할머니의 그런 병으로 인해 너무 속상했습니다.', '지금와서 생각해보니 부끄럽기도 하고 당연한게 아니라는걸 다시한번 알게되었는데 그러기에는 할머니에 대한 저희 태도가 참으로 어리석었다는 것을 알게되었습니다.', '저를 그렇게 보살펴주셨던 할머니의 소중함은 다 어디로 묻혀버리고 이런 생각과 행동을 하였는지 할머니의 소중함을 다시 되새기며 감사하는 마음으로 살아야겠습니다.', '누군가의 배려 챙김 그 소중한 마음을 꼭 기억하며 살아야겠습니다.'])\n"
     ]
    },
    {
     "name": "stderr",
     "output_type": "stream",
     "text": [
      "INFO:root:Waiting for ttr to complete...\n",
      "INFO:root:ttr completed. 0.4889998435974121\n",
      "INFO:root:Waiting for similarity to complete...\n"
     ]
    },
    {
     "data": {
      "application/vnd.jupyter.widget-view+json": {
       "model_id": "5ecab5a89e4741b88ddcfa40a2de2021",
       "version_major": 2,
       "version_minor": 0
      },
      "text/plain": [
       "Batches:   0%|          | 0/1 [00:00<?, ?it/s]"
      ]
     },
     "metadata": {},
     "output_type": "display_data"
    },
    {
     "data": {
      "application/vnd.jupyter.widget-view+json": {
       "model_id": "8ac6c7d1180a4f8682726aa09a6d808d",
       "version_major": 2,
       "version_minor": 0
      },
      "text/plain": [
       "Batches:   0%|          | 0/1 [00:00<?, ?it/s]"
      ]
     },
     "metadata": {},
     "output_type": "display_data"
    },
    {
     "name": "stderr",
     "output_type": "stream",
     "text": [
      "INFO:root:similarity completed. 0.5823562145233154\n",
      "INFO:root:Waiting for adjacency to complete...\n",
      "INFO:root:adjacency completed. 0.5833594799041748\n",
      "INFO:root:Waiting for basic to complete...\n",
      "INFO:root:basic completed. 0.5843563079833984\n",
      "  0%|          | 144/39591 [02:54<12:53:42,  1.18s/it]"
     ]
    },
    {
     "name": "stdout",
     "output_type": "stream",
     "text": [
      "deque(['늘 항상 필요하면 언제든지 금방 찾을 수 있는 어제든 연락을 하면 달려 나오던 그런 친구가 있었다.', '늘 항상 옆에서 단짝처럼 5년이 넘도록 붙어 다니던 나의 최고의 친구이다.', '그 소중함을 익숙함이라는 무지함 속에서 늦게서야 깨우치게 되었다.', '때로는 가족보다 더 가까운 비밀이야기도 편하게 털어놓을 수 있는 그런 친구이이게 더 소중했다.', '그런 친구와의 관계에서 크나큰 말실수를 하고 만 것이다.', '이미 말이란 주워담을 수도 없고 다시 되돌릴 수도 없는 그런 상황이었다.', '역시나 이번에도 별대수롭지 않게 그냥 예전처럼 내가 힘들고 지치고 투정을 부려도 늘 항상 받아주고 이해해주었던 친구였기에 그것쯤이야라고 생각을 했는데, 단순한 말한마디로 친구에게 상처가 되어 마음이 아프게 할줄이야 누가 알았겠는가?', '아직까지도 그 친구와의 관계는 서먹하고 어색하지만 그 친구의 마음이 풀릴때까지 기다리고 있는 중이다.', '별거 아니라 생각했던 나의 그 말이 친구의 입장이 되어 생각을 해보니 기분이 좋지는 않을꺼라는 생각이 들었던거다.', '그렇다.', '가족도 친구도 때로는 나의 부모님 형제들도 너무나 당연하게 받아줄꺼라는 그런 익숙함에 속아 가장 중요한 것을 잃게되리라는 것을 말이다.', '그래서 항상 말이나 행동을 할때에는 상대방의 입장에서서 기분을 생각해보고 말을 하는 것이다.', '너무 당연한것도 없다.', '그 너무나도 당연함과 익숙함에 속아 소중한 친구 가족들을 잃지말자.', '있을 때 잘 하자는 말처럼 익숙하고 소중할수록 더 신중해져야겠다는 그런 신념이 생겼다.'])\n"
     ]
    },
    {
     "name": "stderr",
     "output_type": "stream",
     "text": [
      "INFO:root:Waiting for ttr to complete...\n",
      "INFO:root:ttr completed. 0.549008846282959\n",
      "INFO:root:Waiting for similarity to complete...\n"
     ]
    },
    {
     "data": {
      "application/vnd.jupyter.widget-view+json": {
       "model_id": "80a709ae8918475882b85932ff2bac32",
       "version_major": 2,
       "version_minor": 0
      },
      "text/plain": [
       "Batches:   0%|          | 0/1 [00:00<?, ?it/s]"
      ]
     },
     "metadata": {},
     "output_type": "display_data"
    },
    {
     "data": {
      "application/vnd.jupyter.widget-view+json": {
       "model_id": "1d6a41aecd174c53bdf7d9a1a76e3be3",
       "version_major": 2,
       "version_minor": 0
      },
      "text/plain": [
       "Batches:   0%|          | 0/1 [00:00<?, ?it/s]"
      ]
     },
     "metadata": {},
     "output_type": "display_data"
    },
    {
     "name": "stderr",
     "output_type": "stream",
     "text": [
      "INFO:root:similarity completed. 0.7500078678131104\n",
      "INFO:root:Waiting for adjacency to complete...\n",
      "INFO:root:adjacency completed. 0.7510089874267578\n",
      "INFO:root:Waiting for basic to complete...\n",
      "INFO:root:basic completed. 0.7520074844360352\n",
      "  0%|          | 145/39591 [02:55<13:01:27,  1.19s/it]"
     ]
    },
    {
     "name": "stdout",
     "output_type": "stream",
     "text": [
      "deque(['늘 친숙하고 익숙한 함께해서 늘 영원할 것만 같은 그런 소중함은 친구라고 생각된다.', '늘 항상 함께여서 가까이에 있어서 당연하게 생각하고 소중함을 일깨워 주는 그런 친구말이다.', '가정에서 가족들과 함께하는 시간들 속에서의 소중함도 있지만, 학교에서 늘 항상 웃고 떠들고 모든 이야기를 공유하는 그런 친구들과의 소중함을 절실하게 알게 해주었다.', '그런데 그 늘 당연하고 함께했던 친구에게 어쩌면 너무나도 익숙함에 친구에게 상처가 되는 말을 행동을 함에 뼈저린 후회를 하고 있다.', '그냥 모든 것을 다 이해하고 넘어갈 것 같았던 친구도 나의 행동에 대한 것을 이해할수 없는 눈치였던 것이다.', '저의 일방적인 실수로 인해 친구에게 상처를 주면서 모든 것들에 대한 소중함 그리고 말과 행동을 신중하게 해야 함을 깨닳았다.', '지금와서 생각해보니 나의 행동으로 친구가 기분이 나쁘다라고 이해가 되고 미안하지만 그저 그냥 편하다고 생각하고 행동을 한 나의 모습을 다시 한 번 반성하게 만들었다.', '그리고 아무리 가까운 친한 사이일수록 행동이나 말을 더 신중하게 해야 한다고 큰 교훈을 얻었다.', '물론 지금은 친구와의 관계가 회복이 었지만 그런 관계 회복을 위해서 나의 행동을 반성을 하고 친구에게 진정성을 담아 편지를 써서 친구의 마음을 풀어주었다.', '늘 명심해야 하겠다.', '가깝고 친한 사이일수록 행동 말을 조심해야 한다는 것을 가장 가까이에서 소중함을 잃을수 있다는걸 절대 잊지말아야겠다.'])\n"
     ]
    },
    {
     "name": "stderr",
     "output_type": "stream",
     "text": [
      "INFO:root:Waiting for ttr to complete...\n",
      "INFO:root:ttr completed. 0.5672016143798828\n",
      "INFO:root:Waiting for similarity to complete...\n"
     ]
    },
    {
     "data": {
      "application/vnd.jupyter.widget-view+json": {
       "model_id": "77d98f1e1ee2486287fe5074a52965c3",
       "version_major": 2,
       "version_minor": 0
      },
      "text/plain": [
       "Batches:   0%|          | 0/1 [00:00<?, ?it/s]"
      ]
     },
     "metadata": {},
     "output_type": "display_data"
    },
    {
     "data": {
      "application/vnd.jupyter.widget-view+json": {
       "model_id": "34f5836576684820827e48a89a6343dd",
       "version_major": 2,
       "version_minor": 0
      },
      "text/plain": [
       "Batches:   0%|          | 0/1 [00:00<?, ?it/s]"
      ]
     },
     "metadata": {},
     "output_type": "display_data"
    },
    {
     "name": "stderr",
     "output_type": "stream",
     "text": [
      "INFO:root:similarity completed. 0.6732017993927002\n",
      "INFO:root:Waiting for adjacency to complete...\n",
      "INFO:root:adjacency completed. 0.6742017269134521\n",
      "INFO:root:Waiting for basic to complete...\n",
      "INFO:root:basic completed. 0.6742017269134521\n",
      "  0%|          | 146/39591 [02:56<12:34:06,  1.15s/it]"
     ]
    },
    {
     "name": "stdout",
     "output_type": "stream",
     "text": [
      "deque(['저는 17년을 살아보면서 크게 두가지 사례가 있었는데, 첫 번째는 어렸을 때부터 친했던 친구에 대한 이야기입니다.', '저는 초등학교때부터 친했던 이성친구가 있었습니다.', '그 때에 저는 그 친구 말고는 거의 동성 친구들 밖에 없었는데 그때에 그 친구랑은 많이 친했습니다.', '너무 오래전이라 무슨 이유로 처음 친해지게 되었는지는 기억이 나지 않지만 초등학교 6학년때 같은 학원을 다니게 되었고 그때부터 서로 붙어다녔습니다.', '학교에서도 같이 다니고 서로 친한 사이였습니다.', '그 친구는 표현이 참 적극적이였습니다.', '중학교1학년 때부터는 복도에서 만나면 오버하면서 이름을 부르며 인사를 했고 가끔은 다른 얘들이 보는 앞에서 갑자기 껴안기도 했을 정도입니다.', '그래도 저는 이성으로 좋아하지는 않았던 것 같습니다.', '그 친구는 정말 엄청 예쁘긴 헀지만 워낙 오래전부터 알고지내다 보니 그런 감정이 들지는 않았습니다.', '제가 처음 이성교제를 했을 때에도 이 친구랑은 계속 친하게 지냈었던 적도 있어서 더욱 서로에 관계에 대한 의심은 하지 않았었습니다.', '중학교 2학년까지 계속 친하게 지내다가 코로나가 터졌고 오랫동안 만나지 않았습니다.', '이 친구는 이때쯤 학원도 그만두었고 온라인 수업을 하기 시작하니 만날 일도 없어졌습니다.', '그때 저는 그 친구 연락처가 없었다는 것을 알게 되었습니다.', '지금껏 몇 년간 제가 먼저 연락을 한 적이 없었던 것입니다.', '그 후 서로 다른 고등학교로 가게 되었습니다.', '항상 옆에 있어주었고 매번 격하게 반응해주곤 하던 친구가 어느샌가 없어졌다는 것을 깨닳았을 때에는 이미 연락할거리도 없고 오랜 시간이 지난 뒤였습니다.', '하도 오버하면서 반겨주던 친구였다보니 그 친구가 아닌 다른 친구들과 놀아도 그 친구에 빈자리가 자꾸만 생각납니다.', '두 번째 사례는 제 할아버지에 관한 것입니다.', '저는 교회를 다닙니다.', '저희 할아버지도 같은 교회를 다니셨었는데 할아버지께선 제가 예배중인 곳까지 오셔서 제 볼에 입을 맞추시곤 하셨습니다.', '저는 그때 초등학생이였고 할아버지가 친구들 앞에서 그런 행동을 하시는게 너무 부끄러웠습니다.', '그래서 매번 할아버지가 오실 떄 즈음 미리 나가 친구들이 못보는 복도에서 기다렸다가 인사를 들였습니다.', '전 그때도 할아버지를 사랑했지만 그래도 다른 친구들 앞에서 애정행각을 보이기에는 창피했습니다.', '할아버지는 제가 초등학교 6학년 때 즈음 돌아가셨습니다.', '병원에 몇 달간 누워계시다가 세상을 떠나셨는데 돌아가시기 전부터 어른들이 제 할아버지만큼 저를 사랑해주는 분이 없다고 말씀하시곤 했던 것들이 무슨뜻인지 그때까지도 실감이 나지 않았습니다.', '그러나 매번 일주일에 한번 할머니네 집에 들를떄마다 할아버지의 자리가 비어있고 그 집앞에 할아버지에 구두가 놓여있고 제가 교회에 있을 때 더 이상 아무도 제게 친구들 앞에서 입을 맞추는 사람이 없다는 것을 점차 느끼게 되었습니다', '어렸을 때 잘해드리지 못헀던 순간들이 계속 떠올랐고 항상 받던 사랑을 받지 못하게 되었을 떄 비로소 소중한 사람이셨고 소중한 순간들이였다는 것을 깨닳게 되었습니다.', '저는 그 이후로 부모님과 할머니께 효도하려 노력합니다 앞으로도 잊지 않고 계속 최선을 다해 효도할 수 있다면 좋겠습니다.'])\n"
     ]
    },
    {
     "name": "stderr",
     "output_type": "stream",
     "text": [
      "INFO:root:Waiting for ttr to complete...\n",
      "INFO:root:ttr completed. 0.6400182247161865\n",
      "INFO:root:Waiting for similarity to complete...\n"
     ]
    },
    {
     "data": {
      "application/vnd.jupyter.widget-view+json": {
       "model_id": "3e4fb83115854d6888cb715552465c36",
       "version_major": 2,
       "version_minor": 0
      },
      "text/plain": [
       "Batches:   0%|          | 0/1 [00:00<?, ?it/s]"
      ]
     },
     "metadata": {},
     "output_type": "display_data"
    },
    {
     "data": {
      "application/vnd.jupyter.widget-view+json": {
       "model_id": "a2b7c4032f1643f88337faff147766c3",
       "version_major": 2,
       "version_minor": 0
      },
      "text/plain": [
       "Batches:   0%|          | 0/1 [00:00<?, ?it/s]"
      ]
     },
     "metadata": {},
     "output_type": "display_data"
    },
    {
     "name": "stderr",
     "output_type": "stream",
     "text": [
      "INFO:root:similarity completed. 0.7948527336120605\n",
      "INFO:root:Waiting for adjacency to complete...\n",
      "INFO:root:adjacency completed. 0.7968530654907227\n",
      "INFO:root:Waiting for basic to complete...\n",
      "INFO:root:basic completed. 0.7968530654907227\n",
      "  0%|          | 147/39591 [02:58<14:17:55,  1.31s/it]"
     ]
    },
    {
     "name": "stdout",
     "output_type": "stream",
     "text": [
      "deque(['고등학교 1학년의 나는 인생에 영원히 남는 것은 무엇일지 고민을 많이 했고 방황을 많이 했던 것 같다.', '돈도, 인간관계도, 사랑도, 성적도 그 무엇도 나는 아직 영원히 남는다고 생각하지 않는다.', '돌이켜보면. 난 영원히 남는 것에 집착하다가 그 순간의 즐거움과 소중함을 잊어버린 것 같다.', '내가 영원히 남는 것만을 좇으며 다른 것은 등한시하게 된 이유는 세상의 모든 것이 허무해졌다고 느꼈기 때문이다.', '믿었던 친구에게 비밀을 말했지만 배신당해 상처를 입었던 적이 있었다.', '인간관계란 영원하지 않고 일회성이라고 생각해 주변의 모든 이들에게 벽을 치고 밀어냈다.', '지금은 그것만큼 미련한 행동이 또 없는 것 같다.', '지금의 생각은 순간순간의 소중함을 알고, 그것을 바탕으로 관계를 즐기는 것이다.', '애초에 인간관계, 능력, 사랑 등등 내가 가지고 싶고 발전시키고 싶은 무언가는 시시각각 변화한다.', '그 예로 초등학교, 중학교, 고등학교의 나는 매우 다르다.', '외형뿐만 아니라 내 생각과 내면도 변화했고 무엇보다 주어진 외부 환경이 많이 변화했다.', '그렇기에 그저 순간순간마다 가치의 우선도와 중요도도 변화했다.', '나는 그저 지금에 최선을 다하는 것이 옳다는 생각이 든다.', '어쩌면 내가 지금 내 할 일, 내 친구들, 내 가족들을 옆에 두고 영원을 좇았던 것이야말로 익숙함에 속아 소중함을 잃어버린 것이 아니었나 되새겨본다.'])\n"
     ]
    },
    {
     "name": "stderr",
     "output_type": "stream",
     "text": [
      "INFO:root:Waiting for ttr to complete...\n",
      "INFO:root:ttr completed. 0.5654468536376953\n",
      "INFO:root:Waiting for similarity to complete...\n"
     ]
    },
    {
     "data": {
      "application/vnd.jupyter.widget-view+json": {
       "model_id": "8a887e7d8db34d2e92901be23f94c571",
       "version_major": 2,
       "version_minor": 0
      },
      "text/plain": [
       "Batches:   0%|          | 0/1 [00:00<?, ?it/s]"
      ]
     },
     "metadata": {},
     "output_type": "display_data"
    },
    {
     "data": {
      "application/vnd.jupyter.widget-view+json": {
       "model_id": "ba4ba6e7abf24626abe37585b063289b",
       "version_major": 2,
       "version_minor": 0
      },
      "text/plain": [
       "Batches:   0%|          | 0/1 [00:00<?, ?it/s]"
      ]
     },
     "metadata": {},
     "output_type": "display_data"
    },
    {
     "name": "stderr",
     "output_type": "stream",
     "text": [
      "INFO:root:similarity completed. 0.655648946762085\n",
      "INFO:root:Waiting for adjacency to complete...\n",
      "INFO:root:adjacency completed. 0.6566483974456787\n",
      "INFO:root:Waiting for basic to complete...\n",
      "INFO:root:basic completed. 0.6566483974456787\n",
      "  0%|          | 148/39591 [02:59<13:35:16,  1.24s/it]"
     ]
    },
    {
     "name": "stdout",
     "output_type": "stream",
     "text": [
      "deque(['나는 최근에 중학교 친구랑 절교를 하였다.', '그 이유는 내가 그 친구에게 너무 많은 신세와 잘못을 지었기 때문이다.', '그래서 지금도 그 친구와는 연락도 안하고 얘기도 하지 않는다.', '지금 생각해보면 그 친구한테 너무 고맙다.', '나에게 친구가 뭔지 정확하게 알려줬다.', '근데 지금 나는 소중한 그 친구 한명을 잃었던 경험이 제일 힘들었다.', '그 친구에게 내가 너무나 많은 잘못을 했고, 내가 나만 생각해서 그 친구의 감정 기분을 생각하지도 않았었다.', '그 친구가 날 지금까지 친구로 생각해주고 도와주고 믿어주고 챙겨준게 너무 고마웠다.', '하지만 그 친구와 친구를 그만하고나서 부터 내가 그 친구의 많은 도움이 끊기니까 많이 힘들었고, 생활하는데 어려웠었다.', '하지만 그 친구가 나와 절교하고 나서부터 행복해지는걸 보고 아..내가 그 친구를 얼마나 힘들게 했는지 알수 있었다.', '그래서 지금 느끼는 생각은 있을때 잘해야 한다는 말이 뭔 말인지 알았다.', '앞으로 그 친구를 생각해서라도 더 열심히 살것이고, 그 친구한테는 미안하지만 그 친구와 친구를 그만하고 나서부터 내 생활 습관을 고칠수 있었다.', '그리고 또 다른 소중함을 잃었던 경험은 소방관(119구급대원)분들이 순직 하셨을 때다.', '대한민국에 소중한 소방공무원 이자 한 가정의 가장 한 부모의 자녀 누군가의 아들딸일텐데 일하다 순직하셔서 엄청난 소중한 사람을 잃었다.'])\n"
     ]
    },
    {
     "name": "stderr",
     "output_type": "stream",
     "text": [
      "INFO:root:Waiting for ttr to complete...\n",
      "INFO:root:ttr completed. 0.5759999752044678\n",
      "INFO:root:Waiting for similarity to complete...\n"
     ]
    },
    {
     "data": {
      "application/vnd.jupyter.widget-view+json": {
       "model_id": "cd5570271f0c4f12ab6a5a067fb57e35",
       "version_major": 2,
       "version_minor": 0
      },
      "text/plain": [
       "Batches:   0%|          | 0/1 [00:00<?, ?it/s]"
      ]
     },
     "metadata": {},
     "output_type": "display_data"
    },
    {
     "data": {
      "application/vnd.jupyter.widget-view+json": {
       "model_id": "060017666c6046949f2ab91d994ed802",
       "version_major": 2,
       "version_minor": 0
      },
      "text/plain": [
       "Batches:   0%|          | 0/1 [00:00<?, ?it/s]"
      ]
     },
     "metadata": {},
     "output_type": "display_data"
    },
    {
     "name": "stderr",
     "output_type": "stream",
     "text": [
      "INFO:root:similarity completed. 0.6860005855560303\n",
      "INFO:root:Waiting for adjacency to complete...\n",
      "INFO:root:adjacency completed. 0.687000036239624\n",
      "INFO:root:Waiting for basic to complete...\n",
      "INFO:root:basic completed. 0.6879968643188477\n",
      "  0%|          | 149/39591 [03:00<13:08:39,  1.20s/it]"
     ]
    },
    {
     "name": "stdout",
     "output_type": "stream",
     "text": [
      "deque(['일단 난 평범한 축구랑 친구들과 노는것을 좋아하던 평범한 초등학생이였다.', '하지만 축구를 하먄서 축구를 더 잘하고 싶다는 욕망이 커졌고 tv를 보면서 보았던 축구선수 들이 나의 동경의 대상이었다.', '그러다 그중 아버지의 지인이 축구를 해보는게 좋을거 같다고 추천을 해주셨고 그로 나는 부모님의 반대를 무릅쓰고 축구를 시작 하게 되었다.', '처음에는 새로운 친구들과형들을 만나면서 축구를 배우니 즐겁고 재밌었다.', '그렇게 친구들과 대회도 나가서 우승도 하고 지기도 하면서 축구선수가 되기 위한 생활를 하였다.', '부모님도 처음에는 반대하셨지만 점점 내가 축구를 진심으로 하기 시작한 후로 나를 열심히 서포트 해주셨다.', '그래도 고된 훈련때문에 그만 두고 싶을때도 있었지만 지금 그만 두면 내가 나중에 후회 할것만 같았다.', '그렇게 축구를 배운지 3년이 되고 곧 졸없할 나이가 되자 중학교 축구부에 스카우트가 오고 하는 상황이었다.', '하지만 점점 내가 축구를 그만 두고 공부를 하겠으면 좋은 어머니와 내가 선택하여 내가 원하는 생활을 하기 바라는 아버지의 갈등이 심해졌다.', '나는 그 갈등이 고조 되기 전에 생각 해야만 했다.', '내가 축구를 그만 둘지 안 그만둘지 처음에는 축구를 그만 두기 싫었다.', '하지만 점점 내가 축구를 해서 성공을 할수 있을까 내가 원하던 축구선수가 될 수있을까 생각 했다.', '결국 나는 내가 처음으로 하고 싶었던 축구를 그만 두게 되었다.'])\n"
     ]
    },
    {
     "name": "stderr",
     "output_type": "stream",
     "text": [
      "INFO:root:Waiting for ttr to complete...\n",
      "INFO:root:ttr completed. 0.6079995632171631\n",
      "INFO:root:Waiting for similarity to complete...\n"
     ]
    },
    {
     "data": {
      "application/vnd.jupyter.widget-view+json": {
       "model_id": "5d755b12e9d247358df2aecd29a22d93",
       "version_major": 2,
       "version_minor": 0
      },
      "text/plain": [
       "Batches:   0%|          | 0/1 [00:00<?, ?it/s]"
      ]
     },
     "metadata": {},
     "output_type": "display_data"
    },
    {
     "data": {
      "application/vnd.jupyter.widget-view+json": {
       "model_id": "eb74509cd805402287a406003e4c6e31",
       "version_major": 2,
       "version_minor": 0
      },
      "text/plain": [
       "Batches:   0%|          | 0/1 [00:00<?, ?it/s]"
      ]
     },
     "metadata": {},
     "output_type": "display_data"
    },
    {
     "name": "stderr",
     "output_type": "stream",
     "text": [
      "INFO:root:similarity completed. 0.7250432968139648\n",
      "INFO:root:Waiting for adjacency to complete...\n",
      "INFO:root:adjacency completed. 0.7260396480560303\n",
      "INFO:root:Waiting for basic to complete...\n",
      "INFO:root:basic completed. 0.7270395755767822\n",
      "  0%|          | 150/39591 [03:01<12:58:12,  1.18s/it]"
     ]
    },
    {
     "name": "stdout",
     "output_type": "stream",
     "text": [
      "deque(['모든 사람은 언젠가 모두 죽습니다.', '하지만 우리는 언제 죽을지 모르기에 살아있다는 소중함을 잊고 타인에게 상처를 주곤 합니다.', '이 글을 읽는 분은 어제까지 함께 웃으며 이야기 하던 사람이 사고로, 혹은 스스로 죽는다면 어떨지 생각 해 보신적이 있습니까?', '저도 전에는 없었습니다.', '하지만 시간이 지나며 이에 대해 생각하게 되었습니다.', '처음으로 동물이나 식물이 아닌 사람의 죽음을 경험한 건 중학교 1학년 이였습니다.', '새벽에 고마웠다고 행복하게 살아달라는 메시지를 남기고 스스로 죽음을 택한 후배가 아직도 눈에 선합니다.', '처음에는 만약 살아있을 때 내가 더 잘해 주었다면, 내가 새벽에 잘 달랬다면 이런 일이 없었을까 후회했습니다.', '하지만 후회한다 해서 죽은 사람이 살아 돌아오는 것이 아니기 때문에 다른 이들에겐 이런 일이 없게 하고 싶었고, 내가 더 잘 챙겨 주고 상처를 없던 걸로 하지는 못 하지만 공감하며 같이 아파주겠다고 다짐했었습니다.', '그 후로 시간이 지나고 큰어머니가 뇌출혈로 돌아가셨습니다.', '이번에는 막을 수도, 미리 알 수도 없었습니다.', '장례식장에서는 돌아가셨다고 생각을 못 해서인지, 아니면 어린 사촌 동생과 놀아서인지 크게 슬프지 않았습니다.', '하지만 땅에 묻힐 때 다시는 못 본다는 현실을 마주했습니다.', '분명 얼마 전 다짐했던 것처럼 잘해 주겠다며 다짐하고도 지키지 못 했다고 생각이 되어 후회하였습니다.', '이처럼 살아있을 때는 당연하다 여겼던 일상, 행동들이 다시는 돌아오지 않을 수 있다는걸 스스로에게 새기고, 남들에게도 새기는 기회가 되면 좋겠습니다.'])\n"
     ]
    },
    {
     "name": "stderr",
     "output_type": "stream",
     "text": [
      "INFO:root:Waiting for ttr to complete...\n",
      "INFO:root:ttr completed. 0.6060211658477783\n",
      "INFO:root:Waiting for similarity to complete...\n"
     ]
    },
    {
     "data": {
      "application/vnd.jupyter.widget-view+json": {
       "model_id": "6a9d096454ad4cb0864d031527715e12",
       "version_major": 2,
       "version_minor": 0
      },
      "text/plain": [
       "Batches:   0%|          | 0/1 [00:00<?, ?it/s]"
      ]
     },
     "metadata": {},
     "output_type": "display_data"
    },
    {
     "data": {
      "application/vnd.jupyter.widget-view+json": {
       "model_id": "f143882f8a764c98869de8abc0763f8d",
       "version_major": 2,
       "version_minor": 0
      },
      "text/plain": [
       "Batches:   0%|          | 0/1 [00:00<?, ?it/s]"
      ]
     },
     "metadata": {},
     "output_type": "display_data"
    },
    {
     "name": "stderr",
     "output_type": "stream",
     "text": [
      "INFO:root:similarity completed. 0.7080211639404297\n",
      "INFO:root:Waiting for adjacency to complete...\n",
      "INFO:root:adjacency completed. 0.7090210914611816\n",
      "INFO:root:Waiting for basic to complete...\n",
      "INFO:root:basic completed. 0.7100214958190918\n",
      "  0%|          | 151/39591 [03:02<12:58:21,  1.18s/it]"
     ]
    },
    {
     "name": "stdout",
     "output_type": "stream",
     "text": [
      "deque(['잃어봐야 안다.', '소박한 보통날의 소중함을..', '너무 오래되어 일상이 되어버려 언제 시작된지도 모르겠다.', '코로나로 인해 우리의 일상을 잃게된지도.', '느닷없이 그리웠다.', '아이들과 집안에서 복작대고 있는 지금 불과 얼마전의 일상이 그리웠다.', '나가고 싶으면 나가고, 만나고 싶으면 만나고, 바깥 세상과 부대끼던 소박한 보통날이 한없이 그리웠다.', '나갈 때 마다 마스크 쓰고 들어오면 .빠득빠득 손 씻는게 일상인 지금, 상상도 못한, 한번도 경험해보지 못한 현실이 아직도 낯설다.', '날이 좋은 주말이면 친구들과 약속을 잡아 놀이동산도 가고 시내에 나가 옷도 구경하고 신나게 쇼핑을 즐기던 우리의 젊은 날의 시간이 그리웠다.', '보고 싶었던 영화가 있으면 삼삼오오 모여서 극장에도 자주 갔었는데, 지금 극장가서 영화본지도 엄청 오래되었다.', '대신 집에서 다시보기나 넷플릭스 같은 TV플랫폼을 통해 영화를 보곤 한다.', '특히 봄이고, 가을이고 나들이철이 되면 한강 망원지구 가서 돗자리 펴고 친구들과 산책하고 웃고 떠들며 편의점에서 라면을 끓여 먹던일, 자전거를 빌려서 자전거도 마음껏 탔던일, 사람들이 바글바글한 롯데몰에서 맛있는 거 먹겠다고 줄섰던 일, 잃어버린 일상들이 당연한줄 알았던 일상들이 이렇게 소중한 줄 몰랐었다.', '나가고 싶으면 나가고, 만나고 싶으면 만나고,바깥세상과 부대끼던 소박한 보통날의 소중함을.', '그건 눈부신 축복이었다.', '마스크와 열 체크없이 어디든 들어가고, 여행가고, 먹고 마시며 즐기던 삶의 생생함은 아무리 숨기려 해도 숨겨지지 않는 행복이었다.'])\n"
     ]
    },
    {
     "name": "stderr",
     "output_type": "stream",
     "text": [
      "INFO:root:Waiting for ttr to complete...\n",
      "INFO:root:ttr completed. 0.6082503795623779\n",
      "INFO:root:Waiting for similarity to complete...\n"
     ]
    },
    {
     "data": {
      "application/vnd.jupyter.widget-view+json": {
       "model_id": "bdfeb145534e45019ca0516812637156",
       "version_major": 2,
       "version_minor": 0
      },
      "text/plain": [
       "Batches:   0%|          | 0/1 [00:00<?, ?it/s]"
      ]
     },
     "metadata": {},
     "output_type": "display_data"
    },
    {
     "data": {
      "application/vnd.jupyter.widget-view+json": {
       "model_id": "5c12da56c03448408196baf353d448db",
       "version_major": 2,
       "version_minor": 0
      },
      "text/plain": [
       "Batches:   0%|          | 0/1 [00:00<?, ?it/s]"
      ]
     },
     "metadata": {},
     "output_type": "display_data"
    },
    {
     "name": "stderr",
     "output_type": "stream",
     "text": [
      "INFO:root:similarity completed. 0.7197697162628174\n",
      "INFO:root:Waiting for adjacency to complete...\n",
      "INFO:root:adjacency completed. 0.7217698097229004\n",
      "INFO:root:Waiting for basic to complete...\n",
      "INFO:root:basic completed. 0.7217698097229004\n",
      "  0%|          | 152/39591 [03:04<12:57:20,  1.18s/it]"
     ]
    },
    {
     "name": "stdout",
     "output_type": "stream",
     "text": [
      "deque([\"내가 선택한 주제는 '소중함을 잃었던 경험'이라는 주제이다.\", '보통 소중함을 잃었던 경험이라 하면 아끼는 물건을 잃어버렸거나 애완동물과 이별했거나 하는 이야기를 예로 들 수 있다.', \"하지만 내가 잃어버린 건 물건도 애완동물도 아닌 나에겐 매우 소중한 '엄마'였다.\", '내가 고등학교 1학년이 되었던 해 난 사랑하는 엄마와 하루아침에 이별을 하게 되었다.', '엄마가 일을 해야 했기에 어쩔 수 없었지만 나에겐 마른하늘에 날벼락 같은 일이었다.', '엄마가 곁에 없는 채로 고등학교 생활을 하며 정말 신경 쓰지 않았던 엄마의 소중함을 뼈저리게 느꼈다.', '첫 번째로 느꼈던 건 청소였다.', '난 내방만 청소하면 됐기에 학교에 다녀오면 늘 깨끗한 집이 나를 반겼다.', '하지만 엄마와 이별한 후엔 청소가 오롯이 내 몫이 되어서 아빠와 잦은 실랑이가 있었고 밀려가는 빨래에서도 이는 마찬가지였다.', '두 번째로 느꼈던 것은 야자가 끝난 후 썰렁한 집이었다.', '모두가 자고 있기에 야자가 끝나고 와도 나를 반겨주는 사람이 없었고 엄마가 있었다면 나를 반겨 줬겠지 라는 생각이 가득했다.', '마지막은 공부였다.', '동생들을 돌보고 집안일과 봉사활동, 공부를 병행해야 했기에 중학교에서 막 올라온 나는 온전히 버티기 힘들었다.', '정말 매일을 힘들어서 울었던 것 같다.', '하지만 이런 일 모두 한해 한해가 지나면서 익숙해지고 하는 방법도 터득해갔다.', '우리에게 있어 부모님, 그 중 엄마는 정말 엄청나고 대단한 존재이다.', '우리 모두 엄마가 늘 곁에 있다고 생각하지 말고 정말 계실 때 잘해드리라고 얘기해주고 싶다.'])\n"
     ]
    },
    {
     "name": "stderr",
     "output_type": "stream",
     "text": [
      "INFO:root:Waiting for ttr to complete...\n",
      "INFO:root:ttr completed. 0.5152785778045654\n",
      "INFO:root:Waiting for similarity to complete...\n"
     ]
    },
    {
     "data": {
      "application/vnd.jupyter.widget-view+json": {
       "model_id": "452e41deae824b9ab14413cf5d0eb2a9",
       "version_major": 2,
       "version_minor": 0
      },
      "text/plain": [
       "Batches:   0%|          | 0/1 [00:00<?, ?it/s]"
      ]
     },
     "metadata": {},
     "output_type": "display_data"
    },
    {
     "data": {
      "application/vnd.jupyter.widget-view+json": {
       "model_id": "25296510fcfc4d51b7fd5d87b24752ea",
       "version_major": 2,
       "version_minor": 0
      },
      "text/plain": [
       "Batches:   0%|          | 0/1 [00:00<?, ?it/s]"
      ]
     },
     "metadata": {},
     "output_type": "display_data"
    },
    {
     "name": "stderr",
     "output_type": "stream",
     "text": [
      "INFO:root:similarity completed. 0.627281904220581\n",
      "INFO:root:Waiting for adjacency to complete...\n",
      "INFO:root:adjacency completed. 0.6282825469970703\n",
      "INFO:root:Waiting for basic to complete...\n",
      "INFO:root:basic completed. 0.6282825469970703\n",
      "  0%|          | 153/39591 [03:05<12:46:02,  1.17s/it]"
     ]
    },
    {
     "name": "stdout",
     "output_type": "stream",
     "text": [
      "deque(['하늘을 바라보며 사는 사람이 몇이나 될까..', '문득 힘들어서 또는 잠깐 고개를 들었는데 파란 하늘을 마주하게 된 순간..', '그저 감탄 스러울때가 있다.', '우리 주변에 그렇게 하늘, 숲 속, 자연들이 우리에게 주는 기쁨과 소소한 쉼이 되어주는 경우가 많다.', '아이들이 있는 집에서는 체험을 하기도 하고 그렇게 누구든 누가 되었든 간에 우리는 하늘과 땅의 소중함을 느끼고 함께한 이들과의 관계에서 사람 사는 정을 느끼게 되기도 한다.', '그리고 당연하게 생각하게 되는 자연에서 얻게 되는 먹거리 등을 우리가 돈을 주고 사먹지만 사실 그것은 본질적으로 자연이 우리에게 선사해주고 제공해주는 것들이다.', '그런데 이런것들을 망각하고 이런 감사함을 잊어버리게 자연을 훼손하고 소중하게 생각하지 않는 사람들이 많이 있다.', '물론 여기에 나도 일조를 한다고 인정하고 싶진 않지만.', '그래서 한 사람으로부터 비롯되어 많은 사람들이 모여 수많은 사람들로 인해 요즘 지구온난화로 인한 환경오염 등이 심각하게 대두 되고 있는데 꼭 사람이 아니더라도 우리는 자연의 소중함을 알고 아끼고 이 것을 오래 만끽하고 느끼고 누릴 수 있도록 보호에 관심을 가져야 할 것이다.', '그리고 역사적으로 인위적으로나 천재에 의해서 그 지역의 자연이 파괴되거나 큰 변화가 나타나면 뒤이어 여러 재앙이 나타나고 때로는 영구적으로 폐허화되어 사막화되거나 그 지역의 모든 생물이 멸종하는 사례가 많았다고 한다.', '이렇듯 자연으로부터 얻게 되는 여러 가지 것들이 있으므로 우리는 항상 늘 곁에 있을 것처럼 생각하지 말고 자연보호에 관심을 갖고 아껴쓰며 이 것들을 오래 누릴 수 있도록 해야 할 것이다.'])\n"
     ]
    },
    {
     "name": "stderr",
     "output_type": "stream",
     "text": [
      "INFO:root:Waiting for ttr to complete...\n",
      "INFO:root:ttr completed. 0.6304402351379395\n",
      "INFO:root:Waiting for similarity to complete...\n"
     ]
    },
    {
     "data": {
      "application/vnd.jupyter.widget-view+json": {
       "model_id": "42792b8cf8db44dc93050fefa9843239",
       "version_major": 2,
       "version_minor": 0
      },
      "text/plain": [
       "Batches:   0%|          | 0/1 [00:00<?, ?it/s]"
      ]
     },
     "metadata": {},
     "output_type": "display_data"
    },
    {
     "data": {
      "application/vnd.jupyter.widget-view+json": {
       "model_id": "a8cdf87a9203434c8be53d0ce41fec0e",
       "version_major": 2,
       "version_minor": 0
      },
      "text/plain": [
       "Batches:   0%|          | 0/1 [00:00<?, ?it/s]"
      ]
     },
     "metadata": {},
     "output_type": "display_data"
    },
    {
     "name": "stderr",
     "output_type": "stream",
     "text": [
      "INFO:root:similarity completed. 0.743436336517334\n",
      "INFO:root:Waiting for adjacency to complete...\n",
      "INFO:root:adjacency completed. 0.7444367408752441\n",
      "INFO:root:Waiting for basic to complete...\n",
      "INFO:root:basic completed. 0.7454366683959961\n",
      "  0%|          | 154/39591 [03:06<12:42:55,  1.16s/it]"
     ]
    },
    {
     "name": "stdout",
     "output_type": "stream",
     "text": [
      "deque(['항상 나의 머릿속에서 맴도는 명언이 있었다.', '\" 익숙함에 속아 소중함을 잊지 말자 \"', '왜 이 명언이 내 머릿속에 맴돌았을까 따지고 보면 간단하다.', '내가 익숨함에 속아 소중함을 자주 잊었다는 것 부모님이 해주시는 밥도, 주위에 친구들의 선행도, 내가 좋아하는 운동도 이렇게 중요하고 소중한 존재, 행동이지만 익숙해서 자주 소중함을 잊지는 않았을까', '내게 제일 기억에 남는 소중함을 잃었던 기억은 아버지의 빈자리 아닐까,', '최근에 이사를 가야해서 아버지께서 먼저 속초로 올라가셨다.', '항상은 아니지만 일주일에 이틀은 꼭 봐왔던 아버지이기에 그렇게 소중함을 느끼고 있진 않았다.', '하지만 아버지께서 속초로 올라가시고는 항상 드는 생각이다.', '이번 주에도 안오시는구나 이번 주에는 오시려나? 이런 생각 말이다.', '아버지의 빈자리 이렇게 잠시 떨어져 지내면서도 크게 느껴지는 이 빈자리를 그리워하는 나인데 시간이 지나 대학생이 되고 어른이 되어 혼자 살게 된다면 이 빈자리를 누가 채워줄까', '나에게 아버지라는 존재는 나의 전부이며 모두이고 살아가는 이유라 할 수 있다.', '그러니 이 빈자리를 누가 마땅하게 채워주리', '밝고 상냥하였던 또 장난기가 가득하였던 나의 아버지', '그 소중함을 잃었던 시간을 매우 반성하는 지금이 되는 것 같다.', '나에게 항상 긍정적인 말로 나를 어루만져주셨던 아버지께서 계시던 자리에 남아있는건 그리움뿐이니 매주 봐왔던 아버지의 빈 자리가 새삼 느껴지는 요즘이였다.', '그러니 이 글을 읽는 모두는 부모님의 빈자리, 친구의 빈자리를 걱정하는 상황이 올테니 지금 내 주위에 있는 사람을 잘 챙겨주길 바란다.'])\n"
     ]
    },
    {
     "name": "stderr",
     "output_type": "stream",
     "text": [
      "INFO:root:Waiting for ttr to complete...\n",
      "INFO:root:ttr completed. 0.5670087337493896\n",
      "INFO:root:Waiting for similarity to complete...\n"
     ]
    },
    {
     "data": {
      "application/vnd.jupyter.widget-view+json": {
       "model_id": "bd7c78a338724aaf8623a17f312b30ce",
       "version_major": 2,
       "version_minor": 0
      },
      "text/plain": [
       "Batches:   0%|          | 0/1 [00:00<?, ?it/s]"
      ]
     },
     "metadata": {},
     "output_type": "display_data"
    },
    {
     "data": {
      "application/vnd.jupyter.widget-view+json": {
       "model_id": "dbcbf07f646d4fc6b6377565cb12ebfa",
       "version_major": 2,
       "version_minor": 0
      },
      "text/plain": [
       "Batches:   0%|          | 0/1 [00:00<?, ?it/s]"
      ]
     },
     "metadata": {},
     "output_type": "display_data"
    },
    {
     "name": "stderr",
     "output_type": "stream",
     "text": [
      "INFO:root:similarity completed. 0.6829743385314941\n",
      "INFO:root:Waiting for adjacency to complete...\n",
      "INFO:root:adjacency completed. 0.6839742660522461\n",
      "INFO:root:Waiting for basic to complete...\n",
      "INFO:root:basic completed. 0.6839742660522461\n",
      "  0%|          | 155/39591 [03:07<12:40:24,  1.16s/it]"
     ]
    },
    {
     "name": "stdout",
     "output_type": "stream",
     "text": [
      "deque(['저번주 화요일부터 엄마가 아빠가 있는 제주도로 가서 토요일까지 집에 나혼자 있게 되었다.', '그래서 처음에는 집에 아무도 없어 혼자 뭘할지 상상하다가 집에서 영화보고 친구 불러서 놀고 밥먹고 자고를 내 마음대로 하였다.', '그리고 일어나보니 엄마가 안깨우는걸 보고 혼자 잇는게 좋다라고 느꼈다.', '하지만 일어나 보니 집이 엉망이었다.', '원래 같았으면 엄마가 아침에 치워줬을 테지만 엄마가 지금 다른 곳에 가 치워줄수가 없었다.', '그래서 내가 혼자 치우는데 집에 내가 어지른 옷과 밥먹을 때 쓴 접시 먹고 안버린 쓰레기 청소기를 안돌려 먼지가 쌓여있었다.', '그래서 어지른 옷들을 세탁기에 넣고 설거지를 하고 청소기를돌려 먼지 없애고 고양이 밥도 안줘서 밥을 주고 하였는데 너무 힘이 들었다.', '근데 이걸 엄마가 매일 한것을 생각하니 엄마가 얼마나 청소하기 힘들었을지 생각하게 되었고 엄마가 대단하다고 생각하게 되었다.', '그리고 엄마가 없으니 빨래 해줄 사람이 없어 입을 옷이 없었다.', '그래서 빨래를 하는데 빨래하는것도 빨래를 돌리고 빨래 돌린것을 빼서 널고 마른것을 또 개서 넣어야한다는것을 깨달았다.', '또 원래 밥도 엄마한테 해달라했었는데 엄마가 지금 없으니 나혼자 밥만들어 먹는데 다 태워먹었다.', '이렇게 집에 엄마가 같이 지내다 보니 엄마의 소중함을 모르고 지냈는데 엄마가 없이 5일정도를 지내보니 엄마의 소중함을 확실히 깨달았다.', '자취생들이 왜 혼자 있는게 힘들다한지 알거같았다.', '그리고 엄마가 제주도에서 돌아오면 엄마가 하는일을 할거 없을때 한번씩 도와주고 엄마한테 요리를 좀 배워서 요리도 해봐야겠다.', '그리고 어른이 되서 돈을 많이 벌어서 아빠와 함께 여행을 많이 보내드릴 것이다.'])\n"
     ]
    },
    {
     "name": "stderr",
     "output_type": "stream",
     "text": [
      "INFO:root:Waiting for ttr to complete...\n",
      "INFO:root:ttr completed. 0.6000003814697266\n",
      "INFO:root:Waiting for similarity to complete...\n"
     ]
    },
    {
     "data": {
      "application/vnd.jupyter.widget-view+json": {
       "model_id": "de541022c0214aa69b5397fa8f6d1bcd",
       "version_major": 2,
       "version_minor": 0
      },
      "text/plain": [
       "Batches:   0%|          | 0/1 [00:00<?, ?it/s]"
      ]
     },
     "metadata": {},
     "output_type": "display_data"
    },
    {
     "data": {
      "application/vnd.jupyter.widget-view+json": {
       "model_id": "b738d38e7b0341c3abbf6c4e81e5b1a1",
       "version_major": 2,
       "version_minor": 0
      },
      "text/plain": [
       "Batches:   0%|          | 0/1 [00:00<?, ?it/s]"
      ]
     },
     "metadata": {},
     "output_type": "display_data"
    },
    {
     "name": "stderr",
     "output_type": "stream",
     "text": [
      "INFO:root:similarity completed. 0.715888261795044\n",
      "INFO:root:Waiting for adjacency to complete...\n",
      "INFO:root:adjacency completed. 0.7168886661529541\n",
      "INFO:root:Waiting for basic to complete...\n",
      "INFO:root:basic completed. 0.7178888320922852\n",
      "  0%|          | 156/39591 [03:08<12:40:23,  1.16s/it]"
     ]
    },
    {
     "name": "stdout",
     "output_type": "stream",
     "text": [
      "deque(['저 나는 이때까지 익숙함에 속아 소중한 것을 잃은 적이 많다.', '대표적인 사례로는 관계였다.', '나는 이때까지 관계를 맺으려고 엄청나게 노력해왔다.', '관계의 소중함을 알기에 열심히 그리고 최선을 다해왔다.', '그래서인지 그 관계가 초반에는 잘 유지가 될 줄 알았다.', '하지만 나는 그 관계가 익숙해 졌는지, 선을 넘을 듯 말 듯 한 짓을 선생님, 친구, 부모님한테도 자주 하곤 했다.', '그 결과 몇몇 선생님들은 그냥 웃고 넘어가는 선생님들도 있었지만 가끔 혼을 내는 선생님들도 있었다.', '그리고 친구들 또한 마찬가지였다.', '그냥 웃는 친구들도 있었고 진지하게 말하는 애들도 있었다.', '마지막 부모님들도 마찬가지였다.', '그런데 나는 관계가 약간 흐트러지면 내가 잘못 했는데도 그 관계를 회복하려고 노력은 커녕 상대방이 먼저 와주겠지하면서 그때까지 그 관계를 무시하곤 했다.', '그리고 그 관계를 가볍게 보면서 대충 웃으며 다가가 그 관계를 다시 이어갈 때도 있었다.', '그렇게 나는 이때까지 살아왔다.', '하지만 나는 이 글을 쓰면서 다시 한 번 나 자신한테 뒤돌아 보게 되었다.', '그리고 나 자신이 이렇게 계속 살아간다면 어떻게 될까? 하고도 생각하게 되었다.', '그렇게 생각하니 나 자신이 너무 한심해 보였고 위험해 보였다.', '그래서 이제 나는 관계의 익숙함에 속지 않고 한 번 더 생각해보고 그 관계는 매우 소중하다는 것을 새기면서 살아가야겠다.'])\n"
     ]
    },
    {
     "name": "stderr",
     "output_type": "stream",
     "text": [
      "INFO:root:Waiting for ttr to complete...\n",
      "INFO:root:ttr completed. 0.48799991607666016\n",
      "INFO:root:Waiting for similarity to complete...\n"
     ]
    },
    {
     "data": {
      "application/vnd.jupyter.widget-view+json": {
       "model_id": "39ed25e89a4a419d92c924a4952625d3",
       "version_major": 2,
       "version_minor": 0
      },
      "text/plain": [
       "Batches:   0%|          | 0/1 [00:00<?, ?it/s]"
      ]
     },
     "metadata": {},
     "output_type": "display_data"
    },
    {
     "data": {
      "application/vnd.jupyter.widget-view+json": {
       "model_id": "ee013d01afdd4a9993d2e02613cf4f4e",
       "version_major": 2,
       "version_minor": 0
      },
      "text/plain": [
       "Batches:   0%|          | 0/1 [00:00<?, ?it/s]"
      ]
     },
     "metadata": {},
     "output_type": "display_data"
    },
    {
     "name": "stderr",
     "output_type": "stream",
     "text": [
      "INFO:root:similarity completed. 0.679999589920044\n",
      "INFO:root:Waiting for adjacency to complete...\n",
      "INFO:root:adjacency completed. 0.6809999942779541\n",
      "INFO:root:Waiting for basic to complete...\n",
      "INFO:root:basic completed. 0.681999921798706\n",
      "  0%|          | 157/39591 [03:09<12:40:12,  1.16s/it]"
     ]
    },
    {
     "name": "stdout",
     "output_type": "stream",
     "text": [
      "deque(['익숙함에 속아 소중한 것들을 잃은 사례에 대해 글을 써보겠습니다.', '저 뿐만 아니라 모든 사람들은 익숙함이 있습니다.', '저의 대한 익숙함의 사례는 여러가지가 있는데 첫번째로는 친구들에게 막말을 하다가 선을 넘어 버린 말을 해서 친구가 저에게 화난 것이 있습니다.', '그래서 저는 그 친구에게 사과도 하였지만 기분이 풀리지 않아 그 친구에게 시간을 줘서 풀릴 때까지 기다리니깐 친구가 사과를 받아 줬습니다.', '만약 그 친구에게 사과를 하고 기다리지 않고 그냥 그대로 끝이났을 것 같다.', '내가 잘못을 했을때는 기다릴줄 도 아는 그런 지혜도 필요하다.', '두번째로는 운동을 하다가 다쳤는데 `나는 원래 잘 다치니깐 요번에도 좀 있으면 괜찮아 지겠지`라고 생각하고 생활하고 있다가 그때 다친 부위에 통증이 지속되서 병원에 가보니 뼈가 부러졌다고 운동을 못하는 것이 있었습니다.', '세번째로는 가족이랑 매일 밤 마다 웃고 떠들고 맛있는 것을 먹는게 익숨함이 였는데 어느 날 갑자기 가족중에 한 분이 일 때문에 출장을 가셔서 그 저녁을 몇 개월에 한번 씩 밖에 못하는 것들도 있습니다.', '이 처럼 익숙함에 속아 소중한 것들을 잃는 경우가 많습니다.', '저도 처음에는 몰랐지만 막상 그 편한것들이 사라지니깐 소중하다고 생각이 많이 들었습니다.', '지금부터라도 저의 주변을 소중하게 생각하고 살아가겠습니다.', '살아가면서 소중함을 일깨워주는 그런 시간이었습니다.'])\n"
     ]
    },
    {
     "name": "stderr",
     "output_type": "stream",
     "text": [
      "INFO:root:Waiting for ttr to complete...\n",
      "INFO:root:ttr completed. 0.5714230537414551\n",
      "INFO:root:Waiting for similarity to complete...\n"
     ]
    },
    {
     "data": {
      "application/vnd.jupyter.widget-view+json": {
       "model_id": "7f6cbee73e144c65a64bb65acaf40085",
       "version_major": 2,
       "version_minor": 0
      },
      "text/plain": [
       "Batches:   0%|          | 0/1 [00:00<?, ?it/s]"
      ]
     },
     "metadata": {},
     "output_type": "display_data"
    },
    {
     "data": {
      "application/vnd.jupyter.widget-view+json": {
       "model_id": "4037ccc0f26a4921a3006ace3c0b19f8",
       "version_major": 2,
       "version_minor": 0
      },
      "text/plain": [
       "Batches:   0%|          | 0/1 [00:00<?, ?it/s]"
      ]
     },
     "metadata": {},
     "output_type": "display_data"
    },
    {
     "name": "stderr",
     "output_type": "stream",
     "text": [
      "INFO:root:similarity completed. 0.6244232654571533\n",
      "INFO:root:Waiting for adjacency to complete...\n",
      "INFO:root:adjacency completed. 0.6244232654571533\n",
      "INFO:root:Waiting for basic to complete...\n",
      "INFO:root:basic completed. 0.6254231929779053\n",
      "  0%|          | 158/39591 [03:10<12:08:46,  1.11s/it]"
     ]
    },
    {
     "name": "stdout",
     "output_type": "stream",
     "text": [
      "deque(['저는 중2때부터 정말 친하게 지내고 있는 친구가 있는데요.', '항상 서로 너무 친해서 장난도치고, 다투는 것 같지만 항상 서로 생각하고 아끼는걸 둘다 알고있어요.', '저는 소심하고 조용한 성격이라 새로운 친구 사귀는것도 힘들고 월래 친했던 친구랑 친하게 지내는게 훨씬 좋아서 그 친구에게 많이 의지를 하게되는거같아요.', '그 친구가 부담될까봐 조금 눈치도 보이지만 그래도 저에겐 소중한 친구이고 맨날 같이 지내는게 그냥 저에겐 너무나 소중한 하루인거같아요.', '그리고 저희 부모님도 잔소리는 많이 하시지만 저를 아끼고 사랑한다는걸 알고 있기 때문에 그 하루가 소중하고 감사한거같아요', '내 소중한 사람들을 잃게 된다면 저는 정말 살아갈수 없을정도로 힘들거같아요', '그러기위해선 그 사람만 노력하는게 아닌 나부터 바뀌여야된다고 생각해서 그 사람을 잃기 싫다면 그사람이 싫어하는 행동,말투먼저 바뀌는게 좋을거같다고 생각이 듭니다.', '그 #@이름#이라는 친구는 겉으로는 오글거려서 하지 못하지만 저에겐 너무 소중한 친구이기에 친구여도 예의를 지키고 평생 좋은 친구로 남고싶습니다.', '또, 제가 상대방을 기분나쁘게 한게 아닌 그 상대방이 절기분나쁘게 했을 때 그 상대방은 저를 위해서 아무것도 안했습니다.', '저는 사과를 바랬지만 사과도 안하고 자신의 잘못을 모르는것에 화도 났기 때문에 그 친구를 끊었습니다.', '자신이 잘못한건 쿨하게 인정하고 억울하면 풀어야됩니다.', '서로 잘못 알고 오해를 한 것을 그대로 두게된다면 나중에 더 큰일이 있어도 점점 두 사람에겐 보이지않은 벽이 쌓일것입니다.', '친구여도 예의를 지켜야되고 동생이여도 예의는 누구한테나 지켜야된다고 생각이 듭니다.', '가족이나 나의 소중한 친구면 더더욱.'])\n"
     ]
    },
    {
     "name": "stderr",
     "output_type": "stream",
     "text": [
      "INFO:root:Waiting for ttr to complete...\n",
      "INFO:root:ttr completed. 0.6062412261962891\n",
      "INFO:root:Waiting for similarity to complete...\n"
     ]
    },
    {
     "data": {
      "application/vnd.jupyter.widget-view+json": {
       "model_id": "f0be65d6a1d44187956a4aa32704a2b7",
       "version_major": 2,
       "version_minor": 0
      },
      "text/plain": [
       "Batches:   0%|          | 0/1 [00:00<?, ?it/s]"
      ]
     },
     "metadata": {},
     "output_type": "display_data"
    },
    {
     "data": {
      "application/vnd.jupyter.widget-view+json": {
       "model_id": "a4cb8e0446e24fc08c79b928995afa9a",
       "version_major": 2,
       "version_minor": 0
      },
      "text/plain": [
       "Batches:   0%|          | 0/1 [00:00<?, ?it/s]"
      ]
     },
     "metadata": {},
     "output_type": "display_data"
    },
    {
     "name": "stderr",
     "output_type": "stream",
     "text": [
      "INFO:root:similarity completed. 0.6623327732086182\n",
      "INFO:root:Waiting for adjacency to complete...\n",
      "INFO:root:adjacency completed. 0.6633327007293701\n",
      "INFO:root:Waiting for basic to complete...\n",
      "INFO:root:basic completed. 0.6633327007293701\n",
      "  0%|          | 159/39591 [03:11<12:10:23,  1.11s/it]"
     ]
    },
    {
     "name": "stdout",
     "output_type": "stream",
     "text": [
      "deque(['전염되고 감염되면 좋은 웃음.', '코로나 시대를 맞이하여 마스크에 친구들의 미소가 감춰지고, 줄어들었다.', '팝콘을 먹으면서 영화를 보고, 왁자지껄 수다 떨며 밥에 웃음을 비벼먹고 입으로 할 수 있는 최고의 선물인 웃음을 나눌 수 있었다.', \"친구들과 만나 밤늦게 까지 놀고, 어른들은 술자리를 통해 그 날의 회포와 노고를 나누며 풀었고, 비행기를 타고 해외로 여행을 가서 새로운 견을 쌓는 것은 우리들에게 '당연한 것'으로 여겨져 왔다.\", \"하지만 '코로나'라는 언택트 환경이 도래되면서 우리는 우리가 자유롭게, 편하게 누리던 것들을 마음껏 여기지 못하게 되었고 사치가 되었다.\", \"안하는 것이 아닌 못하는 것이 되어버린 우리가 즐기던 것들은 '당연한 것'들이 아닌 '소중한 것'들이었던 것이다.\", '질병 때문에 우리가 누려야 할 것들을 누리지 못하는 것은 사회의 안전과 건강을 위해서 마땅히 바쳐야 하는 것이지만, 익숙하고 당연하게 여겨왔던 것들일수록 그 소중함을 뼈저리게 느끼게 되는 것은 피할 수 없는 현실이다.', \"대한민국에 첫 코로나 환자가 생겼던 2020년 1월부터 2021년 12월까지 우리는 마스크를 벗고 친구나 가족과 함께 돗자리를 깔고 공원에 누워 밤하늘을 올려다보며 신선한 공기를 마시는 것의 '사소한 행복'을 누리지도 못했다.\", '한마디로 우리는, 질병에게 우리의 자유와 소중함을 빼앗긴 것이다.', '익숙한 것에 속아 소중한 것을 느끼지 못했던 것은 단순히 우리의 자유에만 국한되는 이야기가 아니다.', \"나는 코로나 시대가 시작된 이후 우리나라의 의료체계를 더욱 소중히 여기게 되었다. 아프면 당연히 병원을 가고, 돈을 지불한 만큼 일종의 '서비스'를 받는 것인 줄로만 알았던 의료 치료들은 더 이상 함부로 여겨야 할 것이 아닌, 소중하게 여겨야 한다는 것을 깨달았다.\", \"대한민국 국민들의 건강과 사회 완전을 위해서 기꺼이 자신을 희생하여 오늘도 대한민국의 방역체계가 뚫리지 않게 노력하는 의료진들과 의료서비스는 더 이상 '익숙한 것'이 아닌 '소중한 것'으로 정의되어야 할 것이다.\", '우리의 사소한 행동들 하나로 큰 변화를 불러일으킬 수 있다.', \"불편함을 조금만 더 참고, 늘 긴장을 늦추지 않는다면, 정말로 모두의 염원처럼 '코로나 종말'을 맞이할 수도 있을 것이라고 생각한다.\"])\n"
     ]
    },
    {
     "name": "stderr",
     "output_type": "stream",
     "text": [
      "INFO:root:Waiting for ttr to complete...\n",
      "INFO:root:ttr completed. 0.6535913944244385\n",
      "INFO:root:Waiting for similarity to complete...\n"
     ]
    },
    {
     "data": {
      "application/vnd.jupyter.widget-view+json": {
       "model_id": "5ca8a9f99e11408394094f2191aac3a1",
       "version_major": 2,
       "version_minor": 0
      },
      "text/plain": [
       "Batches:   0%|          | 0/1 [00:00<?, ?it/s]"
      ]
     },
     "metadata": {},
     "output_type": "display_data"
    },
    {
     "data": {
      "application/vnd.jupyter.widget-view+json": {
       "model_id": "d0b7f9af41bb46b6af74f8299d27ad66",
       "version_major": 2,
       "version_minor": 0
      },
      "text/plain": [
       "Batches:   0%|          | 0/1 [00:00<?, ?it/s]"
      ]
     },
     "metadata": {},
     "output_type": "display_data"
    },
    {
     "name": "stderr",
     "output_type": "stream",
     "text": [
      "INFO:root:similarity completed. 0.7433567047119141\n",
      "INFO:root:Waiting for adjacency to complete...\n",
      "INFO:root:adjacency completed. 0.7433567047119141\n",
      "INFO:root:Waiting for basic to complete...\n",
      "INFO:root:basic completed. 0.744356632232666\n",
      "  0%|          | 160/39591 [03:13<12:30:24,  1.14s/it]"
     ]
    },
    {
     "name": "stdout",
     "output_type": "stream",
     "text": [
      "deque(['언제부터인지 모르는 꽤 오래됐을지도 모르는 날에 난 늘 익숙하던걸 잃어버린 느낌이 들었다.', '이 익숙한 느낌이 소중했던 것인지 소중한 것을 익숙함으로 느꼈던 것인지 언제 잃어버린지도 모르는 무언가를 지금도 기억해 낼 순 없지만 10대 초반의 마지막을 기점으로 잃어버린 걸지도 서서히 사라진 걸지도 모르겠다.', '하나 스쳐가는 것이 있다면 그 시간의 나를 아니 그 순간의 나는 눈보라 속 카멜레온일지도 모르겠다.', '그때 그 시간은 참 안돌아가던거 같던데 그 순간을 스쳐가면 불빛이 늘 스며져 있었고 그 불빛이 사라진 순간에는 그것이 불빛이었는지 그저 잠깐 스치는 별똥별이 었는지,,', '이 소중함이 뭔지 아직도 모르겠.지만 원래 내것이었으니 언젠가 찾지 않을까라는 생각이 있다.', '잃었던 일에 대해 늘 무뎌지고 늘 새롭지 않다고 해도 그 순간을 떠올리는 순간이 힘들지 않다고 하면 거짓말인거 같다.', '이렇게 다 잊은 일이라고 해도 소중한 무언가를 잃냐에 따라 포기함에 따라도 달라지는 거 같아 그리하여 난 소중함을 잃었던 경험에 대해 그리 연연하지 않고 그저 흘러보내려고 한다.', '이러한 경험을 밑거름 삼아 내가 더더욱 강인한 나로 성장해 나갈 수 있다고 생각한다.', '철학자 니체가 이렇게 말했다.', '나를 죽이지 못한 고통은 나를 더욱 강하게 만든다.', '나는 이 말이 정말 멋지다고 생각한다.', '나도 경험을 밑거름 삼아 점점 더 성장하는 내가 되도록 노력해야겠다.'])\n"
     ]
    },
    {
     "name": "stderr",
     "output_type": "stream",
     "text": [
      "INFO:root:Waiting for ttr to complete...\n",
      "INFO:root:ttr completed. 0.46804022789001465\n",
      "INFO:root:Waiting for similarity to complete...\n"
     ]
    },
    {
     "data": {
      "application/vnd.jupyter.widget-view+json": {
       "model_id": "13e6676e150343729adff9a0c2e2ca8b",
       "version_major": 2,
       "version_minor": 0
      },
      "text/plain": [
       "Batches:   0%|          | 0/1 [00:00<?, ?it/s]"
      ]
     },
     "metadata": {},
     "output_type": "display_data"
    },
    {
     "data": {
      "application/vnd.jupyter.widget-view+json": {
       "model_id": "fa439b43100d4a8dbcf005768f3f365e",
       "version_major": 2,
       "version_minor": 0
      },
      "text/plain": [
       "Batches:   0%|          | 0/1 [00:00<?, ?it/s]"
      ]
     },
     "metadata": {},
     "output_type": "display_data"
    },
    {
     "name": "stderr",
     "output_type": "stream",
     "text": [
      "INFO:root:similarity completed. 0.5776216983795166\n",
      "INFO:root:Waiting for adjacency to complete...\n",
      "INFO:root:adjacency completed. 0.5776216983795166\n",
      "INFO:root:Waiting for basic to complete...\n",
      "INFO:root:basic completed. 0.5786218643188477\n",
      "  0%|          | 161/39591 [03:14<11:58:33,  1.09s/it]"
     ]
    },
    {
     "name": "stdout",
     "output_type": "stream",
     "text": [
      "deque(['소중한 것을 잃어버릴 때, 중요한 것은 내가 그 물건을 얼마나 사랑하는지 였고, 그 물건이 겉으로 얼마만큼의 가치가 있는지는 중요하지 않았습니다.', '비싼 물건이라도 내가 소중히 여기지 않는 것이었다면 잃어버리거나 도난 당하더라도 크게 슬프지 않았습니다.', '그러나 값싼 물건이라도 내가 정말 아끼던 물건을 잃어버리면, 그 상실감은 매우 컸습니다.', '저는 이것이 매우 중요하다고 생각합니다.', '사람들은 때때로 가치가 없어 보이는 사소해 보이는 것을 잃을 때 자신의 감정을 부끄러워할 수 있기 때문입니다.', '하지만 요점은 겉보기에 가치가 없어 보이더라도 그것을 잃어버린다면 그 사람은 매우 슬플 수 있다는 것입니다.', '제 친구가 처음 샀던 핸드폰은 2G 핸드폰이었습니다.', '핸드폰 매장에서 조금만 비싼 요금제를 사용하면 공짜로 살 수 있었던 핸드폰이었기 때문에 저는 친구가 그 핸드폰을 소중하게 여기지 않을 것이라고 생각했습니다.', '어느 날 농구를 하다가 친구가 핸드폰을 떨어트려 망가지게 되었을 때, 저는 새 핸드폰을 살 수 있게 되었으니 축하한다는 말을 건넸습니다.', '그러나 친구는 소중히 여기던 자신의 핸드폰이 망가졌다는 사실에 크게 슬퍼하고 있었습니다.', '저는 이 때 소중함의 값어치는 겉으로 보이는 가격이 아니라는 것을 깨달았습니다.'])\n"
     ]
    },
    {
     "name": "stderr",
     "output_type": "stream",
     "text": [
      "INFO:root:Waiting for ttr to complete...\n",
      "INFO:root:ttr completed. 0.4920005798339844\n",
      "INFO:root:Waiting for similarity to complete...\n"
     ]
    },
    {
     "data": {
      "application/vnd.jupyter.widget-view+json": {
       "model_id": "9e7dd463acf9409ba1654784b8321819",
       "version_major": 2,
       "version_minor": 0
      },
      "text/plain": [
       "Batches:   0%|          | 0/1 [00:00<?, ?it/s]"
      ]
     },
     "metadata": {},
     "output_type": "display_data"
    },
    {
     "data": {
      "application/vnd.jupyter.widget-view+json": {
       "model_id": "5ae4e4fbde49455c8a1e7ff757513564",
       "version_major": 2,
       "version_minor": 0
      },
      "text/plain": [
       "Batches:   0%|          | 0/1 [00:00<?, ?it/s]"
      ]
     },
     "metadata": {},
     "output_type": "display_data"
    },
    {
     "name": "stderr",
     "output_type": "stream",
     "text": [
      "INFO:root:similarity completed. 0.6642630100250244\n",
      "INFO:root:Waiting for adjacency to complete...\n",
      "INFO:root:adjacency completed. 0.6642630100250244\n",
      "INFO:root:Waiting for basic to complete...\n",
      "INFO:root:basic completed. 0.6652665138244629\n",
      "  0%|          | 162/39591 [03:15<11:40:53,  1.07s/it]"
     ]
    },
    {
     "name": "stdout",
     "output_type": "stream",
     "text": [
      "deque(['저는 소중함을 잃어버린 경험은 아직 없습니다.', '근데 저에게 소중한 것은 가족이라고 생각합니다.', '가족만큼이나 소중한 것은 없다고 생각합니다.', '이를 지키기 위해 저는 가족들과 시간을 많이 보내려고 합니다.', '지나간 시간은 다시는 돌아오지 않는다고 생각하여 지금의 시간에 충실히 하려고 노력하는 편입니다.', '지금의 시간에 충실히 노력하여 가족들과 많은 추억을 남기며 소중한 시간을 보내고 싶습니다.', '그러기 위해서는 가족들이 모두 건강해야 한다고 생각합니다.', '건강을 챙기면서 많은 추억을 만들고 싶습니다.', '소중함이란 가치를 따질 수 없을 만큼인 것 같습니다.', '저는 시간이 갈수록 가족들이 무엇보다 소중한 존재라고 생각합니다.', '가족은 언제나 내 편이고 따뜻한 말 한마디로 위로를 해주면 나의 성장을 도와주는 성장을 도와주고 응원을 해주는 사람이기에 소중하다고 생각합니다.', '이 소중함을 영원히 지킬 수 없다는 걸 알고 있습니다.', '그치만 소중함을 지킬 수 있을 때라도 지켜야한다고 생각합니다.', '대가를 요구하는 조건적인 관게는 구성원들에게 수많은 두려움과 의존성을 키우며 진실한 자아를 숨기게끔 만듭니다.', '그런데 가족은 조건 없이 사랑하는 집에서 자란 아이는 어떤 상황이 닥쳐도 안정을 잃지 않고 언제든지 실수를 해도 꾸짖거나 질책하지 않고 자신의 편이 되어준다는 믿음이 있기에 실수나 실패를 해도 더 높은 지혜를 배울 수 있는 기회를 줍니다.', '이런 기회를 만들어 주고 사회 생활에 한 발짝 다가갈 수 있게 해주기에 가족은 소중합니다.'])\n"
     ]
    },
    {
     "name": "stderr",
     "output_type": "stream",
     "text": [
      "INFO:root:Waiting for ttr to complete...\n",
      "INFO:root:ttr completed. 0.558241605758667\n",
      "INFO:root:Waiting for similarity to complete...\n"
     ]
    },
    {
     "data": {
      "application/vnd.jupyter.widget-view+json": {
       "model_id": "3fa3bf82d7ae4444888936ac6019be4f",
       "version_major": 2,
       "version_minor": 0
      },
      "text/plain": [
       "Batches:   0%|          | 0/1 [00:00<?, ?it/s]"
      ]
     },
     "metadata": {},
     "output_type": "display_data"
    },
    {
     "data": {
      "application/vnd.jupyter.widget-view+json": {
       "model_id": "98b69515bc084a0989eb6d68115dc991",
       "version_major": 2,
       "version_minor": 0
      },
      "text/plain": [
       "Batches:   0%|          | 0/1 [00:00<?, ?it/s]"
      ]
     },
     "metadata": {},
     "output_type": "display_data"
    },
    {
     "name": "stderr",
     "output_type": "stream",
     "text": [
      "INFO:root:similarity completed. 0.6420650482177734\n",
      "INFO:root:Waiting for adjacency to complete...\n",
      "INFO:root:adjacency completed. 0.6430647373199463\n",
      "INFO:root:Waiting for basic to complete...\n",
      "INFO:root:basic completed. 0.6430647373199463\n",
      "  0%|          | 163/39591 [03:16<11:47:47,  1.08s/it]"
     ]
    },
    {
     "name": "stdout",
     "output_type": "stream",
     "text": [
      "deque(['저에게 소중한 것은 가족 다음으로 고등학교 때 친해진 친구입니다.', '아직 소중함을 잊어버리지는 않았습니다.', '그 친구는 내가 슬픈 날 같이 슬퍼해 주고 기쁜 날 같이 기뻐해 주고 싫다 좋다 투정 부려도 다 받아주는 착한 친구입니다.', '힘들 때 누구보다 더 힘이 되어 주는 친구이고, 나도 그 친구에게 힘이 되어 주려고 노력하고 있습니다.', '가끔은 작은 오해로 서로에게 상처를 줄 수도 있지만 그래도 소중한 것은 맞는 것 같습니다.', '몇 년 만나 친해진 것은 아닌데 몇 년 만난 친구처럼 둘이 있을 때 굳이 말을 안 해도 편하고 갑자기 만나도 즐겁고 추억을 쌓을 수 있는 그런 관계인 친구입니다.', '친구는 우리에게는 인생의 보석과 같은 존재라고 생각합니다.', '물론 가족보다는 덜 가까운 사이인데 어떻게 보면 가족만큼 가까운 사이라고 생각하며 그 가까움이 오히려 짐이 되어 서로의 관계에 틈을 만들기 일쑤인 사실을 누구나 경험하고 있을 것입니다.', '그렇게 만들어진 틈이 일생 동안 메워지지 않는 경우도 허다합니다.', '그러나 친구라면 인생의 어느 시기에 형성된 친밀함에 다른 이해가 끼어들 여지가 없기에 친구는 스스럼없는 관계를 유지 할 수 있습니다.', '인간관계의 밀도가 예전처럼 끈끈하지 않은 것이 우리가 살아가는 현실의 모습이기에 친구는 서로에 대한 객관적인 판단이 가능하며 진정한 의미의 충고나 격리하고 진정한 의미의 친구는 일생에서 반드시 필요한 존재입니다.'])\n"
     ]
    },
    {
     "name": "stderr",
     "output_type": "stream",
     "text": [
      "INFO:root:Waiting for ttr to complete...\n",
      "INFO:root:ttr completed. 0.5631108283996582\n",
      "INFO:root:Waiting for similarity to complete...\n"
     ]
    },
    {
     "data": {
      "application/vnd.jupyter.widget-view+json": {
       "model_id": "53668619db9a45dbaf26949abc139465",
       "version_major": 2,
       "version_minor": 0
      },
      "text/plain": [
       "Batches:   0%|          | 0/1 [00:00<?, ?it/s]"
      ]
     },
     "metadata": {},
     "output_type": "display_data"
    },
    {
     "data": {
      "application/vnd.jupyter.widget-view+json": {
       "model_id": "0b202ab884824199858805dd4e6c27f2",
       "version_major": 2,
       "version_minor": 0
      },
      "text/plain": [
       "Batches:   0%|          | 0/1 [00:00<?, ?it/s]"
      ]
     },
     "metadata": {},
     "output_type": "display_data"
    },
    {
     "name": "stderr",
     "output_type": "stream",
     "text": [
      "INFO:root:similarity completed. 0.805107831954956\n",
      "INFO:root:Waiting for adjacency to complete...\n",
      "INFO:root:adjacency completed. 0.8061075210571289\n",
      "INFO:root:Waiting for basic to complete...\n",
      "INFO:root:basic completed. 0.80710768699646\n",
      "  0%|          | 164/39591 [03:17<12:05:43,  1.10s/it]"
     ]
    },
    {
     "name": "stdout",
     "output_type": "stream",
     "text": [
      "deque(['초등학생 때 저는 이렇다 할 친구가 없었습니다.', '따돌림을 당하는 것은 아니었지만 같이 놀기만 하면 친구라고 생각했기 때문에 단짝 친구라고 할 것도 없었습니다.', '그러던 중 5학년 때 마니또 활동으로 친한 친구가 생겼고 그 친구 덕에 친구 사귀는 법을 배웠습니다.', '중학교가 서로 달라도 가끔 연락하는 사이었던 그 친구와는 고등학교에 들어오면서 아예 연락이 두절되었습니다.', '그런데 같이 놀던 친구에게서 전화가 왔습니다.', '그 친구가 자살을 해서 장례식이 있으니 참석하라고 말했습니다.', '장난전화인 줄 알았지만 그날은 만우절이 아니었고 곧 현실을 깨달았습니다.', '저는 급하게 다른 친구들에게도 연락을 돌리기 시작했습니다.', '금방 알겠다고 하는 친구도 있었고 믿기 어려워하며 재차 확인하는 친구도 있었습니다.', '그런 친구들이 있을 때마다 저는 내심 안도했습니다.', '나만 그런 게 아니었다는 걸 느껴서였습니다.', '하지만 장례식장에 방문한 다른 친구들이 눈물을 흘릴 때 혼자만 그러지 못하는 제 모습이 너무 이질적이어서 혼란스러워졌습니다.', '나름 친했다고 생각했는데 그 죽음에 울지도 않는 게 정말 친구가 맞는 지 하는 의문이 들었습니다.', '가끔씩 그 친구 생각이 날 때마다 후회가 밀려옵니다.', '만약 연락처가 날아갔을 때 번호를 한 번이라도 물어봤더라면 연락을 해서 살릴 수 있었을 지도 모른다는 생각이 듭니다.'])\n"
     ]
    },
    {
     "name": "stderr",
     "output_type": "stream",
     "text": [
      "INFO:root:Waiting for ttr to complete...\n",
      "INFO:root:ttr completed. 0.5670263767242432\n",
      "INFO:root:Waiting for similarity to complete...\n"
     ]
    },
    {
     "data": {
      "application/vnd.jupyter.widget-view+json": {
       "model_id": "851a28752dac4b6f83e3fa463e367e52",
       "version_major": 2,
       "version_minor": 0
      },
      "text/plain": [
       "Batches:   0%|          | 0/1 [00:00<?, ?it/s]"
      ]
     },
     "metadata": {},
     "output_type": "display_data"
    },
    {
     "data": {
      "application/vnd.jupyter.widget-view+json": {
       "model_id": "ae981b29417d48dfb5b13029c071ce1b",
       "version_major": 2,
       "version_minor": 0
      },
      "text/plain": [
       "Batches:   0%|          | 0/1 [00:00<?, ?it/s]"
      ]
     },
     "metadata": {},
     "output_type": "display_data"
    },
    {
     "name": "stderr",
     "output_type": "stream",
     "text": [
      "INFO:root:similarity completed. 0.634782075881958\n",
      "INFO:root:Waiting for adjacency to complete...\n",
      "INFO:root:adjacency completed. 0.6357822418212891\n",
      "INFO:root:Waiting for basic to complete...\n",
      "INFO:root:basic completed. 0.6367819309234619\n",
      "  0%|          | 165/39591 [03:18<11:57:21,  1.09s/it]"
     ]
    },
    {
     "name": "stdout",
     "output_type": "stream",
     "text": [
      "deque(['제 아버지께는 형제분들이 많아 명절이 되면 항상 사람들로 큰집이 북적였습니다.', '부모님께서 늦게 결혼하신 탓에 사촌 중 동갑내기가 없었던 저희 남매들과 유일한 또래가 막내 작은아버지 쪽 사촌들이었습니다.', '요리사셨던 작은아버지께서는 음식을 잘 하셔서 명절요리도 도와주셨고 또래 사촌들과 저를 데리고 돌아다니며 근처 구경도 시켜주셨습니다.', '유일한 동갑내기인데다 명절 때마다 함께 다니니 그들과는 사이가 각별했고 밤마다 무서운 이야기를 하며 즐거운 추억을 쌓았습니다.', '그러던 어느날 제가 7살 때쯤 잠결에 일어났는데 울고 있는 오빠를 보았습니다.', '어머니께서 작은아버지가 암으로 돌아가셨다고 말씀하셨습니다.', '다음날 곧바로 장례식장에 가신다는 부모님을 저도 따라가고 싶었지만 너무 어리다며 저를 데려가시길 한사코 거부하셨습니다.', '그 이후 친척들 간에 불화가 있었던 것인지 작은 아버지 쪽과는 아예 연락이 끊겨 버렸고 오랜 시간동안 그 가족들을 볼 수 없었습니다.', '11살 때 잠깐 어머니와 함께 만난 적이 있는데 제가 알던 모습과는 많이 달라져 있었습니다.', '항상 활기차 보였던 작은 어머니께서는 그날따라 더 위축되어 보이셨고 사촌들도 주눅들어 보였습니다.', '그 때 한 번 본 것이 마지막이었고 지금까지 다시보지 못햇습니다.', '유일하게 친하다고 할 수 있었던 친척들과 그렇게 헤어지니 상당히 찝찝했습니다.'])\n"
     ]
    },
    {
     "name": "stderr",
     "output_type": "stream",
     "text": [
      "INFO:root:Waiting for ttr to complete...\n",
      "INFO:root:ttr completed. 0.5690345764160156\n",
      "INFO:root:Waiting for similarity to complete...\n"
     ]
    },
    {
     "data": {
      "application/vnd.jupyter.widget-view+json": {
       "model_id": "3251b480a2f54ce2a5d06be48d45c365",
       "version_major": 2,
       "version_minor": 0
      },
      "text/plain": [
       "Batches:   0%|          | 0/1 [00:00<?, ?it/s]"
      ]
     },
     "metadata": {},
     "output_type": "display_data"
    },
    {
     "data": {
      "application/vnd.jupyter.widget-view+json": {
       "model_id": "a5beb60a08e34fe781badd8948b4e68d",
       "version_major": 2,
       "version_minor": 0
      },
      "text/plain": [
       "Batches:   0%|          | 0/1 [00:00<?, ?it/s]"
      ]
     },
     "metadata": {},
     "output_type": "display_data"
    },
    {
     "name": "stderr",
     "output_type": "stream",
     "text": [
      "INFO:root:similarity completed. 0.6543681621551514\n",
      "INFO:root:Waiting for adjacency to complete...\n",
      "INFO:root:adjacency completed. 0.6553680896759033\n",
      "INFO:root:Waiting for basic to complete...\n",
      "INFO:root:basic completed. 0.6553680896759033\n",
      "  0%|          | 166/39591 [03:19<11:45:42,  1.07s/it]"
     ]
    },
    {
     "name": "stdout",
     "output_type": "stream",
     "text": [
      "deque(['위의 말처럼 익숙함에 속아 소중함을 잃지 말자 했지만 이번 코로나-19 바이러스 사태로 알게 된 것은 내가 그렇게 살아오지 못했다는 것이다.', '돌이켜 생각해 보면 코로나-19 바이러스가 퍼지기 전에는 매일 같이 흘러가는 시간에 대해 아깝다거나 아쉬워한 적이 없었다.', '어쩌면 일상적이고 자연스럽게 흘러만 가던 시간에 끼워 맞춰 살아가고 있었던 게 아닐까 싶다.', '나만의 주체적인 시간은 전혀 존재하지 않고 해야 했기 때문에 했고 살아야 했기 때문에 살아가는 느낌이었지 않을까 싶다.', '그러다 코로나-19 바이러스라는 장애물을 뛰어 넘지 못하고 망설여 하고 있는 우리를 시간은 기다려 주지 않는 것이다.', '고등학교에 입학한지도 벌써 1년이 지나 고2가 될 것이고 그렇게 똑같이 1년을 흐지부지 흐리다 보면 어느 샌가 고3이 되어 있고 수능을 치고 있을 내 모습을 떠올렸고 이제는 그 시간이 아까워졌고 아쉬워졌다.', '또한 아무 생각 없이 흘려보내 버린 과거의 시간이 아까워졌고 그리워졌다.', '그러면서도 오미클론이라는 코로나-19 바이러스가 낳은 또 다른 장애물에 가로 막혀 이제는 싸워 버틸 힘마저 빠져 버린 것 같다.', '이가 내가 최근에 수많은 공모전을 찾아본 이유이다.', '익숙함에 속아 오래 전부터 일상의 소중함을 잃어버렸고 코로나-19 바이러스로 인해 그를 극복해 낼 힘마저 잃어가고 있다.', '위기가 곧 기회라는 말이 있다.', '지금이 그 위기고 나만의 주체적인 시간을 갖지 못했던 과거를 반성하고 회상하며 지금의 나를 내일은 더 나은 나로 만들기 위해 노력할 것이다.', '그게 바로 잃어버렸던 내 일상의 소중함을 되찾을 방법이 될 것이다.'])\n"
     ]
    },
    {
     "name": "stderr",
     "output_type": "stream",
     "text": [
      "INFO:root:Waiting for ttr to complete...\n",
      "INFO:root:ttr completed. 0.6294825077056885\n",
      "INFO:root:Waiting for similarity to complete...\n"
     ]
    },
    {
     "data": {
      "application/vnd.jupyter.widget-view+json": {
       "model_id": "bbe8408e62e84ee8ab37ce7b8f62c90b",
       "version_major": 2,
       "version_minor": 0
      },
      "text/plain": [
       "Batches:   0%|          | 0/1 [00:00<?, ?it/s]"
      ]
     },
     "metadata": {},
     "output_type": "display_data"
    },
    {
     "data": {
      "application/vnd.jupyter.widget-view+json": {
       "model_id": "e60481c1249947128aa2d7f842754a04",
       "version_major": 2,
       "version_minor": 0
      },
      "text/plain": [
       "Batches:   0%|          | 0/1 [00:00<?, ?it/s]"
      ]
     },
     "metadata": {},
     "output_type": "display_data"
    },
    {
     "name": "stderr",
     "output_type": "stream",
     "text": [
      "INFO:root:similarity completed. 0.7314856052398682\n",
      "INFO:root:Waiting for adjacency to complete...\n",
      "INFO:root:adjacency completed. 0.7334821224212646\n",
      "INFO:root:Waiting for basic to complete...\n",
      "INFO:root:basic completed. 0.734483003616333\n",
      "  0%|          | 167/39591 [03:20<12:08:11,  1.11s/it]"
     ]
    },
    {
     "name": "stdout",
     "output_type": "stream",
     "text": [
      "deque(['항상 사람은 후회를 한다.', '그때 이렇게 행동하면 어땠을까, 말 한마디라도 더 해봤다면, 도전이라도 해보았으면 어땠을까 등 여러 가지의 후회를 한다.', '누구나 이런 경험이 한 번씩 있을 것이다.', '나 또한 그런 경험을 가지고 있다.', '나는 죽음이라는 것을 잘 몰랐다.', '할아버지가 돌아가시기 전까지. 죽음이라는 것이 나의 주변에 일어날 것이라고 생각조차 하지 못했다.', '막상 죽음이라는 것을 겪어보니 생각한 것보다 정말 슬프고, 후회스러웠다.', '매일오던 귀찮기만 했던 할아버지의 전화가 그리워진다는 것이 신기했다.', '할아버지와 나는 별로 친하지 않았는데 장례식장에서 왜 그렇게 눈물이 났는지는 나도 모른다.', '그냥 눈물이 났다.', '어떤 감정이었는지는 기억이 잘 나지 않는다.', '명절 때 시골에 가면 할아버지가 안 계신다는 것이 아직도 믿기지 않는다.', '현관에 들어가는 순간 내 이름을 불러줄 것 만 같다.', '나는 하나님도 믿지 않고, 천국이 있다는 것조차 믿지 않지만 할아버지는 지금 천국에서 편안히 행복하게 생활하시면 좋겠다.', '나의 작은 바램이다.', '또 다른 소중함을 잃지 않기 위해 할머니와 부모님에게 잘 해야겠다는 생각 밖에 들지 않는다.', '이 글을 쓰는 계기를 발판삼아 앞으로 나의 부모님과 할머니께 정말 잘하는 딸, 손녀가 되도록 노력해야겠다.', '이 글을 읽는 여러분들도 지금부터라도 부모님과 조부모님께 정말 잘해드리는 것이 어떨까?'])\n"
     ]
    },
    {
     "name": "stderr",
     "output_type": "stream",
     "text": [
      "INFO:root:Waiting for ttr to complete...\n",
      "INFO:root:ttr completed. 0.5740501880645752\n",
      "INFO:root:Waiting for similarity to complete...\n"
     ]
    },
    {
     "data": {
      "application/vnd.jupyter.widget-view+json": {
       "model_id": "bcba8ff58c144e07ad54c33457dc0bdf",
       "version_major": 2,
       "version_minor": 0
      },
      "text/plain": [
       "Batches:   0%|          | 0/1 [00:00<?, ?it/s]"
      ]
     },
     "metadata": {},
     "output_type": "display_data"
    },
    {
     "data": {
      "application/vnd.jupyter.widget-view+json": {
       "model_id": "d051de221ed649b9b5ccfe559d5c89e7",
       "version_major": 2,
       "version_minor": 0
      },
      "text/plain": [
       "Batches:   0%|          | 0/1 [00:00<?, ?it/s]"
      ]
     },
     "metadata": {},
     "output_type": "display_data"
    },
    {
     "name": "stderr",
     "output_type": "stream",
     "text": [
      "INFO:root:similarity completed. 0.786221981048584\n",
      "INFO:root:Waiting for adjacency to complete...\n",
      "INFO:root:adjacency completed. 0.7872231006622314\n",
      "INFO:root:Waiting for basic to complete...\n",
      "INFO:root:basic completed. 0.7882227897644043\n",
      "  0%|          | 168/39591 [03:22<12:50:27,  1.17s/it]"
     ]
    },
    {
     "name": "stdout",
     "output_type": "stream",
     "text": [
      "deque(['내게 소중함을 잃었던 경험 중 가장 힘들었던 것은 나의 소중함을 잃었을 때였던 것 같다.', '사전으로는 사고, 감정, 의지 등의 여러 작용의 주관자로서 이 여러 작용에 수반하고, 또한 이를 통일하는 주체(네이버 지식백과)인 자아가 불안정하다고 말할 수 있다.', '이 말은 정신적으로 내가 아팠을 때를 의미한다.', '작년에 내게 스트레스가 많이 쌓이는 일들이 일어났었다.', '그전부터 였을 수도 있다.', '혼자 힘든 일이 있어도 끙끙 앓고 참고 \"나만 참으면 되겠지\"라고 버티는 지난 시간동안 위로 해주는 사람 없이 방에서 혼자 울기도 하고 집에 있어도 가족들과 벽을 쌓고 있었다.', '그러다 보니 의욕을 잃고 아무것도 하기 싫고 멀해야할지 모르겠는 상황도 있고 그냥 포기하는 상황 또한 많이 있었다.', '어떤 욕을 들어도 \"내가 잘못해서 욕 먹는 구나\" 하고 담아두다가 어느새 나도 내 탓을 자주하게 되었다.', '그러다 보니 내가 살면서 잘한 일보다 잘못한 일을 더 많이 생각하고 그것 때문에 자존감은 상실되고 \"나만 없으면 모두가 더 나아지지 않을까\"라는 생각도 했다.', '그러다가 내 감정을 알은 몇 년 지기 친구가 말했다.', '그만 하고 제대로 살라는 말 비슷하게 말했다.', '그 말을 듣고 후에도 그 친구들은 내게 앞으로 어떻게 살아갈 것인가를 함께 고민하며 내게 희망을 심어주었고 기대를 품게 만들어 주었다.', '그 후 정신병원과 상담을 받으며 나아지려고 노력했다.', '약도 챙겨 먹다보니 고1이 되려 할 때 나는 내게 도움을 준 친구를 위해 살기로 계획했으나 곧 다른 계획을 가지게 됬다.', '친구는 본인들을 위해 살게 아니라 나를 위해 살아보라고 했었다.', '나는 이 안 좋은 경험으로 생각 난 것을 더 깊게 생각해 보았다.', '내가 왜 불안 했는 가를 생각하다 보니 내가 잘못한 일을 사과 하고 싶다고 생각했다.', '계속 생각만하다 고1이 되고나니 어느샌가 기회가 생겼다.', '나는 사과를 하고 용서를 구했고 앞으로는 \"잘 못이 아닌 도움이 되는 일을 하고 싶다\" 하고 생각하여 꿈을 정했다.', \"나의 꿈은 나처럼 청소년기 힘든 고민이 있는 학생들을 도와주는 '전문 상담 교사'가 되겠다고 하여 안하던 것도 열심히하고 봉사 같은게 아니여도 청소나 애들이 싫어하는 일을 대신하는 등 도움을 주기 시작했다.\", '봉사를 할 때마다 애들이 필요로 하는 존재가 된 것 같아 뿌듯했고 용서를 받은 만큼 더 열심히 살아야겠다 생각했으며 잘못한 만큼 더 나은 일을 하겠다고 생각 했다.', '다음에 있는 상담 때 이제 더 이상 도움을 받지 않아도 될 것 같아 감사하다고 전하고 친구에게도 고맙다고 했다', '나는 이 경험들로부터 \"잘못한 것이 있으면 죄의식을 갖고 빨리 용서를 구하는 것이 좋고 힘든 것이 있으면 도움을 요청하는 것이 좋다.\"라고 생각했고 내게 내 고민을 들어주고 조언을 해주는 친구가 있다는 것이 내게 주어진 행복이라는 것을 깨달고 주변 사람들에게 함부로 대하지 않도록 더 잘하도록 노력해야겠다는 것을 깨달았다.', '그리고 나의 삶이 얼마나 소중한지를 깨달았다.', '나는 지금 내가 아팠던 것을 알았던 사람들이 가끔 걱정하지만 괜찮다고 말할 수 있을 정도로 다 나았고 이 경험을 상담이나 대화(공감이나 이 경험을 바탕으로 하는 이해나 말), 글 등으로 이용하고 가끔 이것으로 \"이렇게 힘들었었는데 이쯤이야\"라고 동기부여를 할 수 있을 정도로 활용 가능한 상태이다.', '힘든 것이 있으면 얘기를 들어줄 사람이 늘어 많은 걱정을 내려 놓았다.', '내 이야기를 들어 줄 친구가 얼마나 중요한지 알려주는 경험이 되었다.', '친구가 아니여도 이야기를 들어 줄 사람이 있으면 좋다는 것을 알고 그런 사람을 만들기 위해 주변 사람을 도와 주고 있다.', '삶이 무기력하다 느껴지면 목표를 정해 할 일을 만들고 목표가 없다면 목표를 찾는 것을 목표로 정해 해야할 일을 찾는 것이 좋고 내가 할 일이 없다면 내가 해야할 일이 없는 것이 아니라 찾지 못한 것이라고 생각이 든다.', '언젠가는 나를 필요로 하는 사람이 많아지고 내가 도움이 되는 사람으로 남았으면 하는 것이 나의 목표이다.'])\n"
     ]
    },
    {
     "name": "stderr",
     "output_type": "stream",
     "text": [
      "INFO:root:Waiting for ttr to complete...\n",
      "INFO:root:ttr completed. 0.7092432975769043\n",
      "INFO:root:Waiting for similarity to complete...\n"
     ]
    },
    {
     "data": {
      "application/vnd.jupyter.widget-view+json": {
       "model_id": "516174b6a5ba40e0b080fdd921eac273",
       "version_major": 2,
       "version_minor": 0
      },
      "text/plain": [
       "Batches:   0%|          | 0/1 [00:00<?, ?it/s]"
      ]
     },
     "metadata": {},
     "output_type": "display_data"
    },
    {
     "data": {
      "application/vnd.jupyter.widget-view+json": {
       "model_id": "f3433dcd7047433a8057ba63f5c56919",
       "version_major": 2,
       "version_minor": 0
      },
      "text/plain": [
       "Batches:   0%|          | 0/1 [00:00<?, ?it/s]"
      ]
     },
     "metadata": {},
     "output_type": "display_data"
    },
    {
     "name": "stderr",
     "output_type": "stream",
     "text": [
      "INFO:root:similarity completed. 0.7943112850189209\n",
      "INFO:root:Waiting for adjacency to complete...\n",
      "INFO:root:adjacency completed. 0.7953121662139893\n",
      "INFO:root:Waiting for basic to complete...\n",
      "INFO:root:basic completed. 0.7953121662139893\n",
      "  0%|          | 169/39591 [03:23<14:51:11,  1.36s/it]"
     ]
    },
    {
     "name": "stdout",
     "output_type": "stream",
     "text": [
      "deque([\"익숙함에 속아 소중함을 잊지 말자라는 글귀를 듣는 순간 가장 생각나는 책은 생택쥐페리의 '어린왕자'일 것이다.\", '그 책에서 나온 이 구절의 의미는 아주 가까운 관계에서 너무 당연하게 느껴졌던 관계가 점점 소홀해 지면서 자연스럽게 끊어지고 뒤늦게 후회나 반성을 하지 말자라는 의미로 한마디로 있을 때 더 잘 하고, 우리에게 소중한사람 일수록 그 사람의 중요성을 알고 무시하지 않고, 항상 고마운 마음을 가지고 대하여야 된다는 것이다.', '친구라는 익숙함에 속아 내 이익만 챙기며 바라기만 했을때 결국 소중한 것을 잃게 된다는 점을 깨달았다.', '또 다른 예시로는 우리는 현재 물을 당연시여기며 막 사용하고 있다.', '하지만 물이라는 자원은 한정된 자원이 아니며 이대로 가다간 정말 물이 부족해 질 수 있다.', '우리는 물이라는 자원을 막 사용하다 결국 나중에 물이 줄어들고 정말 아껴써야 할 때 그때 가서 분명히 후회할 것이다.', '따라서 나는 지금부터라도 물을 아껴써야된다고 생각한다.', '위와 같은 예시들 이외에도 우리가 정말 익숙함에 속아 막 낭비하거나 별 생각없이 사용하는 것들이 정말 많은 것 같다.', '자원이든 사람이든 결국 나중에 다 잃고 나서야 후회하지 말고 미리미리 익숙함에 속지말고 뭐든 소중히 생각해야 한다고 느낀다.', '비단 소중한게 사람만이 아닐 것이다.', '내주변에 내가 누릴수 있었던것에 대해서도 한번씩 생각해봤으면 좋겠다.'])\n"
     ]
    },
    {
     "name": "stderr",
     "output_type": "stream",
     "text": [
      "INFO:root:Waiting for ttr to complete...\n"
     ]
    },
    {
     "data": {
      "application/vnd.jupyter.widget-view+json": {
       "model_id": "8baf02a34b4b45aa8f502e55e7a60b01",
       "version_major": 2,
       "version_minor": 0
      },
      "text/plain": [
       "Batches:   0%|          | 0/1 [00:00<?, ?it/s]"
      ]
     },
     "metadata": {},
     "output_type": "display_data"
    },
    {
     "data": {
      "application/vnd.jupyter.widget-view+json": {
       "model_id": "eb9e901e123d45ec9403398fb83aab22",
       "version_major": 2,
       "version_minor": 0
      },
      "text/plain": [
       "Batches:   0%|          | 0/1 [00:00<?, ?it/s]"
      ]
     },
     "metadata": {},
     "output_type": "display_data"
    },
    {
     "name": "stderr",
     "output_type": "stream",
     "text": [
      "  0%|          | 169/39591 [03:24<13:15:53,  1.21s/it]\n"
     ]
    },
    {
     "ename": "KeyboardInterrupt",
     "evalue": "",
     "output_type": "error",
     "traceback": [
      "\u001b[1;31m---------------------------------------------------------------------------\u001b[0m",
      "\u001b[1;31mKeyboardInterrupt\u001b[0m                         Traceback (most recent call last)",
      "Cell \u001b[1;32mIn[2], line 4\u001b[0m\n\u001b[0;32m      2\u001b[0m essay_id \u001b[38;5;241m=\u001b[39m train\u001b[38;5;241m.\u001b[39miloc[i][\u001b[38;5;124m'\u001b[39m\u001b[38;5;124messay_id\u001b[39m\u001b[38;5;124m'\u001b[39m]\n\u001b[0;32m      3\u001b[0m essay \u001b[38;5;241m=\u001b[39m train\u001b[38;5;241m.\u001b[39miloc[i][\u001b[38;5;124m'\u001b[39m\u001b[38;5;124messay\u001b[39m\u001b[38;5;124m'\u001b[39m]\n\u001b[1;32m----> 4\u001b[0m features \u001b[38;5;241m=\u001b[39m \u001b[43mprocess\u001b[49m\u001b[43m(\u001b[49m\u001b[43messay\u001b[49m\u001b[43m)\u001b[49m\n\u001b[0;32m      5\u001b[0m \u001b[38;5;28;01mwith\u001b[39;00m \u001b[38;5;28mopen\u001b[39m(\u001b[38;5;124m'\u001b[39m\u001b[38;5;124m./train_json/\u001b[39m\u001b[38;5;124m'\u001b[39m \u001b[38;5;241m+\u001b[39m essay_id \u001b[38;5;241m+\u001b[39m \u001b[38;5;124m'\u001b[39m\u001b[38;5;124m.json\u001b[39m\u001b[38;5;124m'\u001b[39m,\u001b[38;5;124m'\u001b[39m\u001b[38;5;124mw\u001b[39m\u001b[38;5;124m'\u001b[39m,encoding\u001b[38;5;241m=\u001b[39m\u001b[38;5;124m'\u001b[39m\u001b[38;5;124mutf-8-sig\u001b[39m\u001b[38;5;124m'\u001b[39m) \u001b[38;5;28;01mas\u001b[39;00m f:\n\u001b[0;32m      6\u001b[0m     json\u001b[38;5;241m.\u001b[39mdump(features,f,indent\u001b[38;5;241m=\u001b[39m\u001b[38;5;124m'\u001b[39m\u001b[38;5;130;01m\\t\u001b[39;00m\u001b[38;5;124m'\u001b[39m,ensure_ascii\u001b[38;5;241m=\u001b[39m\u001b[38;5;28;01mFalse\u001b[39;00m)\n",
      "File \u001b[1;32mc:\\Users\\khko99\\Desktop\\sac25\\apps\\cohesion\\process.py:444\u001b[0m, in \u001b[0;36mprocess\u001b[1;34m(text, targets)\u001b[0m\n\u001b[0;32m    439\u001b[0m     futures[\u001b[38;5;124m\"\u001b[39m\u001b[38;5;124mbasic\u001b[39m\u001b[38;5;124m\"\u001b[39m] \u001b[38;5;241m=\u001b[39m executor\u001b[38;5;241m.\u001b[39msubmit(\n\u001b[0;32m    440\u001b[0m         counter\u001b[38;5;241m.\u001b[39mcounter, text, sentences, words, kkma, kkma_list, kkma_simple\n\u001b[0;32m    441\u001b[0m     )\n\u001b[0;32m    443\u001b[0m \u001b[38;5;28;01mfor\u001b[39;00m key, future \u001b[38;5;129;01min\u001b[39;00m futures\u001b[38;5;241m.\u001b[39mitems():\n\u001b[1;32m--> 444\u001b[0m     \u001b[43mlogging\u001b[49m\u001b[38;5;241;43m.\u001b[39;49m\u001b[43minfo\u001b[49m\u001b[43m(\u001b[49m\u001b[38;5;124;43mf\u001b[39;49m\u001b[38;5;124;43m\"\u001b[39;49m\u001b[38;5;124;43mWaiting for \u001b[39;49m\u001b[38;5;132;43;01m{\u001b[39;49;00m\u001b[43mkey\u001b[49m\u001b[38;5;132;43;01m}\u001b[39;49;00m\u001b[38;5;124;43m to complete...\u001b[39;49m\u001b[38;5;124;43m\"\u001b[39;49m\u001b[43m)\u001b[49m\n\u001b[0;32m    445\u001b[0m     result[key] \u001b[38;5;241m=\u001b[39m future\u001b[38;5;241m.\u001b[39mresult()\n\u001b[0;32m    446\u001b[0m     logging\u001b[38;5;241m.\u001b[39minfo(\u001b[38;5;124mf\u001b[39m\u001b[38;5;124m\"\u001b[39m\u001b[38;5;132;01m{\u001b[39;00mkey\u001b[38;5;132;01m}\u001b[39;00m\u001b[38;5;124m completed. \u001b[39m\u001b[38;5;132;01m{\u001b[39;00mtime\u001b[38;5;241m.\u001b[39mtime()\u001b[38;5;250m \u001b[39m\u001b[38;5;241m-\u001b[39m\u001b[38;5;250m \u001b[39mcurr_time\u001b[38;5;132;01m}\u001b[39;00m\u001b[38;5;124m\"\u001b[39m)\n",
      "File \u001b[1;32mc:\\Users\\khko99\\anaconda3\\envs\\aes\\lib\\logging\\__init__.py:2082\u001b[0m, in \u001b[0;36minfo\u001b[1;34m(msg, *args, **kwargs)\u001b[0m\n\u001b[0;32m   2080\u001b[0m \u001b[38;5;28;01mif\u001b[39;00m \u001b[38;5;28mlen\u001b[39m(root\u001b[38;5;241m.\u001b[39mhandlers) \u001b[38;5;241m==\u001b[39m \u001b[38;5;241m0\u001b[39m:\n\u001b[0;32m   2081\u001b[0m     basicConfig()\n\u001b[1;32m-> 2082\u001b[0m \u001b[43mroot\u001b[49m\u001b[38;5;241;43m.\u001b[39;49m\u001b[43minfo\u001b[49m\u001b[43m(\u001b[49m\u001b[43mmsg\u001b[49m\u001b[43m,\u001b[49m\u001b[43m \u001b[49m\u001b[38;5;241;43m*\u001b[39;49m\u001b[43margs\u001b[49m\u001b[43m,\u001b[49m\u001b[43m \u001b[49m\u001b[38;5;241;43m*\u001b[39;49m\u001b[38;5;241;43m*\u001b[39;49m\u001b[43mkwargs\u001b[49m\u001b[43m)\u001b[49m\n",
      "File \u001b[1;32mc:\\Users\\khko99\\anaconda3\\envs\\aes\\lib\\logging\\__init__.py:1446\u001b[0m, in \u001b[0;36mLogger.info\u001b[1;34m(self, msg, *args, **kwargs)\u001b[0m\n\u001b[0;32m   1437\u001b[0m \u001b[38;5;250m\u001b[39m\u001b[38;5;124;03m\"\"\"\u001b[39;00m\n\u001b[0;32m   1438\u001b[0m \u001b[38;5;124;03mLog 'msg % args' with severity 'INFO'.\u001b[39;00m\n\u001b[0;32m   1439\u001b[0m \n\u001b[1;32m   (...)\u001b[0m\n\u001b[0;32m   1443\u001b[0m \u001b[38;5;124;03mlogger.info(\"Houston, we have a %s\", \"interesting problem\", exc_info=1)\u001b[39;00m\n\u001b[0;32m   1444\u001b[0m \u001b[38;5;124;03m\"\"\"\u001b[39;00m\n\u001b[0;32m   1445\u001b[0m \u001b[38;5;28;01mif\u001b[39;00m \u001b[38;5;28mself\u001b[39m\u001b[38;5;241m.\u001b[39misEnabledFor(INFO):\n\u001b[1;32m-> 1446\u001b[0m     \u001b[38;5;28;43mself\u001b[39;49m\u001b[38;5;241;43m.\u001b[39;49m\u001b[43m_log\u001b[49m\u001b[43m(\u001b[49m\u001b[43mINFO\u001b[49m\u001b[43m,\u001b[49m\u001b[43m \u001b[49m\u001b[43mmsg\u001b[49m\u001b[43m,\u001b[49m\u001b[43m \u001b[49m\u001b[43margs\u001b[49m\u001b[43m,\u001b[49m\u001b[43m \u001b[49m\u001b[38;5;241;43m*\u001b[39;49m\u001b[38;5;241;43m*\u001b[39;49m\u001b[43mkwargs\u001b[49m\u001b[43m)\u001b[49m\n",
      "File \u001b[1;32mc:\\Users\\khko99\\anaconda3\\envs\\aes\\lib\\logging\\__init__.py:1589\u001b[0m, in \u001b[0;36mLogger._log\u001b[1;34m(self, level, msg, args, exc_info, extra, stack_info, stacklevel)\u001b[0m\n\u001b[0;32m   1586\u001b[0m         exc_info \u001b[38;5;241m=\u001b[39m sys\u001b[38;5;241m.\u001b[39mexc_info()\n\u001b[0;32m   1587\u001b[0m record \u001b[38;5;241m=\u001b[39m \u001b[38;5;28mself\u001b[39m\u001b[38;5;241m.\u001b[39mmakeRecord(\u001b[38;5;28mself\u001b[39m\u001b[38;5;241m.\u001b[39mname, level, fn, lno, msg, args,\n\u001b[0;32m   1588\u001b[0m                          exc_info, func, extra, sinfo)\n\u001b[1;32m-> 1589\u001b[0m \u001b[38;5;28;43mself\u001b[39;49m\u001b[38;5;241;43m.\u001b[39;49m\u001b[43mhandle\u001b[49m\u001b[43m(\u001b[49m\u001b[43mrecord\u001b[49m\u001b[43m)\u001b[49m\n",
      "File \u001b[1;32mc:\\Users\\khko99\\anaconda3\\envs\\aes\\lib\\logging\\__init__.py:1599\u001b[0m, in \u001b[0;36mLogger.handle\u001b[1;34m(self, record)\u001b[0m\n\u001b[0;32m   1592\u001b[0m \u001b[38;5;250m\u001b[39m\u001b[38;5;124;03m\"\"\"\u001b[39;00m\n\u001b[0;32m   1593\u001b[0m \u001b[38;5;124;03mCall the handlers for the specified record.\u001b[39;00m\n\u001b[0;32m   1594\u001b[0m \n\u001b[0;32m   1595\u001b[0m \u001b[38;5;124;03mThis method is used for unpickled records received from a socket, as\u001b[39;00m\n\u001b[0;32m   1596\u001b[0m \u001b[38;5;124;03mwell as those created locally. Logger-level filtering is applied.\u001b[39;00m\n\u001b[0;32m   1597\u001b[0m \u001b[38;5;124;03m\"\"\"\u001b[39;00m\n\u001b[0;32m   1598\u001b[0m \u001b[38;5;28;01mif\u001b[39;00m (\u001b[38;5;129;01mnot\u001b[39;00m \u001b[38;5;28mself\u001b[39m\u001b[38;5;241m.\u001b[39mdisabled) \u001b[38;5;129;01mand\u001b[39;00m \u001b[38;5;28mself\u001b[39m\u001b[38;5;241m.\u001b[39mfilter(record):\n\u001b[1;32m-> 1599\u001b[0m     \u001b[38;5;28;43mself\u001b[39;49m\u001b[38;5;241;43m.\u001b[39;49m\u001b[43mcallHandlers\u001b[49m\u001b[43m(\u001b[49m\u001b[43mrecord\u001b[49m\u001b[43m)\u001b[49m\n",
      "File \u001b[1;32mc:\\Users\\khko99\\anaconda3\\envs\\aes\\lib\\logging\\__init__.py:1661\u001b[0m, in \u001b[0;36mLogger.callHandlers\u001b[1;34m(self, record)\u001b[0m\n\u001b[0;32m   1659\u001b[0m     found \u001b[38;5;241m=\u001b[39m found \u001b[38;5;241m+\u001b[39m \u001b[38;5;241m1\u001b[39m\n\u001b[0;32m   1660\u001b[0m     \u001b[38;5;28;01mif\u001b[39;00m record\u001b[38;5;241m.\u001b[39mlevelno \u001b[38;5;241m>\u001b[39m\u001b[38;5;241m=\u001b[39m hdlr\u001b[38;5;241m.\u001b[39mlevel:\n\u001b[1;32m-> 1661\u001b[0m         \u001b[43mhdlr\u001b[49m\u001b[38;5;241;43m.\u001b[39;49m\u001b[43mhandle\u001b[49m\u001b[43m(\u001b[49m\u001b[43mrecord\u001b[49m\u001b[43m)\u001b[49m\n\u001b[0;32m   1662\u001b[0m \u001b[38;5;28;01mif\u001b[39;00m \u001b[38;5;129;01mnot\u001b[39;00m c\u001b[38;5;241m.\u001b[39mpropagate:\n\u001b[0;32m   1663\u001b[0m     c \u001b[38;5;241m=\u001b[39m \u001b[38;5;28;01mNone\u001b[39;00m    \u001b[38;5;66;03m#break out\u001b[39;00m\n",
      "File \u001b[1;32mc:\\Users\\khko99\\anaconda3\\envs\\aes\\lib\\logging\\__init__.py:954\u001b[0m, in \u001b[0;36mHandler.handle\u001b[1;34m(self, record)\u001b[0m\n\u001b[0;32m    952\u001b[0m \u001b[38;5;28mself\u001b[39m\u001b[38;5;241m.\u001b[39macquire()\n\u001b[0;32m    953\u001b[0m \u001b[38;5;28;01mtry\u001b[39;00m:\n\u001b[1;32m--> 954\u001b[0m     \u001b[38;5;28;43mself\u001b[39;49m\u001b[38;5;241;43m.\u001b[39;49m\u001b[43memit\u001b[49m\u001b[43m(\u001b[49m\u001b[43mrecord\u001b[49m\u001b[43m)\u001b[49m\n\u001b[0;32m    955\u001b[0m \u001b[38;5;28;01mfinally\u001b[39;00m:\n\u001b[0;32m    956\u001b[0m     \u001b[38;5;28mself\u001b[39m\u001b[38;5;241m.\u001b[39mrelease()\n",
      "File \u001b[1;32mc:\\Users\\khko99\\anaconda3\\envs\\aes\\lib\\logging\\__init__.py:1089\u001b[0m, in \u001b[0;36mStreamHandler.emit\u001b[1;34m(self, record)\u001b[0m\n\u001b[0;32m   1087\u001b[0m     \u001b[38;5;66;03m# issue 35046: merged two stream.writes into one.\u001b[39;00m\n\u001b[0;32m   1088\u001b[0m     stream\u001b[38;5;241m.\u001b[39mwrite(msg \u001b[38;5;241m+\u001b[39m \u001b[38;5;28mself\u001b[39m\u001b[38;5;241m.\u001b[39mterminator)\n\u001b[1;32m-> 1089\u001b[0m     \u001b[38;5;28;43mself\u001b[39;49m\u001b[38;5;241;43m.\u001b[39;49m\u001b[43mflush\u001b[49m\u001b[43m(\u001b[49m\u001b[43m)\u001b[49m\n\u001b[0;32m   1090\u001b[0m \u001b[38;5;28;01mexcept\u001b[39;00m \u001b[38;5;167;01mRecursionError\u001b[39;00m:  \u001b[38;5;66;03m# See issue 36272\u001b[39;00m\n\u001b[0;32m   1091\u001b[0m     \u001b[38;5;28;01mraise\u001b[39;00m\n",
      "File \u001b[1;32mc:\\Users\\khko99\\anaconda3\\envs\\aes\\lib\\logging\\__init__.py:1069\u001b[0m, in \u001b[0;36mStreamHandler.flush\u001b[1;34m(self)\u001b[0m\n\u001b[0;32m   1067\u001b[0m \u001b[38;5;28;01mtry\u001b[39;00m:\n\u001b[0;32m   1068\u001b[0m     \u001b[38;5;28;01mif\u001b[39;00m \u001b[38;5;28mself\u001b[39m\u001b[38;5;241m.\u001b[39mstream \u001b[38;5;129;01mand\u001b[39;00m \u001b[38;5;28mhasattr\u001b[39m(\u001b[38;5;28mself\u001b[39m\u001b[38;5;241m.\u001b[39mstream, \u001b[38;5;124m\"\u001b[39m\u001b[38;5;124mflush\u001b[39m\u001b[38;5;124m\"\u001b[39m):\n\u001b[1;32m-> 1069\u001b[0m         \u001b[38;5;28;43mself\u001b[39;49m\u001b[38;5;241;43m.\u001b[39;49m\u001b[43mstream\u001b[49m\u001b[38;5;241;43m.\u001b[39;49m\u001b[43mflush\u001b[49m\u001b[43m(\u001b[49m\u001b[43m)\u001b[49m\n\u001b[0;32m   1070\u001b[0m \u001b[38;5;28;01mfinally\u001b[39;00m:\n\u001b[0;32m   1071\u001b[0m     \u001b[38;5;28mself\u001b[39m\u001b[38;5;241m.\u001b[39mrelease()\n",
      "File \u001b[1;32mc:\\Users\\khko99\\anaconda3\\envs\\aes\\lib\\site-packages\\ipykernel\\iostream.py:609\u001b[0m, in \u001b[0;36mOutStream.flush\u001b[1;34m(self)\u001b[0m\n\u001b[0;32m    607\u001b[0m     \u001b[38;5;28mself\u001b[39m\u001b[38;5;241m.\u001b[39mpub_thread\u001b[38;5;241m.\u001b[39mschedule(evt\u001b[38;5;241m.\u001b[39mset)\n\u001b[0;32m    608\u001b[0m     \u001b[38;5;66;03m# and give a timeout to avoid\u001b[39;00m\n\u001b[1;32m--> 609\u001b[0m     \u001b[38;5;28;01mif\u001b[39;00m \u001b[38;5;129;01mnot\u001b[39;00m \u001b[43mevt\u001b[49m\u001b[38;5;241;43m.\u001b[39;49m\u001b[43mwait\u001b[49m\u001b[43m(\u001b[49m\u001b[38;5;28;43mself\u001b[39;49m\u001b[38;5;241;43m.\u001b[39;49m\u001b[43mflush_timeout\u001b[49m\u001b[43m)\u001b[49m:\n\u001b[0;32m    610\u001b[0m         \u001b[38;5;66;03m# write directly to __stderr__ instead of warning because\u001b[39;00m\n\u001b[0;32m    611\u001b[0m         \u001b[38;5;66;03m# if this is happening sys.stderr may be the problem.\u001b[39;00m\n\u001b[0;32m    612\u001b[0m         \u001b[38;5;28mprint\u001b[39m(\u001b[38;5;124m\"\u001b[39m\u001b[38;5;124mIOStream.flush timed out\u001b[39m\u001b[38;5;124m\"\u001b[39m, file\u001b[38;5;241m=\u001b[39msys\u001b[38;5;241m.\u001b[39m__stderr__)\n\u001b[0;32m    613\u001b[0m \u001b[38;5;28;01melse\u001b[39;00m:\n",
      "File \u001b[1;32mc:\\Users\\khko99\\anaconda3\\envs\\aes\\lib\\threading.py:558\u001b[0m, in \u001b[0;36mEvent.wait\u001b[1;34m(self, timeout)\u001b[0m\n\u001b[0;32m    556\u001b[0m signaled \u001b[38;5;241m=\u001b[39m \u001b[38;5;28mself\u001b[39m\u001b[38;5;241m.\u001b[39m_flag\n\u001b[0;32m    557\u001b[0m \u001b[38;5;28;01mif\u001b[39;00m \u001b[38;5;129;01mnot\u001b[39;00m signaled:\n\u001b[1;32m--> 558\u001b[0m     signaled \u001b[38;5;241m=\u001b[39m \u001b[38;5;28;43mself\u001b[39;49m\u001b[38;5;241;43m.\u001b[39;49m\u001b[43m_cond\u001b[49m\u001b[38;5;241;43m.\u001b[39;49m\u001b[43mwait\u001b[49m\u001b[43m(\u001b[49m\u001b[43mtimeout\u001b[49m\u001b[43m)\u001b[49m\n\u001b[0;32m    559\u001b[0m \u001b[38;5;28;01mreturn\u001b[39;00m signaled\n",
      "File \u001b[1;32mc:\\Users\\khko99\\anaconda3\\envs\\aes\\lib\\threading.py:306\u001b[0m, in \u001b[0;36mCondition.wait\u001b[1;34m(self, timeout)\u001b[0m\n\u001b[0;32m    304\u001b[0m \u001b[38;5;28;01melse\u001b[39;00m:\n\u001b[0;32m    305\u001b[0m     \u001b[38;5;28;01mif\u001b[39;00m timeout \u001b[38;5;241m>\u001b[39m \u001b[38;5;241m0\u001b[39m:\n\u001b[1;32m--> 306\u001b[0m         gotit \u001b[38;5;241m=\u001b[39m \u001b[43mwaiter\u001b[49m\u001b[38;5;241;43m.\u001b[39;49m\u001b[43macquire\u001b[49m\u001b[43m(\u001b[49m\u001b[38;5;28;43;01mTrue\u001b[39;49;00m\u001b[43m,\u001b[49m\u001b[43m \u001b[49m\u001b[43mtimeout\u001b[49m\u001b[43m)\u001b[49m\n\u001b[0;32m    307\u001b[0m     \u001b[38;5;28;01melse\u001b[39;00m:\n\u001b[0;32m    308\u001b[0m         gotit \u001b[38;5;241m=\u001b[39m waiter\u001b[38;5;241m.\u001b[39macquire(\u001b[38;5;28;01mFalse\u001b[39;00m)\n",
      "\u001b[1;31mKeyboardInterrupt\u001b[0m: "
     ]
    }
   ],
   "source": [
    "for i in tqdm(range(len(train))):\n",
    "    essay_id = train.iloc[i]['essay_id']\n",
    "    essay = train.iloc[i]['essay']\n",
    "    features = process(essay)\n",
    "    with open('./train_json/' + essay_id + '.json','w',encoding='utf-8-sig') as f:\n",
    "        json.dump(features,f,indent='\\t',ensure_ascii=False)\n",
    "    f.close()\n",
    "\n",
    "for i in tqdm(range(len(valid))):\n",
    "    essay_id = valid.iloc[i]['essay_id']\n",
    "    essay = valid.iloc[i]['essay']\n",
    "    features = process(essay)\n",
    "    with open('./train_json/' + essay_id + '.json','w',encoding='utf-8-sig') as f:\n",
    "        json.dump(features,f,indent='\\t',ensure_ascii=False)\n",
    "    f.close()"
   ]
  },
  {
   "cell_type": "code",
   "execution_count": 1,
   "metadata": {},
   "outputs": [],
   "source": [
    "import json\n",
    "with open('./train_json/ESSAY_85771.json','r',encoding='utf-8-sig') as f:\n",
    "    features = json.load(f)\n",
    "f.close()"
   ]
  },
  {
   "cell_type": "code",
   "execution_count": 8,
   "metadata": {},
   "outputs": [],
   "source": [
    "feat_keys = list(features.keys())"
   ]
  },
  {
   "cell_type": "code",
   "execution_count": 9,
   "metadata": {},
   "outputs": [
    {
     "data": {
      "text/plain": [
       "['morpheme',\n",
       " 'ttr',\n",
       " 'similarity',\n",
       " 'adjacency',\n",
       " 'basic_count',\n",
       " 'basic_density',\n",
       " 'basic_level',\n",
       " 'basic_list',\n",
       " 'NDW']"
      ]
     },
     "execution_count": 9,
     "metadata": {},
     "output_type": "execute_result"
    }
   ],
   "source": [
    "feat_keys"
   ]
  },
  {
   "cell_type": "code",
   "execution_count": 10,
   "metadata": {},
   "outputs": [
    {
     "data": {
      "text/plain": [
       "298"
      ]
     },
     "execution_count": 10,
     "metadata": {},
     "output_type": "execute_result"
    }
   ],
   "source": [
    "total_features = 0\n",
    "for i in range(1,len(feat_keys)):\n",
    "    if i == 7:\n",
    "        continue\n",
    "    total_features += len(features[feat_keys[i]])\n",
    "total_features\n"
   ]
  }
 ],
 "metadata": {
  "kernelspec": {
   "display_name": "aes",
   "language": "python",
   "name": "python3"
  },
  "language_info": {
   "codemirror_mode": {
    "name": "ipython",
    "version": 3
   },
   "file_extension": ".py",
   "mimetype": "text/x-python",
   "name": "python",
   "nbconvert_exporter": "python",
   "pygments_lexer": "ipython3",
   "version": "3.8.19"
  }
 },
 "nbformat": 4,
 "nbformat_minor": 2
}
